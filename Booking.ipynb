{
 "cells": [
  {
   "cell_type": "markdown",
   "metadata": {
    "hideCode": false,
    "hidePrompt": false
   },
   "source": [
    "## Tarefas\n",
    "- qual é a epoca de maior movimento? (done)\n",
    "- qual melhor época do ano para se fazer reserva? (done)\n",
    "- quanto elas estão dispostas a pagar? (done)\n",
    "- preço médio dos quartos? (done)\n",
    "- dia da semana que mais fazem check-in? (Só tem informação de check-out)\n",
    "- quantos dias que costumam ficar? comparar essa quantidade entre os hoteis (done)\n",
    "- duração ideal da estadia para obter a melhor taxa diária?\n",
    "- De onde vêm a maior parte dosvisitantes?\n",
    "- se chegam de carro e precisam de estacionamento ou se vão de onibus/avião? (é possivel saber com esses dados?)"
   ]
  },
  {
   "cell_type": "markdown",
   "metadata": {
    "hideCode": false,
    "hidePrompt": false
   },
   "source": [
    "https://www.kaggle.com/jessemostipak/hotel-booking-demand"
   ]
  },
  {
   "cell_type": "markdown",
   "metadata": {
    "hideCode": false,
    "hidePrompt": false
   },
   "source": [
    "# Colunas\n",
    "\n",
    "#### hotel\n",
    "- Hotel (H1 = Resort ou H2 = Hotel na cidade)\n",
    "#### is_canceled\n",
    "- Valor indicando se a reserva foi cancelada (1) ou não (0)\n",
    "#### lead_time\n",
    "- Número de dias decorridos entre a data de entrada da reserva no PMS e a data de chegada\n",
    "#### arrival_date_year\n",
    "- Ano da data de chegada\n",
    "#### arrival_date_month\n",
    "- Mês da data de chegada\n",
    "#### arrival_date_week_number\n",
    "- Número da semana do ano para a data de chegada\n",
    "#### arrival_date_day_of_month\n",
    "- dia da data de chegada\n",
    "#### stay_in_weekend_nights\n",
    "- Número de noites de fim de semana (sábado ou domingo) em que o hóspede ficou ou reservou para ficar no hotel\n",
    "#### stay_in_week_nights\n",
    "- Número de noites da semana (de segunda a sexta-feira) em que o hóspede ficou ou reservou para ficar no hotel\n",
    "#### adults\n",
    "- Número de Adultos\n",
    "#### children\n",
    "- número de filhos\n",
    "#### babies\n",
    "- Número de bebês\n",
    "#### meal\n",
    "- Tipo de refeição reservada. As categorias são apresentadas em pacotes padrão de refeições de hospitalidade: Indefinido / SC - sem pacote de refeições; BB - Alojamento e café da manhã; HB - Meia pensão (café da manhã e outra refeição - geralmente jantar); FB - Pensão completa (café da manhã, almoço e jantar)\n",
    "#### country\n",
    "- País de origem. As categorias são representadas no formato ISO 3155–3: 2013\n",
    "#### market_segment\n",
    "- Designação do segmento de mercado. Nas categorias, o termo \"TA\" significa \"agentes de viagens\" e \"TO\" significa \"operadores turísticos\"\n",
    "#### distribution_channel\n",
    "- Canal de distribuição de reservas. O termo \"TA\" significa \"agentes de viagens\" e \"TO\" significa \"operadores turísticos\"\n",
    "#### is_repeated_guest\n",
    "- Valor indicando se o nome da reserva era de um hóspede repetido (1) ou não (0)\n",
    "#### previous_cancellations\n",
    "- Número de reservas anteriores que foram canceladas pelo cliente antes da reserva atual\n",
    "#### previous_bookings_not_canceled\n",
    "- Número de reservas anteriores não canceladas pelo cliente antes da reserva atual\n",
    "#### Reserved_room_type\n",
    "- Código do tipo de quarto reservado. O código é apresentado em vez da designação por razões de anonimato.\n",
    "#### assign_room_type\n",
    "- Código para o tipo de quarto atribuído à reserva. Às vezes, o tipo de quarto atribuído difere do tipo de quarto reservado devido a razões de operação do hotel (por exemplo, reservas em excesso) ou por solicitação do cliente. O código é apresentado em vez da designação por razões de anonimato.\n",
    "#### booking_changes\n",
    "- Número de alterações / alterações feitas na reserva desde o momento em que a reserva foi inserida no PMS até o momento do check-in ou cancelamento\n",
    "#### deposit_type\n",
    "- Indicação se o cliente fez um depósito para garantir a reserva. Essa variável pode assumir três categorias: Nenhum depósito - nenhum depósito foi feito; Não reembolso - foi feito um depósito no valor do custo total da estadia; Reembolsável - foi feito um depósito com um valor abaixo do custo total da estadia.\n",
    "#### agent\n",
    "- ID da agência de viagens que fez a reserva\n",
    "#### company\n",
    "- ID da empresa / entidade que fez a reserva ou responsável pelo pagamento da reserva. O ID é apresentado em vez da designação por razões de anonimato\n",
    "#### days_in_waiting_list\n",
    "- Número de dias em que a reserva estava na lista de espera antes de ser confirmada ao cliente\n",
    "#### customer_type\n",
    "- Tipo de reserva, assumindo uma das quatro categorias: Contract - quando a reserva possui uma atribuição ou outro tipo de contrato associado a ela; Group - quando a reserva está associada a um grupo; Transient - quando a reserva não faz parte de um grupo ou contrato e não está associado a outra reserva transitória; Transient-party - quando a reserva é transitória, mas está associada a pelo menos outra reserva transitória\n",
    "#### adr\n",
    "- Taxa diária média, conforme definida pela divisão da soma de todas as transações de hospedagem pelo número total de noites de permanência\n",
    "#### required_car_parking_spaces\n",
    "- Número de vagas de estacionamento exigidas pelo cliente\n",
    "#### total_of_special_requests\n",
    "- Número de pedidos especiais feitos pelo cliente (por exemplo, cama de solteiro ou andar alto)\n",
    "#### reservation_status\n",
    "- Último status da reserva, assumindo uma de três categorias: Cancelado - a reserva foi cancelada pelo cliente; Check-Out - o cliente fez o check-in, mas já partiu; No-Show - o cliente não fez o check-in e informou o hotel do motivo\n",
    "#### reservation_status_date\n",
    "- Data em que o último status foi definido. Essa variável pode ser usada em conjunto com o ReservationStatus para entender quando a reserva foi cancelada ou quando o cliente fez o check-out do hotel."
   ]
  },
  {
   "cell_type": "code",
   "execution_count": 1,
   "metadata": {
    "hideCode": false,
    "hidePrompt": false
   },
   "outputs": [],
   "source": [
    "import pandas as pd\n",
    "import numpy as np\n",
    "import matplotlib.pyplot as plt\n",
    "import seaborn as sns\n",
    "import plotly.express as px\n",
    "import time\n",
    "import pycountry as pc\n",
    "\n",
    "%matplotlib inline"
   ]
  },
  {
   "cell_type": "code",
   "execution_count": 2,
   "metadata": {},
   "outputs": [],
   "source": [
    "pd.set_option('display.max_rows',101)"
   ]
  },
  {
   "cell_type": "code",
   "execution_count": 3,
   "metadata": {
    "hideCode": false,
    "hidePrompt": false
   },
   "outputs": [],
   "source": [
    "df = pd.read_csv(\"hotel_bookings.csv\")"
   ]
  },
  {
   "cell_type": "code",
   "execution_count": 4,
   "metadata": {
    "hideCode": false,
    "hidePrompt": false,
    "scrolled": false
   },
   "outputs": [
    {
     "data": {
      "text/html": [
       "<div>\n",
       "<style scoped>\n",
       "    .dataframe tbody tr th:only-of-type {\n",
       "        vertical-align: middle;\n",
       "    }\n",
       "\n",
       "    .dataframe tbody tr th {\n",
       "        vertical-align: top;\n",
       "    }\n",
       "\n",
       "    .dataframe thead th {\n",
       "        text-align: right;\n",
       "    }\n",
       "</style>\n",
       "<table border=\"1\" class=\"dataframe\">\n",
       "  <thead>\n",
       "    <tr style=\"text-align: right;\">\n",
       "      <th></th>\n",
       "      <th>hotel</th>\n",
       "      <th>is_canceled</th>\n",
       "      <th>lead_time</th>\n",
       "      <th>arrival_date_year</th>\n",
       "      <th>arrival_date_month</th>\n",
       "      <th>arrival_date_week_number</th>\n",
       "      <th>arrival_date_day_of_month</th>\n",
       "      <th>stays_in_weekend_nights</th>\n",
       "      <th>stays_in_week_nights</th>\n",
       "      <th>adults</th>\n",
       "      <th>...</th>\n",
       "      <th>deposit_type</th>\n",
       "      <th>agent</th>\n",
       "      <th>company</th>\n",
       "      <th>days_in_waiting_list</th>\n",
       "      <th>customer_type</th>\n",
       "      <th>adr</th>\n",
       "      <th>required_car_parking_spaces</th>\n",
       "      <th>total_of_special_requests</th>\n",
       "      <th>reservation_status</th>\n",
       "      <th>reservation_status_date</th>\n",
       "    </tr>\n",
       "  </thead>\n",
       "  <tbody>\n",
       "    <tr>\n",
       "      <th>0</th>\n",
       "      <td>Resort Hotel</td>\n",
       "      <td>0</td>\n",
       "      <td>342</td>\n",
       "      <td>2015</td>\n",
       "      <td>July</td>\n",
       "      <td>27</td>\n",
       "      <td>1</td>\n",
       "      <td>0</td>\n",
       "      <td>0</td>\n",
       "      <td>2</td>\n",
       "      <td>...</td>\n",
       "      <td>No Deposit</td>\n",
       "      <td>NaN</td>\n",
       "      <td>NaN</td>\n",
       "      <td>0</td>\n",
       "      <td>Transient</td>\n",
       "      <td>0.0</td>\n",
       "      <td>0</td>\n",
       "      <td>0</td>\n",
       "      <td>Check-Out</td>\n",
       "      <td>2015-07-01</td>\n",
       "    </tr>\n",
       "    <tr>\n",
       "      <th>1</th>\n",
       "      <td>Resort Hotel</td>\n",
       "      <td>0</td>\n",
       "      <td>737</td>\n",
       "      <td>2015</td>\n",
       "      <td>July</td>\n",
       "      <td>27</td>\n",
       "      <td>1</td>\n",
       "      <td>0</td>\n",
       "      <td>0</td>\n",
       "      <td>2</td>\n",
       "      <td>...</td>\n",
       "      <td>No Deposit</td>\n",
       "      <td>NaN</td>\n",
       "      <td>NaN</td>\n",
       "      <td>0</td>\n",
       "      <td>Transient</td>\n",
       "      <td>0.0</td>\n",
       "      <td>0</td>\n",
       "      <td>0</td>\n",
       "      <td>Check-Out</td>\n",
       "      <td>2015-07-01</td>\n",
       "    </tr>\n",
       "    <tr>\n",
       "      <th>2</th>\n",
       "      <td>Resort Hotel</td>\n",
       "      <td>0</td>\n",
       "      <td>7</td>\n",
       "      <td>2015</td>\n",
       "      <td>July</td>\n",
       "      <td>27</td>\n",
       "      <td>1</td>\n",
       "      <td>0</td>\n",
       "      <td>1</td>\n",
       "      <td>1</td>\n",
       "      <td>...</td>\n",
       "      <td>No Deposit</td>\n",
       "      <td>NaN</td>\n",
       "      <td>NaN</td>\n",
       "      <td>0</td>\n",
       "      <td>Transient</td>\n",
       "      <td>75.0</td>\n",
       "      <td>0</td>\n",
       "      <td>0</td>\n",
       "      <td>Check-Out</td>\n",
       "      <td>2015-07-02</td>\n",
       "    </tr>\n",
       "    <tr>\n",
       "      <th>3</th>\n",
       "      <td>Resort Hotel</td>\n",
       "      <td>0</td>\n",
       "      <td>13</td>\n",
       "      <td>2015</td>\n",
       "      <td>July</td>\n",
       "      <td>27</td>\n",
       "      <td>1</td>\n",
       "      <td>0</td>\n",
       "      <td>1</td>\n",
       "      <td>1</td>\n",
       "      <td>...</td>\n",
       "      <td>No Deposit</td>\n",
       "      <td>304.0</td>\n",
       "      <td>NaN</td>\n",
       "      <td>0</td>\n",
       "      <td>Transient</td>\n",
       "      <td>75.0</td>\n",
       "      <td>0</td>\n",
       "      <td>0</td>\n",
       "      <td>Check-Out</td>\n",
       "      <td>2015-07-02</td>\n",
       "    </tr>\n",
       "    <tr>\n",
       "      <th>4</th>\n",
       "      <td>Resort Hotel</td>\n",
       "      <td>0</td>\n",
       "      <td>14</td>\n",
       "      <td>2015</td>\n",
       "      <td>July</td>\n",
       "      <td>27</td>\n",
       "      <td>1</td>\n",
       "      <td>0</td>\n",
       "      <td>2</td>\n",
       "      <td>2</td>\n",
       "      <td>...</td>\n",
       "      <td>No Deposit</td>\n",
       "      <td>240.0</td>\n",
       "      <td>NaN</td>\n",
       "      <td>0</td>\n",
       "      <td>Transient</td>\n",
       "      <td>98.0</td>\n",
       "      <td>0</td>\n",
       "      <td>1</td>\n",
       "      <td>Check-Out</td>\n",
       "      <td>2015-07-03</td>\n",
       "    </tr>\n",
       "  </tbody>\n",
       "</table>\n",
       "<p>5 rows × 32 columns</p>\n",
       "</div>"
      ],
      "text/plain": [
       "          hotel  is_canceled  lead_time  arrival_date_year arrival_date_month  \\\n",
       "0  Resort Hotel            0        342               2015               July   \n",
       "1  Resort Hotel            0        737               2015               July   \n",
       "2  Resort Hotel            0          7               2015               July   \n",
       "3  Resort Hotel            0         13               2015               July   \n",
       "4  Resort Hotel            0         14               2015               July   \n",
       "\n",
       "   arrival_date_week_number  arrival_date_day_of_month  \\\n",
       "0                        27                          1   \n",
       "1                        27                          1   \n",
       "2                        27                          1   \n",
       "3                        27                          1   \n",
       "4                        27                          1   \n",
       "\n",
       "   stays_in_weekend_nights  stays_in_week_nights  adults  ...  deposit_type  \\\n",
       "0                        0                     0       2  ...    No Deposit   \n",
       "1                        0                     0       2  ...    No Deposit   \n",
       "2                        0                     1       1  ...    No Deposit   \n",
       "3                        0                     1       1  ...    No Deposit   \n",
       "4                        0                     2       2  ...    No Deposit   \n",
       "\n",
       "   agent company days_in_waiting_list customer_type   adr  \\\n",
       "0    NaN     NaN                    0     Transient   0.0   \n",
       "1    NaN     NaN                    0     Transient   0.0   \n",
       "2    NaN     NaN                    0     Transient  75.0   \n",
       "3  304.0     NaN                    0     Transient  75.0   \n",
       "4  240.0     NaN                    0     Transient  98.0   \n",
       "\n",
       "   required_car_parking_spaces  total_of_special_requests  reservation_status  \\\n",
       "0                            0                          0           Check-Out   \n",
       "1                            0                          0           Check-Out   \n",
       "2                            0                          0           Check-Out   \n",
       "3                            0                          0           Check-Out   \n",
       "4                            0                          1           Check-Out   \n",
       "\n",
       "  reservation_status_date  \n",
       "0              2015-07-01  \n",
       "1              2015-07-01  \n",
       "2              2015-07-02  \n",
       "3              2015-07-02  \n",
       "4              2015-07-03  \n",
       "\n",
       "[5 rows x 32 columns]"
      ]
     },
     "execution_count": 4,
     "metadata": {},
     "output_type": "execute_result"
    }
   ],
   "source": [
    "df.head()"
   ]
  },
  {
   "cell_type": "code",
   "execution_count": 5,
   "metadata": {
    "hideCode": false,
    "hidePrompt": false,
    "scrolled": false
   },
   "outputs": [
    {
     "name": "stdout",
     "output_type": "stream",
     "text": [
      "<class 'pandas.core.frame.DataFrame'>\n",
      "RangeIndex: 119390 entries, 0 to 119389\n",
      "Data columns (total 32 columns):\n",
      " #   Column                          Non-Null Count   Dtype  \n",
      "---  ------                          --------------   -----  \n",
      " 0   hotel                           119390 non-null  object \n",
      " 1   is_canceled                     119390 non-null  int64  \n",
      " 2   lead_time                       119390 non-null  int64  \n",
      " 3   arrival_date_year               119390 non-null  int64  \n",
      " 4   arrival_date_month              119390 non-null  object \n",
      " 5   arrival_date_week_number        119390 non-null  int64  \n",
      " 6   arrival_date_day_of_month       119390 non-null  int64  \n",
      " 7   stays_in_weekend_nights         119390 non-null  int64  \n",
      " 8   stays_in_week_nights            119390 non-null  int64  \n",
      " 9   adults                          119390 non-null  int64  \n",
      " 10  children                        119386 non-null  float64\n",
      " 11  babies                          119390 non-null  int64  \n",
      " 12  meal                            119390 non-null  object \n",
      " 13  country                         118902 non-null  object \n",
      " 14  market_segment                  119390 non-null  object \n",
      " 15  distribution_channel            119390 non-null  object \n",
      " 16  is_repeated_guest               119390 non-null  int64  \n",
      " 17  previous_cancellations          119390 non-null  int64  \n",
      " 18  previous_bookings_not_canceled  119390 non-null  int64  \n",
      " 19  reserved_room_type              119390 non-null  object \n",
      " 20  assigned_room_type              119390 non-null  object \n",
      " 21  booking_changes                 119390 non-null  int64  \n",
      " 22  deposit_type                    119390 non-null  object \n",
      " 23  agent                           103050 non-null  float64\n",
      " 24  company                         6797 non-null    float64\n",
      " 25  days_in_waiting_list            119390 non-null  int64  \n",
      " 26  customer_type                   119390 non-null  object \n",
      " 27  adr                             119390 non-null  float64\n",
      " 28  required_car_parking_spaces     119390 non-null  int64  \n",
      " 29  total_of_special_requests       119390 non-null  int64  \n",
      " 30  reservation_status              119390 non-null  object \n",
      " 31  reservation_status_date         119390 non-null  object \n",
      "dtypes: float64(4), int64(16), object(12)\n",
      "memory usage: 23.7+ MB\n"
     ]
    }
   ],
   "source": [
    "#verificando os valores do dataset\n",
    "df.info()"
   ]
  },
  {
   "cell_type": "markdown",
   "metadata": {
    "hideCode": false,
    "hidePrompt": false
   },
   "source": [
    "É possivel observar que as Colunas children, country, company e agent contem valores missing"
   ]
  },
  {
   "cell_type": "code",
   "execution_count": 6,
   "metadata": {
    "hideCode": false,
    "hidePrompt": false
   },
   "outputs": [
    {
     "data": {
      "text/html": [
       "<div>\n",
       "<style scoped>\n",
       "    .dataframe tbody tr th:only-of-type {\n",
       "        vertical-align: middle;\n",
       "    }\n",
       "\n",
       "    .dataframe tbody tr th {\n",
       "        vertical-align: top;\n",
       "    }\n",
       "\n",
       "    .dataframe thead th {\n",
       "        text-align: right;\n",
       "    }\n",
       "</style>\n",
       "<table border=\"1\" class=\"dataframe\">\n",
       "  <thead>\n",
       "    <tr style=\"text-align: right;\">\n",
       "      <th></th>\n",
       "      <th>is_canceled</th>\n",
       "      <th>lead_time</th>\n",
       "      <th>arrival_date_year</th>\n",
       "      <th>arrival_date_week_number</th>\n",
       "      <th>arrival_date_day_of_month</th>\n",
       "      <th>stays_in_weekend_nights</th>\n",
       "      <th>stays_in_week_nights</th>\n",
       "      <th>adults</th>\n",
       "      <th>children</th>\n",
       "      <th>babies</th>\n",
       "      <th>is_repeated_guest</th>\n",
       "      <th>previous_cancellations</th>\n",
       "      <th>previous_bookings_not_canceled</th>\n",
       "      <th>booking_changes</th>\n",
       "      <th>agent</th>\n",
       "      <th>company</th>\n",
       "      <th>days_in_waiting_list</th>\n",
       "      <th>adr</th>\n",
       "      <th>required_car_parking_spaces</th>\n",
       "      <th>total_of_special_requests</th>\n",
       "    </tr>\n",
       "  </thead>\n",
       "  <tbody>\n",
       "    <tr>\n",
       "      <th>count</th>\n",
       "      <td>119390.000000</td>\n",
       "      <td>119390.000000</td>\n",
       "      <td>119390.000000</td>\n",
       "      <td>119390.000000</td>\n",
       "      <td>119390.000000</td>\n",
       "      <td>119390.000000</td>\n",
       "      <td>119390.000000</td>\n",
       "      <td>119390.000000</td>\n",
       "      <td>119386.000000</td>\n",
       "      <td>119390.000000</td>\n",
       "      <td>119390.000000</td>\n",
       "      <td>119390.000000</td>\n",
       "      <td>119390.000000</td>\n",
       "      <td>119390.000000</td>\n",
       "      <td>103050.000000</td>\n",
       "      <td>6797.000000</td>\n",
       "      <td>119390.000000</td>\n",
       "      <td>119390.000000</td>\n",
       "      <td>119390.000000</td>\n",
       "      <td>119390.000000</td>\n",
       "    </tr>\n",
       "    <tr>\n",
       "      <th>mean</th>\n",
       "      <td>0.370416</td>\n",
       "      <td>104.011416</td>\n",
       "      <td>2016.156554</td>\n",
       "      <td>27.165173</td>\n",
       "      <td>15.798241</td>\n",
       "      <td>0.927599</td>\n",
       "      <td>2.500302</td>\n",
       "      <td>1.856403</td>\n",
       "      <td>0.103890</td>\n",
       "      <td>0.007949</td>\n",
       "      <td>0.031912</td>\n",
       "      <td>0.087118</td>\n",
       "      <td>0.137097</td>\n",
       "      <td>0.221124</td>\n",
       "      <td>86.693382</td>\n",
       "      <td>189.266735</td>\n",
       "      <td>2.321149</td>\n",
       "      <td>101.831122</td>\n",
       "      <td>0.062518</td>\n",
       "      <td>0.571363</td>\n",
       "    </tr>\n",
       "    <tr>\n",
       "      <th>std</th>\n",
       "      <td>0.482918</td>\n",
       "      <td>106.863097</td>\n",
       "      <td>0.707476</td>\n",
       "      <td>13.605138</td>\n",
       "      <td>8.780829</td>\n",
       "      <td>0.998613</td>\n",
       "      <td>1.908286</td>\n",
       "      <td>0.579261</td>\n",
       "      <td>0.398561</td>\n",
       "      <td>0.097436</td>\n",
       "      <td>0.175767</td>\n",
       "      <td>0.844336</td>\n",
       "      <td>1.497437</td>\n",
       "      <td>0.652306</td>\n",
       "      <td>110.774548</td>\n",
       "      <td>131.655015</td>\n",
       "      <td>17.594721</td>\n",
       "      <td>50.535790</td>\n",
       "      <td>0.245291</td>\n",
       "      <td>0.792798</td>\n",
       "    </tr>\n",
       "    <tr>\n",
       "      <th>min</th>\n",
       "      <td>0.000000</td>\n",
       "      <td>0.000000</td>\n",
       "      <td>2015.000000</td>\n",
       "      <td>1.000000</td>\n",
       "      <td>1.000000</td>\n",
       "      <td>0.000000</td>\n",
       "      <td>0.000000</td>\n",
       "      <td>0.000000</td>\n",
       "      <td>0.000000</td>\n",
       "      <td>0.000000</td>\n",
       "      <td>0.000000</td>\n",
       "      <td>0.000000</td>\n",
       "      <td>0.000000</td>\n",
       "      <td>0.000000</td>\n",
       "      <td>1.000000</td>\n",
       "      <td>6.000000</td>\n",
       "      <td>0.000000</td>\n",
       "      <td>-6.380000</td>\n",
       "      <td>0.000000</td>\n",
       "      <td>0.000000</td>\n",
       "    </tr>\n",
       "    <tr>\n",
       "      <th>25%</th>\n",
       "      <td>0.000000</td>\n",
       "      <td>18.000000</td>\n",
       "      <td>2016.000000</td>\n",
       "      <td>16.000000</td>\n",
       "      <td>8.000000</td>\n",
       "      <td>0.000000</td>\n",
       "      <td>1.000000</td>\n",
       "      <td>2.000000</td>\n",
       "      <td>0.000000</td>\n",
       "      <td>0.000000</td>\n",
       "      <td>0.000000</td>\n",
       "      <td>0.000000</td>\n",
       "      <td>0.000000</td>\n",
       "      <td>0.000000</td>\n",
       "      <td>9.000000</td>\n",
       "      <td>62.000000</td>\n",
       "      <td>0.000000</td>\n",
       "      <td>69.290000</td>\n",
       "      <td>0.000000</td>\n",
       "      <td>0.000000</td>\n",
       "    </tr>\n",
       "    <tr>\n",
       "      <th>50%</th>\n",
       "      <td>0.000000</td>\n",
       "      <td>69.000000</td>\n",
       "      <td>2016.000000</td>\n",
       "      <td>28.000000</td>\n",
       "      <td>16.000000</td>\n",
       "      <td>1.000000</td>\n",
       "      <td>2.000000</td>\n",
       "      <td>2.000000</td>\n",
       "      <td>0.000000</td>\n",
       "      <td>0.000000</td>\n",
       "      <td>0.000000</td>\n",
       "      <td>0.000000</td>\n",
       "      <td>0.000000</td>\n",
       "      <td>0.000000</td>\n",
       "      <td>14.000000</td>\n",
       "      <td>179.000000</td>\n",
       "      <td>0.000000</td>\n",
       "      <td>94.575000</td>\n",
       "      <td>0.000000</td>\n",
       "      <td>0.000000</td>\n",
       "    </tr>\n",
       "    <tr>\n",
       "      <th>75%</th>\n",
       "      <td>1.000000</td>\n",
       "      <td>160.000000</td>\n",
       "      <td>2017.000000</td>\n",
       "      <td>38.000000</td>\n",
       "      <td>23.000000</td>\n",
       "      <td>2.000000</td>\n",
       "      <td>3.000000</td>\n",
       "      <td>2.000000</td>\n",
       "      <td>0.000000</td>\n",
       "      <td>0.000000</td>\n",
       "      <td>0.000000</td>\n",
       "      <td>0.000000</td>\n",
       "      <td>0.000000</td>\n",
       "      <td>0.000000</td>\n",
       "      <td>229.000000</td>\n",
       "      <td>270.000000</td>\n",
       "      <td>0.000000</td>\n",
       "      <td>126.000000</td>\n",
       "      <td>0.000000</td>\n",
       "      <td>1.000000</td>\n",
       "    </tr>\n",
       "    <tr>\n",
       "      <th>max</th>\n",
       "      <td>1.000000</td>\n",
       "      <td>737.000000</td>\n",
       "      <td>2017.000000</td>\n",
       "      <td>53.000000</td>\n",
       "      <td>31.000000</td>\n",
       "      <td>19.000000</td>\n",
       "      <td>50.000000</td>\n",
       "      <td>55.000000</td>\n",
       "      <td>10.000000</td>\n",
       "      <td>10.000000</td>\n",
       "      <td>1.000000</td>\n",
       "      <td>26.000000</td>\n",
       "      <td>72.000000</td>\n",
       "      <td>21.000000</td>\n",
       "      <td>535.000000</td>\n",
       "      <td>543.000000</td>\n",
       "      <td>391.000000</td>\n",
       "      <td>5400.000000</td>\n",
       "      <td>8.000000</td>\n",
       "      <td>5.000000</td>\n",
       "    </tr>\n",
       "  </tbody>\n",
       "</table>\n",
       "</div>"
      ],
      "text/plain": [
       "         is_canceled      lead_time  arrival_date_year  \\\n",
       "count  119390.000000  119390.000000      119390.000000   \n",
       "mean        0.370416     104.011416        2016.156554   \n",
       "std         0.482918     106.863097           0.707476   \n",
       "min         0.000000       0.000000        2015.000000   \n",
       "25%         0.000000      18.000000        2016.000000   \n",
       "50%         0.000000      69.000000        2016.000000   \n",
       "75%         1.000000     160.000000        2017.000000   \n",
       "max         1.000000     737.000000        2017.000000   \n",
       "\n",
       "       arrival_date_week_number  arrival_date_day_of_month  \\\n",
       "count             119390.000000              119390.000000   \n",
       "mean                  27.165173                  15.798241   \n",
       "std                   13.605138                   8.780829   \n",
       "min                    1.000000                   1.000000   \n",
       "25%                   16.000000                   8.000000   \n",
       "50%                   28.000000                  16.000000   \n",
       "75%                   38.000000                  23.000000   \n",
       "max                   53.000000                  31.000000   \n",
       "\n",
       "       stays_in_weekend_nights  stays_in_week_nights         adults  \\\n",
       "count            119390.000000         119390.000000  119390.000000   \n",
       "mean                  0.927599              2.500302       1.856403   \n",
       "std                   0.998613              1.908286       0.579261   \n",
       "min                   0.000000              0.000000       0.000000   \n",
       "25%                   0.000000              1.000000       2.000000   \n",
       "50%                   1.000000              2.000000       2.000000   \n",
       "75%                   2.000000              3.000000       2.000000   \n",
       "max                  19.000000             50.000000      55.000000   \n",
       "\n",
       "            children         babies  is_repeated_guest  \\\n",
       "count  119386.000000  119390.000000      119390.000000   \n",
       "mean        0.103890       0.007949           0.031912   \n",
       "std         0.398561       0.097436           0.175767   \n",
       "min         0.000000       0.000000           0.000000   \n",
       "25%         0.000000       0.000000           0.000000   \n",
       "50%         0.000000       0.000000           0.000000   \n",
       "75%         0.000000       0.000000           0.000000   \n",
       "max        10.000000      10.000000           1.000000   \n",
       "\n",
       "       previous_cancellations  previous_bookings_not_canceled  \\\n",
       "count           119390.000000                   119390.000000   \n",
       "mean                 0.087118                        0.137097   \n",
       "std                  0.844336                        1.497437   \n",
       "min                  0.000000                        0.000000   \n",
       "25%                  0.000000                        0.000000   \n",
       "50%                  0.000000                        0.000000   \n",
       "75%                  0.000000                        0.000000   \n",
       "max                 26.000000                       72.000000   \n",
       "\n",
       "       booking_changes          agent      company  days_in_waiting_list  \\\n",
       "count    119390.000000  103050.000000  6797.000000         119390.000000   \n",
       "mean          0.221124      86.693382   189.266735              2.321149   \n",
       "std           0.652306     110.774548   131.655015             17.594721   \n",
       "min           0.000000       1.000000     6.000000              0.000000   \n",
       "25%           0.000000       9.000000    62.000000              0.000000   \n",
       "50%           0.000000      14.000000   179.000000              0.000000   \n",
       "75%           0.000000     229.000000   270.000000              0.000000   \n",
       "max          21.000000     535.000000   543.000000            391.000000   \n",
       "\n",
       "                 adr  required_car_parking_spaces  total_of_special_requests  \n",
       "count  119390.000000                119390.000000              119390.000000  \n",
       "mean      101.831122                     0.062518                   0.571363  \n",
       "std        50.535790                     0.245291                   0.792798  \n",
       "min        -6.380000                     0.000000                   0.000000  \n",
       "25%        69.290000                     0.000000                   0.000000  \n",
       "50%        94.575000                     0.000000                   0.000000  \n",
       "75%       126.000000                     0.000000                   1.000000  \n",
       "max      5400.000000                     8.000000                   5.000000  "
      ]
     },
     "execution_count": 6,
     "metadata": {},
     "output_type": "execute_result"
    }
   ],
   "source": [
    "df.describe()"
   ]
  },
  {
   "cell_type": "markdown",
   "metadata": {
    "hideCode": false,
    "hidePrompt": false
   },
   "source": [
    "# Limpeza e tratamento dos dados"
   ]
  },
  {
   "cell_type": "code",
   "execution_count": 7,
   "metadata": {
    "hideCode": false,
    "hidePrompt": false,
    "scrolled": false
   },
   "outputs": [
    {
     "data": {
      "text/plain": [
       "hotel                                  0\n",
       "is_canceled                            0\n",
       "lead_time                              0\n",
       "arrival_date_year                      0\n",
       "arrival_date_month                     0\n",
       "arrival_date_week_number               0\n",
       "arrival_date_day_of_month              0\n",
       "stays_in_weekend_nights                0\n",
       "stays_in_week_nights                   0\n",
       "adults                                 0\n",
       "children                               4\n",
       "babies                                 0\n",
       "meal                                   0\n",
       "country                              488\n",
       "market_segment                         0\n",
       "distribution_channel                   0\n",
       "is_repeated_guest                      0\n",
       "previous_cancellations                 0\n",
       "previous_bookings_not_canceled         0\n",
       "reserved_room_type                     0\n",
       "assigned_room_type                     0\n",
       "booking_changes                        0\n",
       "deposit_type                           0\n",
       "agent                              16340\n",
       "company                           112593\n",
       "days_in_waiting_list                   0\n",
       "customer_type                          0\n",
       "adr                                    0\n",
       "required_car_parking_spaces            0\n",
       "total_of_special_requests              0\n",
       "reservation_status                     0\n",
       "reservation_status_date                0\n",
       "dtype: int64"
      ]
     },
     "execution_count": 7,
     "metadata": {},
     "output_type": "execute_result"
    }
   ],
   "source": [
    "#verificando os valores null\n",
    "df.isnull().sum()"
   ]
  },
  {
   "cell_type": "code",
   "execution_count": 8,
   "metadata": {
    "hideCode": false,
    "hidePrompt": false
   },
   "outputs": [],
   "source": [
    "#Os métodos abaixo preenchem os valones NaN com 0 caso na mesma liinha da reserva tenha valores NaN em agent e company\n",
    "#indicando que a reserva foi feita sem uma agência de viagens e sem ser pela empresa\n",
    "\n",
    "#Agent\n",
    "#método que gera verifica em cada linha se o valor é nulo nas duas colunas e caso sejam, altera o valor para 0 no agente\n",
    "#caso não sejam nulos ele retorna o valor antigo e ao final devolve uma serie\n",
    "def fill_ag(agent,company): \n",
    "    listagem = []\n",
    "    for i in range(len(agent)):\n",
    "        if((np.isnan(agent[i]) == True) and (np.isnan(company[i]) == True)):\n",
    "            listagem.append(0)\n",
    "        else:\n",
    "            listagem.append(agent[i])\n",
    "    return pd.Series(listagem)\n",
    "\n",
    "#Company\n",
    "#método que gera verifica em cada linha se o valor é 0 em agent e nulo na coluna company caso sejam, altera o valor para 0\n",
    "# em company, caso não sejam 0 e nulo ele retorna o valor antigo e ao final devolve uma serie\n",
    "def fill_cp(agent,company):   \n",
    "    listagem = []\n",
    "    for i in range(len(company)):\n",
    "        if((agent[i] == 0) and (np.isnan(company[i]) == True)):\n",
    "            listagem.append(0)\n",
    "        else:\n",
    "            listagem.append(company[i])\n",
    "    return pd.Series(listagem)"
   ]
  },
  {
   "cell_type": "code",
   "execution_count": 9,
   "metadata": {
    "hideCode": false,
    "hidePrompt": false
   },
   "outputs": [],
   "source": [
    "#Preenchendo os valores de agent e company que são nulos \n",
    "\n",
    "#objeto que pega o tempo atual em segundos e grava na varriavel inicio\n",
    "inicio = time.time()\n",
    "df['agent'] = fill_ag(df['agent'],df['company'])\n",
    "df['company'] = fill_cp(df['agent'],df['company'])\n",
    "#objeto que pega o tempo atual em segundos e grava na varriavel fim\n",
    "fim = time.time()\n",
    "\n",
    "#imprime a diferença de tempo emtre o inicio e fim\n",
    "#print(fim - inicio)\n",
    "\n",
    "#Preenchendo os valores que sobraram em agent e company\n",
    "#3333 = viajou com empresa\n",
    "df['agent'].fillna(3333,inplace=True)\n",
    "\n",
    "#1111 = viajou com agencia\n",
    "df['company'].fillna(1111,inplace=True)\n",
    "\n",
    "#Apagando os dados de children que são nulos\n",
    "df['children'].fillna(0,inplace=True)\n",
    "\n",
    "#Apagando os dados de country que são nulos\n",
    "df['country'].fillna('Desconhecido',inplace=True)\n",
    "#Canadá foi preenchido errado\n",
    "df['country'].replace('CN','CAN',inplace=True)\n",
    "\n",
    "#Crio uma lista contendo todos os indices de adultos,crianças e bebes com valor igual a 0\n",
    "visitantes = list(df.loc[df[\"adults\"]+ df[\"children\"]+ df[\"babies\"]==0].index)\n",
    "\n",
    "#Dropo esses valores zerados\n",
    "df.drop(df.index[visitantes],inplace=True)\n",
    "\n",
    "#de acordo com a descrição das colunas Undefined e SC são a mesma informação\n",
    "df['meal'].replace(\"Undefined\", \"SC\", inplace=True)\n",
    "\n",
    "#Corrigindo um outlier\n",
    "df['adr'].replace(5400,df['adr'].median(),inplace=True)\n",
    "\n",
    "#Traduzindo o nome dos meses\n",
    "df['arrival_date_month'].replace([\"January\", \"February\", \"March\", \"April\", \"May\", \"June\", \"July\", \"August\", \"September\", \"October\", \"November\", \"December\"],\n",
    "           ['Janeiro','Fevereiro','Marco','Abril','Maio','Junho','Julho','Agosto','Setembro','Outubro', 'Novembro','Dezembro'],inplace=True)\n",
    "\n",
    "#Criando uma lista com os meses ordenados\n",
    "ordered_months = ['Janeiro','Fevereiro','Marco','Abril','Maio','Junho','Julho','Agosto','Setembro','Outubro', 'Novembro','Dezembro']\n",
    "#Gravando os meses categorizados, com isso será possível ver os meses na ordem\n",
    "df[\"arrival_date_month\"] = pd.Categorical(df[\"arrival_date_month\"], categories=ordered_months, ordered=True)"
   ]
  },
  {
   "cell_type": "markdown",
   "metadata": {
    "hideCode": false,
    "hidePrompt": false
   },
   "source": [
    "# Análise Exploratória\n",
    "<hr>"
   ]
  },
  {
   "cell_type": "markdown",
   "metadata": {
    "hideCode": false,
    "hidePrompt": false
   },
   "source": [
    "### Qual é a epoca de maior movimento?"
   ]
  },
  {
   "cell_type": "code",
   "execution_count": 10,
   "metadata": {
    "hideCode": false,
    "hidePrompt": false
   },
   "outputs": [],
   "source": [
    "#Setando um fundo branco nos gráficos\n",
    "sns.set_style(\"whitegrid\")"
   ]
  },
  {
   "cell_type": "code",
   "execution_count": 11,
   "metadata": {
    "hideCode": false,
    "hidePrompt": false
   },
   "outputs": [
    {
     "data": {
      "image/png": "[encoded data removed]",
      "text/plain": [
       "<Figure size 1008x504 with 1 Axes>"
      ]
     },
     "metadata": {},
     "output_type": "display_data"
    }
   ],
   "source": [
    "plt.figure(figsize=(14,7))\n",
    "sns.countplot(x=df['arrival_date_month'],palette='viridis',alpha=0.8,hue=df['hotel'])\n",
    "\n",
    "plt.rcParams['legend.fontsize'] = 13\n",
    "plt.ylabel(\"Quantidade de reservas\",fontsize=16)\n",
    "plt.xlabel(\"Meses\",fontsize=16)\n",
    "plt.title(\"Quantidade de reservas por mês\",fontsize=16)\n",
    "plt.show()"
   ]
  },
  {
   "cell_type": "markdown",
   "metadata": {
    "hideCode": false,
    "hidePrompt": false
   },
   "source": [
    "Os meses com maior número de visitantes no resort são os meses de verão, julho e agosto, um padrão parecido acontece no hotel, o pico no número de visitantes também é em agosto. É possível observar que em ambos o movimento começa a apresentar crescimento em fevereiro e diminui em setembro.\n"
   ]
  },
  {
   "cell_type": "markdown",
   "metadata": {
    "hideCode": false,
    "hidePrompt": false
   },
   "source": [
    "### Qual melhor época do ano para se fazer reserva? \n",
    "> Revisar este trecho\n"
   ]
  },
  {
   "cell_type": "markdown",
   "metadata": {
    "hideCode": false,
    "hidePrompt": false
   },
   "source": [
    "Se tratando do hotel em <strong>Lisboa</strong>, os meses mais frequentados são abril, maio, junho, julho, agosto e setembro por conta da primavera e verão, porém mesmo sendo uma bela cidade para se visitar no inverno o número de hospedes no hotel diminui consideravelmente comparando com os meses mais quentes. <br><br>Já <strong>Algarve</strong> tem como pico os meses de julho e agosto, por ser uma cidade litorânea suas praias atraem mutos visitantes nessa época, no restante do ano, com exceção de novembro a janeiro que são os meses mais frios o resort mantém uma média de 3300 visitantes por mês."
   ]
  },
  {
   "cell_type": "code",
   "execution_count": 12,
   "metadata": {
    "hideCode": false,
    "hidePrompt": false,
    "scrolled": false
   },
   "outputs": [
    {
     "data": {
      "text/plain": [
       "'plt.figure(figsize=(14,7))\\nsns.lineplot(x=\\'arrival_date_month\\',y=\\'adr_individual\\',data=res,hue =\\'hotel\\',ci=0,palette=\\'viridis\\')\\n\\nplt.rcParams[\\'legend.fontsize\\'] = 13\\nplt.ylabel(\"Valor de reservas\",fontsize=16)\\nplt.xlabel(\"Meses\",fontsize=16)\\nplt.title(\"Preço das reservas por mês\",fontsize=16)\\nplt.show()'"
      ]
     },
     "execution_count": 12,
     "metadata": {},
     "output_type": "execute_result"
    }
   ],
   "source": [
    "#Criação de uma coluna com a média das diarias por pessoa\n",
    "df['adr_individual'] = df['adr'] / (df['adults' ]+ df['children'])\n",
    "\n",
    "#Pegando os quartos que não foram cancelados\n",
    "res = df[df['is_canceled'] == 0]\n",
    "'''plt.figure(figsize=(14,7))\n",
    "sns.lineplot(x='arrival_date_month',y='adr_individual',data=res,hue ='hotel',ci=0,palette='viridis')\n",
    "\n",
    "plt.rcParams['legend.fontsize'] = 13\n",
    "plt.ylabel(\"Valor de reservas\",fontsize=16)\n",
    "plt.xlabel(\"Meses\",fontsize=16)\n",
    "plt.title(\"Preço das reservas por mês\",fontsize=16)\n",
    "plt.show()'''"
   ]
  },
  {
   "cell_type": "markdown",
   "metadata": {
    "hideCode": false,
    "hidePrompt": false
   },
   "source": [
    "Em relação ao preço das diárias, o valor por pessoa hospedada no resort começa a subir no mês de maio que é considerado média temporada na região de <strong>Algarve</strong> e só volta a cair no fim da alta temporada, meses como maio e setembro são considerados bons para se visitar a cidade pois nesses meses é possivel aproveitar o calor sem enfrentar lugares muito movimentados economizando um pouco maisnas diárias.\n",
    "\n",
    "Em <strong>Lisboa</strong> ocorre o contrario, meses como maio e setembro acabam tendo uma alta no preço e apresentando uma queda nos outros meses de calor, tendo julho e agosto com as diarias mais baixas (Curiosamente os meses mais quentes)\n",
    "\n",
    "Nos dois hoteis analisados é exibido o mesmo padrão, os preços são mais altos nos meses quentes e caem abruptamente nos meses mais frios"
   ]
  },
  {
   "cell_type": "markdown",
   "metadata": {
    "hideCode": false,
    "hidePrompt": false
   },
   "source": [
    "### Quanto os hospedes estão costumam gastar com as diarias?"
   ]
  },
  {
   "cell_type": "code",
   "execution_count": 13,
   "metadata": {
    "hideCode": false,
    "hidePrompt": false
   },
   "outputs": [],
   "source": [
    "#Selecionando apenas clientes que não cancelaram e se hospedaram no resort\n",
    "rh = df[df['hotel'] == 'Resort Hotel']\n",
    "rh = rh[rh['is_canceled'] == 0]\n",
    "#Selecionando apenas clientes que não cancelaram e se hospedaram no hotel\n",
    "ch = df[df['hotel'] == 'City Hotel']\n",
    "ch =ch[ch['is_canceled'] == 0]"
   ]
  },
  {
   "cell_type": "code",
   "execution_count": 14,
   "metadata": {
    "hideCode": false,
    "hidePrompt": false
   },
   "outputs": [
    {
     "name": "stdout",
     "output_type": "stream",
     "text": [
      "\n",
      "Os hóspedes do Resort em Algarve costumam pagar em média 47.49€ por pessoa e por noite.\n",
      "Já os hóspedes do Hotel localizado em Lisboa costumam pagar 59.27€ por pessoa e por noite.\n"
     ]
    }
   ],
   "source": [
    "print('\\nOs hóspedes do Resort em Algarve costumam pagar em média {:.2f}€ por pessoa e por noite.'.format(rh['adr_individual'].mean()))\n",
    "print('Já os hóspedes do Hotel localizado em Lisboa costumam pagar {:.2f}€ por pessoa e por noite.'.format(ch['adr_individual'].mean()))"
   ]
  },
  {
   "cell_type": "markdown",
   "metadata": {
    "hideCode": false,
    "hidePrompt": false
   },
   "source": [
    "### Preço médio dos quartos?"
   ]
  },
  {
   "cell_type": "code",
   "execution_count": 15,
   "metadata": {
    "hideCode": false,
    "hidePrompt": false,
    "scrolled": false
   },
   "outputs": [
    {
     "data": {
      "image/png": "[encoded data removed]",
      "text/plain": [
       "<Figure size 1008x504 with 1 Axes>"
      ]
     },
     "metadata": {},
     "output_type": "display_data"
    }
   ],
   "source": [
    "pmedio_quartos = df[df['is_canceled'] == 0]\n",
    "plt.figure(figsize=(14,7))\n",
    "sns.boxplot(x=pmedio_quartos['assigned_room_type'].sort_values(),y='adr_individual',\n",
    "            data=pmedio_quartos,fliersize=0,hue='hotel',palette='viridis')\n",
    "plt.ylim(0,200)\n",
    "\n",
    "plt.rcParams['legend.fontsize'] = 13\n",
    "\n",
    "plt.title(\"Tipo de quarto\",fontsize=16)\n",
    "plt.ylabel('Preço individual',fontsize=16)\n",
    "plt.xlabel('Tipo de quarto',fontsize=16)\n",
    "plt.show()"
   ]
  },
  {
   "cell_type": "markdown",
   "metadata": {
    "hideCode": false,
    "hidePrompt": false
   },
   "source": [
    "O gráfico acima mostra a distribuição dos preços por quarto. Os quartos foram distribuidos aleatoriamente para manter o anonimato, então é possivel que tenha quartos no resort e no hotel com a mesma letra porém com preços diferentes"
   ]
  },
  {
   "cell_type": "code",
   "execution_count": 113,
   "metadata": {
    "hideCode": false,
    "hidePrompt": false
   },
   "outputs": [
    {
     "data": {
      "text/html": [
       "<style  type=\"text/css\" >\n",
       "    #T_f8877a1a_af11_11ea_a17b_7071bccb931crow0_col1 {\n",
       "            background-color:  #eef7f3;\n",
       "            color:  #000000;\n",
       "        }    #T_f8877a1a_af11_11ea_a17b_7071bccb931crow1_col1 {\n",
       "            background-color:  #cae5d9;\n",
       "            color:  #000000;\n",
       "        }    #T_f8877a1a_af11_11ea_a17b_7071bccb931crow2_col1 {\n",
       "            background-color:  #c8e5d8;\n",
       "            color:  #000000;\n",
       "        }    #T_f8877a1a_af11_11ea_a17b_7071bccb931crow3_col1 {\n",
       "            background-color:  #c7e4d7;\n",
       "            color:  #000000;\n",
       "        }    #T_f8877a1a_af11_11ea_a17b_7071bccb931crow4_col1 {\n",
       "            background-color:  #c0e1d2;\n",
       "            color:  #000000;\n",
       "        }    #T_f8877a1a_af11_11ea_a17b_7071bccb931crow5_col1 {\n",
       "            background-color:  #bddfd0;\n",
       "            color:  #000000;\n",
       "        }    #T_f8877a1a_af11_11ea_a17b_7071bccb931crow6_col1 {\n",
       "            background-color:  #badece;\n",
       "            color:  #000000;\n",
       "        }    #T_f8877a1a_af11_11ea_a17b_7071bccb931crow7_col1 {\n",
       "            background-color:  #b9ddcc;\n",
       "            color:  #000000;\n",
       "        }    #T_f8877a1a_af11_11ea_a17b_7071bccb931crow8_col1 {\n",
       "            background-color:  #b4dbc9;\n",
       "            color:  #000000;\n",
       "        }</style><table id=\"T_f8877a1a_af11_11ea_a17b_7071bccb931c\" ><thead>    <tr>        <th class=\"blank level0\" ></th>        <th class=\"col_heading level0 col0\" >Quarto</th>        <th class=\"col_heading level0 col1\" >Preco</th>    </tr></thead><tbody>\n",
       "                <tr>\n",
       "                        <th id=\"T_f8877a1a_af11_11ea_a17b_7071bccb931clevel0_row0\" class=\"row_heading level0 row0\" >8</th>\n",
       "                        <td id=\"T_f8877a1a_af11_11ea_a17b_7071bccb931crow0_col0\" class=\"data row0 col0\" >I</td>\n",
       "                        <td id=\"T_f8877a1a_af11_11ea_a17b_7071bccb931crow0_col1\" class=\"data row0 col1\" >20.387745</td>\n",
       "            </tr>\n",
       "            <tr>\n",
       "                        <th id=\"T_f8877a1a_af11_11ea_a17b_7071bccb931clevel0_row1\" class=\"row_heading level0 row1\" >3</th>\n",
       "                        <td id=\"T_f8877a1a_af11_11ea_a17b_7071bccb931crow1_col0\" class=\"data row1 col0\" >D</td>\n",
       "                        <td id=\"T_f8877a1a_af11_11ea_a17b_7071bccb931crow1_col1\" class=\"data row1 col1\" >44.567274</td>\n",
       "            </tr>\n",
       "            <tr>\n",
       "                        <th id=\"T_f8877a1a_af11_11ea_a17b_7071bccb931clevel0_row2\" class=\"row_heading level0 row2\" >2</th>\n",
       "                        <td id=\"T_f8877a1a_af11_11ea_a17b_7071bccb931crow2_col0\" class=\"data row2 col0\" >C</td>\n",
       "                        <td id=\"T_f8877a1a_af11_11ea_a17b_7071bccb931crow2_col1\" class=\"data row2 col1\" >45.392404</td>\n",
       "            </tr>\n",
       "            <tr>\n",
       "                        <th id=\"T_f8877a1a_af11_11ea_a17b_7071bccb931clevel0_row3\" class=\"row_heading level0 row3\" >0</th>\n",
       "                        <td id=\"T_f8877a1a_af11_11ea_a17b_7071bccb931crow3_col0\" class=\"data row3 col0\" >A</td>\n",
       "                        <td id=\"T_f8877a1a_af11_11ea_a17b_7071bccb931crow3_col1\" class=\"data row3 col1\" >46.111934</td>\n",
       "            </tr>\n",
       "            <tr>\n",
       "                        <th id=\"T_f8877a1a_af11_11ea_a17b_7071bccb931clevel0_row4\" class=\"row_heading level0 row4\" >7</th>\n",
       "                        <td id=\"T_f8877a1a_af11_11ea_a17b_7071bccb931crow4_col0\" class=\"data row4 col0\" >H</td>\n",
       "                        <td id=\"T_f8877a1a_af11_11ea_a17b_7071bccb931crow4_col1\" class=\"data row4 col1\" >50.723876</td>\n",
       "            </tr>\n",
       "            <tr>\n",
       "                        <th id=\"T_f8877a1a_af11_11ea_a17b_7071bccb931clevel0_row5\" class=\"row_heading level0 row5\" >4</th>\n",
       "                        <td id=\"T_f8877a1a_af11_11ea_a17b_7071bccb931crow5_col0\" class=\"data row5 col0\" >E</td>\n",
       "                        <td id=\"T_f8877a1a_af11_11ea_a17b_7071bccb931crow5_col1\" class=\"data row5 col1\" >53.031747</td>\n",
       "            </tr>\n",
       "            <tr>\n",
       "                        <th id=\"T_f8877a1a_af11_11ea_a17b_7071bccb931clevel0_row6\" class=\"row_heading level0 row6\" >6</th>\n",
       "                        <td id=\"T_f8877a1a_af11_11ea_a17b_7071bccb931crow6_col0\" class=\"data row6 col0\" >G</td>\n",
       "                        <td id=\"T_f8877a1a_af11_11ea_a17b_7071bccb931crow6_col1\" class=\"data row6 col1\" >54.811204</td>\n",
       "            </tr>\n",
       "            <tr>\n",
       "                        <th id=\"T_f8877a1a_af11_11ea_a17b_7071bccb931clevel0_row7\" class=\"row_heading level0 row7\" >1</th>\n",
       "                        <td id=\"T_f8877a1a_af11_11ea_a17b_7071bccb931crow7_col0\" class=\"data row7 col0\" >B</td>\n",
       "                        <td id=\"T_f8877a1a_af11_11ea_a17b_7071bccb931crow7_col1\" class=\"data row7 col1\" >55.923589</td>\n",
       "            </tr>\n",
       "            <tr>\n",
       "                        <th id=\"T_f8877a1a_af11_11ea_a17b_7071bccb931clevel0_row8\" class=\"row_heading level0 row8\" >5</th>\n",
       "                        <td id=\"T_f8877a1a_af11_11ea_a17b_7071bccb931crow8_col0\" class=\"data row8 col0\" >F</td>\n",
       "                        <td id=\"T_f8877a1a_af11_11ea_a17b_7071bccb931crow8_col1\" class=\"data row8 col1\" >59.083839</td>\n",
       "            </tr>\n",
       "    </tbody></table>"
      ],
      "text/plain": [
       "<pandas.io.formats.style.Styler at 0x1c391a90>"
      ]
     },
     "execution_count": 113,
     "metadata": {},
     "output_type": "execute_result"
    }
   ],
   "source": [
    "media_quarto_rh = df['adr_individual'].groupby(rh['assigned_room_type']).mean().reset_index()\n",
    "media_quarto_rh.rename(columns={'assigned_room_type':'Quarto','adr_individual':'Preco'},inplace=True)\n",
    "cor = sns.light_palette(\"#b4dbc9\", as_cmap=True)\n",
    "media_quarto_rh.sort_values(by='Preco').style.background_gradient(cmap=cor)"
   ]
  },
  {
   "cell_type": "markdown",
   "metadata": {
    "hideCode": false,
    "hidePrompt": false
   },
   "source": [
    "Esta listagem mostra o preço médio dos quartos no Resort"
   ]
  },
  {
   "cell_type": "code",
   "execution_count": 115,
   "metadata": {
    "hideCode": false,
    "hidePrompt": false
   },
   "outputs": [
    {
     "data": {
      "text/html": [
       "<style  type=\"text/css\" >\n",
       "    #T_116c8dd2_af12_11ea_9ae3_7071bccb931crow0_col1 {\n",
       "            background-color:  #ecf3f9;\n",
       "            color:  #000000;\n",
       "        }    #T_116c8dd2_af12_11ea_9ae3_7071bccb931crow1_col1 {\n",
       "            background-color:  #cee1ef;\n",
       "            color:  #000000;\n",
       "        }    #T_116c8dd2_af12_11ea_9ae3_7071bccb931crow2_col1 {\n",
       "            background-color:  #c4dbeb;\n",
       "            color:  #000000;\n",
       "        }    #T_116c8dd2_af12_11ea_9ae3_7071bccb931crow3_col1 {\n",
       "            background-color:  #c1d9ea;\n",
       "            color:  #000000;\n",
       "        }    #T_116c8dd2_af12_11ea_9ae3_7071bccb931crow4_col1 {\n",
       "            background-color:  #c1d9ea;\n",
       "            color:  #000000;\n",
       "        }    #T_116c8dd2_af12_11ea_9ae3_7071bccb931crow5_col1 {\n",
       "            background-color:  #c1d9ea;\n",
       "            color:  #000000;\n",
       "        }    #T_116c8dd2_af12_11ea_9ae3_7071bccb931crow6_col1 {\n",
       "            background-color:  #b7d3e7;\n",
       "            color:  #000000;\n",
       "        }    #T_116c8dd2_af12_11ea_9ae3_7071bccb931crow7_col1 {\n",
       "            background-color:  #a5c8e1;\n",
       "            color:  #000000;\n",
       "        }</style><table id=\"T_116c8dd2_af12_11ea_9ae3_7071bccb931c\" ><thead>    <tr>        <th class=\"blank level0\" ></th>        <th class=\"col_heading level0 col0\" >Quarto</th>        <th class=\"col_heading level0 col1\" >Preco</th>    </tr></thead><tbody>\n",
       "                <tr>\n",
       "                        <th id=\"T_116c8dd2_af12_11ea_9ae3_7071bccb931clevel0_row0\" class=\"row_heading level0 row0\" >7</th>\n",
       "                        <td id=\"T_116c8dd2_af12_11ea_9ae3_7071bccb931crow0_col0\" class=\"data row0 col0\" >K</td>\n",
       "                        <td id=\"T_116c8dd2_af12_11ea_9ae3_7071bccb931crow0_col1\" class=\"data row0 col1\" >42.317363</td>\n",
       "            </tr>\n",
       "            <tr>\n",
       "                        <th id=\"T_116c8dd2_af12_11ea_9ae3_7071bccb931clevel0_row1\" class=\"row_heading level0 row1\" >1</th>\n",
       "                        <td id=\"T_116c8dd2_af12_11ea_9ae3_7071bccb931crow1_col0\" class=\"data row1 col0\" >B</td>\n",
       "                        <td id=\"T_116c8dd2_af12_11ea_9ae3_7071bccb931crow1_col1\" class=\"data row1 col1\" >54.204633</td>\n",
       "            </tr>\n",
       "            <tr>\n",
       "                        <th id=\"T_116c8dd2_af12_11ea_9ae3_7071bccb931clevel0_row2\" class=\"row_heading level0 row2\" >5</th>\n",
       "                        <td id=\"T_116c8dd2_af12_11ea_9ae3_7071bccb931crow2_col0\" class=\"data row2 col0\" >F</td>\n",
       "                        <td id=\"T_116c8dd2_af12_11ea_9ae3_7071bccb931crow2_col1\" class=\"data row2 col1\" >57.867544</td>\n",
       "            </tr>\n",
       "            <tr>\n",
       "                        <th id=\"T_116c8dd2_af12_11ea_9ae3_7071bccb931clevel0_row3\" class=\"row_heading level0 row3\" >3</th>\n",
       "                        <td id=\"T_116c8dd2_af12_11ea_9ae3_7071bccb931crow3_col0\" class=\"data row3 col0\" >D</td>\n",
       "                        <td id=\"T_116c8dd2_af12_11ea_9ae3_7071bccb931crow3_col1\" class=\"data row3 col1\" >58.983686</td>\n",
       "            </tr>\n",
       "            <tr>\n",
       "                        <th id=\"T_116c8dd2_af12_11ea_9ae3_7071bccb931clevel0_row4\" class=\"row_heading level0 row4\" >2</th>\n",
       "                        <td id=\"T_116c8dd2_af12_11ea_9ae3_7071bccb931crow4_col0\" class=\"data row4 col0\" >C</td>\n",
       "                        <td id=\"T_116c8dd2_af12_11ea_9ae3_7071bccb931crow4_col1\" class=\"data row4 col1\" >59.102238</td>\n",
       "            </tr>\n",
       "            <tr>\n",
       "                        <th id=\"T_116c8dd2_af12_11ea_9ae3_7071bccb931clevel0_row5\" class=\"row_heading level0 row5\" >0</th>\n",
       "                        <td id=\"T_116c8dd2_af12_11ea_9ae3_7071bccb931crow5_col0\" class=\"data row5 col0\" >A</td>\n",
       "                        <td id=\"T_116c8dd2_af12_11ea_9ae3_7071bccb931crow5_col1\" class=\"data row5 col1\" >59.123993</td>\n",
       "            </tr>\n",
       "            <tr>\n",
       "                        <th id=\"T_116c8dd2_af12_11ea_9ae3_7071bccb931clevel0_row6\" class=\"row_heading level0 row6\" >6</th>\n",
       "                        <td id=\"T_116c8dd2_af12_11ea_9ae3_7071bccb931crow6_col0\" class=\"data row6 col0\" >G</td>\n",
       "                        <td id=\"T_116c8dd2_af12_11ea_9ae3_7071bccb931crow6_col1\" class=\"data row6 col1\" >63.261562</td>\n",
       "            </tr>\n",
       "            <tr>\n",
       "                        <th id=\"T_116c8dd2_af12_11ea_9ae3_7071bccb931clevel0_row7\" class=\"row_heading level0 row7\" >4</th>\n",
       "                        <td id=\"T_116c8dd2_af12_11ea_9ae3_7071bccb931crow7_col0\" class=\"data row7 col0\" >E</td>\n",
       "                        <td id=\"T_116c8dd2_af12_11ea_9ae3_7071bccb931crow7_col1\" class=\"data row7 col1\" >70.166400</td>\n",
       "            </tr>\n",
       "    </tbody></table>"
      ],
      "text/plain": [
       "<pandas.io.formats.style.Styler at 0x1c374d90>"
      ]
     },
     "execution_count": 115,
     "metadata": {},
     "output_type": "execute_result"
    }
   ],
   "source": [
    "media_quarto_ch = df['adr_individual'].groupby(ch['assigned_room_type']).mean().reset_index()\n",
    "media_quarto_ch.rename(columns={'assigned_room_type':'Quarto','adr_individual':'Preco'},inplace=True)\n",
    "cor = sns.light_palette(\"#a5c8e1\", as_cmap=True)\n",
    "media_quarto_ch.sort_values(by='Preco').style.background_gradient(cmap=cor)"
   ]
  },
  {
   "cell_type": "markdown",
   "metadata": {
    "hideCode": false,
    "hidePrompt": false
   },
   "source": [
    "Já nesta outra listagem podemops ver o preço médio dos quartos do hotel"
   ]
  },
  {
   "cell_type": "markdown",
   "metadata": {
    "hideCode": false,
    "hidePrompt": false
   },
   "source": [
    "### Quantos dias que costumam se hospedar nos hoteis? "
   ]
  },
  {
   "cell_type": "code",
   "execution_count": 18,
   "metadata": {
    "hideCode": false,
    "hidePrompt": false,
    "scrolled": true
   },
   "outputs": [],
   "source": [
    "#Método para gerar uma tabela de frequencias\n",
    "def tabela_de_frequencias(ch):\n",
    "    tf = ch.value_counts().sort_index().reset_index()\n",
    "    tf.rename(columns={'index':'dias','dias_hospedados':'fi'},inplace=True)\n",
    "    tf['fri'] = np.round(ch.value_counts() / len(ch) * 100,2)\n",
    "    tf['Fi'] = tf['fi'].cumsum()\n",
    "    tf['Fri'] = np.round((tf['fi'] / len(ch)) * 100,2)\n",
    "    return tf.sort_values(by='fri',ascending=False)\n",
    "\n",
    "#Criando uma coluna somando o dia da semana com os finais de semana\n",
    "rh['dias_hospedados'] = rh['stays_in_week_nights'] + rh['stays_in_weekend_nights']\n",
    "ch['dias_hospedados'] = ch['stays_in_week_nights'] + ch['stays_in_weekend_nights']"
   ]
  },
  {
   "cell_type": "code",
   "execution_count": 106,
   "metadata": {
    "hideCode": false,
    "hidePrompt": false
   },
   "outputs": [
    {
     "data": {
      "image/png": "[encoded data removed]",
      "text/plain": [
       "<Figure size 1008x504 with 1 Axes>"
      ]
     },
     "metadata": {},
     "output_type": "display_data"
    },
    {
     "name": "stdout",
     "output_type": "stream",
     "text": [
      "Neste histograma é possível observar que cerca de 70% dos hospedes costumam ficar hospedados no hotel de 1 a 3 dias, \n",
      "na tabela abaixo temos o percentual de hospedes que costumam ficar hospedados nesses dias.\n"
     ]
    },
    {
     "data": {
      "text/html": [
       "<style  type=\"text/css\" >\n",
       "    #T_f83f2d66_af10_11ea_87dd_7071bccb931crow0_col1 {\n",
       "            background-color:  #a5c8e1;\n",
       "            color:  #000000;\n",
       "        }    #T_f83f2d66_af10_11ea_87dd_7071bccb931crow1_col1 {\n",
       "            background-color:  #aacbe3;\n",
       "            color:  #000000;\n",
       "        }    #T_f83f2d66_af10_11ea_87dd_7071bccb931crow2_col1 {\n",
       "            background-color:  #b5d2e6;\n",
       "            color:  #000000;\n",
       "        }    #T_f83f2d66_af10_11ea_87dd_7071bccb931crow3_col1 {\n",
       "            background-color:  #bed7e9;\n",
       "            color:  #000000;\n",
       "        }    #T_f83f2d66_af10_11ea_87dd_7071bccb931crow4_col1 {\n",
       "            background-color:  #d9e8f2;\n",
       "            color:  #000000;\n",
       "        }    #T_f83f2d66_af10_11ea_87dd_7071bccb931crow5_col1 {\n",
       "            background-color:  #e5eff6;\n",
       "            color:  #000000;\n",
       "        }    #T_f83f2d66_af10_11ea_87dd_7071bccb931crow6_col1 {\n",
       "            background-color:  #e6f0f7;\n",
       "            color:  #000000;\n",
       "        }    #T_f83f2d66_af10_11ea_87dd_7071bccb931crow7_col1 {\n",
       "            background-color:  #ebf3f8;\n",
       "            color:  #000000;\n",
       "        }    #T_f83f2d66_af10_11ea_87dd_7071bccb931crow8_col1 {\n",
       "            background-color:  #ecf3f9;\n",
       "            color:  #000000;\n",
       "        }    #T_f83f2d66_af10_11ea_87dd_7071bccb931crow9_col1 {\n",
       "            background-color:  #ecf3f9;\n",
       "            color:  #000000;\n",
       "        }</style><table id=\"T_f83f2d66_af10_11ea_87dd_7071bccb931c\" ><thead>    <tr>        <th class=\"blank level0\" ></th>        <th class=\"col_heading level0 col0\" >Dias</th>        <th class=\"col_heading level0 col1\" >%</th>    </tr></thead><tbody>\n",
       "                <tr>\n",
       "                        <th id=\"T_f83f2d66_af10_11ea_87dd_7071bccb931clevel0_row0\" class=\"row_heading level0 row0\" >3</th>\n",
       "                        <td id=\"T_f83f2d66_af10_11ea_87dd_7071bccb931crow0_col0\" class=\"data row0 col0\" >3</td>\n",
       "                        <td id=\"T_f83f2d66_af10_11ea_87dd_7071bccb931crow0_col1\" class=\"data row0 col1\" >25.800000</td>\n",
       "            </tr>\n",
       "            <tr>\n",
       "                        <th id=\"T_f83f2d66_af10_11ea_87dd_7071bccb931clevel0_row1\" class=\"row_heading level0 row1\" >2</th>\n",
       "                        <td id=\"T_f83f2d66_af10_11ea_87dd_7071bccb931crow1_col0\" class=\"data row1 col0\" >2</td>\n",
       "                        <td id=\"T_f83f2d66_af10_11ea_87dd_7071bccb931crow1_col1\" class=\"data row1 col1\" >23.830000</td>\n",
       "            </tr>\n",
       "            <tr>\n",
       "                        <th id=\"T_f83f2d66_af10_11ea_87dd_7071bccb931clevel0_row2\" class=\"row_heading level0 row2\" >1</th>\n",
       "                        <td id=\"T_f83f2d66_af10_11ea_87dd_7071bccb931crow2_col0\" class=\"data row2 col0\" >1</td>\n",
       "                        <td id=\"T_f83f2d66_af10_11ea_87dd_7071bccb931crow2_col1\" class=\"data row2 col1\" >19.870000</td>\n",
       "            </tr>\n",
       "            <tr>\n",
       "                        <th id=\"T_f83f2d66_af10_11ea_87dd_7071bccb931clevel0_row3\" class=\"row_heading level0 row3\" >4</th>\n",
       "                        <td id=\"T_f83f2d66_af10_11ea_87dd_7071bccb931crow3_col0\" class=\"data row3 col0\" >4</td>\n",
       "                        <td id=\"T_f83f2d66_af10_11ea_87dd_7071bccb931crow3_col1\" class=\"data row3 col1\" >16.700000</td>\n",
       "            </tr>\n",
       "            <tr>\n",
       "                        <th id=\"T_f83f2d66_af10_11ea_87dd_7071bccb931clevel0_row4\" class=\"row_heading level0 row4\" >5</th>\n",
       "                        <td id=\"T_f83f2d66_af10_11ea_87dd_7071bccb931crow4_col0\" class=\"data row4 col0\" >5</td>\n",
       "                        <td id=\"T_f83f2d66_af10_11ea_87dd_7071bccb931crow4_col1\" class=\"data row4 col1\" >6.970000</td>\n",
       "            </tr>\n",
       "            <tr>\n",
       "                        <th id=\"T_f83f2d66_af10_11ea_87dd_7071bccb931clevel0_row5\" class=\"row_heading level0 row5\" >7</th>\n",
       "                        <td id=\"T_f83f2d66_af10_11ea_87dd_7071bccb931crow5_col0\" class=\"data row5 col0\" >7</td>\n",
       "                        <td id=\"T_f83f2d66_af10_11ea_87dd_7071bccb931crow5_col1\" class=\"data row5 col1\" >2.700000</td>\n",
       "            </tr>\n",
       "            <tr>\n",
       "                        <th id=\"T_f83f2d66_af10_11ea_87dd_7071bccb931clevel0_row6\" class=\"row_heading level0 row6\" >6</th>\n",
       "                        <td id=\"T_f83f2d66_af10_11ea_87dd_7071bccb931crow6_col0\" class=\"data row6 col0\" >6</td>\n",
       "                        <td id=\"T_f83f2d66_af10_11ea_87dd_7071bccb931crow6_col1\" class=\"data row6 col1\" >2.410000</td>\n",
       "            </tr>\n",
       "            <tr>\n",
       "                        <th id=\"T_f83f2d66_af10_11ea_87dd_7071bccb931clevel0_row7\" class=\"row_heading level0 row7\" >0</th>\n",
       "                        <td id=\"T_f83f2d66_af10_11ea_87dd_7071bccb931crow7_col0\" class=\"data row7 col0\" >0</td>\n",
       "                        <td id=\"T_f83f2d66_af10_11ea_87dd_7071bccb931crow7_col1\" class=\"data row7 col1\" >0.540000</td>\n",
       "            </tr>\n",
       "            <tr>\n",
       "                        <th id=\"T_f83f2d66_af10_11ea_87dd_7071bccb931clevel0_row8\" class=\"row_heading level0 row8\" >8</th>\n",
       "                        <td id=\"T_f83f2d66_af10_11ea_87dd_7071bccb931crow8_col0\" class=\"data row8 col0\" >8</td>\n",
       "                        <td id=\"T_f83f2d66_af10_11ea_87dd_7071bccb931crow8_col1\" class=\"data row8 col1\" >0.440000</td>\n",
       "            </tr>\n",
       "            <tr>\n",
       "                        <th id=\"T_f83f2d66_af10_11ea_87dd_7071bccb931clevel0_row9\" class=\"row_heading level0 row9\" >9</th>\n",
       "                        <td id=\"T_f83f2d66_af10_11ea_87dd_7071bccb931crow9_col0\" class=\"data row9 col0\" >9</td>\n",
       "                        <td id=\"T_f83f2d66_af10_11ea_87dd_7071bccb931crow9_col1\" class=\"data row9 col1\" >0.260000</td>\n",
       "            </tr>\n",
       "    </tbody></table>"
      ],
      "text/plain": [
       "<pandas.io.formats.style.Styler at 0x1c0e5c50>"
      ]
     },
     "execution_count": 106,
     "metadata": {},
     "output_type": "execute_result"
    }
   ],
   "source": [
    "#City Hotel \n",
    "plt.figure(figsize=(14,7))\n",
    "sns.distplot(ch['dias_hospedados'],bins=50,kde=False)\n",
    "plt.title(\"Quantidade de dias que as pessoas costumam se hospedar\",fontsize=16)\n",
    "plt.xlabel('Dias hospedados',fontsize=16)\n",
    "plt.xlim(0,25)\n",
    "plt.show()\n",
    "\n",
    "print('Neste histograma é possível observar que cerca de 70% dos hospedes costumam ficar hospedados no hotel de 1 a 3 dias,',\n",
    "     '\\nna tabela abaixo temos o percentual de hospedes que costumam ficar hospedados nesses dias.')\n",
    "cor = sns.light_palette(\"#a5c8e1\", as_cmap=True)\n",
    "tabela_de_frequencias_city_hotel = tabela_de_frequencias(ch['dias_hospedados'])\n",
    "tabela_de_frequencias_city_hotel[['dias','fri']].head(10).rename(columns={'dias':'Dias','fri':'%'}).style.background_gradient(subset='%',cmap=cor)"
   ]
  },
  {
   "cell_type": "code",
   "execution_count": 107,
   "metadata": {
    "hideCode": false,
    "hidePrompt": false
   },
   "outputs": [
    {
     "data": {
      "image/png": "[encoded data removed]",
      "text/plain": [
       "<Figure size 1008x504 with 1 Axes>"
      ]
     },
     "metadata": {},
     "output_type": "display_data"
    },
    {
     "name": "stdout",
     "output_type": "stream",
     "text": [
      "No Resort 51% dos visitantes ficam hospedados de 1 a 3 dias, e 15% dos hospedes costumam se hospedar por uma semana \n",
      "Abaixo também é possível observar a tabela com o percentual de dias que os visitantes costumam se hospedar.\n"
     ]
    },
    {
     "data": {
      "text/html": [
       "<style  type=\"text/css\" >\n",
       "    #T_2e55b076_af11_11ea_b8aa_7071bccb931crow0_col1 {\n",
       "            background-color:  #b4dbc9;\n",
       "            color:  #000000;\n",
       "        }    #T_2e55b076_af11_11ea_b8aa_7071bccb931crow1_col1 {\n",
       "            background-color:  #c8e5d7;\n",
       "            color:  #000000;\n",
       "        }    #T_2e55b076_af11_11ea_b8aa_7071bccb931crow2_col1 {\n",
       "            background-color:  #c8e5d8;\n",
       "            color:  #000000;\n",
       "        }    #T_2e55b076_af11_11ea_b8aa_7071bccb931crow3_col1 {\n",
       "            background-color:  #cee8dc;\n",
       "            color:  #000000;\n",
       "        }    #T_2e55b076_af11_11ea_b8aa_7071bccb931crow4_col1 {\n",
       "            background-color:  #d3eadf;\n",
       "            color:  #000000;\n",
       "        }    #T_2e55b076_af11_11ea_b8aa_7071bccb931crow5_col1 {\n",
       "            background-color:  #e1f0e9;\n",
       "            color:  #000000;\n",
       "        }    #T_2e55b076_af11_11ea_b8aa_7071bccb931crow6_col1 {\n",
       "            background-color:  #e7f4ee;\n",
       "            color:  #000000;\n",
       "        }    #T_2e55b076_af11_11ea_b8aa_7071bccb931crow7_col1 {\n",
       "            background-color:  #ecf6f1;\n",
       "            color:  #000000;\n",
       "        }    #T_2e55b076_af11_11ea_b8aa_7071bccb931crow8_col1 {\n",
       "            background-color:  #edf6f2;\n",
       "            color:  #000000;\n",
       "        }    #T_2e55b076_af11_11ea_b8aa_7071bccb931crow9_col1 {\n",
       "            background-color:  #eef7f3;\n",
       "            color:  #000000;\n",
       "        }</style><table id=\"T_2e55b076_af11_11ea_b8aa_7071bccb931c\" ><thead>    <tr>        <th class=\"blank level0\" ></th>        <th class=\"col_heading level0 col0\" >Dias</th>        <th class=\"col_heading level0 col1\" >%</th>    </tr></thead><tbody>\n",
       "                <tr>\n",
       "                        <th id=\"T_2e55b076_af11_11ea_b8aa_7071bccb931clevel0_row0\" class=\"row_heading level0 row0\" >1</th>\n",
       "                        <td id=\"T_2e55b076_af11_11ea_b8aa_7071bccb931crow0_col0\" class=\"data row0 col0\" >1</td>\n",
       "                        <td id=\"T_2e55b076_af11_11ea_b8aa_7071bccb931crow0_col1\" class=\"data row0 col1\" >22.740000</td>\n",
       "            </tr>\n",
       "            <tr>\n",
       "                        <th id=\"T_2e55b076_af11_11ea_b8aa_7071bccb931clevel0_row1\" class=\"row_heading level0 row1\" >2</th>\n",
       "                        <td id=\"T_2e55b076_af11_11ea_b8aa_7071bccb931crow1_col0\" class=\"data row1 col0\" >2</td>\n",
       "                        <td id=\"T_2e55b076_af11_11ea_b8aa_7071bccb931crow1_col1\" class=\"data row1 col1\" >15.510000</td>\n",
       "            </tr>\n",
       "            <tr>\n",
       "                        <th id=\"T_2e55b076_af11_11ea_b8aa_7071bccb931clevel0_row2\" class=\"row_heading level0 row2\" >7</th>\n",
       "                        <td id=\"T_2e55b076_af11_11ea_b8aa_7071bccb931crow2_col0\" class=\"data row2 col0\" >7</td>\n",
       "                        <td id=\"T_2e55b076_af11_11ea_b8aa_7071bccb931crow2_col1\" class=\"data row2 col1\" >15.330000</td>\n",
       "            </tr>\n",
       "            <tr>\n",
       "                        <th id=\"T_2e55b076_af11_11ea_b8aa_7071bccb931clevel0_row3\" class=\"row_heading level0 row3\" >3</th>\n",
       "                        <td id=\"T_2e55b076_af11_11ea_b8aa_7071bccb931crow3_col0\" class=\"data row3 col0\" >3</td>\n",
       "                        <td id=\"T_2e55b076_af11_11ea_b8aa_7071bccb931crow3_col1\" class=\"data row3 col1\" >13.230000</td>\n",
       "            </tr>\n",
       "            <tr>\n",
       "                        <th id=\"T_2e55b076_af11_11ea_b8aa_7071bccb931clevel0_row4\" class=\"row_heading level0 row4\" >4</th>\n",
       "                        <td id=\"T_2e55b076_af11_11ea_b8aa_7071bccb931crow4_col0\" class=\"data row4 col0\" >4</td>\n",
       "                        <td id=\"T_2e55b076_af11_11ea_b8aa_7071bccb931crow4_col1\" class=\"data row4 col1\" >11.480000</td>\n",
       "            </tr>\n",
       "            <tr>\n",
       "                        <th id=\"T_2e55b076_af11_11ea_b8aa_7071bccb931clevel0_row5\" class=\"row_heading level0 row5\" >5</th>\n",
       "                        <td id=\"T_2e55b076_af11_11ea_b8aa_7071bccb931crow5_col0\" class=\"data row5 col0\" >5</td>\n",
       "                        <td id=\"T_2e55b076_af11_11ea_b8aa_7071bccb931crow5_col1\" class=\"data row5 col1\" >6.560000</td>\n",
       "            </tr>\n",
       "            <tr>\n",
       "                        <th id=\"T_2e55b076_af11_11ea_b8aa_7071bccb931clevel0_row6\" class=\"row_heading level0 row6\" >6</th>\n",
       "                        <td id=\"T_2e55b076_af11_11ea_b8aa_7071bccb931crow6_col0\" class=\"data row6 col0\" >6</td>\n",
       "                        <td id=\"T_2e55b076_af11_11ea_b8aa_7071bccb931crow6_col1\" class=\"data row6 col1\" >4.170000</td>\n",
       "            </tr>\n",
       "            <tr>\n",
       "                        <th id=\"T_2e55b076_af11_11ea_b8aa_7071bccb931clevel0_row7\" class=\"row_heading level0 row7\" >10</th>\n",
       "                        <td id=\"T_2e55b076_af11_11ea_b8aa_7071bccb931crow7_col0\" class=\"data row7 col0\" >10</td>\n",
       "                        <td id=\"T_2e55b076_af11_11ea_b8aa_7071bccb931crow7_col1\" class=\"data row7 col1\" >2.420000</td>\n",
       "            </tr>\n",
       "            <tr>\n",
       "                        <th id=\"T_2e55b076_af11_11ea_b8aa_7071bccb931clevel0_row8\" class=\"row_heading level0 row8\" >14</th>\n",
       "                        <td id=\"T_2e55b076_af11_11ea_b8aa_7071bccb931crow8_col0\" class=\"data row8 col0\" >14</td>\n",
       "                        <td id=\"T_2e55b076_af11_11ea_b8aa_7071bccb931crow8_col1\" class=\"data row8 col1\" >2.180000</td>\n",
       "            </tr>\n",
       "            <tr>\n",
       "                        <th id=\"T_2e55b076_af11_11ea_b8aa_7071bccb931clevel0_row9\" class=\"row_heading level0 row9\" >8</th>\n",
       "                        <td id=\"T_2e55b076_af11_11ea_b8aa_7071bccb931crow9_col0\" class=\"data row9 col0\" >8</td>\n",
       "                        <td id=\"T_2e55b076_af11_11ea_b8aa_7071bccb931crow9_col1\" class=\"data row9 col1\" >1.760000</td>\n",
       "            </tr>\n",
       "    </tbody></table>"
      ],
      "text/plain": [
       "<pandas.io.formats.style.Styler at 0x1c389d50>"
      ]
     },
     "execution_count": 107,
     "metadata": {},
     "output_type": "execute_result"
    }
   ],
   "source": [
    "#resort Hotel \n",
    "plt.figure(figsize=(14,7))\n",
    "sns.distplot(rh['dias_hospedados'],bins=70,kde=False,color='#45a778')\n",
    "plt.title(\"Quantidade de dias que as pessoas costumam se hospedar\",fontsize=16)\n",
    "plt.xlabel('Dias hospedados',fontsize=16)\n",
    "plt.xlim(0,25)\n",
    "plt.show()\n",
    "\n",
    "print('No Resort 51% dos visitantes ficam hospedados de 1 a 3 dias, e 15% dos hospedes costumam se hospedar por uma semana',\n",
    "     '\\nAbaixo também é possível observar a tabela com o percentual de dias que os visitantes costumam se hospedar.')\n",
    "cor = sns.light_palette(\"#b4dbc9\", as_cmap=True)\n",
    "tabela_de_frequencias_resort_hotel = tabela_de_frequencias(rh['dias_hospedados'])\n",
    "tabela_de_frequencias_resort_hotel[['dias','fri']].head(10).rename(columns={'dias':'Dias','fri':'%'}).style.background_gradient(subset='%',cmap=cor)"
   ]
  },
  {
   "cell_type": "markdown",
   "metadata": {},
   "source": [
    "### De onde vêm a maior parte dos visitantes?"
   ]
  },
  {
   "cell_type": "code",
   "execution_count": 21,
   "metadata": {},
   "outputs": [],
   "source": [
    "#Método para retornar uma serie com o nome dos países\n",
    "def set_pais(col):\n",
    "    listagem = []\n",
    "    for i in range(len(col)):\n",
    "        try:\n",
    "            var = pc.countries.get(alpha_3=col.iloc[i]).name\n",
    "            listagem.append(var)\n",
    "        except:\n",
    "            listagem.append('Desconhecido')\n",
    "    return pd.Series(listagem)"
   ]
  },
  {
   "cell_type": "code",
   "execution_count": 22,
   "metadata": {},
   "outputs": [
    {
     "data": {
      "text/html": [
       "<div>\n",
       "<style scoped>\n",
       "    .dataframe tbody tr th:only-of-type {\n",
       "        vertical-align: middle;\n",
       "    }\n",
       "\n",
       "    .dataframe tbody tr th {\n",
       "        vertical-align: top;\n",
       "    }\n",
       "\n",
       "    .dataframe thead th {\n",
       "        text-align: right;\n",
       "    }\n",
       "</style>\n",
       "<table border=\"1\" class=\"dataframe\">\n",
       "  <thead>\n",
       "    <tr style=\"text-align: right;\">\n",
       "      <th></th>\n",
       "      <th>País</th>\n",
       "      <th>visitantes</th>\n",
       "      <th>percentual</th>\n",
       "      <th>Nome</th>\n",
       "    </tr>\n",
       "  </thead>\n",
       "  <tbody>\n",
       "    <tr>\n",
       "      <th>0</th>\n",
       "      <td>PRT</td>\n",
       "      <td>48483</td>\n",
       "      <td>40.67</td>\n",
       "      <td>Portugal</td>\n",
       "    </tr>\n",
       "    <tr>\n",
       "      <th>1</th>\n",
       "      <td>GBR</td>\n",
       "      <td>12120</td>\n",
       "      <td>10.17</td>\n",
       "      <td>United Kingdom</td>\n",
       "    </tr>\n",
       "    <tr>\n",
       "      <th>2</th>\n",
       "      <td>FRA</td>\n",
       "      <td>10401</td>\n",
       "      <td>8.72</td>\n",
       "      <td>France</td>\n",
       "    </tr>\n",
       "    <tr>\n",
       "      <th>3</th>\n",
       "      <td>ESP</td>\n",
       "      <td>8560</td>\n",
       "      <td>7.18</td>\n",
       "      <td>Spain</td>\n",
       "    </tr>\n",
       "    <tr>\n",
       "      <th>4</th>\n",
       "      <td>DEU</td>\n",
       "      <td>7285</td>\n",
       "      <td>6.11</td>\n",
       "      <td>Germany</td>\n",
       "    </tr>\n",
       "    <tr>\n",
       "      <th>5</th>\n",
       "      <td>ITA</td>\n",
       "      <td>3761</td>\n",
       "      <td>3.15</td>\n",
       "      <td>Italy</td>\n",
       "    </tr>\n",
       "    <tr>\n",
       "      <th>6</th>\n",
       "      <td>IRL</td>\n",
       "      <td>3374</td>\n",
       "      <td>2.83</td>\n",
       "      <td>Ireland</td>\n",
       "    </tr>\n",
       "    <tr>\n",
       "      <th>7</th>\n",
       "      <td>BEL</td>\n",
       "      <td>2342</td>\n",
       "      <td>1.96</td>\n",
       "      <td>Belgium</td>\n",
       "    </tr>\n",
       "    <tr>\n",
       "      <th>8</th>\n",
       "      <td>BRA</td>\n",
       "      <td>2222</td>\n",
       "      <td>1.86</td>\n",
       "      <td>Brazil</td>\n",
       "    </tr>\n",
       "    <tr>\n",
       "      <th>9</th>\n",
       "      <td>NLD</td>\n",
       "      <td>2103</td>\n",
       "      <td>1.76</td>\n",
       "      <td>Netherlands</td>\n",
       "    </tr>\n",
       "  </tbody>\n",
       "</table>\n",
       "</div>"
      ],
      "text/plain": [
       "  País  visitantes  percentual            Nome\n",
       "0  PRT       48483       40.67        Portugal\n",
       "1  GBR       12120       10.17  United Kingdom\n",
       "2  FRA       10401        8.72          France\n",
       "3  ESP        8560        7.18           Spain\n",
       "4  DEU        7285        6.11         Germany\n",
       "5  ITA        3761        3.15           Italy\n",
       "6  IRL        3374        2.83         Ireland\n",
       "7  BEL        2342        1.96         Belgium\n",
       "8  BRA        2222        1.86          Brazil\n",
       "9  NLD        2103        1.76     Netherlands"
      ]
     },
     "execution_count": 22,
     "metadata": {},
     "output_type": "execute_result"
    }
   ],
   "source": [
    "paises = df['country'].value_counts()\n",
    "paises = paises.reset_index()\n",
    "paises.rename(columns={'index':'País','country':'visitantes'},inplace=True)\n",
    "\n",
    "paises['percentual'] = np.round((paises['visitantes'] / paises['visitantes'].sum()) * 100,2)\n",
    "paises['Nome'] = set_pais(paises['País'])\n",
    "\n",
    "paises.head(10)"
   ]
  },
  {
   "cell_type": "markdown",
   "metadata": {},
   "source": [
    "A maior parte das reservas vêm dos países europeus vizinhos de Portugal. 40% das reservas são feitas por Portugueses."
   ]
  },
  {
   "cell_type": "code",
   "execution_count": 23,
   "metadata": {
    "scrolled": false
   },
   "outputs": [],
   "source": [
    "#px.scatter_geo(paises, locations=\"País\",locationmode='ISO-3', color=\"País\",hover_name=\"País\", size=\"visitantes\",title=\"<b>Países de onde vem a maior parte dos Visitantes</b>\").show()"
   ]
  },
  {
   "cell_type": "markdown",
   "metadata": {},
   "source": [
    "<img src=\"map.png\">"
   ]
  },
  {
   "cell_type": "markdown",
   "metadata": {},
   "source": [
    "#### Correlação entre os dados"
   ]
  },
  {
   "cell_type": "code",
   "execution_count": 24,
   "metadata": {
    "scrolled": false
   },
   "outputs": [
    {
     "data": {
      "image/png": "[encoded data removed]",
      "text/plain": [
       "<Figure size 1080x576 with 2 Axes>"
      ]
     },
     "metadata": {},
     "output_type": "display_data"
    }
   ],
   "source": [
    "plt.figure(figsize=(15,8))\n",
    "sns.heatmap(df.corr(),annot=True)\n",
    "plt.show()"
   ]
  },
  {
   "cell_type": "code",
   "execution_count": 25,
   "metadata": {},
   "outputs": [],
   "source": [
    "quant = df[['is_canceled','lead_time','company','days_in_waiting_list','adr','adults','booking_changes']]\n",
    "#sns.pairplot(quant,hue='is_canceled')"
   ]
  },
  {
   "cell_type": "code",
   "execution_count": 26,
   "metadata": {},
   "outputs": [
    {
     "data": {
      "text/plain": [
       "<seaborn.axisgrid.JointGrid at 0x1273bbf0>"
      ]
     },
     "execution_count": 26,
     "metadata": {},
     "output_type": "execute_result"
    },
    {
     "data": {
      "image/png": "[encoded data removed]",
      "text/plain": [
       "<Figure size 432x432 with 3 Axes>"
      ]
     },
     "metadata": {},
     "output_type": "display_data"
    }
   ],
   "source": [
    "sns.jointplot(x='lead_time',y='booking_changes',data=df,kind='scatter')"
   ]
  },
  {
   "cell_type": "markdown",
   "metadata": {},
   "source": [
    "# Algoritmos"
   ]
  },
  {
   "cell_type": "code",
   "execution_count": 27,
   "metadata": {},
   "outputs": [],
   "source": [
    "from sklearn.model_selection import train_test_split\n",
    "from sklearn.metrics import classification_report,confusion_matrix"
   ]
  },
  {
   "cell_type": "markdown",
   "metadata": {},
   "source": [
    "##### Regressão Logistica"
   ]
  },
  {
   "cell_type": "code",
   "execution_count": 28,
   "metadata": {},
   "outputs": [],
   "source": [
    "from sklearn.linear_model import LogisticRegression"
   ]
  },
  {
   "cell_type": "code",
   "execution_count": 29,
   "metadata": {},
   "outputs": [],
   "source": [
    "x=df[['lead_time','arrival_date_year','arrival_date_week_number', \n",
    "'arrival_date_day_of_month','stays_in_weekend_nights','stays_in_week_nights',\n",
    "'adults','babies','is_repeated_guest','previous_cancellations','previous_bookings_not_canceled',\n",
    "'booking_changes','agent','company','days_in_waiting_list','adr','required_car_parking_spaces',\n",
    "'total_of_special_requests']]\n",
    "y=df['is_canceled']"
   ]
  },
  {
   "cell_type": "code",
   "execution_count": 30,
   "metadata": {},
   "outputs": [],
   "source": [
    "x_train, x_test, y_train, y_test = train_test_split(x, y, test_size=0.33, random_state=42)"
   ]
  },
  {
   "cell_type": "code",
   "execution_count": 31,
   "metadata": {},
   "outputs": [
    {
     "data": {
      "text/plain": [
       "'logmodel = LogisticRegression()\\nlogmodel.fit(x_train,y_train)'"
      ]
     },
     "execution_count": 31,
     "metadata": {},
     "output_type": "execute_result"
    }
   ],
   "source": [
    "'''logmodel = LogisticRegression()\n",
    "logmodel.fit(x_train,y_train)'''"
   ]
  },
  {
   "cell_type": "code",
   "execution_count": 69,
   "metadata": {},
   "outputs": [
    {
     "data": {
      "text/plain": [
       "'predictions = logmodel.predict(x_test)'"
      ]
     },
     "execution_count": 69,
     "metadata": {},
     "output_type": "execute_result"
    }
   ],
   "source": [
    "'''predictions = logmodel.predict(x_test)'''"
   ]
  },
  {
   "cell_type": "code",
   "execution_count": null,
   "metadata": {},
   "outputs": [],
   "source": [
    "'''print(classification_report(y_test,predictions))"
   ]
  },
  {
   "cell_type": "markdown",
   "metadata": {},
   "source": [
    "##### KNN"
   ]
  },
  {
   "cell_type": "code",
   "execution_count": null,
   "metadata": {},
   "outputs": [],
   "source": [
    "from sklearn.neighbors import KNeighborsClassifier"
   ]
  },
  {
   "cell_type": "code",
   "execution_count": null,
   "metadata": {},
   "outputs": [],
   "source": [
    "'''knn = KNeighborsClassifier(n_neighbors=20)"
   ]
  },
  {
   "cell_type": "code",
   "execution_count": null,
   "metadata": {},
   "outputs": [],
   "source": [
    "'''inicio = time.time()\n",
    "knn.fit(x_train,y_train)\n",
    "fim = time.time()\n",
    "print(fim - inicio)'''"
   ]
  },
  {
   "cell_type": "code",
   "execution_count": null,
   "metadata": {},
   "outputs": [],
   "source": [
    "'''inicio = time.time()\n",
    "pred = knn.predict(x_test)\n",
    "fim = time.time()\n",
    "print(fim - inicio)'''"
   ]
  },
  {
   "cell_type": "code",
   "execution_count": null,
   "metadata": {},
   "outputs": [],
   "source": [
    "'''print(confusion_matrix(y_test,pred))"
   ]
  },
  {
   "cell_type": "code",
   "execution_count": null,
   "metadata": {},
   "outputs": [],
   "source": [
    "'''print(classification_report(y_test,pred))"
   ]
  },
  {
   "cell_type": "code",
   "execution_count": null,
   "metadata": {
    "scrolled": true
   },
   "outputs": [],
   "source": [
    "'''error_rate = []\n",
    "inicio = time.time()\n",
    "# Will take some time\n",
    "for i in range(1,40):\n",
    "    print('\\n',i)\n",
    "    inicio_loop = time.time()\n",
    "    knn = KNeighborsClassifier(n_neighbors=i)\n",
    "    print('KNN pass')\n",
    "    knn.fit(x_train,y_train)\n",
    "    print('FIT pass')\n",
    "    pred_i = knn.predict(x_test)\n",
    "    print('Predict pass')\n",
    "    error_rate.append(np.mean(pred_i != y_test))\n",
    "    fim_loop = time.time()\n",
    "    print('Tempo tempo da n volta ',fim_loop - inicio_loop)\n",
    "    \n",
    "fim = time.time()\n",
    "print('Tempo total ',fim - inicio)'''"
   ]
  },
  {
   "cell_type": "code",
   "execution_count": null,
   "metadata": {},
   "outputs": [],
   "source": [
    "'''plt.figure(figsize=(10,6))\n",
    "plt.plot(range(1,40),error_rate,color='blue', linestyle='dashed', marker='o',\n",
    "         markerfacecolor='red', markersize=10)\n",
    "plt.title('Error Rate vs. K Value')\n",
    "plt.xlabel('K')\n",
    "plt.ylabel('Error Rate')'''"
   ]
  },
  {
   "cell_type": "code",
   "execution_count": null,
   "metadata": {},
   "outputs": [],
   "source": [
    "'''# NOW WITH K=30\n",
    "knn = KNeighborsClassifier(n_neighbors=2)\n",
    "\n",
    "knn.fit(x_train,y_train)\n",
    "pred = knn.predict(x_test)\n",
    "\n",
    "print('WITH K=30')\n",
    "print('\\n')\n",
    "print(confusion_matrix(y_test,pred))\n",
    "print('\\n')\n",
    "print(classification_report(y_test,pred))'''"
   ]
  },
  {
   "cell_type": "markdown",
   "metadata": {},
   "source": [
    "##### SVM"
   ]
  },
  {
   "cell_type": "code",
   "execution_count": null,
   "metadata": {},
   "outputs": [],
   "source": [
    "from sklearn.svm import SVC"
   ]
  },
  {
   "cell_type": "code",
   "execution_count": null,
   "metadata": {},
   "outputs": [],
   "source": [
    "'''svclassifier = SVC(kernel='rbf')'''"
   ]
  },
  {
   "cell_type": "code",
   "execution_count": null,
   "metadata": {
    "scrolled": true
   },
   "outputs": [],
   "source": [
    "'''svclassifier.fit(x_train, y_train)'''"
   ]
  },
  {
   "cell_type": "code",
   "execution_count": null,
   "metadata": {},
   "outputs": [],
   "source": [
    "'''y_pred = svclassifier.predict(x_test)'''"
   ]
  },
  {
   "cell_type": "code",
   "execution_count": null,
   "metadata": {},
   "outputs": [],
   "source": [
    "'''print(confusion_matrix(y_test,y_pred))\n",
    "print(classification_report(y_test,y_pred))'''"
   ]
  },
  {
   "cell_type": "markdown",
   "metadata": {},
   "source": [
    "https://www.kaggle.com/vssseel/eda-various-ml-models-and-nn-with-roc-curves"
   ]
  },
  {
   "cell_type": "markdown",
   "metadata": {},
   "source": [
    "### Criar graficos\n",
    "mostrando os meses onde há a maior quantidade de cancelamentos"
   ]
  },
  {
   "cell_type": "code",
   "execution_count": 67,
   "metadata": {},
   "outputs": [],
   "source": [
    "rh2 = df.loc[df['hotel'] == 'Resort Hotel']\n",
    "rh2 = rh2['is_canceled'].groupby(rh2['arrival_date_month']).value_counts()\n",
    "ch2 = df.loc[df['hotel'] == 'City Hotel']\n",
    "ch2 = ch2['is_canceled'].groupby(ch2['arrival_date_month']).value_counts()"
   ]
  },
  {
   "cell_type": "code",
   "execution_count": 97,
   "metadata": {
    "scrolled": false
   },
   "outputs": [
    {
     "data": {
      "text/html": [
       "<style  type=\"text/css\" >\n",
       "    #T_3348637a_af0f_11ea_a94a_7071bccb931crow0_col2 {\n",
       "            background-color:  #63a8d3;\n",
       "            color:  #000000;\n",
       "        }    #T_3348637a_af0f_11ea_a94a_7071bccb931crow1_col2 {\n",
       "            background-color:  #f7fbff;\n",
       "            color:  #000000;\n",
       "        }    #T_3348637a_af0f_11ea_a94a_7071bccb931crow2_col2 {\n",
       "            background-color:  #3484bf;\n",
       "            color:  #000000;\n",
       "        }    #T_3348637a_af0f_11ea_a94a_7071bccb931crow3_col2 {\n",
       "            background-color:  #d8e7f5;\n",
       "            color:  #000000;\n",
       "        }    #T_3348637a_af0f_11ea_a94a_7071bccb931crow4_col2 {\n",
       "            background-color:  #1d6cb1;\n",
       "            color:  #f1f1f1;\n",
       "        }    #T_3348637a_af0f_11ea_a94a_7071bccb931crow5_col2 {\n",
       "            background-color:  #d9e8f5;\n",
       "            color:  #000000;\n",
       "        }    #T_3348637a_af0f_11ea_a94a_7071bccb931crow6_col2 {\n",
       "            background-color:  #1f6eb3;\n",
       "            color:  #f1f1f1;\n",
       "        }    #T_3348637a_af0f_11ea_a94a_7071bccb931crow7_col2 {\n",
       "            background-color:  #c6dbef;\n",
       "            color:  #000000;\n",
       "        }    #T_3348637a_af0f_11ea_a94a_7071bccb931crow8_col2 {\n",
       "            background-color:  #2070b4;\n",
       "            color:  #f1f1f1;\n",
       "        }    #T_3348637a_af0f_11ea_a94a_7071bccb931crow9_col2 {\n",
       "            background-color:  #c8dcf0;\n",
       "            color:  #000000;\n",
       "        }    #T_3348637a_af0f_11ea_a94a_7071bccb931crow10_col2 {\n",
       "            background-color:  #4f9bcb;\n",
       "            color:  #000000;\n",
       "        }    #T_3348637a_af0f_11ea_a94a_7071bccb931crow11_col2 {\n",
       "            background-color:  #caddf0;\n",
       "            color:  #000000;\n",
       "        }    #T_3348637a_af0f_11ea_a94a_7071bccb931crow12_col2 {\n",
       "            background-color:  #083a7a;\n",
       "            color:  #f1f1f1;\n",
       "        }    #T_3348637a_af0f_11ea_a94a_7071bccb931crow13_col2 {\n",
       "            background-color:  #9cc9e1;\n",
       "            color:  #000000;\n",
       "        }    #T_3348637a_af0f_11ea_a94a_7071bccb931crow14_col2 {\n",
       "            background-color:  #08306b;\n",
       "            color:  #f1f1f1;\n",
       "        }    #T_3348637a_af0f_11ea_a94a_7071bccb931crow15_col2 {\n",
       "            background-color:  #81badb;\n",
       "            color:  #000000;\n",
       "        }    #T_3348637a_af0f_11ea_a94a_7071bccb931crow16_col2 {\n",
       "            background-color:  #4896c8;\n",
       "            color:  #000000;\n",
       "        }    #T_3348637a_af0f_11ea_a94a_7071bccb931crow17_col2 {\n",
       "            background-color:  #caddf0;\n",
       "            color:  #000000;\n",
       "        }    #T_3348637a_af0f_11ea_a94a_7071bccb931crow18_col2 {\n",
       "            background-color:  #1d6cb1;\n",
       "            color:  #f1f1f1;\n",
       "        }    #T_3348637a_af0f_11ea_a94a_7071bccb931crow19_col2 {\n",
       "            background-color:  #cbdef1;\n",
       "            color:  #000000;\n",
       "        }    #T_3348637a_af0f_11ea_a94a_7071bccb931crow20_col2 {\n",
       "            background-color:  #56a0ce;\n",
       "            color:  #000000;\n",
       "        }    #T_3348637a_af0f_11ea_a94a_7071bccb931crow21_col2 {\n",
       "            background-color:  #eef5fc;\n",
       "            color:  #000000;\n",
       "        }    #T_3348637a_af0f_11ea_a94a_7071bccb931crow22_col2 {\n",
       "            background-color:  #529dcc;\n",
       "            color:  #000000;\n",
       "        }    #T_3348637a_af0f_11ea_a94a_7071bccb931crow23_col2 {\n",
       "            background-color:  #e3eef8;\n",
       "            color:  #000000;\n",
       "        }</style><table id=\"T_3348637a_af0f_11ea_a94a_7071bccb931c\" ><thead>    <tr>        <th class=\"blank level0\" ></th>        <th class=\"col_heading level0 col0\" >arrival_date_month</th>        <th class=\"col_heading level0 col1\" >is_canceled</th>        <th class=\"col_heading level0 col2\" >total</th>    </tr></thead><tbody>\n",
       "                <tr>\n",
       "                        <th id=\"T_3348637a_af0f_11ea_a94a_7071bccb931clevel0_row0\" class=\"row_heading level0 row0\" >0</th>\n",
       "                        <td id=\"T_3348637a_af0f_11ea_a94a_7071bccb931crow0_col0\" class=\"data row0 col0\" >Janeiro</td>\n",
       "                        <td id=\"T_3348637a_af0f_11ea_a94a_7071bccb931crow0_col1\" class=\"data row0 col1\" >0</td>\n",
       "                        <td id=\"T_3348637a_af0f_11ea_a94a_7071bccb931crow0_col2\" class=\"data row0 col2\" >1866</td>\n",
       "            </tr>\n",
       "            <tr>\n",
       "                        <th id=\"T_3348637a_af0f_11ea_a94a_7071bccb931clevel0_row1\" class=\"row_heading level0 row1\" >1</th>\n",
       "                        <td id=\"T_3348637a_af0f_11ea_a94a_7071bccb931crow1_col0\" class=\"data row1 col0\" >Janeiro</td>\n",
       "                        <td id=\"T_3348637a_af0f_11ea_a94a_7071bccb931crow1_col1\" class=\"data row1 col1\" >1</td>\n",
       "                        <td id=\"T_3348637a_af0f_11ea_a94a_7071bccb931crow1_col2\" class=\"data row1 col2\" >325</td>\n",
       "            </tr>\n",
       "            <tr>\n",
       "                        <th id=\"T_3348637a_af0f_11ea_a94a_7071bccb931clevel0_row2\" class=\"row_heading level0 row2\" >2</th>\n",
       "                        <td id=\"T_3348637a_af0f_11ea_a94a_7071bccb931crow2_col0\" class=\"data row2 col0\" >Fevereiro</td>\n",
       "                        <td id=\"T_3348637a_af0f_11ea_a94a_7071bccb931crow2_col1\" class=\"data row2 col1\" >0</td>\n",
       "                        <td id=\"T_3348637a_af0f_11ea_a94a_7071bccb931crow2_col2\" class=\"data row2 col2\" >2308</td>\n",
       "            </tr>\n",
       "            <tr>\n",
       "                        <th id=\"T_3348637a_af0f_11ea_a94a_7071bccb931clevel0_row3\" class=\"row_heading level0 row3\" >3</th>\n",
       "                        <td id=\"T_3348637a_af0f_11ea_a94a_7071bccb931crow3_col0\" class=\"data row3 col0\" >Fevereiro</td>\n",
       "                        <td id=\"T_3348637a_af0f_11ea_a94a_7071bccb931crow3_col1\" class=\"data row3 col1\" >1</td>\n",
       "                        <td id=\"T_3348637a_af0f_11ea_a94a_7071bccb931crow3_col2\" class=\"data row3 col2\" >794</td>\n",
       "            </tr>\n",
       "            <tr>\n",
       "                        <th id=\"T_3348637a_af0f_11ea_a94a_7071bccb931clevel0_row4\" class=\"row_heading level0 row4\" >4</th>\n",
       "                        <td id=\"T_3348637a_af0f_11ea_a94a_7071bccb931crow4_col0\" class=\"data row4 col0\" >Marco</td>\n",
       "                        <td id=\"T_3348637a_af0f_11ea_a94a_7071bccb931crow4_col1\" class=\"data row4 col1\" >0</td>\n",
       "                        <td id=\"T_3348637a_af0f_11ea_a94a_7071bccb931crow4_col2\" class=\"data row4 col2\" >2571</td>\n",
       "            </tr>\n",
       "            <tr>\n",
       "                        <th id=\"T_3348637a_af0f_11ea_a94a_7071bccb931clevel0_row5\" class=\"row_heading level0 row5\" >5</th>\n",
       "                        <td id=\"T_3348637a_af0f_11ea_a94a_7071bccb931crow5_col0\" class=\"data row5 col0\" >Marco</td>\n",
       "                        <td id=\"T_3348637a_af0f_11ea_a94a_7071bccb931crow5_col1\" class=\"data row5 col1\" >1</td>\n",
       "                        <td id=\"T_3348637a_af0f_11ea_a94a_7071bccb931crow5_col2\" class=\"data row5 col2\" >763</td>\n",
       "            </tr>\n",
       "            <tr>\n",
       "                        <th id=\"T_3348637a_af0f_11ea_a94a_7071bccb931clevel0_row6\" class=\"row_heading level0 row6\" >6</th>\n",
       "                        <td id=\"T_3348637a_af0f_11ea_a94a_7071bccb931crow6_col0\" class=\"data row6 col0\" >Abril</td>\n",
       "                        <td id=\"T_3348637a_af0f_11ea_a94a_7071bccb931crow6_col1\" class=\"data row6 col1\" >0</td>\n",
       "                        <td id=\"T_3348637a_af0f_11ea_a94a_7071bccb931crow6_col2\" class=\"data row6 col2\" >2550</td>\n",
       "            </tr>\n",
       "            <tr>\n",
       "                        <th id=\"T_3348637a_af0f_11ea_a94a_7071bccb931clevel0_row7\" class=\"row_heading level0 row7\" >7</th>\n",
       "                        <td id=\"T_3348637a_af0f_11ea_a94a_7071bccb931crow7_col0\" class=\"data row7 col0\" >Abril</td>\n",
       "                        <td id=\"T_3348637a_af0f_11ea_a94a_7071bccb931crow7_col1\" class=\"data row7 col1\" >1</td>\n",
       "                        <td id=\"T_3348637a_af0f_11ea_a94a_7071bccb931crow7_col2\" class=\"data row7 col2\" >1059</td>\n",
       "            </tr>\n",
       "            <tr>\n",
       "                        <th id=\"T_3348637a_af0f_11ea_a94a_7071bccb931clevel0_row8\" class=\"row_heading level0 row8\" >8</th>\n",
       "                        <td id=\"T_3348637a_af0f_11ea_a94a_7071bccb931crow8_col0\" class=\"data row8 col0\" >Maio</td>\n",
       "                        <td id=\"T_3348637a_af0f_11ea_a94a_7071bccb931crow8_col1\" class=\"data row8 col1\" >0</td>\n",
       "                        <td id=\"T_3348637a_af0f_11ea_a94a_7071bccb931crow8_col2\" class=\"data row8 col2\" >2535</td>\n",
       "            </tr>\n",
       "            <tr>\n",
       "                        <th id=\"T_3348637a_af0f_11ea_a94a_7071bccb931clevel0_row9\" class=\"row_heading level0 row9\" >9</th>\n",
       "                        <td id=\"T_3348637a_af0f_11ea_a94a_7071bccb931crow9_col0\" class=\"data row9 col0\" >Maio</td>\n",
       "                        <td id=\"T_3348637a_af0f_11ea_a94a_7071bccb931crow9_col1\" class=\"data row9 col1\" >1</td>\n",
       "                        <td id=\"T_3348637a_af0f_11ea_a94a_7071bccb931crow9_col2\" class=\"data row9 col2\" >1024</td>\n",
       "            </tr>\n",
       "            <tr>\n",
       "                        <th id=\"T_3348637a_af0f_11ea_a94a_7071bccb931clevel0_row10\" class=\"row_heading level0 row10\" >10</th>\n",
       "                        <td id=\"T_3348637a_af0f_11ea_a94a_7071bccb931crow10_col0\" class=\"data row10 col0\" >Junho</td>\n",
       "                        <td id=\"T_3348637a_af0f_11ea_a94a_7071bccb931crow10_col1\" class=\"data row10 col1\" >0</td>\n",
       "                        <td id=\"T_3348637a_af0f_11ea_a94a_7071bccb931crow10_col2\" class=\"data row10 col2\" >2037</td>\n",
       "            </tr>\n",
       "            <tr>\n",
       "                        <th id=\"T_3348637a_af0f_11ea_a94a_7071bccb931clevel0_row11\" class=\"row_heading level0 row11\" >11</th>\n",
       "                        <td id=\"T_3348637a_af0f_11ea_a94a_7071bccb931crow11_col0\" class=\"data row11 col0\" >Junho</td>\n",
       "                        <td id=\"T_3348637a_af0f_11ea_a94a_7071bccb931crow11_col1\" class=\"data row11 col1\" >1</td>\n",
       "                        <td id=\"T_3348637a_af0f_11ea_a94a_7071bccb931crow11_col2\" class=\"data row11 col2\" >1007</td>\n",
       "            </tr>\n",
       "            <tr>\n",
       "                        <th id=\"T_3348637a_af0f_11ea_a94a_7071bccb931clevel0_row12\" class=\"row_heading level0 row12\" >12</th>\n",
       "                        <td id=\"T_3348637a_af0f_11ea_a94a_7071bccb931crow12_col0\" class=\"data row12 col0\" >Julho</td>\n",
       "                        <td id=\"T_3348637a_af0f_11ea_a94a_7071bccb931crow12_col1\" class=\"data row12 col1\" >0</td>\n",
       "                        <td id=\"T_3348637a_af0f_11ea_a94a_7071bccb931crow12_col2\" class=\"data row12 col2\" >3137</td>\n",
       "            </tr>\n",
       "            <tr>\n",
       "                        <th id=\"T_3348637a_af0f_11ea_a94a_7071bccb931clevel0_row13\" class=\"row_heading level0 row13\" >13</th>\n",
       "                        <td id=\"T_3348637a_af0f_11ea_a94a_7071bccb931crow13_col0\" class=\"data row13 col0\" >Julho</td>\n",
       "                        <td id=\"T_3348637a_af0f_11ea_a94a_7071bccb931crow13_col1\" class=\"data row13 col1\" >1</td>\n",
       "                        <td id=\"T_3348637a_af0f_11ea_a94a_7071bccb931crow13_col2\" class=\"data row13 col2\" >1436</td>\n",
       "            </tr>\n",
       "            <tr>\n",
       "                        <th id=\"T_3348637a_af0f_11ea_a94a_7071bccb931clevel0_row14\" class=\"row_heading level0 row14\" >14</th>\n",
       "                        <td id=\"T_3348637a_af0f_11ea_a94a_7071bccb931crow14_col0\" class=\"data row14 col0\" >Agosto</td>\n",
       "                        <td id=\"T_3348637a_af0f_11ea_a94a_7071bccb931crow14_col1\" class=\"data row14 col1\" >0</td>\n",
       "                        <td id=\"T_3348637a_af0f_11ea_a94a_7071bccb931crow14_col2\" class=\"data row14 col2\" >3257</td>\n",
       "            </tr>\n",
       "            <tr>\n",
       "                        <th id=\"T_3348637a_af0f_11ea_a94a_7071bccb931clevel0_row15\" class=\"row_heading level0 row15\" >15</th>\n",
       "                        <td id=\"T_3348637a_af0f_11ea_a94a_7071bccb931crow15_col0\" class=\"data row15 col0\" >Agosto</td>\n",
       "                        <td id=\"T_3348637a_af0f_11ea_a94a_7071bccb931crow15_col1\" class=\"data row15 col1\" >1</td>\n",
       "                        <td id=\"T_3348637a_af0f_11ea_a94a_7071bccb931crow15_col2\" class=\"data row15 col2\" >1637</td>\n",
       "            </tr>\n",
       "            <tr>\n",
       "                        <th id=\"T_3348637a_af0f_11ea_a94a_7071bccb931clevel0_row16\" class=\"row_heading level0 row16\" >16</th>\n",
       "                        <td id=\"T_3348637a_af0f_11ea_a94a_7071bccb931crow16_col0\" class=\"data row16 col0\" >Setembro</td>\n",
       "                        <td id=\"T_3348637a_af0f_11ea_a94a_7071bccb931crow16_col1\" class=\"data row16 col1\" >0</td>\n",
       "                        <td id=\"T_3348637a_af0f_11ea_a94a_7071bccb931crow16_col2\" class=\"data row16 col2\" >2102</td>\n",
       "            </tr>\n",
       "            <tr>\n",
       "                        <th id=\"T_3348637a_af0f_11ea_a94a_7071bccb931clevel0_row17\" class=\"row_heading level0 row17\" >17</th>\n",
       "                        <td id=\"T_3348637a_af0f_11ea_a94a_7071bccb931crow17_col0\" class=\"data row17 col0\" >Setembro</td>\n",
       "                        <td id=\"T_3348637a_af0f_11ea_a94a_7071bccb931crow17_col1\" class=\"data row17 col1\" >1</td>\n",
       "                        <td id=\"T_3348637a_af0f_11ea_a94a_7071bccb931crow17_col2\" class=\"data row17 col2\" >1006</td>\n",
       "            </tr>\n",
       "            <tr>\n",
       "                        <th id=\"T_3348637a_af0f_11ea_a94a_7071bccb931clevel0_row18\" class=\"row_heading level0 row18\" >18</th>\n",
       "                        <td id=\"T_3348637a_af0f_11ea_a94a_7071bccb931crow18_col0\" class=\"data row18 col0\" >Outubro</td>\n",
       "                        <td id=\"T_3348637a_af0f_11ea_a94a_7071bccb931crow18_col1\" class=\"data row18 col1\" >0</td>\n",
       "                        <td id=\"T_3348637a_af0f_11ea_a94a_7071bccb931crow18_col2\" class=\"data row18 col2\" >2575</td>\n",
       "            </tr>\n",
       "            <tr>\n",
       "                        <th id=\"T_3348637a_af0f_11ea_a94a_7071bccb931clevel0_row19\" class=\"row_heading level0 row19\" >19</th>\n",
       "                        <td id=\"T_3348637a_af0f_11ea_a94a_7071bccb931crow19_col0\" class=\"data row19 col0\" >Outubro</td>\n",
       "                        <td id=\"T_3348637a_af0f_11ea_a94a_7071bccb931crow19_col1\" class=\"data row19 col1\" >1</td>\n",
       "                        <td id=\"T_3348637a_af0f_11ea_a94a_7071bccb931crow19_col2\" class=\"data row19 col2\" >978</td>\n",
       "            </tr>\n",
       "            <tr>\n",
       "                        <th id=\"T_3348637a_af0f_11ea_a94a_7071bccb931clevel0_row20\" class=\"row_heading level0 row20\" >20</th>\n",
       "                        <td id=\"T_3348637a_af0f_11ea_a94a_7071bccb931crow20_col0\" class=\"data row20 col0\" >Novembro</td>\n",
       "                        <td id=\"T_3348637a_af0f_11ea_a94a_7071bccb931crow20_col1\" class=\"data row20 col1\" >0</td>\n",
       "                        <td id=\"T_3348637a_af0f_11ea_a94a_7071bccb931crow20_col2\" class=\"data row20 col2\" >1975</td>\n",
       "            </tr>\n",
       "            <tr>\n",
       "                        <th id=\"T_3348637a_af0f_11ea_a94a_7071bccb931clevel0_row21\" class=\"row_heading level0 row21\" >21</th>\n",
       "                        <td id=\"T_3348637a_af0f_11ea_a94a_7071bccb931crow21_col0\" class=\"data row21 col0\" >Novembro</td>\n",
       "                        <td id=\"T_3348637a_af0f_11ea_a94a_7071bccb931crow21_col1\" class=\"data row21 col1\" >1</td>\n",
       "                        <td id=\"T_3348637a_af0f_11ea_a94a_7071bccb931crow21_col2\" class=\"data row21 col2\" >460</td>\n",
       "            </tr>\n",
       "            <tr>\n",
       "                        <th id=\"T_3348637a_af0f_11ea_a94a_7071bccb931clevel0_row22\" class=\"row_heading level0 row22\" >22</th>\n",
       "                        <td id=\"T_3348637a_af0f_11ea_a94a_7071bccb931crow22_col0\" class=\"data row22 col0\" >Dezembro</td>\n",
       "                        <td id=\"T_3348637a_af0f_11ea_a94a_7071bccb931crow22_col1\" class=\"data row22 col1\" >0</td>\n",
       "                        <td id=\"T_3348637a_af0f_11ea_a94a_7071bccb931crow22_col2\" class=\"data row22 col2\" >2014</td>\n",
       "            </tr>\n",
       "            <tr>\n",
       "                        <th id=\"T_3348637a_af0f_11ea_a94a_7071bccb931clevel0_row23\" class=\"row_heading level0 row23\" >23</th>\n",
       "                        <td id=\"T_3348637a_af0f_11ea_a94a_7071bccb931crow23_col0\" class=\"data row23 col0\" >Dezembro</td>\n",
       "                        <td id=\"T_3348637a_af0f_11ea_a94a_7071bccb931crow23_col1\" class=\"data row23 col1\" >1</td>\n",
       "                        <td id=\"T_3348637a_af0f_11ea_a94a_7071bccb931crow23_col2\" class=\"data row23 col2\" >631</td>\n",
       "            </tr>\n",
       "    </tbody></table>"
      ],
      "text/plain": [
       "<pandas.io.formats.style.Styler at 0x1c459490>"
      ]
     },
     "execution_count": 97,
     "metadata": {},
     "output_type": "execute_result"
    }
   ],
   "source": [
    "rh2.reset_index(name='total').style.background_gradient(subset='total',cmap='Blues')"
   ]
  },
  {
   "cell_type": "code",
   "execution_count": 98,
   "metadata": {},
   "outputs": [
    {
     "data": {
      "text/html": [
       "<style  type=\"text/css\" >\n",
       "    #T_5d5ec75c_af0f_11ea_a0c2_7071bccb931crow0_col2 {\n",
       "            background-color:  #d4eece;\n",
       "            color:  #000000;\n",
       "        }    #T_5d5ec75c_af0f_11ea_a0c2_7071bccb931crow1_col2 {\n",
       "            background-color:  #f7fcf5;\n",
       "            color:  #000000;\n",
       "        }    #T_5d5ec75c_af0f_11ea_a0c2_7071bccb931crow2_col2 {\n",
       "            background-color:  #97d492;\n",
       "            color:  #000000;\n",
       "        }    #T_5d5ec75c_af0f_11ea_a0c2_7071bccb931crow3_col2 {\n",
       "            background-color:  #e8f6e3;\n",
       "            color:  #000000;\n",
       "        }    #T_5d5ec75c_af0f_11ea_a0c2_7071bccb931crow4_col2 {\n",
       "            background-color:  #38a156;\n",
       "            color:  #000000;\n",
       "        }    #T_5d5ec75c_af0f_11ea_a0c2_7071bccb931crow5_col2 {\n",
       "            background-color:  #cbebc5;\n",
       "            color:  #000000;\n",
       "        }    #T_5d5ec75c_af0f_11ea_a0c2_7071bccb931crow6_col2 {\n",
       "            background-color:  #3ba458;\n",
       "            color:  #000000;\n",
       "        }    #T_5d5ec75c_af0f_11ea_a0c2_7071bccb931crow7_col2 {\n",
       "            background-color:  #70c274;\n",
       "            color:  #000000;\n",
       "        }    #T_5d5ec75c_af0f_11ea_a0c2_7071bccb931crow8_col2 {\n",
       "            background-color:  #16803c;\n",
       "            color:  #f1f1f1;\n",
       "        }    #T_5d5ec75c_af0f_11ea_a0c2_7071bccb931crow9_col2 {\n",
       "            background-color:  #5bb86a;\n",
       "            color:  #000000;\n",
       "        }    #T_5d5ec75c_af0f_11ea_a0c2_7071bccb931crow10_col2 {\n",
       "            background-color:  #258d47;\n",
       "            color:  #000000;\n",
       "        }    #T_5d5ec75c_af0f_11ea_a0c2_7071bccb931crow11_col2 {\n",
       "            background-color:  #6abf71;\n",
       "            color:  #000000;\n",
       "        }    #T_5d5ec75c_af0f_11ea_a0c2_7071bccb931crow12_col2 {\n",
       "            background-color:  #087432;\n",
       "            color:  #f1f1f1;\n",
       "        }    #T_5d5ec75c_af0f_11ea_a0c2_7071bccb931crow13_col2 {\n",
       "            background-color:  #80ca80;\n",
       "            color:  #000000;\n",
       "        }    #T_5d5ec75c_af0f_11ea_a0c2_7071bccb931crow14_col2 {\n",
       "            background-color:  #00441b;\n",
       "            color:  #f1f1f1;\n",
       "        }    #T_5d5ec75c_af0f_11ea_a0c2_7071bccb931crow15_col2 {\n",
       "            background-color:  #62bb6d;\n",
       "            color:  #000000;\n",
       "        }    #T_5d5ec75c_af0f_11ea_a0c2_7071bccb931crow16_col2 {\n",
       "            background-color:  #2a924a;\n",
       "            color:  #000000;\n",
       "        }    #T_5d5ec75c_af0f_11ea_a0c2_7071bccb931crow17_col2 {\n",
       "            background-color:  #91d28e;\n",
       "            color:  #000000;\n",
       "        }    #T_5d5ec75c_af0f_11ea_a0c2_7071bccb931crow18_col2 {\n",
       "            background-color:  #278f48;\n",
       "            color:  #000000;\n",
       "        }    #T_5d5ec75c_af0f_11ea_a0c2_7071bccb931crow19_col2 {\n",
       "            background-color:  #83cb82;\n",
       "            color:  #000000;\n",
       "        }    #T_5d5ec75c_af0f_11ea_a0c2_7071bccb931crow20_col2 {\n",
       "            background-color:  #b6e2af;\n",
       "            color:  #000000;\n",
       "        }    #T_5d5ec75c_af0f_11ea_a0c2_7071bccb931crow21_col2 {\n",
       "            background-color:  #f1faee;\n",
       "            color:  #000000;\n",
       "        }    #T_5d5ec75c_af0f_11ea_a0c2_7071bccb931crow22_col2 {\n",
       "            background-color:  #cbebc5;\n",
       "            color:  #000000;\n",
       "        }    #T_5d5ec75c_af0f_11ea_a0c2_7071bccb931crow23_col2 {\n",
       "            background-color:  #eef8ea;\n",
       "            color:  #000000;\n",
       "        }</style><table id=\"T_5d5ec75c_af0f_11ea_a0c2_7071bccb931c\" ><thead>    <tr>        <th class=\"blank level0\" ></th>        <th class=\"col_heading level0 col0\" >arrival_date_month</th>        <th class=\"col_heading level0 col1\" >is_canceled</th>        <th class=\"col_heading level0 col2\" >total</th>    </tr></thead><tbody>\n",
       "                <tr>\n",
       "                        <th id=\"T_5d5ec75c_af0f_11ea_a0c2_7071bccb931clevel0_row0\" class=\"row_heading level0 row0\" >0</th>\n",
       "                        <td id=\"T_5d5ec75c_af0f_11ea_a0c2_7071bccb931crow0_col0\" class=\"data row0 col0\" >Janeiro</td>\n",
       "                        <td id=\"T_5d5ec75c_af0f_11ea_a0c2_7071bccb931crow0_col1\" class=\"data row0 col1\" >0</td>\n",
       "                        <td id=\"T_5d5ec75c_af0f_11ea_a0c2_7071bccb931crow0_col2\" class=\"data row0 col2\" >2249</td>\n",
       "            </tr>\n",
       "            <tr>\n",
       "                        <th id=\"T_5d5ec75c_af0f_11ea_a0c2_7071bccb931clevel0_row1\" class=\"row_heading level0 row1\" >1</th>\n",
       "                        <td id=\"T_5d5ec75c_af0f_11ea_a0c2_7071bccb931crow1_col0\" class=\"data row1 col0\" >Janeiro</td>\n",
       "                        <td id=\"T_5d5ec75c_af0f_11ea_a0c2_7071bccb931crow1_col1\" class=\"data row1 col1\" >1</td>\n",
       "                        <td id=\"T_5d5ec75c_af0f_11ea_a0c2_7071bccb931crow1_col2\" class=\"data row1 col2\" >1481</td>\n",
       "            </tr>\n",
       "            <tr>\n",
       "                        <th id=\"T_5d5ec75c_af0f_11ea_a0c2_7071bccb931clevel0_row2\" class=\"row_heading level0 row2\" >2</th>\n",
       "                        <td id=\"T_5d5ec75c_af0f_11ea_a0c2_7071bccb931crow2_col0\" class=\"data row2 col0\" >Fevereiro</td>\n",
       "                        <td id=\"T_5d5ec75c_af0f_11ea_a0c2_7071bccb931crow2_col1\" class=\"data row2 col1\" >0</td>\n",
       "                        <td id=\"T_5d5ec75c_af0f_11ea_a0c2_7071bccb931crow2_col2\" class=\"data row2 col2\" >3051</td>\n",
       "            </tr>\n",
       "            <tr>\n",
       "                        <th id=\"T_5d5ec75c_af0f_11ea_a0c2_7071bccb931clevel0_row3\" class=\"row_heading level0 row3\" >3</th>\n",
       "                        <td id=\"T_5d5ec75c_af0f_11ea_a0c2_7071bccb931crow3_col0\" class=\"data row3 col0\" >Fevereiro</td>\n",
       "                        <td id=\"T_5d5ec75c_af0f_11ea_a0c2_7071bccb931crow3_col1\" class=\"data row3 col1\" >1</td>\n",
       "                        <td id=\"T_5d5ec75c_af0f_11ea_a0c2_7071bccb931crow3_col2\" class=\"data row3 col2\" >1899</td>\n",
       "            </tr>\n",
       "            <tr>\n",
       "                        <th id=\"T_5d5ec75c_af0f_11ea_a0c2_7071bccb931clevel0_row4\" class=\"row_heading level0 row4\" >4</th>\n",
       "                        <td id=\"T_5d5ec75c_af0f_11ea_a0c2_7071bccb931crow4_col0\" class=\"data row4 col0\" >Marco</td>\n",
       "                        <td id=\"T_5d5ec75c_af0f_11ea_a0c2_7071bccb931crow4_col1\" class=\"data row4 col1\" >0</td>\n",
       "                        <td id=\"T_5d5ec75c_af0f_11ea_a0c2_7071bccb931crow4_col2\" class=\"data row4 col2\" >4049</td>\n",
       "            </tr>\n",
       "            <tr>\n",
       "                        <th id=\"T_5d5ec75c_af0f_11ea_a0c2_7071bccb931clevel0_row5\" class=\"row_heading level0 row5\" >5</th>\n",
       "                        <td id=\"T_5d5ec75c_af0f_11ea_a0c2_7071bccb931crow5_col0\" class=\"data row5 col0\" >Marco</td>\n",
       "                        <td id=\"T_5d5ec75c_af0f_11ea_a0c2_7071bccb931crow5_col1\" class=\"data row5 col1\" >1</td>\n",
       "                        <td id=\"T_5d5ec75c_af0f_11ea_a0c2_7071bccb931crow5_col2\" class=\"data row5 col2\" >2385</td>\n",
       "            </tr>\n",
       "            <tr>\n",
       "                        <th id=\"T_5d5ec75c_af0f_11ea_a0c2_7071bccb931clevel0_row6\" class=\"row_heading level0 row6\" >6</th>\n",
       "                        <td id=\"T_5d5ec75c_af0f_11ea_a0c2_7071bccb931crow6_col0\" class=\"data row6 col0\" >Abril</td>\n",
       "                        <td id=\"T_5d5ec75c_af0f_11ea_a0c2_7071bccb931crow6_col1\" class=\"data row6 col1\" >0</td>\n",
       "                        <td id=\"T_5d5ec75c_af0f_11ea_a0c2_7071bccb931crow6_col2\" class=\"data row6 col2\" >4010</td>\n",
       "            </tr>\n",
       "            <tr>\n",
       "                        <th id=\"T_5d5ec75c_af0f_11ea_a0c2_7071bccb931clevel0_row7\" class=\"row_heading level0 row7\" >7</th>\n",
       "                        <td id=\"T_5d5ec75c_af0f_11ea_a0c2_7071bccb931crow7_col0\" class=\"data row7 col0\" >Abril</td>\n",
       "                        <td id=\"T_5d5ec75c_af0f_11ea_a0c2_7071bccb931crow7_col1\" class=\"data row7 col1\" >1</td>\n",
       "                        <td id=\"T_5d5ec75c_af0f_11ea_a0c2_7071bccb931crow7_col2\" class=\"data row7 col2\" >3459</td>\n",
       "            </tr>\n",
       "            <tr>\n",
       "                        <th id=\"T_5d5ec75c_af0f_11ea_a0c2_7071bccb931clevel0_row8\" class=\"row_heading level0 row8\" >8</th>\n",
       "                        <td id=\"T_5d5ec75c_af0f_11ea_a0c2_7071bccb931crow8_col0\" class=\"data row8 col0\" >Maio</td>\n",
       "                        <td id=\"T_5d5ec75c_af0f_11ea_a0c2_7071bccb931crow8_col1\" class=\"data row8 col1\" >0</td>\n",
       "                        <td id=\"T_5d5ec75c_af0f_11ea_a0c2_7071bccb931crow8_col2\" class=\"data row8 col2\" >4568</td>\n",
       "            </tr>\n",
       "            <tr>\n",
       "                        <th id=\"T_5d5ec75c_af0f_11ea_a0c2_7071bccb931clevel0_row9\" class=\"row_heading level0 row9\" >9</th>\n",
       "                        <td id=\"T_5d5ec75c_af0f_11ea_a0c2_7071bccb931crow9_col0\" class=\"data row9 col0\" >Maio</td>\n",
       "                        <td id=\"T_5d5ec75c_af0f_11ea_a0c2_7071bccb931crow9_col1\" class=\"data row9 col1\" >1</td>\n",
       "                        <td id=\"T_5d5ec75c_af0f_11ea_a0c2_7071bccb931crow9_col2\" class=\"data row9 col2\" >3653</td>\n",
       "            </tr>\n",
       "            <tr>\n",
       "                        <th id=\"T_5d5ec75c_af0f_11ea_a0c2_7071bccb931clevel0_row10\" class=\"row_heading level0 row10\" >10</th>\n",
       "                        <td id=\"T_5d5ec75c_af0f_11ea_a0c2_7071bccb931crow10_col0\" class=\"data row10 col0\" >Junho</td>\n",
       "                        <td id=\"T_5d5ec75c_af0f_11ea_a0c2_7071bccb931crow10_col1\" class=\"data row10 col1\" >0</td>\n",
       "                        <td id=\"T_5d5ec75c_af0f_11ea_a0c2_7071bccb931crow10_col2\" class=\"data row10 col2\" >4358</td>\n",
       "            </tr>\n",
       "            <tr>\n",
       "                        <th id=\"T_5d5ec75c_af0f_11ea_a0c2_7071bccb931clevel0_row11\" class=\"row_heading level0 row11\" >11</th>\n",
       "                        <td id=\"T_5d5ec75c_af0f_11ea_a0c2_7071bccb931crow11_col0\" class=\"data row11 col0\" >Junho</td>\n",
       "                        <td id=\"T_5d5ec75c_af0f_11ea_a0c2_7071bccb931crow11_col1\" class=\"data row11 col1\" >1</td>\n",
       "                        <td id=\"T_5d5ec75c_af0f_11ea_a0c2_7071bccb931crow11_col2\" class=\"data row11 col2\" >3527</td>\n",
       "            </tr>\n",
       "            <tr>\n",
       "                        <th id=\"T_5d5ec75c_af0f_11ea_a0c2_7071bccb931clevel0_row12\" class=\"row_heading level0 row12\" >12</th>\n",
       "                        <td id=\"T_5d5ec75c_af0f_11ea_a0c2_7071bccb931crow12_col0\" class=\"data row12 col0\" >Julho</td>\n",
       "                        <td id=\"T_5d5ec75c_af0f_11ea_a0c2_7071bccb931crow12_col1\" class=\"data row12 col1\" >0</td>\n",
       "                        <td id=\"T_5d5ec75c_af0f_11ea_a0c2_7071bccb931crow12_col2\" class=\"data row12 col2\" >4770</td>\n",
       "            </tr>\n",
       "            <tr>\n",
       "                        <th id=\"T_5d5ec75c_af0f_11ea_a0c2_7071bccb931clevel0_row13\" class=\"row_heading level0 row13\" >13</th>\n",
       "                        <td id=\"T_5d5ec75c_af0f_11ea_a0c2_7071bccb931crow13_col0\" class=\"data row13 col0\" >Julho</td>\n",
       "                        <td id=\"T_5d5ec75c_af0f_11ea_a0c2_7071bccb931crow13_col1\" class=\"data row13 col1\" >1</td>\n",
       "                        <td id=\"T_5d5ec75c_af0f_11ea_a0c2_7071bccb931crow13_col2\" class=\"data row13 col2\" >3301</td>\n",
       "            </tr>\n",
       "            <tr>\n",
       "                        <th id=\"T_5d5ec75c_af0f_11ea_a0c2_7071bccb931clevel0_row14\" class=\"row_heading level0 row14\" >14</th>\n",
       "                        <td id=\"T_5d5ec75c_af0f_11ea_a0c2_7071bccb931crow14_col0\" class=\"data row14 col0\" >Agosto</td>\n",
       "                        <td id=\"T_5d5ec75c_af0f_11ea_a0c2_7071bccb931crow14_col1\" class=\"data row14 col1\" >0</td>\n",
       "                        <td id=\"T_5d5ec75c_af0f_11ea_a0c2_7071bccb931crow14_col2\" class=\"data row14 col2\" >5367</td>\n",
       "            </tr>\n",
       "            <tr>\n",
       "                        <th id=\"T_5d5ec75c_af0f_11ea_a0c2_7071bccb931clevel0_row15\" class=\"row_heading level0 row15\" >15</th>\n",
       "                        <td id=\"T_5d5ec75c_af0f_11ea_a0c2_7071bccb931crow15_col0\" class=\"data row15 col0\" >Agosto</td>\n",
       "                        <td id=\"T_5d5ec75c_af0f_11ea_a0c2_7071bccb931crow15_col1\" class=\"data row15 col1\" >1</td>\n",
       "                        <td id=\"T_5d5ec75c_af0f_11ea_a0c2_7071bccb931crow15_col2\" class=\"data row15 col2\" >3600</td>\n",
       "            </tr>\n",
       "            <tr>\n",
       "                        <th id=\"T_5d5ec75c_af0f_11ea_a0c2_7071bccb931clevel0_row16\" class=\"row_heading level0 row16\" >16</th>\n",
       "                        <td id=\"T_5d5ec75c_af0f_11ea_a0c2_7071bccb931crow16_col0\" class=\"data row16 col0\" >Setembro</td>\n",
       "                        <td id=\"T_5d5ec75c_af0f_11ea_a0c2_7071bccb931crow16_col1\" class=\"data row16 col1\" >0</td>\n",
       "                        <td id=\"T_5d5ec75c_af0f_11ea_a0c2_7071bccb931crow16_col2\" class=\"data row16 col2\" >4283</td>\n",
       "            </tr>\n",
       "            <tr>\n",
       "                        <th id=\"T_5d5ec75c_af0f_11ea_a0c2_7071bccb931clevel0_row17\" class=\"row_heading level0 row17\" >17</th>\n",
       "                        <td id=\"T_5d5ec75c_af0f_11ea_a0c2_7071bccb931crow17_col0\" class=\"data row17 col0\" >Setembro</td>\n",
       "                        <td id=\"T_5d5ec75c_af0f_11ea_a0c2_7071bccb931crow17_col1\" class=\"data row17 col1\" >1</td>\n",
       "                        <td id=\"T_5d5ec75c_af0f_11ea_a0c2_7071bccb931crow17_col2\" class=\"data row17 col2\" >3109</td>\n",
       "            </tr>\n",
       "            <tr>\n",
       "                        <th id=\"T_5d5ec75c_af0f_11ea_a0c2_7071bccb931clevel0_row18\" class=\"row_heading level0 row18\" >18</th>\n",
       "                        <td id=\"T_5d5ec75c_af0f_11ea_a0c2_7071bccb931crow18_col0\" class=\"data row18 col0\" >Outubro</td>\n",
       "                        <td id=\"T_5d5ec75c_af0f_11ea_a0c2_7071bccb931crow18_col1\" class=\"data row18 col1\" >0</td>\n",
       "                        <td id=\"T_5d5ec75c_af0f_11ea_a0c2_7071bccb931crow18_col2\" class=\"data row18 col2\" >4326</td>\n",
       "            </tr>\n",
       "            <tr>\n",
       "                        <th id=\"T_5d5ec75c_af0f_11ea_a0c2_7071bccb931clevel0_row19\" class=\"row_heading level0 row19\" >19</th>\n",
       "                        <td id=\"T_5d5ec75c_af0f_11ea_a0c2_7071bccb931crow19_col0\" class=\"data row19 col0\" >Outubro</td>\n",
       "                        <td id=\"T_5d5ec75c_af0f_11ea_a0c2_7071bccb931crow19_col1\" class=\"data row19 col1\" >1</td>\n",
       "                        <td id=\"T_5d5ec75c_af0f_11ea_a0c2_7071bccb931crow19_col2\" class=\"data row19 col2\" >3268</td>\n",
       "            </tr>\n",
       "            <tr>\n",
       "                        <th id=\"T_5d5ec75c_af0f_11ea_a0c2_7071bccb931clevel0_row20\" class=\"row_heading level0 row20\" >20</th>\n",
       "                        <td id=\"T_5d5ec75c_af0f_11ea_a0c2_7071bccb931crow20_col0\" class=\"data row20 col0\" >Novembro</td>\n",
       "                        <td id=\"T_5d5ec75c_af0f_11ea_a0c2_7071bccb931crow20_col1\" class=\"data row20 col1\" >0</td>\n",
       "                        <td id=\"T_5d5ec75c_af0f_11ea_a0c2_7071bccb931crow20_col2\" class=\"data row20 col2\" >2676</td>\n",
       "            </tr>\n",
       "            <tr>\n",
       "                        <th id=\"T_5d5ec75c_af0f_11ea_a0c2_7071bccb931clevel0_row21\" class=\"row_heading level0 row21\" >21</th>\n",
       "                        <td id=\"T_5d5ec75c_af0f_11ea_a0c2_7071bccb931crow21_col0\" class=\"data row21 col0\" >Novembro</td>\n",
       "                        <td id=\"T_5d5ec75c_af0f_11ea_a0c2_7071bccb931crow21_col1\" class=\"data row21 col1\" >1</td>\n",
       "                        <td id=\"T_5d5ec75c_af0f_11ea_a0c2_7071bccb931crow21_col2\" class=\"data row21 col2\" >1660</td>\n",
       "            </tr>\n",
       "            <tr>\n",
       "                        <th id=\"T_5d5ec75c_af0f_11ea_a0c2_7071bccb931clevel0_row22\" class=\"row_heading level0 row22\" >22</th>\n",
       "                        <td id=\"T_5d5ec75c_af0f_11ea_a0c2_7071bccb931crow22_col0\" class=\"data row22 col0\" >Dezembro</td>\n",
       "                        <td id=\"T_5d5ec75c_af0f_11ea_a0c2_7071bccb931crow22_col1\" class=\"data row22 col1\" >0</td>\n",
       "                        <td id=\"T_5d5ec75c_af0f_11ea_a0c2_7071bccb931crow22_col2\" class=\"data row22 col2\" >2377</td>\n",
       "            </tr>\n",
       "            <tr>\n",
       "                        <th id=\"T_5d5ec75c_af0f_11ea_a0c2_7071bccb931clevel0_row23\" class=\"row_heading level0 row23\" >23</th>\n",
       "                        <td id=\"T_5d5ec75c_af0f_11ea_a0c2_7071bccb931crow23_col0\" class=\"data row23 col0\" >Dezembro</td>\n",
       "                        <td id=\"T_5d5ec75c_af0f_11ea_a0c2_7071bccb931crow23_col1\" class=\"data row23 col1\" >1</td>\n",
       "                        <td id=\"T_5d5ec75c_af0f_11ea_a0c2_7071bccb931crow23_col2\" class=\"data row23 col2\" >1737</td>\n",
       "            </tr>\n",
       "    </tbody></table>"
      ],
      "text/plain": [
       "<pandas.io.formats.style.Styler at 0x1c503450>"
      ]
     },
     "execution_count": 98,
     "metadata": {},
     "output_type": "execute_result"
    }
   ],
   "source": [
    "ch2.reset_index(name='total').style.background_gradient(subset='total',cmap='Greens')"
   ]
  },
  {
   "cell_type": "code",
   "execution_count": null,
   "metadata": {},
   "outputs": [],
   "source": []
  }
 ],
 "metadata": {
  "hide_code_all_hidden": false,
  "kernelspec": {
   "display_name": "Python 3",
   "language": "python",
   "name": "python3"
  },
  "language_info": {
   "codemirror_mode": {
    "name": "ipython",
    "version": 3
   },
   "file_extension": ".py",
   "mimetype": "text/x-python",
   "name": "python",
   "nbconvert_exporter": "python",
   "pygments_lexer": "ipython3",
   "version": "3.7.6"
  }
 },
 "nbformat": 4,
 "nbformat_minor": 2
}
