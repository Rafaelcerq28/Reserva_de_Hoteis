{
 "cells": [
  {
   "cell_type": "markdown",
   "metadata": {
    "hideCode": false,
    "hidePrompt": false
   },
   "source": [
    "## Tarefas\n",
    "- qual é a epoca de maior movimento? (done)\n",
    "- qual melhor época do ano para se fazer reserva? (done)\n",
    "- quanto elas estão dispostas a pagar? (done)\n",
    "- preço médio dos quartos? (done)\n",
    "- dia da semana que mais fazem check-in? (Só tem informação de check-out)\n",
    "- quantos dias que costumam ficar? comparar essa quantidade entre os hoteis (done)\n",
    "- duração ideal da estadia para obter a melhor taxa diária?\n",
    "- De onde vêm a maior parte dosvisitantes?\n",
    "- se chegam de carro e precisam de estacionamento ou se vão de onibus/avião? (é possivel saber com esses dados?)"
   ]
  },
  {
   "cell_type": "markdown",
   "metadata": {
    "hideCode": false,
    "hidePrompt": false
   },
   "source": [
    "https://www.kaggle.com/jessemostipak/hotel-booking-demand"
   ]
  },
  {
   "cell_type": "markdown",
   "metadata": {
    "hideCode": false,
    "hidePrompt": false
   },
   "source": [
    "# Colunas\n",
    "\n",
    "#### hotel\n",
    "- Hotel (H1 = Resort ou H2 = Hotel na cidade)\n",
    "#### is_canceled\n",
    "- Valor indicando se a reserva foi cancelada (1) ou não (0)\n",
    "#### lead_time\n",
    "- Número de dias decorridos entre a data de entrada da reserva no PMS e a data de chegada\n",
    "#### arrival_date_year\n",
    "- Ano da data de chegada\n",
    "#### arrival_date_month\n",
    "- Mês da data de chegada\n",
    "#### arrival_date_week_number\n",
    "- Número da semana do ano para a data de chegada\n",
    "#### arrival_date_day_of_month\n",
    "- dia da data de chegada\n",
    "#### stay_in_weekend_nights\n",
    "- Número de noites de fim de semana (sábado ou domingo) em que o hóspede ficou ou reservou para ficar no hotel\n",
    "#### stay_in_week_nights\n",
    "- Número de noites da semana (de segunda a sexta-feira) em que o hóspede ficou ou reservou para ficar no hotel\n",
    "#### adults\n",
    "- Número de Adultos\n",
    "#### children\n",
    "- número de filhos\n",
    "#### babies\n",
    "- Número de bebês\n",
    "#### meal\n",
    "- Tipo de refeição reservada. As categorias são apresentadas em pacotes padrão de refeições de hospitalidade: Indefinido / SC - sem pacote de refeições; BB - Alojamento e café da manhã; HB - Meia pensão (café da manhã e outra refeição - geralmente jantar); FB - Pensão completa (café da manhã, almoço e jantar)\n",
    "#### country\n",
    "- País de origem. As categorias são representadas no formato ISO 3155–3: 2013\n",
    "#### market_segment\n",
    "- Designação do segmento de mercado. Nas categorias, o termo \"TA\" significa \"agentes de viagens\" e \"TO\" significa \"operadores turísticos\"\n",
    "#### distribution_channel\n",
    "- Canal de distribuição de reservas. O termo \"TA\" significa \"agentes de viagens\" e \"TO\" significa \"operadores turísticos\"\n",
    "#### is_repeated_guest\n",
    "- Valor indicando se o nome da reserva era de um hóspede repetido (1) ou não (0)\n",
    "#### previous_cancellations\n",
    "- Número de reservas anteriores que foram canceladas pelo cliente antes da reserva atual\n",
    "#### previous_bookings_not_canceled\n",
    "- Número de reservas anteriores não canceladas pelo cliente antes da reserva atual\n",
    "#### Reserved_room_type\n",
    "- Código do tipo de quarto reservado. O código é apresentado em vez da designação por razões de anonimato.\n",
    "#### assign_room_type\n",
    "- Código para o tipo de quarto atribuído à reserva. Às vezes, o tipo de quarto atribuído difere do tipo de quarto reservado devido a razões de operação do hotel (por exemplo, reservas em excesso) ou por solicitação do cliente. O código é apresentado em vez da designação por razões de anonimato.\n",
    "#### booking_changes\n",
    "- Número de alterações / alterações feitas na reserva desde o momento em que a reserva foi inserida no PMS até o momento do check-in ou cancelamento\n",
    "#### deposit_type\n",
    "- Indicação se o cliente fez um depósito para garantir a reserva. Essa variável pode assumir três categorias: Nenhum depósito - nenhum depósito foi feito; Não reembolso - foi feito um depósito no valor do custo total da estadia; Reembolsável - foi feito um depósito com um valor abaixo do custo total da estadia.\n",
    "#### agent\n",
    "- ID da agência de viagens que fez a reserva\n",
    "#### company\n",
    "- ID da empresa / entidade que fez a reserva ou responsável pelo pagamento da reserva. O ID é apresentado em vez da designação por razões de anonimato\n",
    "#### days_in_waiting_list\n",
    "- Número de dias em que a reserva estava na lista de espera antes de ser confirmada ao cliente\n",
    "#### customer_type\n",
    "- Tipo de reserva, assumindo uma das quatro categorias: Contract - quando a reserva possui uma atribuição ou outro tipo de contrato associado a ela; Group - quando a reserva está associada a um grupo; Transient - quando a reserva não faz parte de um grupo ou contrato e não está associado a outra reserva transitória; Transient-party - quando a reserva é transitória, mas está associada a pelo menos outra reserva transitória\n",
    "#### adr\n",
    "- Taxa diária média, conforme definida pela divisão da soma de todas as transações de hospedagem pelo número total de noites de permanência\n",
    "#### required_car_parking_spaces\n",
    "- Número de vagas de estacionamento exigidas pelo cliente\n",
    "#### total_of_special_requests\n",
    "- Número de pedidos especiais feitos pelo cliente (por exemplo, cama de solteiro ou andar alto)\n",
    "#### reservation_status\n",
    "- Último status da reserva, assumindo uma de três categorias: Cancelado - a reserva foi cancelada pelo cliente; Check-Out - o cliente fez o check-in, mas já partiu; No-Show - o cliente não fez o check-in e informou o hotel do motivo\n",
    "#### reservation_status_date\n",
    "- Data em que o último status foi definido. Essa variável pode ser usada em conjunto com o ReservationStatus para entender quando a reserva foi cancelada ou quando o cliente fez o check-out do hotel."
   ]
  },
  {
   "cell_type": "code",
   "execution_count": 1,
   "metadata": {
    "hideCode": false,
    "hidePrompt": false
   },
   "outputs": [],
   "source": [
    "import pandas as pd\n",
    "import numpy as np\n",
    "import matplotlib.pyplot as plt\n",
    "import seaborn as sns\n",
    "import time\n",
    "\n",
    "%matplotlib inline"
   ]
  },
  {
   "cell_type": "code",
   "execution_count": 2,
   "metadata": {
    "hideCode": false,
    "hidePrompt": false
   },
   "outputs": [],
   "source": [
    "df = pd.read_csv(\"hotel_bookings.csv\")"
   ]
  },
  {
   "cell_type": "code",
   "execution_count": 3,
   "metadata": {
    "hideCode": false,
    "hidePrompt": false,
    "scrolled": false
   },
   "outputs": [
    {
     "data": {
      "text/html": [
       "<div>\n",
       "<style scoped>\n",
       "    .dataframe tbody tr th:only-of-type {\n",
       "        vertical-align: middle;\n",
       "    }\n",
       "\n",
       "    .dataframe tbody tr th {\n",
       "        vertical-align: top;\n",
       "    }\n",
       "\n",
       "    .dataframe thead th {\n",
       "        text-align: right;\n",
       "    }\n",
       "</style>\n",
       "<table border=\"1\" class=\"dataframe\">\n",
       "  <thead>\n",
       "    <tr style=\"text-align: right;\">\n",
       "      <th></th>\n",
       "      <th>hotel</th>\n",
       "      <th>is_canceled</th>\n",
       "      <th>lead_time</th>\n",
       "      <th>arrival_date_year</th>\n",
       "      <th>arrival_date_month</th>\n",
       "      <th>arrival_date_week_number</th>\n",
       "      <th>arrival_date_day_of_month</th>\n",
       "      <th>stays_in_weekend_nights</th>\n",
       "      <th>stays_in_week_nights</th>\n",
       "      <th>adults</th>\n",
       "      <th>...</th>\n",
       "      <th>deposit_type</th>\n",
       "      <th>agent</th>\n",
       "      <th>company</th>\n",
       "      <th>days_in_waiting_list</th>\n",
       "      <th>customer_type</th>\n",
       "      <th>adr</th>\n",
       "      <th>required_car_parking_spaces</th>\n",
       "      <th>total_of_special_requests</th>\n",
       "      <th>reservation_status</th>\n",
       "      <th>reservation_status_date</th>\n",
       "    </tr>\n",
       "  </thead>\n",
       "  <tbody>\n",
       "    <tr>\n",
       "      <th>0</th>\n",
       "      <td>Resort Hotel</td>\n",
       "      <td>0</td>\n",
       "      <td>342</td>\n",
       "      <td>2015</td>\n",
       "      <td>July</td>\n",
       "      <td>27</td>\n",
       "      <td>1</td>\n",
       "      <td>0</td>\n",
       "      <td>0</td>\n",
       "      <td>2</td>\n",
       "      <td>...</td>\n",
       "      <td>No Deposit</td>\n",
       "      <td>NaN</td>\n",
       "      <td>NaN</td>\n",
       "      <td>0</td>\n",
       "      <td>Transient</td>\n",
       "      <td>0.0</td>\n",
       "      <td>0</td>\n",
       "      <td>0</td>\n",
       "      <td>Check-Out</td>\n",
       "      <td>2015-07-01</td>\n",
       "    </tr>\n",
       "    <tr>\n",
       "      <th>1</th>\n",
       "      <td>Resort Hotel</td>\n",
       "      <td>0</td>\n",
       "      <td>737</td>\n",
       "      <td>2015</td>\n",
       "      <td>July</td>\n",
       "      <td>27</td>\n",
       "      <td>1</td>\n",
       "      <td>0</td>\n",
       "      <td>0</td>\n",
       "      <td>2</td>\n",
       "      <td>...</td>\n",
       "      <td>No Deposit</td>\n",
       "      <td>NaN</td>\n",
       "      <td>NaN</td>\n",
       "      <td>0</td>\n",
       "      <td>Transient</td>\n",
       "      <td>0.0</td>\n",
       "      <td>0</td>\n",
       "      <td>0</td>\n",
       "      <td>Check-Out</td>\n",
       "      <td>2015-07-01</td>\n",
       "    </tr>\n",
       "    <tr>\n",
       "      <th>2</th>\n",
       "      <td>Resort Hotel</td>\n",
       "      <td>0</td>\n",
       "      <td>7</td>\n",
       "      <td>2015</td>\n",
       "      <td>July</td>\n",
       "      <td>27</td>\n",
       "      <td>1</td>\n",
       "      <td>0</td>\n",
       "      <td>1</td>\n",
       "      <td>1</td>\n",
       "      <td>...</td>\n",
       "      <td>No Deposit</td>\n",
       "      <td>NaN</td>\n",
       "      <td>NaN</td>\n",
       "      <td>0</td>\n",
       "      <td>Transient</td>\n",
       "      <td>75.0</td>\n",
       "      <td>0</td>\n",
       "      <td>0</td>\n",
       "      <td>Check-Out</td>\n",
       "      <td>2015-07-02</td>\n",
       "    </tr>\n",
       "    <tr>\n",
       "      <th>3</th>\n",
       "      <td>Resort Hotel</td>\n",
       "      <td>0</td>\n",
       "      <td>13</td>\n",
       "      <td>2015</td>\n",
       "      <td>July</td>\n",
       "      <td>27</td>\n",
       "      <td>1</td>\n",
       "      <td>0</td>\n",
       "      <td>1</td>\n",
       "      <td>1</td>\n",
       "      <td>...</td>\n",
       "      <td>No Deposit</td>\n",
       "      <td>304.0</td>\n",
       "      <td>NaN</td>\n",
       "      <td>0</td>\n",
       "      <td>Transient</td>\n",
       "      <td>75.0</td>\n",
       "      <td>0</td>\n",
       "      <td>0</td>\n",
       "      <td>Check-Out</td>\n",
       "      <td>2015-07-02</td>\n",
       "    </tr>\n",
       "    <tr>\n",
       "      <th>4</th>\n",
       "      <td>Resort Hotel</td>\n",
       "      <td>0</td>\n",
       "      <td>14</td>\n",
       "      <td>2015</td>\n",
       "      <td>July</td>\n",
       "      <td>27</td>\n",
       "      <td>1</td>\n",
       "      <td>0</td>\n",
       "      <td>2</td>\n",
       "      <td>2</td>\n",
       "      <td>...</td>\n",
       "      <td>No Deposit</td>\n",
       "      <td>240.0</td>\n",
       "      <td>NaN</td>\n",
       "      <td>0</td>\n",
       "      <td>Transient</td>\n",
       "      <td>98.0</td>\n",
       "      <td>0</td>\n",
       "      <td>1</td>\n",
       "      <td>Check-Out</td>\n",
       "      <td>2015-07-03</td>\n",
       "    </tr>\n",
       "  </tbody>\n",
       "</table>\n",
       "<p>5 rows × 32 columns</p>\n",
       "</div>"
      ],
      "text/plain": [
       "          hotel  is_canceled  lead_time  arrival_date_year arrival_date_month  \\\n",
       "0  Resort Hotel            0        342               2015               July   \n",
       "1  Resort Hotel            0        737               2015               July   \n",
       "2  Resort Hotel            0          7               2015               July   \n",
       "3  Resort Hotel            0         13               2015               July   \n",
       "4  Resort Hotel            0         14               2015               July   \n",
       "\n",
       "   arrival_date_week_number  arrival_date_day_of_month  \\\n",
       "0                        27                          1   \n",
       "1                        27                          1   \n",
       "2                        27                          1   \n",
       "3                        27                          1   \n",
       "4                        27                          1   \n",
       "\n",
       "   stays_in_weekend_nights  stays_in_week_nights  adults  \\\n",
       "0                        0                     0       2   \n",
       "1                        0                     0       2   \n",
       "2                        0                     1       1   \n",
       "3                        0                     1       1   \n",
       "4                        0                     2       2   \n",
       "\n",
       "            ...            deposit_type  agent company days_in_waiting_list  \\\n",
       "0           ...              No Deposit    NaN     NaN                    0   \n",
       "1           ...              No Deposit    NaN     NaN                    0   \n",
       "2           ...              No Deposit    NaN     NaN                    0   \n",
       "3           ...              No Deposit  304.0     NaN                    0   \n",
       "4           ...              No Deposit  240.0     NaN                    0   \n",
       "\n",
       "  customer_type   adr  required_car_parking_spaces  total_of_special_requests  \\\n",
       "0     Transient   0.0                            0                          0   \n",
       "1     Transient   0.0                            0                          0   \n",
       "2     Transient  75.0                            0                          0   \n",
       "3     Transient  75.0                            0                          0   \n",
       "4     Transient  98.0                            0                          1   \n",
       "\n",
       "   reservation_status reservation_status_date  \n",
       "0           Check-Out              2015-07-01  \n",
       "1           Check-Out              2015-07-01  \n",
       "2           Check-Out              2015-07-02  \n",
       "3           Check-Out              2015-07-02  \n",
       "4           Check-Out              2015-07-03  \n",
       "\n",
       "[5 rows x 32 columns]"
      ]
     },
     "execution_count": 3,
     "metadata": {},
     "output_type": "execute_result"
    }
   ],
   "source": [
    "df.head()"
   ]
  },
  {
   "cell_type": "code",
   "execution_count": 4,
   "metadata": {
    "hideCode": false,
    "hidePrompt": false,
    "scrolled": false
   },
   "outputs": [
    {
     "name": "stdout",
     "output_type": "stream",
     "text": [
      "<class 'pandas.core.frame.DataFrame'>\n",
      "RangeIndex: 119390 entries, 0 to 119389\n",
      "Data columns (total 32 columns):\n",
      "hotel                             119390 non-null object\n",
      "is_canceled                       119390 non-null int64\n",
      "lead_time                         119390 non-null int64\n",
      "arrival_date_year                 119390 non-null int64\n",
      "arrival_date_month                119390 non-null object\n",
      "arrival_date_week_number          119390 non-null int64\n",
      "arrival_date_day_of_month         119390 non-null int64\n",
      "stays_in_weekend_nights           119390 non-null int64\n",
      "stays_in_week_nights              119390 non-null int64\n",
      "adults                            119390 non-null int64\n",
      "children                          119386 non-null float64\n",
      "babies                            119390 non-null int64\n",
      "meal                              119390 non-null object\n",
      "country                           118902 non-null object\n",
      "market_segment                    119390 non-null object\n",
      "distribution_channel              119390 non-null object\n",
      "is_repeated_guest                 119390 non-null int64\n",
      "previous_cancellations            119390 non-null int64\n",
      "previous_bookings_not_canceled    119390 non-null int64\n",
      "reserved_room_type                119390 non-null object\n",
      "assigned_room_type                119390 non-null object\n",
      "booking_changes                   119390 non-null int64\n",
      "deposit_type                      119390 non-null object\n",
      "agent                             103050 non-null float64\n",
      "company                           6797 non-null float64\n",
      "days_in_waiting_list              119390 non-null int64\n",
      "customer_type                     119390 non-null object\n",
      "adr                               119390 non-null float64\n",
      "required_car_parking_spaces       119390 non-null int64\n",
      "total_of_special_requests         119390 non-null int64\n",
      "reservation_status                119390 non-null object\n",
      "reservation_status_date           119390 non-null object\n",
      "dtypes: float64(4), int64(16), object(12)\n",
      "memory usage: 29.1+ MB\n"
     ]
    }
   ],
   "source": [
    "#verificando os valores do dataset\n",
    "df.info()"
   ]
  },
  {
   "cell_type": "markdown",
   "metadata": {
    "hideCode": false,
    "hidePrompt": false
   },
   "source": [
    "É possivel observar que as Colunas children, country, company e agent contem valores missing"
   ]
  },
  {
   "cell_type": "code",
   "execution_count": 5,
   "metadata": {
    "hideCode": false,
    "hidePrompt": false
   },
   "outputs": [
    {
     "data": {
      "text/html": [
       "<div>\n",
       "<style scoped>\n",
       "    .dataframe tbody tr th:only-of-type {\n",
       "        vertical-align: middle;\n",
       "    }\n",
       "\n",
       "    .dataframe tbody tr th {\n",
       "        vertical-align: top;\n",
       "    }\n",
       "\n",
       "    .dataframe thead th {\n",
       "        text-align: right;\n",
       "    }\n",
       "</style>\n",
       "<table border=\"1\" class=\"dataframe\">\n",
       "  <thead>\n",
       "    <tr style=\"text-align: right;\">\n",
       "      <th></th>\n",
       "      <th>is_canceled</th>\n",
       "      <th>lead_time</th>\n",
       "      <th>arrival_date_year</th>\n",
       "      <th>arrival_date_week_number</th>\n",
       "      <th>arrival_date_day_of_month</th>\n",
       "      <th>stays_in_weekend_nights</th>\n",
       "      <th>stays_in_week_nights</th>\n",
       "      <th>adults</th>\n",
       "      <th>children</th>\n",
       "      <th>babies</th>\n",
       "      <th>is_repeated_guest</th>\n",
       "      <th>previous_cancellations</th>\n",
       "      <th>previous_bookings_not_canceled</th>\n",
       "      <th>booking_changes</th>\n",
       "      <th>agent</th>\n",
       "      <th>company</th>\n",
       "      <th>days_in_waiting_list</th>\n",
       "      <th>adr</th>\n",
       "      <th>required_car_parking_spaces</th>\n",
       "      <th>total_of_special_requests</th>\n",
       "    </tr>\n",
       "  </thead>\n",
       "  <tbody>\n",
       "    <tr>\n",
       "      <th>count</th>\n",
       "      <td>119390.000000</td>\n",
       "      <td>119390.000000</td>\n",
       "      <td>119390.000000</td>\n",
       "      <td>119390.000000</td>\n",
       "      <td>119390.000000</td>\n",
       "      <td>119390.000000</td>\n",
       "      <td>119390.000000</td>\n",
       "      <td>119390.000000</td>\n",
       "      <td>119386.000000</td>\n",
       "      <td>119390.000000</td>\n",
       "      <td>119390.000000</td>\n",
       "      <td>119390.000000</td>\n",
       "      <td>119390.000000</td>\n",
       "      <td>119390.000000</td>\n",
       "      <td>103050.000000</td>\n",
       "      <td>6797.000000</td>\n",
       "      <td>119390.000000</td>\n",
       "      <td>119390.000000</td>\n",
       "      <td>119390.000000</td>\n",
       "      <td>119390.000000</td>\n",
       "    </tr>\n",
       "    <tr>\n",
       "      <th>mean</th>\n",
       "      <td>0.370416</td>\n",
       "      <td>104.011416</td>\n",
       "      <td>2016.156554</td>\n",
       "      <td>27.165173</td>\n",
       "      <td>15.798241</td>\n",
       "      <td>0.927599</td>\n",
       "      <td>2.500302</td>\n",
       "      <td>1.856403</td>\n",
       "      <td>0.103890</td>\n",
       "      <td>0.007949</td>\n",
       "      <td>0.031912</td>\n",
       "      <td>0.087118</td>\n",
       "      <td>0.137097</td>\n",
       "      <td>0.221124</td>\n",
       "      <td>86.693382</td>\n",
       "      <td>189.266735</td>\n",
       "      <td>2.321149</td>\n",
       "      <td>101.831122</td>\n",
       "      <td>0.062518</td>\n",
       "      <td>0.571363</td>\n",
       "    </tr>\n",
       "    <tr>\n",
       "      <th>std</th>\n",
       "      <td>0.482918</td>\n",
       "      <td>106.863097</td>\n",
       "      <td>0.707476</td>\n",
       "      <td>13.605138</td>\n",
       "      <td>8.780829</td>\n",
       "      <td>0.998613</td>\n",
       "      <td>1.908286</td>\n",
       "      <td>0.579261</td>\n",
       "      <td>0.398561</td>\n",
       "      <td>0.097436</td>\n",
       "      <td>0.175767</td>\n",
       "      <td>0.844336</td>\n",
       "      <td>1.497437</td>\n",
       "      <td>0.652306</td>\n",
       "      <td>110.774548</td>\n",
       "      <td>131.655015</td>\n",
       "      <td>17.594721</td>\n",
       "      <td>50.535790</td>\n",
       "      <td>0.245291</td>\n",
       "      <td>0.792798</td>\n",
       "    </tr>\n",
       "    <tr>\n",
       "      <th>min</th>\n",
       "      <td>0.000000</td>\n",
       "      <td>0.000000</td>\n",
       "      <td>2015.000000</td>\n",
       "      <td>1.000000</td>\n",
       "      <td>1.000000</td>\n",
       "      <td>0.000000</td>\n",
       "      <td>0.000000</td>\n",
       "      <td>0.000000</td>\n",
       "      <td>0.000000</td>\n",
       "      <td>0.000000</td>\n",
       "      <td>0.000000</td>\n",
       "      <td>0.000000</td>\n",
       "      <td>0.000000</td>\n",
       "      <td>0.000000</td>\n",
       "      <td>1.000000</td>\n",
       "      <td>6.000000</td>\n",
       "      <td>0.000000</td>\n",
       "      <td>-6.380000</td>\n",
       "      <td>0.000000</td>\n",
       "      <td>0.000000</td>\n",
       "    </tr>\n",
       "    <tr>\n",
       "      <th>25%</th>\n",
       "      <td>0.000000</td>\n",
       "      <td>18.000000</td>\n",
       "      <td>2016.000000</td>\n",
       "      <td>16.000000</td>\n",
       "      <td>8.000000</td>\n",
       "      <td>0.000000</td>\n",
       "      <td>1.000000</td>\n",
       "      <td>2.000000</td>\n",
       "      <td>0.000000</td>\n",
       "      <td>0.000000</td>\n",
       "      <td>0.000000</td>\n",
       "      <td>0.000000</td>\n",
       "      <td>0.000000</td>\n",
       "      <td>0.000000</td>\n",
       "      <td>9.000000</td>\n",
       "      <td>62.000000</td>\n",
       "      <td>0.000000</td>\n",
       "      <td>69.290000</td>\n",
       "      <td>0.000000</td>\n",
       "      <td>0.000000</td>\n",
       "    </tr>\n",
       "    <tr>\n",
       "      <th>50%</th>\n",
       "      <td>0.000000</td>\n",
       "      <td>69.000000</td>\n",
       "      <td>2016.000000</td>\n",
       "      <td>28.000000</td>\n",
       "      <td>16.000000</td>\n",
       "      <td>1.000000</td>\n",
       "      <td>2.000000</td>\n",
       "      <td>2.000000</td>\n",
       "      <td>0.000000</td>\n",
       "      <td>0.000000</td>\n",
       "      <td>0.000000</td>\n",
       "      <td>0.000000</td>\n",
       "      <td>0.000000</td>\n",
       "      <td>0.000000</td>\n",
       "      <td>14.000000</td>\n",
       "      <td>179.000000</td>\n",
       "      <td>0.000000</td>\n",
       "      <td>94.575000</td>\n",
       "      <td>0.000000</td>\n",
       "      <td>0.000000</td>\n",
       "    </tr>\n",
       "    <tr>\n",
       "      <th>75%</th>\n",
       "      <td>1.000000</td>\n",
       "      <td>160.000000</td>\n",
       "      <td>2017.000000</td>\n",
       "      <td>38.000000</td>\n",
       "      <td>23.000000</td>\n",
       "      <td>2.000000</td>\n",
       "      <td>3.000000</td>\n",
       "      <td>2.000000</td>\n",
       "      <td>0.000000</td>\n",
       "      <td>0.000000</td>\n",
       "      <td>0.000000</td>\n",
       "      <td>0.000000</td>\n",
       "      <td>0.000000</td>\n",
       "      <td>0.000000</td>\n",
       "      <td>229.000000</td>\n",
       "      <td>270.000000</td>\n",
       "      <td>0.000000</td>\n",
       "      <td>126.000000</td>\n",
       "      <td>0.000000</td>\n",
       "      <td>1.000000</td>\n",
       "    </tr>\n",
       "    <tr>\n",
       "      <th>max</th>\n",
       "      <td>1.000000</td>\n",
       "      <td>737.000000</td>\n",
       "      <td>2017.000000</td>\n",
       "      <td>53.000000</td>\n",
       "      <td>31.000000</td>\n",
       "      <td>19.000000</td>\n",
       "      <td>50.000000</td>\n",
       "      <td>55.000000</td>\n",
       "      <td>10.000000</td>\n",
       "      <td>10.000000</td>\n",
       "      <td>1.000000</td>\n",
       "      <td>26.000000</td>\n",
       "      <td>72.000000</td>\n",
       "      <td>21.000000</td>\n",
       "      <td>535.000000</td>\n",
       "      <td>543.000000</td>\n",
       "      <td>391.000000</td>\n",
       "      <td>5400.000000</td>\n",
       "      <td>8.000000</td>\n",
       "      <td>5.000000</td>\n",
       "    </tr>\n",
       "  </tbody>\n",
       "</table>\n",
       "</div>"
      ],
      "text/plain": [
       "         is_canceled      lead_time  arrival_date_year  \\\n",
       "count  119390.000000  119390.000000      119390.000000   \n",
       "mean        0.370416     104.011416        2016.156554   \n",
       "std         0.482918     106.863097           0.707476   \n",
       "min         0.000000       0.000000        2015.000000   \n",
       "25%         0.000000      18.000000        2016.000000   \n",
       "50%         0.000000      69.000000        2016.000000   \n",
       "75%         1.000000     160.000000        2017.000000   \n",
       "max         1.000000     737.000000        2017.000000   \n",
       "\n",
       "       arrival_date_week_number  arrival_date_day_of_month  \\\n",
       "count             119390.000000              119390.000000   \n",
       "mean                  27.165173                  15.798241   \n",
       "std                   13.605138                   8.780829   \n",
       "min                    1.000000                   1.000000   \n",
       "25%                   16.000000                   8.000000   \n",
       "50%                   28.000000                  16.000000   \n",
       "75%                   38.000000                  23.000000   \n",
       "max                   53.000000                  31.000000   \n",
       "\n",
       "       stays_in_weekend_nights  stays_in_week_nights         adults  \\\n",
       "count            119390.000000         119390.000000  119390.000000   \n",
       "mean                  0.927599              2.500302       1.856403   \n",
       "std                   0.998613              1.908286       0.579261   \n",
       "min                   0.000000              0.000000       0.000000   \n",
       "25%                   0.000000              1.000000       2.000000   \n",
       "50%                   1.000000              2.000000       2.000000   \n",
       "75%                   2.000000              3.000000       2.000000   \n",
       "max                  19.000000             50.000000      55.000000   \n",
       "\n",
       "            children         babies  is_repeated_guest  \\\n",
       "count  119386.000000  119390.000000      119390.000000   \n",
       "mean        0.103890       0.007949           0.031912   \n",
       "std         0.398561       0.097436           0.175767   \n",
       "min         0.000000       0.000000           0.000000   \n",
       "25%         0.000000       0.000000           0.000000   \n",
       "50%         0.000000       0.000000           0.000000   \n",
       "75%         0.000000       0.000000           0.000000   \n",
       "max        10.000000      10.000000           1.000000   \n",
       "\n",
       "       previous_cancellations  previous_bookings_not_canceled  \\\n",
       "count           119390.000000                   119390.000000   \n",
       "mean                 0.087118                        0.137097   \n",
       "std                  0.844336                        1.497437   \n",
       "min                  0.000000                        0.000000   \n",
       "25%                  0.000000                        0.000000   \n",
       "50%                  0.000000                        0.000000   \n",
       "75%                  0.000000                        0.000000   \n",
       "max                 26.000000                       72.000000   \n",
       "\n",
       "       booking_changes          agent      company  days_in_waiting_list  \\\n",
       "count    119390.000000  103050.000000  6797.000000         119390.000000   \n",
       "mean          0.221124      86.693382   189.266735              2.321149   \n",
       "std           0.652306     110.774548   131.655015             17.594721   \n",
       "min           0.000000       1.000000     6.000000              0.000000   \n",
       "25%           0.000000       9.000000    62.000000              0.000000   \n",
       "50%           0.000000      14.000000   179.000000              0.000000   \n",
       "75%           0.000000     229.000000   270.000000              0.000000   \n",
       "max          21.000000     535.000000   543.000000            391.000000   \n",
       "\n",
       "                 adr  required_car_parking_spaces  total_of_special_requests  \n",
       "count  119390.000000                119390.000000              119390.000000  \n",
       "mean      101.831122                     0.062518                   0.571363  \n",
       "std        50.535790                     0.245291                   0.792798  \n",
       "min        -6.380000                     0.000000                   0.000000  \n",
       "25%        69.290000                     0.000000                   0.000000  \n",
       "50%        94.575000                     0.000000                   0.000000  \n",
       "75%       126.000000                     0.000000                   1.000000  \n",
       "max      5400.000000                     8.000000                   5.000000  "
      ]
     },
     "execution_count": 5,
     "metadata": {},
     "output_type": "execute_result"
    }
   ],
   "source": [
    "df.describe()"
   ]
  },
  {
   "cell_type": "markdown",
   "metadata": {
    "hideCode": false,
    "hidePrompt": false
   },
   "source": [
    "# Limpeza e tratamento dos dados"
   ]
  },
  {
   "cell_type": "code",
   "execution_count": 6,
   "metadata": {
    "hideCode": false,
    "hidePrompt": false,
    "scrolled": false
   },
   "outputs": [
    {
     "data": {
      "text/plain": [
       "hotel                                  0\n",
       "is_canceled                            0\n",
       "lead_time                              0\n",
       "arrival_date_year                      0\n",
       "arrival_date_month                     0\n",
       "arrival_date_week_number               0\n",
       "arrival_date_day_of_month              0\n",
       "stays_in_weekend_nights                0\n",
       "stays_in_week_nights                   0\n",
       "adults                                 0\n",
       "children                               4\n",
       "babies                                 0\n",
       "meal                                   0\n",
       "country                              488\n",
       "market_segment                         0\n",
       "distribution_channel                   0\n",
       "is_repeated_guest                      0\n",
       "previous_cancellations                 0\n",
       "previous_bookings_not_canceled         0\n",
       "reserved_room_type                     0\n",
       "assigned_room_type                     0\n",
       "booking_changes                        0\n",
       "deposit_type                           0\n",
       "agent                              16340\n",
       "company                           112593\n",
       "days_in_waiting_list                   0\n",
       "customer_type                          0\n",
       "adr                                    0\n",
       "required_car_parking_spaces            0\n",
       "total_of_special_requests              0\n",
       "reservation_status                     0\n",
       "reservation_status_date                0\n",
       "dtype: int64"
      ]
     },
     "execution_count": 6,
     "metadata": {},
     "output_type": "execute_result"
    }
   ],
   "source": [
    "#verificando os valores null\n",
    "df.isnull().sum()"
   ]
  },
  {
   "cell_type": "code",
   "execution_count": 7,
   "metadata": {
    "hideCode": false,
    "hidePrompt": false
   },
   "outputs": [],
   "source": [
    "#Os métodos abaixo preenchem os valones NaN com 0 caso na mesma liinha da reserva tenha valores NaN em agent e company\n",
    "#indicando que a reserva foi feita sem uma agência de viagens e sem ser pela empresa\n",
    "\n",
    "#Agent\n",
    "#método que gera verifica em cada linha se o valor é nulo nas duas colunas e caso sejam, altera o valor para 0 no agente\n",
    "#caso não sejam nulos ele retorna o valor antigo e ao final devolve uma serie\n",
    "def fill_ag(agent,company): \n",
    "    listagem = []\n",
    "    for i in range(len(agent)):\n",
    "        if((np.isnan(agent[i]) == True) and (np.isnan(company[i]) == True)):\n",
    "            listagem.append(0)\n",
    "        else:\n",
    "            listagem.append(agent[i])\n",
    "    return pd.Series(listagem)\n",
    "\n",
    "#Company\n",
    "#método que gera verifica em cada linha se o valor é 0 em agent e nulo na coluna company caso sejam, altera o valor para 0\n",
    "# em company, caso não sejam 0 e nulo ele retorna o valor antigo e ao final devolve uma serie\n",
    "def fill_cp(agent,company):   \n",
    "    listagem = []\n",
    "    for i in range(len(company)):\n",
    "        if((agent[i] == 0) and (np.isnan(company[i]) == True)):\n",
    "            listagem.append(0)\n",
    "        else:\n",
    "            listagem.append(company[i])\n",
    "    return pd.Series(listagem)"
   ]
  },
  {
   "cell_type": "code",
   "execution_count": 8,
   "metadata": {
    "hideCode": false,
    "hidePrompt": false
   },
   "outputs": [],
   "source": [
    "#Preenchendo os valores de agent e company que são nulos \n",
    "\n",
    "#objeto que pega o tempo atual em segundos e grava na varriavel inicio\n",
    "inicio = time.time()\n",
    "df['agent'] = fill_ag(df['agent'],df['company'])\n",
    "df['company'] = fill_cp(df['agent'],df['company'])\n",
    "#objeto que pega o tempo atual em segundos e grava na varriavel fim\n",
    "fim = time.time()\n",
    "\n",
    "#imprime a diferença de tempo emtre o inicio e fim\n",
    "#print(fim - inicio)\n",
    "\n",
    "#Preenchendo os valores que sobraram em agent e company\n",
    "#3333 = viajou com empresa\n",
    "df['agent'].fillna(3333,inplace=True)\n",
    "\n",
    "#1111 = viajou com agencia\n",
    "df['company'].fillna(1111,inplace=True)\n",
    "\n",
    "#Apagando os dados de children que são nulos\n",
    "df['children'].fillna(0,inplace=True)\n",
    "\n",
    "#Apagando os dados de country que são nulos\n",
    "df['country'].fillna('Desconhecido',inplace=True)\n",
    "\n",
    "#Crio uma lista contendo todos os indices de adultos,crianças e bebes com valor igual a 0\n",
    "visitantes = list(df.loc[df[\"adults\"]+ df[\"children\"]+ df[\"babies\"]==0].index)\n",
    "\n",
    "#Dropo esses valores zerados\n",
    "df.drop(df.index[visitantes],inplace=True)\n",
    "\n",
    "#de acordo com a descrição das colunas Undefined e SC são a mesma informação\n",
    "df['meal'].replace(\"Undefined\", \"SC\", inplace=True)\n",
    "\n",
    "#Corrigindo um outlier\n",
    "df['adr'].replace(5400,df['adr'].median(),inplace=True)\n",
    "\n",
    "#Traduzindo o nome dos meses\n",
    "df['arrival_date_month'].replace([\"January\", \"February\", \"March\", \"April\", \"May\", \"June\", \"July\", \"August\", \"September\", \"October\", \"November\", \"December\"],\n",
    "           ['Janeiro','Fevereiro','Marco','Abril','Maio','Junho','Julho','Agosto','Setembro','Outubro', 'Novembro','Dezembro'],inplace=True)\n",
    "\n",
    "#Criando uma lista com os meses ordenados\n",
    "ordered_months = ['Janeiro','Fevereiro','Marco','Abril','Maio','Junho','Julho','Agosto','Setembro','Outubro', 'Novembro','Dezembro']\n",
    "#Gravando os meses categorizados, com isso será possível ver os meses na ordem\n",
    "df[\"arrival_date_month\"] = pd.Categorical(df[\"arrival_date_month\"], categories=ordered_months, ordered=True)"
   ]
  },
  {
   "cell_type": "markdown",
   "metadata": {
    "hideCode": false,
    "hidePrompt": false
   },
   "source": [
    "# Análise Exploratória\n",
    "<hr>"
   ]
  },
  {
   "cell_type": "markdown",
   "metadata": {
    "hideCode": false,
    "hidePrompt": false
   },
   "source": [
    "### Qual é a epoca de maior movimento?"
   ]
  },
  {
   "cell_type": "code",
   "execution_count": 9,
   "metadata": {
    "hideCode": false,
    "hidePrompt": false
   },
   "outputs": [],
   "source": [
    "#Setando um fundo branco nos gráficos\n",
    "sns.set_style(\"whitegrid\")"
   ]
  },
  {
   "cell_type": "code",
   "execution_count": 10,
   "metadata": {
    "hideCode": false,
    "hidePrompt": false
   },
   "outputs": [
    {
     "data": {
      "image/png": "[encoded data removed]",
      "text/plain": [
       "<Figure size 1080x576 with 1 Axes>"
      ]
     },
     "metadata": {},
     "output_type": "display_data"
    }
   ],
   "source": [
    "plt.figure(figsize=(15,8))\n",
    "sns.countplot(x=df['arrival_date_month'],palette='viridis',alpha=0.8,hue=df['hotel'])\n",
    "\n",
    "plt.rcParams['legend.fontsize'] = 13\n",
    "plt.ylabel(\"Quantidade de reservas\",fontsize=16)\n",
    "plt.xlabel(\"Meses\",fontsize=16)\n",
    "plt.title(\"Quantidade de reservas por mês\",fontsize=16)\n",
    "plt.show()"
   ]
  },
  {
   "cell_type": "markdown",
   "metadata": {
    "hideCode": false,
    "hidePrompt": false
   },
   "source": [
    "Os meses com maior número de visitantes no resort são os meses de verão, julho e agosto, um padrão parecido acontece no hotel, o pico no número de visitantes também é em agosto. É possível observar que em ambos o movimento começa a apresentar crescimento em fevereiro e diminui em setembro.\n"
   ]
  },
  {
   "cell_type": "markdown",
   "metadata": {
    "hideCode": false,
    "hidePrompt": false
   },
   "source": [
    "### Qual melhor época do ano para se fazer reserva? \n",
    "> Revisar este trecho\n"
   ]
  },
  {
   "cell_type": "markdown",
   "metadata": {
    "hideCode": false,
    "hidePrompt": false
   },
   "source": [
    "Se tratando do hotel em <strong>Lisboa</strong>, os meses mais frequentados são abril, maio, junho, julho, agosto e setembro por conta da primavera e verão, porém mesmo sendo uma bela cidade para se visitar no inverno o número de hospedes no hotel diminui consideravelmente comparando com os meses mais quentes. <br><br>Já <strong>Algarve</strong> tem como pico os meses de julho e agosto, por ser uma cidade litorânea suas praias atraem mutos visitantes nessa época, no restante do ano, com exceção de novembro a janeiro que são os meses mais frios o resort mantém uma média de 3300 visitantes por mês."
   ]
  },
  {
   "cell_type": "code",
   "execution_count": 11,
   "metadata": {
    "hideCode": false,
    "hidePrompt": false,
    "scrolled": false
   },
   "outputs": [
    {
     "data": {
      "image/png": "[encoded data removed]",
      "text/plain": [
       "<Figure size 1080x576 with 1 Axes>"
      ]
     },
     "metadata": {},
     "output_type": "display_data"
    }
   ],
   "source": [
    "#Criação de uma coluna com a média das diarias por pessoa\n",
    "df['adr_individual'] = df['adr'] / (df['adults' ]+ df['children'])\n",
    "\n",
    "#Pegando os quartos que não foram cancelados\n",
    "res = df[df['is_canceled'] == 0]\n",
    "plt.figure(figsize=(15,8))\n",
    "sns.lineplot(x='arrival_date_month',y='adr_individual',data=res,hue ='hotel',ci=0,palette='viridis')\n",
    "\n",
    "plt.rcParams['legend.fontsize'] = 13\n",
    "plt.ylabel(\"Valor de reservas\",fontsize=16)\n",
    "plt.xlabel(\"Meses\",fontsize=16)\n",
    "plt.title(\"Preço das reservas por mês\",fontsize=16)\n",
    "plt.show()"
   ]
  },
  {
   "cell_type": "markdown",
   "metadata": {
    "hideCode": false,
    "hidePrompt": false
   },
   "source": [
    "Em relação ao preço das diárias, o valor por pessoa hospedada no resort começa a subir no mês de maio que é considerado média temporada na região de <strong>Algarve</strong> e só volta a cair no fim da alta temporada, meses como maio e setembro são considerados bons para se visitar a cidade pois nesses meses é possivel aproveitar o calor sem enfrentar lugares muito movimentados economizando um pouco maisnas diárias.\n",
    "\n",
    "Em <strong>Lisboa</strong> ocorre o contrario, meses como maio e setembro acabam tendo uma alta no preço e apresentando uma queda nos outros meses de calor, tendo julho e agosto com as diarias mais baixas (Curiosamente os meses mais quentes)\n",
    "\n",
    "Nos dois hoteis analisados é exibido o mesmo padrão, os preços são mais altos nos meses quentes e caem abruptamente nos meses mais frios"
   ]
  },
  {
   "cell_type": "markdown",
   "metadata": {
    "hideCode": false,
    "hidePrompt": false
   },
   "source": [
    "### Quanto os hospedes estão costumam gastar com as diarias?"
   ]
  },
  {
   "cell_type": "code",
   "execution_count": 12,
   "metadata": {
    "hideCode": false,
    "hidePrompt": false
   },
   "outputs": [],
   "source": [
    "#Selecionando apenas clientes que não cancelaram e se hospedaram no resort\n",
    "rh = df[df['hotel'] == 'Resort Hotel']\n",
    "rh = rh[rh['is_canceled'] == 0]\n",
    "#Selecionando apenas clientes que não cancelaram e se hospedaram no hotel\n",
    "ch = df[df['hotel'] == 'City Hotel']\n",
    "ch =ch[ch['is_canceled'] == 0]"
   ]
  },
  {
   "cell_type": "code",
   "execution_count": 13,
   "metadata": {
    "hideCode": false,
    "hidePrompt": false
   },
   "outputs": [
    {
     "name": "stdout",
     "output_type": "stream",
     "text": [
      "Os hóspedes do Resort em Algarve costumam pagar em média 47.49€ por pessoa e por noite.\n",
      "Já os hóspedes do Hotel localizado em Lisboa costumam pagar 59.27€ por pessoa e por noite.\n"
     ]
    }
   ],
   "source": [
    "print('Os hóspedes do Resort em Algarve costumam pagar em média {:.2f}€ por pessoa e por noite.'.format(rh['adr_individual'].mean()))\n",
    "print('Já os hóspedes do Hotel localizado em Lisboa costumam pagar {:.2f}€ por pessoa e por noite.'.format(ch['adr_individual'].mean()))"
   ]
  },
  {
   "cell_type": "markdown",
   "metadata": {
    "hideCode": false,
    "hidePrompt": false
   },
   "source": [
    "### Preço médio dos quartos?"
   ]
  },
  {
   "cell_type": "code",
   "execution_count": 14,
   "metadata": {
    "hideCode": false,
    "hidePrompt": false,
    "scrolled": false
   },
   "outputs": [
    {
     "data": {
      "image/png": "[encoded data removed]",
      "text/plain": [
       "<Figure size 1080x576 with 1 Axes>"
      ]
     },
     "metadata": {},
     "output_type": "display_data"
    }
   ],
   "source": [
    "pmedio_quartos = df[df['is_canceled'] == 0]\n",
    "plt.figure(figsize=(15,8))\n",
    "sns.boxplot(x=pmedio_quartos['assigned_room_type'].sort_values(),y='adr_individual',\n",
    "            data=pmedio_quartos,fliersize=0,hue='hotel',palette='viridis')\n",
    "plt.ylim(0,200)\n",
    "\n",
    "plt.rcParams['legend.fontsize'] = 13\n",
    "\n",
    "plt.title(\"Tipo de quarto\",fontsize=16)\n",
    "plt.ylabel('Preço individual',fontsize=16)\n",
    "plt.xlabel('Tipo de quarto',fontsize=16)\n",
    "plt.show()"
   ]
  },
  {
   "cell_type": "markdown",
   "metadata": {
    "hideCode": false,
    "hidePrompt": false
   },
   "source": [
    "O gráfico acima mostra a distribuição dos preços por quarto. Os quartos foram distribuidos aleatoriamente para manter o anonimato, então é possivel que tenha quartos no resort e no hotel com a mesma letra porém com preços diferentes"
   ]
  },
  {
   "cell_type": "code",
   "execution_count": 15,
   "metadata": {
    "hideCode": false,
    "hidePrompt": false
   },
   "outputs": [
    {
     "data": {
      "text/html": [
       "<div>\n",
       "<style scoped>\n",
       "    .dataframe tbody tr th:only-of-type {\n",
       "        vertical-align: middle;\n",
       "    }\n",
       "\n",
       "    .dataframe tbody tr th {\n",
       "        vertical-align: top;\n",
       "    }\n",
       "\n",
       "    .dataframe thead th {\n",
       "        text-align: right;\n",
       "    }\n",
       "</style>\n",
       "<table border=\"1\" class=\"dataframe\">\n",
       "  <thead>\n",
       "    <tr style=\"text-align: right;\">\n",
       "      <th></th>\n",
       "      <th>Quarto</th>\n",
       "      <th>Preco</th>\n",
       "    </tr>\n",
       "  </thead>\n",
       "  <tbody>\n",
       "    <tr>\n",
       "      <th>8</th>\n",
       "      <td>I</td>\n",
       "      <td>20.387745</td>\n",
       "    </tr>\n",
       "    <tr>\n",
       "      <th>3</th>\n",
       "      <td>D</td>\n",
       "      <td>44.567274</td>\n",
       "    </tr>\n",
       "    <tr>\n",
       "      <th>2</th>\n",
       "      <td>C</td>\n",
       "      <td>45.392404</td>\n",
       "    </tr>\n",
       "    <tr>\n",
       "      <th>0</th>\n",
       "      <td>A</td>\n",
       "      <td>46.111934</td>\n",
       "    </tr>\n",
       "    <tr>\n",
       "      <th>7</th>\n",
       "      <td>H</td>\n",
       "      <td>50.723876</td>\n",
       "    </tr>\n",
       "    <tr>\n",
       "      <th>4</th>\n",
       "      <td>E</td>\n",
       "      <td>53.031747</td>\n",
       "    </tr>\n",
       "    <tr>\n",
       "      <th>6</th>\n",
       "      <td>G</td>\n",
       "      <td>54.811204</td>\n",
       "    </tr>\n",
       "    <tr>\n",
       "      <th>1</th>\n",
       "      <td>B</td>\n",
       "      <td>55.923589</td>\n",
       "    </tr>\n",
       "    <tr>\n",
       "      <th>5</th>\n",
       "      <td>F</td>\n",
       "      <td>59.083839</td>\n",
       "    </tr>\n",
       "  </tbody>\n",
       "</table>\n",
       "</div>"
      ],
      "text/plain": [
       "  Quarto      Preco\n",
       "8      I  20.387745\n",
       "3      D  44.567274\n",
       "2      C  45.392404\n",
       "0      A  46.111934\n",
       "7      H  50.723876\n",
       "4      E  53.031747\n",
       "6      G  54.811204\n",
       "1      B  55.923589\n",
       "5      F  59.083839"
      ]
     },
     "execution_count": 15,
     "metadata": {},
     "output_type": "execute_result"
    }
   ],
   "source": [
    "media_quarto_rh = df['adr_individual'].groupby(rh['assigned_room_type']).mean().reset_index()\n",
    "media_quarto_rh.rename(columns={'assigned_room_type':'Quarto','adr_individual':'Preco'},inplace=True)\n",
    "media_quarto_rh.sort_values(by='Preco')"
   ]
  },
  {
   "cell_type": "markdown",
   "metadata": {
    "hideCode": false,
    "hidePrompt": false
   },
   "source": [
    "Esta listagem mostra o preço médio dos quartos no Resort"
   ]
  },
  {
   "cell_type": "code",
   "execution_count": 16,
   "metadata": {
    "hideCode": false,
    "hidePrompt": false
   },
   "outputs": [
    {
     "data": {
      "text/html": [
       "<div>\n",
       "<style scoped>\n",
       "    .dataframe tbody tr th:only-of-type {\n",
       "        vertical-align: middle;\n",
       "    }\n",
       "\n",
       "    .dataframe tbody tr th {\n",
       "        vertical-align: top;\n",
       "    }\n",
       "\n",
       "    .dataframe thead th {\n",
       "        text-align: right;\n",
       "    }\n",
       "</style>\n",
       "<table border=\"1\" class=\"dataframe\">\n",
       "  <thead>\n",
       "    <tr style=\"text-align: right;\">\n",
       "      <th></th>\n",
       "      <th>Quarto</th>\n",
       "      <th>Preco</th>\n",
       "    </tr>\n",
       "  </thead>\n",
       "  <tbody>\n",
       "    <tr>\n",
       "      <th>7</th>\n",
       "      <td>K</td>\n",
       "      <td>42.317363</td>\n",
       "    </tr>\n",
       "    <tr>\n",
       "      <th>1</th>\n",
       "      <td>B</td>\n",
       "      <td>54.204633</td>\n",
       "    </tr>\n",
       "    <tr>\n",
       "      <th>5</th>\n",
       "      <td>F</td>\n",
       "      <td>57.867544</td>\n",
       "    </tr>\n",
       "    <tr>\n",
       "      <th>3</th>\n",
       "      <td>D</td>\n",
       "      <td>58.983686</td>\n",
       "    </tr>\n",
       "    <tr>\n",
       "      <th>2</th>\n",
       "      <td>C</td>\n",
       "      <td>59.102238</td>\n",
       "    </tr>\n",
       "    <tr>\n",
       "      <th>0</th>\n",
       "      <td>A</td>\n",
       "      <td>59.123993</td>\n",
       "    </tr>\n",
       "    <tr>\n",
       "      <th>6</th>\n",
       "      <td>G</td>\n",
       "      <td>63.261562</td>\n",
       "    </tr>\n",
       "    <tr>\n",
       "      <th>4</th>\n",
       "      <td>E</td>\n",
       "      <td>70.166400</td>\n",
       "    </tr>\n",
       "  </tbody>\n",
       "</table>\n",
       "</div>"
      ],
      "text/plain": [
       "  Quarto      Preco\n",
       "7      K  42.317363\n",
       "1      B  54.204633\n",
       "5      F  57.867544\n",
       "3      D  58.983686\n",
       "2      C  59.102238\n",
       "0      A  59.123993\n",
       "6      G  63.261562\n",
       "4      E  70.166400"
      ]
     },
     "execution_count": 16,
     "metadata": {},
     "output_type": "execute_result"
    }
   ],
   "source": [
    "media_quarto_ch = df['adr_individual'].groupby(ch['assigned_room_type']).mean().reset_index()\n",
    "media_quarto_ch.rename(columns={'assigned_room_type':'Quarto','adr_individual':'Preco'},inplace=True)\n",
    "media_quarto_ch.sort_values(by='Preco')"
   ]
  },
  {
   "cell_type": "markdown",
   "metadata": {
    "hideCode": false,
    "hidePrompt": false
   },
   "source": [
    "Já nesta outra listagem podemops ver o preço médio dos quartos do hotel"
   ]
  },
  {
   "cell_type": "markdown",
   "metadata": {
    "hideCode": false,
    "hidePrompt": false
   },
   "source": [
    "### Quantos dias que costumam se hospedar nos hoteis? "
   ]
  },
  {
   "cell_type": "code",
   "execution_count": 17,
   "metadata": {
    "hideCode": false,
    "hidePrompt": false,
    "scrolled": true
   },
   "outputs": [],
   "source": [
    "#Método para gerar uma tabela de frequencias\n",
    "def tabela_de_frequencias(ch):\n",
    "    tf = ch.value_counts().sort_index().reset_index()\n",
    "    tf.rename(columns={'index':'dias','dias_hospedados':'fi'},inplace=True)\n",
    "    tf['fri'] = np.round(ch.value_counts() / len(ch) * 100,2)\n",
    "    tf['Fi'] = tf['fi'].cumsum()\n",
    "    tf['Fri'] = np.round((tf['fi'] / len(ch)) * 100,2)\n",
    "    return tf.sort_values(by='fri',ascending=False)\n",
    "\n",
    "#Criando uma coluna somando o dia da semana com os finais de semana\n",
    "rh['dias_hospedados'] = rh['stays_in_week_nights'] + rh['stays_in_weekend_nights']\n",
    "ch['dias_hospedados'] = ch['stays_in_week_nights'] + ch['stays_in_weekend_nights']"
   ]
  },
  {
   "cell_type": "code",
   "execution_count": 18,
   "metadata": {
    "hideCode": false,
    "hidePrompt": false
   },
   "outputs": [
    {
     "data": {
      "image/png": "[encoded data removed]",
      "text/plain": [
       "<Figure size 1080x576 with 1 Axes>"
      ]
     },
     "metadata": {},
     "output_type": "display_data"
    },
    {
     "name": "stdout",
     "output_type": "stream",
     "text": [
      "Neste histograma é possível observar que cerca de 70% dos hospedes costumam ficar hospedados no hotel de 1 a 3 dias, \n",
      "na tabela abaixo temos o percentual de hospedes que costumam ficar hospedados nesses dias.\n"
     ]
    },
    {
     "data": {
      "text/html": [
       "<div>\n",
       "<style scoped>\n",
       "    .dataframe tbody tr th:only-of-type {\n",
       "        vertical-align: middle;\n",
       "    }\n",
       "\n",
       "    .dataframe tbody tr th {\n",
       "        vertical-align: top;\n",
       "    }\n",
       "\n",
       "    .dataframe thead th {\n",
       "        text-align: right;\n",
       "    }\n",
       "</style>\n",
       "<table border=\"1\" class=\"dataframe\">\n",
       "  <thead>\n",
       "    <tr style=\"text-align: right;\">\n",
       "      <th></th>\n",
       "      <th>dias</th>\n",
       "      <th>fri</th>\n",
       "    </tr>\n",
       "  </thead>\n",
       "  <tbody>\n",
       "    <tr>\n",
       "      <th>3</th>\n",
       "      <td>3</td>\n",
       "      <td>25.80</td>\n",
       "    </tr>\n",
       "    <tr>\n",
       "      <th>2</th>\n",
       "      <td>2</td>\n",
       "      <td>23.83</td>\n",
       "    </tr>\n",
       "    <tr>\n",
       "      <th>1</th>\n",
       "      <td>1</td>\n",
       "      <td>19.87</td>\n",
       "    </tr>\n",
       "    <tr>\n",
       "      <th>4</th>\n",
       "      <td>4</td>\n",
       "      <td>16.70</td>\n",
       "    </tr>\n",
       "    <tr>\n",
       "      <th>5</th>\n",
       "      <td>5</td>\n",
       "      <td>6.97</td>\n",
       "    </tr>\n",
       "    <tr>\n",
       "      <th>7</th>\n",
       "      <td>7</td>\n",
       "      <td>2.70</td>\n",
       "    </tr>\n",
       "    <tr>\n",
       "      <th>6</th>\n",
       "      <td>6</td>\n",
       "      <td>2.41</td>\n",
       "    </tr>\n",
       "    <tr>\n",
       "      <th>0</th>\n",
       "      <td>0</td>\n",
       "      <td>0.54</td>\n",
       "    </tr>\n",
       "    <tr>\n",
       "      <th>8</th>\n",
       "      <td>8</td>\n",
       "      <td>0.44</td>\n",
       "    </tr>\n",
       "    <tr>\n",
       "      <th>9</th>\n",
       "      <td>9</td>\n",
       "      <td>0.26</td>\n",
       "    </tr>\n",
       "  </tbody>\n",
       "</table>\n",
       "</div>"
      ],
      "text/plain": [
       "   dias    fri\n",
       "3     3  25.80\n",
       "2     2  23.83\n",
       "1     1  19.87\n",
       "4     4  16.70\n",
       "5     5   6.97\n",
       "7     7   2.70\n",
       "6     6   2.41\n",
       "0     0   0.54\n",
       "8     8   0.44\n",
       "9     9   0.26"
      ]
     },
     "execution_count": 18,
     "metadata": {},
     "output_type": "execute_result"
    }
   ],
   "source": [
    "#City Hotel \n",
    "plt.figure(figsize=(15,8))\n",
    "sns.distplot(ch['dias_hospedados'],bins=50,kde=False)\n",
    "plt.title(\"Quantidade de dias que as pessoas costumam se hospedar\",fontsize=16)\n",
    "plt.xlabel('Dias hospedados',fontsize=16)\n",
    "plt.xlim(0,25)\n",
    "plt.show()\n",
    "\n",
    "print('Neste histograma é possível observar que cerca de 70% dos hospedes costumam ficar hospedados no hotel de 1 a 3 dias,',\n",
    "     '\\nna tabela abaixo temos o percentual de hospedes que costumam ficar hospedados nesses dias.')\n",
    "\n",
    "tabela_de_frequencias_city_hotel = tabela_de_frequencias(ch['dias_hospedados'])\n",
    "tabela_de_frequencias_city_hotel[['dias','fri']].head(10)"
   ]
  },
  {
   "cell_type": "code",
   "execution_count": 19,
   "metadata": {
    "hideCode": false,
    "hidePrompt": false
   },
   "outputs": [
    {
     "data": {
      "image/png": "[encoded data removed]",
      "text/plain": [
       "<Figure size 1080x576 with 1 Axes>"
      ]
     },
     "metadata": {},
     "output_type": "display_data"
    },
    {
     "name": "stdout",
     "output_type": "stream",
     "text": [
      "No Resort 51% dos visitantes ficam hospedados de 1 a 3 dias, e 15% dos hospedes costumam se hospedar por uma semana \n",
      "Abaixo também é possível observar a tabela com o percentual de dias que os visitantes costumam se hospedar.\n"
     ]
    },
    {
     "data": {
      "text/html": [
       "<div>\n",
       "<style scoped>\n",
       "    .dataframe tbody tr th:only-of-type {\n",
       "        vertical-align: middle;\n",
       "    }\n",
       "\n",
       "    .dataframe tbody tr th {\n",
       "        vertical-align: top;\n",
       "    }\n",
       "\n",
       "    .dataframe thead th {\n",
       "        text-align: right;\n",
       "    }\n",
       "</style>\n",
       "<table border=\"1\" class=\"dataframe\">\n",
       "  <thead>\n",
       "    <tr style=\"text-align: right;\">\n",
       "      <th></th>\n",
       "      <th>dias</th>\n",
       "      <th>fri</th>\n",
       "    </tr>\n",
       "  </thead>\n",
       "  <tbody>\n",
       "    <tr>\n",
       "      <th>1</th>\n",
       "      <td>1</td>\n",
       "      <td>22.74</td>\n",
       "    </tr>\n",
       "    <tr>\n",
       "      <th>2</th>\n",
       "      <td>2</td>\n",
       "      <td>15.51</td>\n",
       "    </tr>\n",
       "    <tr>\n",
       "      <th>7</th>\n",
       "      <td>7</td>\n",
       "      <td>15.33</td>\n",
       "    </tr>\n",
       "    <tr>\n",
       "      <th>3</th>\n",
       "      <td>3</td>\n",
       "      <td>13.23</td>\n",
       "    </tr>\n",
       "    <tr>\n",
       "      <th>4</th>\n",
       "      <td>4</td>\n",
       "      <td>11.48</td>\n",
       "    </tr>\n",
       "    <tr>\n",
       "      <th>5</th>\n",
       "      <td>5</td>\n",
       "      <td>6.56</td>\n",
       "    </tr>\n",
       "    <tr>\n",
       "      <th>6</th>\n",
       "      <td>6</td>\n",
       "      <td>4.17</td>\n",
       "    </tr>\n",
       "    <tr>\n",
       "      <th>10</th>\n",
       "      <td>10</td>\n",
       "      <td>2.42</td>\n",
       "    </tr>\n",
       "    <tr>\n",
       "      <th>14</th>\n",
       "      <td>14</td>\n",
       "      <td>2.18</td>\n",
       "    </tr>\n",
       "    <tr>\n",
       "      <th>8</th>\n",
       "      <td>8</td>\n",
       "      <td>1.76</td>\n",
       "    </tr>\n",
       "  </tbody>\n",
       "</table>\n",
       "</div>"
      ],
      "text/plain": [
       "    dias    fri\n",
       "1      1  22.74\n",
       "2      2  15.51\n",
       "7      7  15.33\n",
       "3      3  13.23\n",
       "4      4  11.48\n",
       "5      5   6.56\n",
       "6      6   4.17\n",
       "10    10   2.42\n",
       "14    14   2.18\n",
       "8      8   1.76"
      ]
     },
     "execution_count": 19,
     "metadata": {},
     "output_type": "execute_result"
    }
   ],
   "source": [
    "#resort Hotel \n",
    "plt.figure(figsize=(15,8))\n",
    "sns.distplot(rh['dias_hospedados'],bins=70,kde=False,color='#45a778')\n",
    "plt.title(\"Quantidade de dias que as pessoas costumam se hospedar\",fontsize=16)\n",
    "plt.xlabel('Dias hospedados',fontsize=16)\n",
    "plt.xlim(0,25)\n",
    "plt.show()\n",
    "\n",
    "print('No Resort 51% dos visitantes ficam hospedados de 1 a 3 dias, e 15% dos hospedes costumam se hospedar por uma semana',\n",
    "     '\\nAbaixo também é possível observar a tabela com o percentual de dias que os visitantes costumam se hospedar.')\n",
    "\n",
    "tabela_de_frequencias_resort_hotel = tabela_de_frequencias(rh['dias_hospedados'])\n",
    "tabela_de_frequencias_resort_hotel[['dias','fri']].head(10)"
   ]
  },
  {
   "cell_type": "markdown",
   "metadata": {},
   "source": [
    "### De onde vêm a maior parte dos visitantes?"
   ]
  },
  {
   "cell_type": "code",
   "execution_count": 49,
   "metadata": {},
   "outputs": [],
   "source": [
    "import plotly.express as px\n",
    "\n",
    "paises = df['country'].value_counts()\n",
    "paises = paises.reset_index()\n",
    "paises.rename(columns={'index':'pais','country':'visitantes'},inplace=True)"
   ]
  },
  {
   "cell_type": "code",
   "execution_count": 56,
   "metadata": {
    "scrolled": true
   },
   "outputs": [
    {
     "data": {
      "application/vnd.plotly.v1+json": {
       "config": {
        "plotlyServerURL": "https://plot.ly"
       },
       "data": [
        {
         "geo": "geo",
         "hoverlabel": {
          "namelength": 0
         },
         "hovertemplate": "<b>%{hovertext}</b><br><br>pais=%{location}",
         "hovertext": [
          "PRT"
         ],
         "legendgroup": "PRT",
         "locationmode": "ISO-3",
         "locations": [
          "PRT"
         ],
         "marker": {
          "color": "#636efa"
         },
         "name": "PRT",
         "showlegend": true,
         "type": "scattergeo"
        },
        {
         "geo": "geo",
         "hoverlabel": {
          "namelength": 0
         },
         "hovertemplate": "<b>%{hovertext}</b><br><br>pais=%{location}",
         "hovertext": [
          "GBR"
         ],
         "legendgroup": "GBR",
         "locationmode": "ISO-3",
         "locations": [
          "GBR"
         ],
         "marker": {
          "color": "#EF553B"
         },
         "name": "GBR",
         "showlegend": true,
         "type": "scattergeo"
        },
        {
         "geo": "geo",
         "hoverlabel": {
          "namelength": 0
         },
         "hovertemplate": "<b>%{hovertext}</b><br><br>pais=%{location}",
         "hovertext": [
          "FRA"
         ],
         "legendgroup": "FRA",
         "locationmode": "ISO-3",
         "locations": [
          "FRA"
         ],
         "marker": {
          "color": "#00cc96"
         },
         "name": "FRA",
         "showlegend": true,
         "type": "scattergeo"
        },
        {
         "geo": "geo",
         "hoverlabel": {
          "namelength": 0
         },
         "hovertemplate": "<b>%{hovertext}</b><br><br>pais=%{location}",
         "hovertext": [
          "ESP"
         ],
         "legendgroup": "ESP",
         "locationmode": "ISO-3",
         "locations": [
          "ESP"
         ],
         "marker": {
          "color": "#ab63fa"
         },
         "name": "ESP",
         "showlegend": true,
         "type": "scattergeo"
        },
        {
         "geo": "geo",
         "hoverlabel": {
          "namelength": 0
         },
         "hovertemplate": "<b>%{hovertext}</b><br><br>pais=%{location}",
         "hovertext": [
          "DEU"
         ],
         "legendgroup": "DEU",
         "locationmode": "ISO-3",
         "locations": [
          "DEU"
         ],
         "marker": {
          "color": "#FFA15A"
         },
         "name": "DEU",
         "showlegend": true,
         "type": "scattergeo"
        },
        {
         "geo": "geo",
         "hoverlabel": {
          "namelength": 0
         },
         "hovertemplate": "<b>%{hovertext}</b><br><br>pais=%{location}",
         "hovertext": [
          "ITA"
         ],
         "legendgroup": "ITA",
         "locationmode": "ISO-3",
         "locations": [
          "ITA"
         ],
         "marker": {
          "color": "#19d3f3"
         },
         "name": "ITA",
         "showlegend": true,
         "type": "scattergeo"
        },
        {
         "geo": "geo",
         "hoverlabel": {
          "namelength": 0
         },
         "hovertemplate": "<b>%{hovertext}</b><br><br>pais=%{location}",
         "hovertext": [
          "IRL"
         ],
         "legendgroup": "IRL",
         "locationmode": "ISO-3",
         "locations": [
          "IRL"
         ],
         "marker": {
          "color": "#FF6692"
         },
         "name": "IRL",
         "showlegend": true,
         "type": "scattergeo"
        },
        {
         "geo": "geo",
         "hoverlabel": {
          "namelength": 0
         },
         "hovertemplate": "<b>%{hovertext}</b><br><br>pais=%{location}",
         "hovertext": [
          "BEL"
         ],
         "legendgroup": "BEL",
         "locationmode": "ISO-3",
         "locations": [
          "BEL"
         ],
         "marker": {
          "color": "#B6E880"
         },
         "name": "BEL",
         "showlegend": true,
         "type": "scattergeo"
        },
        {
         "geo": "geo",
         "hoverlabel": {
          "namelength": 0
         },
         "hovertemplate": "<b>%{hovertext}</b><br><br>pais=%{location}",
         "hovertext": [
          "BRA"
         ],
         "legendgroup": "BRA",
         "locationmode": "ISO-3",
         "locations": [
          "BRA"
         ],
         "marker": {
          "color": "#FF97FF"
         },
         "name": "BRA",
         "showlegend": true,
         "type": "scattergeo"
        },
        {
         "geo": "geo",
         "hoverlabel": {
          "namelength": 0
         },
         "hovertemplate": "<b>%{hovertext}</b><br><br>pais=%{location}",
         "hovertext": [
          "NLD"
         ],
         "legendgroup": "NLD",
         "locationmode": "ISO-3",
         "locations": [
          "NLD"
         ],
         "marker": {
          "color": "#FECB52"
         },
         "name": "NLD",
         "showlegend": true,
         "type": "scattergeo"
        },
        {
         "geo": "geo",
         "hoverlabel": {
          "namelength": 0
         },
         "hovertemplate": "<b>%{hovertext}</b><br><br>pais=%{location}",
         "hovertext": [
          "USA"
         ],
         "legendgroup": "USA",
         "locationmode": "ISO-3",
         "locations": [
          "USA"
         ],
         "marker": {
          "color": "#636efa"
         },
         "name": "USA",
         "showlegend": true,
         "type": "scattergeo"
        },
        {
         "geo": "geo",
         "hoverlabel": {
          "namelength": 0
         },
         "hovertemplate": "<b>%{hovertext}</b><br><br>pais=%{location}",
         "hovertext": [
          "CHE"
         ],
         "legendgroup": "CHE",
         "locationmode": "ISO-3",
         "locations": [
          "CHE"
         ],
         "marker": {
          "color": "#EF553B"
         },
         "name": "CHE",
         "showlegend": true,
         "type": "scattergeo"
        },
        {
         "geo": "geo",
         "hoverlabel": {
          "namelength": 0
         },
         "hovertemplate": "<b>%{hovertext}</b><br><br>pais=%{location}",
         "hovertext": [
          "CN"
         ],
         "legendgroup": "CN",
         "locationmode": "ISO-3",
         "locations": [
          "CN"
         ],
         "marker": {
          "color": "#00cc96"
         },
         "name": "CN",
         "showlegend": true,
         "type": "scattergeo"
        },
        {
         "geo": "geo",
         "hoverlabel": {
          "namelength": 0
         },
         "hovertemplate": "<b>%{hovertext}</b><br><br>pais=%{location}",
         "hovertext": [
          "AUT"
         ],
         "legendgroup": "AUT",
         "locationmode": "ISO-3",
         "locations": [
          "AUT"
         ],
         "marker": {
          "color": "#ab63fa"
         },
         "name": "AUT",
         "showlegend": true,
         "type": "scattergeo"
        },
        {
         "geo": "geo",
         "hoverlabel": {
          "namelength": 0
         },
         "hovertemplate": "<b>%{hovertext}</b><br><br>pais=%{location}",
         "hovertext": [
          "SWE"
         ],
         "legendgroup": "SWE",
         "locationmode": "ISO-3",
         "locations": [
          "SWE"
         ],
         "marker": {
          "color": "#FFA15A"
         },
         "name": "SWE",
         "showlegend": true,
         "type": "scattergeo"
        },
        {
         "geo": "geo",
         "hoverlabel": {
          "namelength": 0
         },
         "hovertemplate": "<b>%{hovertext}</b><br><br>pais=%{location}",
         "hovertext": [
          "CHN"
         ],
         "legendgroup": "CHN",
         "locationmode": "ISO-3",
         "locations": [
          "CHN"
         ],
         "marker": {
          "color": "#19d3f3"
         },
         "name": "CHN",
         "showlegend": true,
         "type": "scattergeo"
        },
        {
         "geo": "geo",
         "hoverlabel": {
          "namelength": 0
         },
         "hovertemplate": "<b>%{hovertext}</b><br><br>pais=%{location}",
         "hovertext": [
          "POL"
         ],
         "legendgroup": "POL",
         "locationmode": "ISO-3",
         "locations": [
          "POL"
         ],
         "marker": {
          "color": "#FF6692"
         },
         "name": "POL",
         "showlegend": true,
         "type": "scattergeo"
        },
        {
         "geo": "geo",
         "hoverlabel": {
          "namelength": 0
         },
         "hovertemplate": "<b>%{hovertext}</b><br><br>pais=%{location}",
         "hovertext": [
          "ISR"
         ],
         "legendgroup": "ISR",
         "locationmode": "ISO-3",
         "locations": [
          "ISR"
         ],
         "marker": {
          "color": "#B6E880"
         },
         "name": "ISR",
         "showlegend": true,
         "type": "scattergeo"
        },
        {
         "geo": "geo",
         "hoverlabel": {
          "namelength": 0
         },
         "hovertemplate": "<b>%{hovertext}</b><br><br>pais=%{location}",
         "hovertext": [
          "RUS"
         ],
         "legendgroup": "RUS",
         "locationmode": "ISO-3",
         "locations": [
          "RUS"
         ],
         "marker": {
          "color": "#FF97FF"
         },
         "name": "RUS",
         "showlegend": true,
         "type": "scattergeo"
        },
        {
         "geo": "geo",
         "hoverlabel": {
          "namelength": 0
         },
         "hovertemplate": "<b>%{hovertext}</b><br><br>pais=%{location}",
         "hovertext": [
          "NOR"
         ],
         "legendgroup": "NOR",
         "locationmode": "ISO-3",
         "locations": [
          "NOR"
         ],
         "marker": {
          "color": "#FECB52"
         },
         "name": "NOR",
         "showlegend": true,
         "type": "scattergeo"
        },
        {
         "geo": "geo",
         "hoverlabel": {
          "namelength": 0
         },
         "hovertemplate": "<b>%{hovertext}</b><br><br>pais=%{location}",
         "hovertext": [
          "ROU"
         ],
         "legendgroup": "ROU",
         "locationmode": "ISO-3",
         "locations": [
          "ROU"
         ],
         "marker": {
          "color": "#636efa"
         },
         "name": "ROU",
         "showlegend": true,
         "type": "scattergeo"
        },
        {
         "geo": "geo",
         "hoverlabel": {
          "namelength": 0
         },
         "hovertemplate": "<b>%{hovertext}</b><br><br>pais=%{location}",
         "hovertext": [
          "Desconhecido"
         ],
         "legendgroup": "Desconhecido",
         "locationmode": "ISO-3",
         "locations": [
          "Desconhecido"
         ],
         "marker": {
          "color": "#EF553B"
         },
         "name": "Desconhecido",
         "showlegend": true,
         "type": "scattergeo"
        },
        {
         "geo": "geo",
         "hoverlabel": {
          "namelength": 0
         },
         "hovertemplate": "<b>%{hovertext}</b><br><br>pais=%{location}",
         "hovertext": [
          "FIN"
         ],
         "legendgroup": "FIN",
         "locationmode": "ISO-3",
         "locations": [
          "FIN"
         ],
         "marker": {
          "color": "#00cc96"
         },
         "name": "FIN",
         "showlegend": true,
         "type": "scattergeo"
        },
        {
         "geo": "geo",
         "hoverlabel": {
          "namelength": 0
         },
         "hovertemplate": "<b>%{hovertext}</b><br><br>pais=%{location}",
         "hovertext": [
          "DNK"
         ],
         "legendgroup": "DNK",
         "locationmode": "ISO-3",
         "locations": [
          "DNK"
         ],
         "marker": {
          "color": "#ab63fa"
         },
         "name": "DNK",
         "showlegend": true,
         "type": "scattergeo"
        },
        {
         "geo": "geo",
         "hoverlabel": {
          "namelength": 0
         },
         "hovertemplate": "<b>%{hovertext}</b><br><br>pais=%{location}",
         "hovertext": [
          "AUS"
         ],
         "legendgroup": "AUS",
         "locationmode": "ISO-3",
         "locations": [
          "AUS"
         ],
         "marker": {
          "color": "#FFA15A"
         },
         "name": "AUS",
         "showlegend": true,
         "type": "scattergeo"
        },
        {
         "geo": "geo",
         "hoverlabel": {
          "namelength": 0
         },
         "hovertemplate": "<b>%{hovertext}</b><br><br>pais=%{location}",
         "hovertext": [
          "AGO"
         ],
         "legendgroup": "AGO",
         "locationmode": "ISO-3",
         "locations": [
          "AGO"
         ],
         "marker": {
          "color": "#19d3f3"
         },
         "name": "AGO",
         "showlegend": true,
         "type": "scattergeo"
        },
        {
         "geo": "geo",
         "hoverlabel": {
          "namelength": 0
         },
         "hovertemplate": "<b>%{hovertext}</b><br><br>pais=%{location}",
         "hovertext": [
          "LUX"
         ],
         "legendgroup": "LUX",
         "locationmode": "ISO-3",
         "locations": [
          "LUX"
         ],
         "marker": {
          "color": "#FF6692"
         },
         "name": "LUX",
         "showlegend": true,
         "type": "scattergeo"
        },
        {
         "geo": "geo",
         "hoverlabel": {
          "namelength": 0
         },
         "hovertemplate": "<b>%{hovertext}</b><br><br>pais=%{location}",
         "hovertext": [
          "MAR"
         ],
         "legendgroup": "MAR",
         "locationmode": "ISO-3",
         "locations": [
          "MAR"
         ],
         "marker": {
          "color": "#B6E880"
         },
         "name": "MAR",
         "showlegend": true,
         "type": "scattergeo"
        },
        {
         "geo": "geo",
         "hoverlabel": {
          "namelength": 0
         },
         "hovertemplate": "<b>%{hovertext}</b><br><br>pais=%{location}",
         "hovertext": [
          "TUR"
         ],
         "legendgroup": "TUR",
         "locationmode": "ISO-3",
         "locations": [
          "TUR"
         ],
         "marker": {
          "color": "#FF97FF"
         },
         "name": "TUR",
         "showlegend": true,
         "type": "scattergeo"
        },
        {
         "geo": "geo",
         "hoverlabel": {
          "namelength": 0
         },
         "hovertemplate": "<b>%{hovertext}</b><br><br>pais=%{location}",
         "hovertext": [
          "HUN"
         ],
         "legendgroup": "HUN",
         "locationmode": "ISO-3",
         "locations": [
          "HUN"
         ],
         "marker": {
          "color": "#FECB52"
         },
         "name": "HUN",
         "showlegend": true,
         "type": "scattergeo"
        },
        {
         "geo": "geo",
         "hoverlabel": {
          "namelength": 0
         },
         "hovertemplate": "<b>%{hovertext}</b><br><br>pais=%{location}",
         "hovertext": [
          "ARG"
         ],
         "legendgroup": "ARG",
         "locationmode": "ISO-3",
         "locations": [
          "ARG"
         ],
         "marker": {
          "color": "#636efa"
         },
         "name": "ARG",
         "showlegend": true,
         "type": "scattergeo"
        },
        {
         "geo": "geo",
         "hoverlabel": {
          "namelength": 0
         },
         "hovertemplate": "<b>%{hovertext}</b><br><br>pais=%{location}",
         "hovertext": [
          "JPN"
         ],
         "legendgroup": "JPN",
         "locationmode": "ISO-3",
         "locations": [
          "JPN"
         ],
         "marker": {
          "color": "#EF553B"
         },
         "name": "JPN",
         "showlegend": true,
         "type": "scattergeo"
        },
        {
         "geo": "geo",
         "hoverlabel": {
          "namelength": 0
         },
         "hovertemplate": "<b>%{hovertext}</b><br><br>pais=%{location}",
         "hovertext": [
          "CZE"
         ],
         "legendgroup": "CZE",
         "locationmode": "ISO-3",
         "locations": [
          "CZE"
         ],
         "marker": {
          "color": "#00cc96"
         },
         "name": "CZE",
         "showlegend": true,
         "type": "scattergeo"
        },
        {
         "geo": "geo",
         "hoverlabel": {
          "namelength": 0
         },
         "hovertemplate": "<b>%{hovertext}</b><br><br>pais=%{location}",
         "hovertext": [
          "IND"
         ],
         "legendgroup": "IND",
         "locationmode": "ISO-3",
         "locations": [
          "IND"
         ],
         "marker": {
          "color": "#ab63fa"
         },
         "name": "IND",
         "showlegend": true,
         "type": "scattergeo"
        },
        {
         "geo": "geo",
         "hoverlabel": {
          "namelength": 0
         },
         "hovertemplate": "<b>%{hovertext}</b><br><br>pais=%{location}",
         "hovertext": [
          "KOR"
         ],
         "legendgroup": "KOR",
         "locationmode": "ISO-3",
         "locations": [
          "KOR"
         ],
         "marker": {
          "color": "#FFA15A"
         },
         "name": "KOR",
         "showlegend": true,
         "type": "scattergeo"
        },
        {
         "geo": "geo",
         "hoverlabel": {
          "namelength": 0
         },
         "hovertemplate": "<b>%{hovertext}</b><br><br>pais=%{location}",
         "hovertext": [
          "GRC"
         ],
         "legendgroup": "GRC",
         "locationmode": "ISO-3",
         "locations": [
          "GRC"
         ],
         "marker": {
          "color": "#19d3f3"
         },
         "name": "GRC",
         "showlegend": true,
         "type": "scattergeo"
        },
        {
         "geo": "geo",
         "hoverlabel": {
          "namelength": 0
         },
         "hovertemplate": "<b>%{hovertext}</b><br><br>pais=%{location}",
         "hovertext": [
          "DZA"
         ],
         "legendgroup": "DZA",
         "locationmode": "ISO-3",
         "locations": [
          "DZA"
         ],
         "marker": {
          "color": "#FF6692"
         },
         "name": "DZA",
         "showlegend": true,
         "type": "scattergeo"
        },
        {
         "geo": "geo",
         "hoverlabel": {
          "namelength": 0
         },
         "hovertemplate": "<b>%{hovertext}</b><br><br>pais=%{location}",
         "hovertext": [
          "SRB"
         ],
         "legendgroup": "SRB",
         "locationmode": "ISO-3",
         "locations": [
          "SRB"
         ],
         "marker": {
          "color": "#B6E880"
         },
         "name": "SRB",
         "showlegend": true,
         "type": "scattergeo"
        },
        {
         "geo": "geo",
         "hoverlabel": {
          "namelength": 0
         },
         "hovertemplate": "<b>%{hovertext}</b><br><br>pais=%{location}",
         "hovertext": [
          "HRV"
         ],
         "legendgroup": "HRV",
         "locationmode": "ISO-3",
         "locations": [
          "HRV"
         ],
         "marker": {
          "color": "#FF97FF"
         },
         "name": "HRV",
         "showlegend": true,
         "type": "scattergeo"
        },
        {
         "geo": "geo",
         "hoverlabel": {
          "namelength": 0
         },
         "hovertemplate": "<b>%{hovertext}</b><br><br>pais=%{location}",
         "hovertext": [
          "MEX"
         ],
         "legendgroup": "MEX",
         "locationmode": "ISO-3",
         "locations": [
          "MEX"
         ],
         "marker": {
          "color": "#FECB52"
         },
         "name": "MEX",
         "showlegend": true,
         "type": "scattergeo"
        },
        {
         "geo": "geo",
         "hoverlabel": {
          "namelength": 0
         },
         "hovertemplate": "<b>%{hovertext}</b><br><br>pais=%{location}",
         "hovertext": [
          "EST"
         ],
         "legendgroup": "EST",
         "locationmode": "ISO-3",
         "locations": [
          "EST"
         ],
         "marker": {
          "color": "#636efa"
         },
         "name": "EST",
         "showlegend": true,
         "type": "scattergeo"
        },
        {
         "geo": "geo",
         "hoverlabel": {
          "namelength": 0
         },
         "hovertemplate": "<b>%{hovertext}</b><br><br>pais=%{location}",
         "hovertext": [
          "IRN"
         ],
         "legendgroup": "IRN",
         "locationmode": "ISO-3",
         "locations": [
          "IRN"
         ],
         "marker": {
          "color": "#EF553B"
         },
         "name": "IRN",
         "showlegend": true,
         "type": "scattergeo"
        },
        {
         "geo": "geo",
         "hoverlabel": {
          "namelength": 0
         },
         "hovertemplate": "<b>%{hovertext}</b><br><br>pais=%{location}",
         "hovertext": [
          "LTU"
         ],
         "legendgroup": "LTU",
         "locationmode": "ISO-3",
         "locations": [
          "LTU"
         ],
         "marker": {
          "color": "#00cc96"
         },
         "name": "LTU",
         "showlegend": true,
         "type": "scattergeo"
        },
        {
         "geo": "geo",
         "hoverlabel": {
          "namelength": 0
         },
         "hovertemplate": "<b>%{hovertext}</b><br><br>pais=%{location}",
         "hovertext": [
          "ZAF"
         ],
         "legendgroup": "ZAF",
         "locationmode": "ISO-3",
         "locations": [
          "ZAF"
         ],
         "marker": {
          "color": "#ab63fa"
         },
         "name": "ZAF",
         "showlegend": true,
         "type": "scattergeo"
        },
        {
         "geo": "geo",
         "hoverlabel": {
          "namelength": 0
         },
         "hovertemplate": "<b>%{hovertext}</b><br><br>pais=%{location}",
         "hovertext": [
          "BGR"
         ],
         "legendgroup": "BGR",
         "locationmode": "ISO-3",
         "locations": [
          "BGR"
         ],
         "marker": {
          "color": "#FFA15A"
         },
         "name": "BGR",
         "showlegend": true,
         "type": "scattergeo"
        },
        {
         "geo": "geo",
         "hoverlabel": {
          "namelength": 0
         },
         "hovertemplate": "<b>%{hovertext}</b><br><br>pais=%{location}",
         "hovertext": [
          "NZL"
         ],
         "legendgroup": "NZL",
         "locationmode": "ISO-3",
         "locations": [
          "NZL"
         ],
         "marker": {
          "color": "#19d3f3"
         },
         "name": "NZL",
         "showlegend": true,
         "type": "scattergeo"
        },
        {
         "geo": "geo",
         "hoverlabel": {
          "namelength": 0
         },
         "hovertemplate": "<b>%{hovertext}</b><br><br>pais=%{location}",
         "hovertext": [
          "COL"
         ],
         "legendgroup": "COL",
         "locationmode": "ISO-3",
         "locations": [
          "COL"
         ],
         "marker": {
          "color": "#FF6692"
         },
         "name": "COL",
         "showlegend": true,
         "type": "scattergeo"
        },
        {
         "geo": "geo",
         "hoverlabel": {
          "namelength": 0
         },
         "hovertemplate": "<b>%{hovertext}</b><br><br>pais=%{location}",
         "hovertext": [
          "UKR"
         ],
         "legendgroup": "UKR",
         "locationmode": "ISO-3",
         "locations": [
          "UKR"
         ],
         "marker": {
          "color": "#B6E880"
         },
         "name": "UKR",
         "showlegend": true,
         "type": "scattergeo"
        },
        {
         "geo": "geo",
         "hoverlabel": {
          "namelength": 0
         },
         "hovertemplate": "<b>%{hovertext}</b><br><br>pais=%{location}",
         "hovertext": [
          "MOZ"
         ],
         "legendgroup": "MOZ",
         "locationmode": "ISO-3",
         "locations": [
          "MOZ"
         ],
         "marker": {
          "color": "#FF97FF"
         },
         "name": "MOZ",
         "showlegend": true,
         "type": "scattergeo"
        },
        {
         "geo": "geo",
         "hoverlabel": {
          "namelength": 0
         },
         "hovertemplate": "<b>%{hovertext}</b><br><br>pais=%{location}",
         "hovertext": [
          "CHL"
         ],
         "legendgroup": "CHL",
         "locationmode": "ISO-3",
         "locations": [
          "CHL"
         ],
         "marker": {
          "color": "#FECB52"
         },
         "name": "CHL",
         "showlegend": true,
         "type": "scattergeo"
        },
        {
         "geo": "geo",
         "hoverlabel": {
          "namelength": 0
         },
         "hovertemplate": "<b>%{hovertext}</b><br><br>pais=%{location}",
         "hovertext": [
          "SVK"
         ],
         "legendgroup": "SVK",
         "locationmode": "ISO-3",
         "locations": [
          "SVK"
         ],
         "marker": {
          "color": "#636efa"
         },
         "name": "SVK",
         "showlegend": true,
         "type": "scattergeo"
        },
        {
         "geo": "geo",
         "hoverlabel": {
          "namelength": 0
         },
         "hovertemplate": "<b>%{hovertext}</b><br><br>pais=%{location}",
         "hovertext": [
          "THA"
         ],
         "legendgroup": "THA",
         "locationmode": "ISO-3",
         "locations": [
          "THA"
         ],
         "marker": {
          "color": "#EF553B"
         },
         "name": "THA",
         "showlegend": true,
         "type": "scattergeo"
        },
        {
         "geo": "geo",
         "hoverlabel": {
          "namelength": 0
         },
         "hovertemplate": "<b>%{hovertext}</b><br><br>pais=%{location}",
         "hovertext": [
          "ISL"
         ],
         "legendgroup": "ISL",
         "locationmode": "ISO-3",
         "locations": [
          "ISL"
         ],
         "marker": {
          "color": "#00cc96"
         },
         "name": "ISL",
         "showlegend": true,
         "type": "scattergeo"
        },
        {
         "geo": "geo",
         "hoverlabel": {
          "namelength": 0
         },
         "hovertemplate": "<b>%{hovertext}</b><br><br>pais=%{location}",
         "hovertext": [
          "SVN"
         ],
         "legendgroup": "SVN",
         "locationmode": "ISO-3",
         "locations": [
          "SVN"
         ],
         "marker": {
          "color": "#ab63fa"
         },
         "name": "SVN",
         "showlegend": true,
         "type": "scattergeo"
        },
        {
         "geo": "geo",
         "hoverlabel": {
          "namelength": 0
         },
         "hovertemplate": "<b>%{hovertext}</b><br><br>pais=%{location}",
         "hovertext": [
          "LVA"
         ],
         "legendgroup": "LVA",
         "locationmode": "ISO-3",
         "locations": [
          "LVA"
         ],
         "marker": {
          "color": "#FFA15A"
         },
         "name": "LVA",
         "showlegend": true,
         "type": "scattergeo"
        },
        {
         "geo": "geo",
         "hoverlabel": {
          "namelength": 0
         },
         "hovertemplate": "<b>%{hovertext}</b><br><br>pais=%{location}",
         "hovertext": [
          "CYP"
         ],
         "legendgroup": "CYP",
         "locationmode": "ISO-3",
         "locations": [
          "CYP"
         ],
         "marker": {
          "color": "#19d3f3"
         },
         "name": "CYP",
         "showlegend": true,
         "type": "scattergeo"
        },
        {
         "geo": "geo",
         "hoverlabel": {
          "namelength": 0
         },
         "hovertemplate": "<b>%{hovertext}</b><br><br>pais=%{location}",
         "hovertext": [
          "ARE"
         ],
         "legendgroup": "ARE",
         "locationmode": "ISO-3",
         "locations": [
          "ARE"
         ],
         "marker": {
          "color": "#FF6692"
         },
         "name": "ARE",
         "showlegend": true,
         "type": "scattergeo"
        },
        {
         "geo": "geo",
         "hoverlabel": {
          "namelength": 0
         },
         "hovertemplate": "<b>%{hovertext}</b><br><br>pais=%{location}",
         "hovertext": [
          "TWN"
         ],
         "legendgroup": "TWN",
         "locationmode": "ISO-3",
         "locations": [
          "TWN"
         ],
         "marker": {
          "color": "#B6E880"
         },
         "name": "TWN",
         "showlegend": true,
         "type": "scattergeo"
        },
        {
         "geo": "geo",
         "hoverlabel": {
          "namelength": 0
         },
         "hovertemplate": "<b>%{hovertext}</b><br><br>pais=%{location}",
         "hovertext": [
          "SAU"
         ],
         "legendgroup": "SAU",
         "locationmode": "ISO-3",
         "locations": [
          "SAU"
         ],
         "marker": {
          "color": "#FF97FF"
         },
         "name": "SAU",
         "showlegend": true,
         "type": "scattergeo"
        },
        {
         "geo": "geo",
         "hoverlabel": {
          "namelength": 0
         },
         "hovertemplate": "<b>%{hovertext}</b><br><br>pais=%{location}",
         "hovertext": [
          "PHL"
         ],
         "legendgroup": "PHL",
         "locationmode": "ISO-3",
         "locations": [
          "PHL"
         ],
         "marker": {
          "color": "#FECB52"
         },
         "name": "PHL",
         "showlegend": true,
         "type": "scattergeo"
        },
        {
         "geo": "geo",
         "hoverlabel": {
          "namelength": 0
         },
         "hovertemplate": "<b>%{hovertext}</b><br><br>pais=%{location}",
         "hovertext": [
          "TUN"
         ],
         "legendgroup": "TUN",
         "locationmode": "ISO-3",
         "locations": [
          "TUN"
         ],
         "marker": {
          "color": "#636efa"
         },
         "name": "TUN",
         "showlegend": true,
         "type": "scattergeo"
        },
        {
         "geo": "geo",
         "hoverlabel": {
          "namelength": 0
         },
         "hovertemplate": "<b>%{hovertext}</b><br><br>pais=%{location}",
         "hovertext": [
          "SGP"
         ],
         "legendgroup": "SGP",
         "locationmode": "ISO-3",
         "locations": [
          "SGP"
         ],
         "marker": {
          "color": "#EF553B"
         },
         "name": "SGP",
         "showlegend": true,
         "type": "scattergeo"
        },
        {
         "geo": "geo",
         "hoverlabel": {
          "namelength": 0
         },
         "hovertemplate": "<b>%{hovertext}</b><br><br>pais=%{location}",
         "hovertext": [
          "IDN"
         ],
         "legendgroup": "IDN",
         "locationmode": "ISO-3",
         "locations": [
          "IDN"
         ],
         "marker": {
          "color": "#00cc96"
         },
         "name": "IDN",
         "showlegend": true,
         "type": "scattergeo"
        },
        {
         "geo": "geo",
         "hoverlabel": {
          "namelength": 0
         },
         "hovertemplate": "<b>%{hovertext}</b><br><br>pais=%{location}",
         "hovertext": [
          "NGA"
         ],
         "legendgroup": "NGA",
         "locationmode": "ISO-3",
         "locations": [
          "NGA"
         ],
         "marker": {
          "color": "#ab63fa"
         },
         "name": "NGA",
         "showlegend": true,
         "type": "scattergeo"
        },
        {
         "geo": "geo",
         "hoverlabel": {
          "namelength": 0
         },
         "hovertemplate": "<b>%{hovertext}</b><br><br>pais=%{location}",
         "hovertext": [
          "URY"
         ],
         "legendgroup": "URY",
         "locationmode": "ISO-3",
         "locations": [
          "URY"
         ],
         "marker": {
          "color": "#FFA15A"
         },
         "name": "URY",
         "showlegend": true,
         "type": "scattergeo"
        },
        {
         "geo": "geo",
         "hoverlabel": {
          "namelength": 0
         },
         "hovertemplate": "<b>%{hovertext}</b><br><br>pais=%{location}",
         "hovertext": [
          "EGY"
         ],
         "legendgroup": "EGY",
         "locationmode": "ISO-3",
         "locations": [
          "EGY"
         ],
         "marker": {
          "color": "#19d3f3"
         },
         "name": "EGY",
         "showlegend": true,
         "type": "scattergeo"
        },
        {
         "geo": "geo",
         "hoverlabel": {
          "namelength": 0
         },
         "hovertemplate": "<b>%{hovertext}</b><br><br>pais=%{location}",
         "hovertext": [
          "LBN"
         ],
         "legendgroup": "LBN",
         "locationmode": "ISO-3",
         "locations": [
          "LBN"
         ],
         "marker": {
          "color": "#FF6692"
         },
         "name": "LBN",
         "showlegend": true,
         "type": "scattergeo"
        },
        {
         "geo": "geo",
         "hoverlabel": {
          "namelength": 0
         },
         "hovertemplate": "<b>%{hovertext}</b><br><br>pais=%{location}",
         "hovertext": [
          "PER"
         ],
         "legendgroup": "PER",
         "locationmode": "ISO-3",
         "locations": [
          "PER"
         ],
         "marker": {
          "color": "#B6E880"
         },
         "name": "PER",
         "showlegend": true,
         "type": "scattergeo"
        },
        {
         "geo": "geo",
         "hoverlabel": {
          "namelength": 0
         },
         "hovertemplate": "<b>%{hovertext}</b><br><br>pais=%{location}",
         "hovertext": [
          "HKG"
         ],
         "legendgroup": "HKG",
         "locationmode": "ISO-3",
         "locations": [
          "HKG"
         ],
         "marker": {
          "color": "#FF97FF"
         },
         "name": "HKG",
         "showlegend": true,
         "type": "scattergeo"
        },
        {
         "geo": "geo",
         "hoverlabel": {
          "namelength": 0
         },
         "hovertemplate": "<b>%{hovertext}</b><br><br>pais=%{location}",
         "hovertext": [
          "MYS"
         ],
         "legendgroup": "MYS",
         "locationmode": "ISO-3",
         "locations": [
          "MYS"
         ],
         "marker": {
          "color": "#FECB52"
         },
         "name": "MYS",
         "showlegend": true,
         "type": "scattergeo"
        },
        {
         "geo": "geo",
         "hoverlabel": {
          "namelength": 0
         },
         "hovertemplate": "<b>%{hovertext}</b><br><br>pais=%{location}",
         "hovertext": [
          "ECU"
         ],
         "legendgroup": "ECU",
         "locationmode": "ISO-3",
         "locations": [
          "ECU"
         ],
         "marker": {
          "color": "#636efa"
         },
         "name": "ECU",
         "showlegend": true,
         "type": "scattergeo"
        },
        {
         "geo": "geo",
         "hoverlabel": {
          "namelength": 0
         },
         "hovertemplate": "<b>%{hovertext}</b><br><br>pais=%{location}",
         "hovertext": [
          "VEN"
         ],
         "legendgroup": "VEN",
         "locationmode": "ISO-3",
         "locations": [
          "VEN"
         ],
         "marker": {
          "color": "#EF553B"
         },
         "name": "VEN",
         "showlegend": true,
         "type": "scattergeo"
        },
        {
         "geo": "geo",
         "hoverlabel": {
          "namelength": 0
         },
         "hovertemplate": "<b>%{hovertext}</b><br><br>pais=%{location}",
         "hovertext": [
          "BLR"
         ],
         "legendgroup": "BLR",
         "locationmode": "ISO-3",
         "locations": [
          "BLR"
         ],
         "marker": {
          "color": "#00cc96"
         },
         "name": "BLR",
         "showlegend": true,
         "type": "scattergeo"
        },
        {
         "geo": "geo",
         "hoverlabel": {
          "namelength": 0
         },
         "hovertemplate": "<b>%{hovertext}</b><br><br>pais=%{location}",
         "hovertext": [
          "CPV"
         ],
         "legendgroup": "CPV",
         "locationmode": "ISO-3",
         "locations": [
          "CPV"
         ],
         "marker": {
          "color": "#ab63fa"
         },
         "name": "CPV",
         "showlegend": true,
         "type": "scattergeo"
        },
        {
         "geo": "geo",
         "hoverlabel": {
          "namelength": 0
         },
         "hovertemplate": "<b>%{hovertext}</b><br><br>pais=%{location}",
         "hovertext": [
          "GEO"
         ],
         "legendgroup": "GEO",
         "locationmode": "ISO-3",
         "locations": [
          "GEO"
         ],
         "marker": {
          "color": "#FFA15A"
         },
         "name": "GEO",
         "showlegend": true,
         "type": "scattergeo"
        },
        {
         "geo": "geo",
         "hoverlabel": {
          "namelength": 0
         },
         "hovertemplate": "<b>%{hovertext}</b><br><br>pais=%{location}",
         "hovertext": [
          "JOR"
         ],
         "legendgroup": "JOR",
         "locationmode": "ISO-3",
         "locations": [
          "JOR"
         ],
         "marker": {
          "color": "#19d3f3"
         },
         "name": "JOR",
         "showlegend": true,
         "type": "scattergeo"
        },
        {
         "geo": "geo",
         "hoverlabel": {
          "namelength": 0
         },
         "hovertemplate": "<b>%{hovertext}</b><br><br>pais=%{location}",
         "hovertext": [
          "KAZ"
         ],
         "legendgroup": "KAZ",
         "locationmode": "ISO-3",
         "locations": [
          "KAZ"
         ],
         "marker": {
          "color": "#FF6692"
         },
         "name": "KAZ",
         "showlegend": true,
         "type": "scattergeo"
        },
        {
         "geo": "geo",
         "hoverlabel": {
          "namelength": 0
         },
         "hovertemplate": "<b>%{hovertext}</b><br><br>pais=%{location}",
         "hovertext": [
          "CRI"
         ],
         "legendgroup": "CRI",
         "locationmode": "ISO-3",
         "locations": [
          "CRI"
         ],
         "marker": {
          "color": "#B6E880"
         },
         "name": "CRI",
         "showlegend": true,
         "type": "scattergeo"
        },
        {
         "geo": "geo",
         "hoverlabel": {
          "namelength": 0
         },
         "hovertemplate": "<b>%{hovertext}</b><br><br>pais=%{location}",
         "hovertext": [
          "MLT"
         ],
         "legendgroup": "MLT",
         "locationmode": "ISO-3",
         "locations": [
          "MLT"
         ],
         "marker": {
          "color": "#FF97FF"
         },
         "name": "MLT",
         "showlegend": true,
         "type": "scattergeo"
        },
        {
         "geo": "geo",
         "hoverlabel": {
          "namelength": 0
         },
         "hovertemplate": "<b>%{hovertext}</b><br><br>pais=%{location}",
         "hovertext": [
          "GIB"
         ],
         "legendgroup": "GIB",
         "locationmode": "ISO-3",
         "locations": [
          "GIB"
         ],
         "marker": {
          "color": "#FECB52"
         },
         "name": "GIB",
         "showlegend": true,
         "type": "scattergeo"
        },
        {
         "geo": "geo",
         "hoverlabel": {
          "namelength": 0
         },
         "hovertemplate": "<b>%{hovertext}</b><br><br>pais=%{location}",
         "hovertext": [
          "OMN"
         ],
         "legendgroup": "OMN",
         "locationmode": "ISO-3",
         "locations": [
          "OMN"
         ],
         "marker": {
          "color": "#636efa"
         },
         "name": "OMN",
         "showlegend": true,
         "type": "scattergeo"
        },
        {
         "geo": "geo",
         "hoverlabel": {
          "namelength": 0
         },
         "hovertemplate": "<b>%{hovertext}</b><br><br>pais=%{location}",
         "hovertext": [
          "AZE"
         ],
         "legendgroup": "AZE",
         "locationmode": "ISO-3",
         "locations": [
          "AZE"
         ],
         "marker": {
          "color": "#EF553B"
         },
         "name": "AZE",
         "showlegend": true,
         "type": "scattergeo"
        },
        {
         "geo": "geo",
         "hoverlabel": {
          "namelength": 0
         },
         "hovertemplate": "<b>%{hovertext}</b><br><br>pais=%{location}",
         "hovertext": [
          "MAC"
         ],
         "legendgroup": "MAC",
         "locationmode": "ISO-3",
         "locations": [
          "MAC"
         ],
         "marker": {
          "color": "#00cc96"
         },
         "name": "MAC",
         "showlegend": true,
         "type": "scattergeo"
        },
        {
         "geo": "geo",
         "hoverlabel": {
          "namelength": 0
         },
         "hovertemplate": "<b>%{hovertext}</b><br><br>pais=%{location}",
         "hovertext": [
          "KWT"
         ],
         "legendgroup": "KWT",
         "locationmode": "ISO-3",
         "locations": [
          "KWT"
         ],
         "marker": {
          "color": "#ab63fa"
         },
         "name": "KWT",
         "showlegend": true,
         "type": "scattergeo"
        },
        {
         "geo": "geo",
         "hoverlabel": {
          "namelength": 0
         },
         "hovertemplate": "<b>%{hovertext}</b><br><br>pais=%{location}",
         "hovertext": [
          "QAT"
         ],
         "legendgroup": "QAT",
         "locationmode": "ISO-3",
         "locations": [
          "QAT"
         ],
         "marker": {
          "color": "#FFA15A"
         },
         "name": "QAT",
         "showlegend": true,
         "type": "scattergeo"
        },
        {
         "geo": "geo",
         "hoverlabel": {
          "namelength": 0
         },
         "hovertemplate": "<b>%{hovertext}</b><br><br>pais=%{location}",
         "hovertext": [
          "PAK"
         ],
         "legendgroup": "PAK",
         "locationmode": "ISO-3",
         "locations": [
          "PAK"
         ],
         "marker": {
          "color": "#19d3f3"
         },
         "name": "PAK",
         "showlegend": true,
         "type": "scattergeo"
        },
        {
         "geo": "geo",
         "hoverlabel": {
          "namelength": 0
         },
         "hovertemplate": "<b>%{hovertext}</b><br><br>pais=%{location}",
         "hovertext": [
          "IRQ"
         ],
         "legendgroup": "IRQ",
         "locationmode": "ISO-3",
         "locations": [
          "IRQ"
         ],
         "marker": {
          "color": "#FF6692"
         },
         "name": "IRQ",
         "showlegend": true,
         "type": "scattergeo"
        },
        {
         "geo": "geo",
         "hoverlabel": {
          "namelength": 0
         },
         "hovertemplate": "<b>%{hovertext}</b><br><br>pais=%{location}",
         "hovertext": [
          "DOM"
         ],
         "legendgroup": "DOM",
         "locationmode": "ISO-3",
         "locations": [
          "DOM"
         ],
         "marker": {
          "color": "#B6E880"
         },
         "name": "DOM",
         "showlegend": true,
         "type": "scattergeo"
        },
        {
         "geo": "geo",
         "hoverlabel": {
          "namelength": 0
         },
         "hovertemplate": "<b>%{hovertext}</b><br><br>pais=%{location}",
         "hovertext": [
          "BIH"
         ],
         "legendgroup": "BIH",
         "locationmode": "ISO-3",
         "locations": [
          "BIH"
         ],
         "marker": {
          "color": "#FF97FF"
         },
         "name": "BIH",
         "showlegend": true,
         "type": "scattergeo"
        },
        {
         "geo": "geo",
         "hoverlabel": {
          "namelength": 0
         },
         "hovertemplate": "<b>%{hovertext}</b><br><br>pais=%{location}",
         "hovertext": [
          "MDV"
         ],
         "legendgroup": "MDV",
         "locationmode": "ISO-3",
         "locations": [
          "MDV"
         ],
         "marker": {
          "color": "#FECB52"
         },
         "name": "MDV",
         "showlegend": true,
         "type": "scattergeo"
        },
        {
         "geo": "geo",
         "hoverlabel": {
          "namelength": 0
         },
         "hovertemplate": "<b>%{hovertext}</b><br><br>pais=%{location}",
         "hovertext": [
          "PRI"
         ],
         "legendgroup": "PRI",
         "locationmode": "ISO-3",
         "locations": [
          "PRI"
         ],
         "marker": {
          "color": "#636efa"
         },
         "name": "PRI",
         "showlegend": true,
         "type": "scattergeo"
        },
        {
         "geo": "geo",
         "hoverlabel": {
          "namelength": 0
         },
         "hovertemplate": "<b>%{hovertext}</b><br><br>pais=%{location}",
         "hovertext": [
          "BGD"
         ],
         "legendgroup": "BGD",
         "locationmode": "ISO-3",
         "locations": [
          "BGD"
         ],
         "marker": {
          "color": "#EF553B"
         },
         "name": "BGD",
         "showlegend": true,
         "type": "scattergeo"
        },
        {
         "geo": "geo",
         "hoverlabel": {
          "namelength": 0
         },
         "hovertemplate": "<b>%{hovertext}</b><br><br>pais=%{location}",
         "hovertext": [
          "ALB"
         ],
         "legendgroup": "ALB",
         "locationmode": "ISO-3",
         "locations": [
          "ALB"
         ],
         "marker": {
          "color": "#00cc96"
         },
         "name": "ALB",
         "showlegend": true,
         "type": "scattergeo"
        },
        {
         "geo": "geo",
         "hoverlabel": {
          "namelength": 0
         },
         "hovertemplate": "<b>%{hovertext}</b><br><br>pais=%{location}",
         "hovertext": [
          "SEN"
         ],
         "legendgroup": "SEN",
         "locationmode": "ISO-3",
         "locations": [
          "SEN"
         ],
         "marker": {
          "color": "#ab63fa"
         },
         "name": "SEN",
         "showlegend": true,
         "type": "scattergeo"
        },
        {
         "geo": "geo",
         "hoverlabel": {
          "namelength": 0
         },
         "hovertemplate": "<b>%{hovertext}</b><br><br>pais=%{location}",
         "hovertext": [
          "CMR"
         ],
         "legendgroup": "CMR",
         "locationmode": "ISO-3",
         "locations": [
          "CMR"
         ],
         "marker": {
          "color": "#FFA15A"
         },
         "name": "CMR",
         "showlegend": true,
         "type": "scattergeo"
        },
        {
         "geo": "geo",
         "hoverlabel": {
          "namelength": 0
         },
         "hovertemplate": "<b>%{hovertext}</b><br><br>pais=%{location}",
         "hovertext": [
          "MKD"
         ],
         "legendgroup": "MKD",
         "locationmode": "ISO-3",
         "locations": [
          "MKD"
         ],
         "marker": {
          "color": "#19d3f3"
         },
         "name": "MKD",
         "showlegend": true,
         "type": "scattergeo"
        },
        {
         "geo": "geo",
         "hoverlabel": {
          "namelength": 0
         },
         "hovertemplate": "<b>%{hovertext}</b><br><br>pais=%{location}",
         "hovertext": [
          "BOL"
         ],
         "legendgroup": "BOL",
         "locationmode": "ISO-3",
         "locations": [
          "BOL"
         ],
         "marker": {
          "color": "#FF6692"
         },
         "name": "BOL",
         "showlegend": true,
         "type": "scattergeo"
        },
        {
         "geo": "geo",
         "hoverlabel": {
          "namelength": 0
         },
         "hovertemplate": "<b>%{hovertext}</b><br><br>pais=%{location}",
         "hovertext": [
          "TJK"
         ],
         "legendgroup": "TJK",
         "locationmode": "ISO-3",
         "locations": [
          "TJK"
         ],
         "marker": {
          "color": "#B6E880"
         },
         "name": "TJK",
         "showlegend": true,
         "type": "scattergeo"
        },
        {
         "geo": "geo",
         "hoverlabel": {
          "namelength": 0
         },
         "hovertemplate": "<b>%{hovertext}</b><br><br>pais=%{location}",
         "hovertext": [
          "PAN"
         ],
         "legendgroup": "PAN",
         "locationmode": "ISO-3",
         "locations": [
          "PAN"
         ],
         "marker": {
          "color": "#FF97FF"
         },
         "name": "PAN",
         "showlegend": true,
         "type": "scattergeo"
        },
        {
         "geo": "geo",
         "hoverlabel": {
          "namelength": 0
         },
         "hovertemplate": "<b>%{hovertext}</b><br><br>pais=%{location}",
         "hovertext": [
          "GNB"
         ],
         "legendgroup": "GNB",
         "locationmode": "ISO-3",
         "locations": [
          "GNB"
         ],
         "marker": {
          "color": "#FECB52"
         },
         "name": "GNB",
         "showlegend": true,
         "type": "scattergeo"
        },
        {
         "geo": "geo",
         "hoverlabel": {
          "namelength": 0
         },
         "hovertemplate": "<b>%{hovertext}</b><br><br>pais=%{location}",
         "hovertext": [
          "CUB"
         ],
         "legendgroup": "CUB",
         "locationmode": "ISO-3",
         "locations": [
          "CUB"
         ],
         "marker": {
          "color": "#636efa"
         },
         "name": "CUB",
         "showlegend": true,
         "type": "scattergeo"
        },
        {
         "geo": "geo",
         "hoverlabel": {
          "namelength": 0
         },
         "hovertemplate": "<b>%{hovertext}</b><br><br>pais=%{location}",
         "hovertext": [
          "ARM"
         ],
         "legendgroup": "ARM",
         "locationmode": "ISO-3",
         "locations": [
          "ARM"
         ],
         "marker": {
          "color": "#EF553B"
         },
         "name": "ARM",
         "showlegend": true,
         "type": "scattergeo"
        },
        {
         "geo": "geo",
         "hoverlabel": {
          "namelength": 0
         },
         "hovertemplate": "<b>%{hovertext}</b><br><br>pais=%{location}",
         "hovertext": [
          "LBY"
         ],
         "legendgroup": "LBY",
         "locationmode": "ISO-3",
         "locations": [
          "LBY"
         ],
         "marker": {
          "color": "#00cc96"
         },
         "name": "LBY",
         "showlegend": true,
         "type": "scattergeo"
        },
        {
         "geo": "geo",
         "hoverlabel": {
          "namelength": 0
         },
         "hovertemplate": "<b>%{hovertext}</b><br><br>pais=%{location}",
         "hovertext": [
          "VNM"
         ],
         "legendgroup": "VNM",
         "locationmode": "ISO-3",
         "locations": [
          "VNM"
         ],
         "marker": {
          "color": "#ab63fa"
         },
         "name": "VNM",
         "showlegend": true,
         "type": "scattergeo"
        },
        {
         "geo": "geo",
         "hoverlabel": {
          "namelength": 0
         },
         "hovertemplate": "<b>%{hovertext}</b><br><br>pais=%{location}",
         "hovertext": [
          "JEY"
         ],
         "legendgroup": "JEY",
         "locationmode": "ISO-3",
         "locations": [
          "JEY"
         ],
         "marker": {
          "color": "#FFA15A"
         },
         "name": "JEY",
         "showlegend": true,
         "type": "scattergeo"
        },
        {
         "geo": "geo",
         "hoverlabel": {
          "namelength": 0
         },
         "hovertemplate": "<b>%{hovertext}</b><br><br>pais=%{location}",
         "hovertext": [
          "AND"
         ],
         "legendgroup": "AND",
         "locationmode": "ISO-3",
         "locations": [
          "AND"
         ],
         "marker": {
          "color": "#19d3f3"
         },
         "name": "AND",
         "showlegend": true,
         "type": "scattergeo"
        },
        {
         "geo": "geo",
         "hoverlabel": {
          "namelength": 0
         },
         "hovertemplate": "<b>%{hovertext}</b><br><br>pais=%{location}",
         "hovertext": [
          "MUS"
         ],
         "legendgroup": "MUS",
         "locationmode": "ISO-3",
         "locations": [
          "MUS"
         ],
         "marker": {
          "color": "#FF6692"
         },
         "name": "MUS",
         "showlegend": true,
         "type": "scattergeo"
        },
        {
         "geo": "geo",
         "hoverlabel": {
          "namelength": 0
         },
         "hovertemplate": "<b>%{hovertext}</b><br><br>pais=%{location}",
         "hovertext": [
          "LKA"
         ],
         "legendgroup": "LKA",
         "locationmode": "ISO-3",
         "locations": [
          "LKA"
         ],
         "marker": {
          "color": "#B6E880"
         },
         "name": "LKA",
         "showlegend": true,
         "type": "scattergeo"
        },
        {
         "geo": "geo",
         "hoverlabel": {
          "namelength": 0
         },
         "hovertemplate": "<b>%{hovertext}</b><br><br>pais=%{location}",
         "hovertext": [
          "JAM"
         ],
         "legendgroup": "JAM",
         "locationmode": "ISO-3",
         "locations": [
          "JAM"
         ],
         "marker": {
          "color": "#FF97FF"
         },
         "name": "JAM",
         "showlegend": true,
         "type": "scattergeo"
        },
        {
         "geo": "geo",
         "hoverlabel": {
          "namelength": 0
         },
         "hovertemplate": "<b>%{hovertext}</b><br><br>pais=%{location}",
         "hovertext": [
          "CIV"
         ],
         "legendgroup": "CIV",
         "locationmode": "ISO-3",
         "locations": [
          "CIV"
         ],
         "marker": {
          "color": "#FECB52"
         },
         "name": "CIV",
         "showlegend": true,
         "type": "scattergeo"
        },
        {
         "geo": "geo",
         "hoverlabel": {
          "namelength": 0
         },
         "hovertemplate": "<b>%{hovertext}</b><br><br>pais=%{location}",
         "hovertext": [
          "KEN"
         ],
         "legendgroup": "KEN",
         "locationmode": "ISO-3",
         "locations": [
          "KEN"
         ],
         "marker": {
          "color": "#636efa"
         },
         "name": "KEN",
         "showlegend": true,
         "type": "scattergeo"
        },
        {
         "geo": "geo",
         "hoverlabel": {
          "namelength": 0
         },
         "hovertemplate": "<b>%{hovertext}</b><br><br>pais=%{location}",
         "hovertext": [
          "SUR"
         ],
         "legendgroup": "SUR",
         "locationmode": "ISO-3",
         "locations": [
          "SUR"
         ],
         "marker": {
          "color": "#EF553B"
         },
         "name": "SUR",
         "showlegend": true,
         "type": "scattergeo"
        },
        {
         "geo": "geo",
         "hoverlabel": {
          "namelength": 0
         },
         "hovertemplate": "<b>%{hovertext}</b><br><br>pais=%{location}",
         "hovertext": [
          "MNE"
         ],
         "legendgroup": "MNE",
         "locationmode": "ISO-3",
         "locations": [
          "MNE"
         ],
         "marker": {
          "color": "#00cc96"
         },
         "name": "MNE",
         "showlegend": true,
         "type": "scattergeo"
        },
        {
         "geo": "geo",
         "hoverlabel": {
          "namelength": 0
         },
         "hovertemplate": "<b>%{hovertext}</b><br><br>pais=%{location}",
         "hovertext": [
          "BHR"
         ],
         "legendgroup": "BHR",
         "locationmode": "ISO-3",
         "locations": [
          "BHR"
         ],
         "marker": {
          "color": "#ab63fa"
         },
         "name": "BHR",
         "showlegend": true,
         "type": "scattergeo"
        },
        {
         "geo": "geo",
         "hoverlabel": {
          "namelength": 0
         },
         "hovertemplate": "<b>%{hovertext}</b><br><br>pais=%{location}",
         "hovertext": [
          "FRO"
         ],
         "legendgroup": "FRO",
         "locationmode": "ISO-3",
         "locations": [
          "FRO"
         ],
         "marker": {
          "color": "#FFA15A"
         },
         "name": "FRO",
         "showlegend": true,
         "type": "scattergeo"
        },
        {
         "geo": "geo",
         "hoverlabel": {
          "namelength": 0
         },
         "hovertemplate": "<b>%{hovertext}</b><br><br>pais=%{location}",
         "hovertext": [
          "TZA"
         ],
         "legendgroup": "TZA",
         "locationmode": "ISO-3",
         "locations": [
          "TZA"
         ],
         "marker": {
          "color": "#19d3f3"
         },
         "name": "TZA",
         "showlegend": true,
         "type": "scattergeo"
        },
        {
         "geo": "geo",
         "hoverlabel": {
          "namelength": 0
         },
         "hovertemplate": "<b>%{hovertext}</b><br><br>pais=%{location}",
         "hovertext": [
          "CAF"
         ],
         "legendgroup": "CAF",
         "locationmode": "ISO-3",
         "locations": [
          "CAF"
         ],
         "marker": {
          "color": "#FF6692"
         },
         "name": "CAF",
         "showlegend": true,
         "type": "scattergeo"
        },
        {
         "geo": "geo",
         "hoverlabel": {
          "namelength": 0
         },
         "hovertemplate": "<b>%{hovertext}</b><br><br>pais=%{location}",
         "hovertext": [
          "GAB"
         ],
         "legendgroup": "GAB",
         "locationmode": "ISO-3",
         "locations": [
          "GAB"
         ],
         "marker": {
          "color": "#B6E880"
         },
         "name": "GAB",
         "showlegend": true,
         "type": "scattergeo"
        },
        {
         "geo": "geo",
         "hoverlabel": {
          "namelength": 0
         },
         "hovertemplate": "<b>%{hovertext}</b><br><br>pais=%{location}",
         "hovertext": [
          "ZWE"
         ],
         "legendgroup": "ZWE",
         "locationmode": "ISO-3",
         "locations": [
          "ZWE"
         ],
         "marker": {
          "color": "#FF97FF"
         },
         "name": "ZWE",
         "showlegend": true,
         "type": "scattergeo"
        },
        {
         "geo": "geo",
         "hoverlabel": {
          "namelength": 0
         },
         "hovertemplate": "<b>%{hovertext}</b><br><br>pais=%{location}",
         "hovertext": [
          "PRY"
         ],
         "legendgroup": "PRY",
         "locationmode": "ISO-3",
         "locations": [
          "PRY"
         ],
         "marker": {
          "color": "#FECB52"
         },
         "name": "PRY",
         "showlegend": true,
         "type": "scattergeo"
        },
        {
         "geo": "geo",
         "hoverlabel": {
          "namelength": 0
         },
         "hovertemplate": "<b>%{hovertext}</b><br><br>pais=%{location}",
         "hovertext": [
          "MCO"
         ],
         "legendgroup": "MCO",
         "locationmode": "ISO-3",
         "locations": [
          "MCO"
         ],
         "marker": {
          "color": "#636efa"
         },
         "name": "MCO",
         "showlegend": true,
         "type": "scattergeo"
        },
        {
         "geo": "geo",
         "hoverlabel": {
          "namelength": 0
         },
         "hovertemplate": "<b>%{hovertext}</b><br><br>pais=%{location}",
         "hovertext": [
          "GHA"
         ],
         "legendgroup": "GHA",
         "locationmode": "ISO-3",
         "locations": [
          "GHA"
         ],
         "marker": {
          "color": "#EF553B"
         },
         "name": "GHA",
         "showlegend": true,
         "type": "scattergeo"
        },
        {
         "geo": "geo",
         "hoverlabel": {
          "namelength": 0
         },
         "hovertemplate": "<b>%{hovertext}</b><br><br>pais=%{location}",
         "hovertext": [
          "UZB"
         ],
         "legendgroup": "UZB",
         "locationmode": "ISO-3",
         "locations": [
          "UZB"
         ],
         "marker": {
          "color": "#00cc96"
         },
         "name": "UZB",
         "showlegend": true,
         "type": "scattergeo"
        },
        {
         "geo": "geo",
         "hoverlabel": {
          "namelength": 0
         },
         "hovertemplate": "<b>%{hovertext}</b><br><br>pais=%{location}",
         "hovertext": [
          "GTM"
         ],
         "legendgroup": "GTM",
         "locationmode": "ISO-3",
         "locations": [
          "GTM"
         ],
         "marker": {
          "color": "#ab63fa"
         },
         "name": "GTM",
         "showlegend": true,
         "type": "scattergeo"
        },
        {
         "geo": "geo",
         "hoverlabel": {
          "namelength": 0
         },
         "hovertemplate": "<b>%{hovertext}</b><br><br>pais=%{location}",
         "hovertext": [
          "BRB"
         ],
         "legendgroup": "BRB",
         "locationmode": "ISO-3",
         "locations": [
          "BRB"
         ],
         "marker": {
          "color": "#FFA15A"
         },
         "name": "BRB",
         "showlegend": true,
         "type": "scattergeo"
        },
        {
         "geo": "geo",
         "hoverlabel": {
          "namelength": 0
         },
         "hovertemplate": "<b>%{hovertext}</b><br><br>pais=%{location}",
         "hovertext": [
          "TMP"
         ],
         "legendgroup": "TMP",
         "locationmode": "ISO-3",
         "locations": [
          "TMP"
         ],
         "marker": {
          "color": "#19d3f3"
         },
         "name": "TMP",
         "showlegend": true,
         "type": "scattergeo"
        },
        {
         "geo": "geo",
         "hoverlabel": {
          "namelength": 0
         },
         "hovertemplate": "<b>%{hovertext}</b><br><br>pais=%{location}",
         "hovertext": [
          "ETH"
         ],
         "legendgroup": "ETH",
         "locationmode": "ISO-3",
         "locations": [
          "ETH"
         ],
         "marker": {
          "color": "#FF6692"
         },
         "name": "ETH",
         "showlegend": true,
         "type": "scattergeo"
        },
        {
         "geo": "geo",
         "hoverlabel": {
          "namelength": 0
         },
         "hovertemplate": "<b>%{hovertext}</b><br><br>pais=%{location}",
         "hovertext": [
          "LIE"
         ],
         "legendgroup": "LIE",
         "locationmode": "ISO-3",
         "locations": [
          "LIE"
         ],
         "marker": {
          "color": "#B6E880"
         },
         "name": "LIE",
         "showlegend": true,
         "type": "scattergeo"
        },
        {
         "geo": "geo",
         "hoverlabel": {
          "namelength": 0
         },
         "hovertemplate": "<b>%{hovertext}</b><br><br>pais=%{location}",
         "hovertext": [
          "GGY"
         ],
         "legendgroup": "GGY",
         "locationmode": "ISO-3",
         "locations": [
          "GGY"
         ],
         "marker": {
          "color": "#FF97FF"
         },
         "name": "GGY",
         "showlegend": true,
         "type": "scattergeo"
        },
        {
         "geo": "geo",
         "hoverlabel": {
          "namelength": 0
         },
         "hovertemplate": "<b>%{hovertext}</b><br><br>pais=%{location}",
         "hovertext": [
          "SYR"
         ],
         "legendgroup": "SYR",
         "locationmode": "ISO-3",
         "locations": [
          "SYR"
         ],
         "marker": {
          "color": "#FECB52"
         },
         "name": "SYR",
         "showlegend": true,
         "type": "scattergeo"
        },
        {
         "geo": "geo",
         "hoverlabel": {
          "namelength": 0
         },
         "hovertemplate": "<b>%{hovertext}</b><br><br>pais=%{location}",
         "hovertext": [
          "BEN"
         ],
         "legendgroup": "BEN",
         "locationmode": "ISO-3",
         "locations": [
          "BEN"
         ],
         "marker": {
          "color": "#636efa"
         },
         "name": "BEN",
         "showlegend": true,
         "type": "scattergeo"
        },
        {
         "geo": "geo",
         "hoverlabel": {
          "namelength": 0
         },
         "hovertemplate": "<b>%{hovertext}</b><br><br>pais=%{location}",
         "hovertext": [
          "IMN"
         ],
         "legendgroup": "IMN",
         "locationmode": "ISO-3",
         "locations": [
          "IMN"
         ],
         "marker": {
          "color": "#EF553B"
         },
         "name": "IMN",
         "showlegend": true,
         "type": "scattergeo"
        },
        {
         "geo": "geo",
         "hoverlabel": {
          "namelength": 0
         },
         "hovertemplate": "<b>%{hovertext}</b><br><br>pais=%{location}",
         "hovertext": [
          "UGA"
         ],
         "legendgroup": "UGA",
         "locationmode": "ISO-3",
         "locations": [
          "UGA"
         ],
         "marker": {
          "color": "#00cc96"
         },
         "name": "UGA",
         "showlegend": true,
         "type": "scattergeo"
        },
        {
         "geo": "geo",
         "hoverlabel": {
          "namelength": 0
         },
         "hovertemplate": "<b>%{hovertext}</b><br><br>pais=%{location}",
         "hovertext": [
          "LAO"
         ],
         "legendgroup": "LAO",
         "locationmode": "ISO-3",
         "locations": [
          "LAO"
         ],
         "marker": {
          "color": "#ab63fa"
         },
         "name": "LAO",
         "showlegend": true,
         "type": "scattergeo"
        },
        {
         "geo": "geo",
         "hoverlabel": {
          "namelength": 0
         },
         "hovertemplate": "<b>%{hovertext}</b><br><br>pais=%{location}",
         "hovertext": [
          "ATA"
         ],
         "legendgroup": "ATA",
         "locationmode": "ISO-3",
         "locations": [
          "ATA"
         ],
         "marker": {
          "color": "#FFA15A"
         },
         "name": "ATA",
         "showlegend": true,
         "type": "scattergeo"
        },
        {
         "geo": "geo",
         "hoverlabel": {
          "namelength": 0
         },
         "hovertemplate": "<b>%{hovertext}</b><br><br>pais=%{location}",
         "hovertext": [
          "ABW"
         ],
         "legendgroup": "ABW",
         "locationmode": "ISO-3",
         "locations": [
          "ABW"
         ],
         "marker": {
          "color": "#19d3f3"
         },
         "name": "ABW",
         "showlegend": true,
         "type": "scattergeo"
        },
        {
         "geo": "geo",
         "hoverlabel": {
          "namelength": 0
         },
         "hovertemplate": "<b>%{hovertext}</b><br><br>pais=%{location}",
         "hovertext": [
          "TGO"
         ],
         "legendgroup": "TGO",
         "locationmode": "ISO-3",
         "locations": [
          "TGO"
         ],
         "marker": {
          "color": "#FF6692"
         },
         "name": "TGO",
         "showlegend": true,
         "type": "scattergeo"
        },
        {
         "geo": "geo",
         "hoverlabel": {
          "namelength": 0
         },
         "hovertemplate": "<b>%{hovertext}</b><br><br>pais=%{location}",
         "hovertext": [
          "SYC"
         ],
         "legendgroup": "SYC",
         "locationmode": "ISO-3",
         "locations": [
          "SYC"
         ],
         "marker": {
          "color": "#B6E880"
         },
         "name": "SYC",
         "showlegend": true,
         "type": "scattergeo"
        },
        {
         "geo": "geo",
         "hoverlabel": {
          "namelength": 0
         },
         "hovertemplate": "<b>%{hovertext}</b><br><br>pais=%{location}",
         "hovertext": [
          "MWI"
         ],
         "legendgroup": "MWI",
         "locationmode": "ISO-3",
         "locations": [
          "MWI"
         ],
         "marker": {
          "color": "#FF97FF"
         },
         "name": "MWI",
         "showlegend": true,
         "type": "scattergeo"
        },
        {
         "geo": "geo",
         "hoverlabel": {
          "namelength": 0
         },
         "hovertemplate": "<b>%{hovertext}</b><br><br>pais=%{location}",
         "hovertext": [
          "SLV"
         ],
         "legendgroup": "SLV",
         "locationmode": "ISO-3",
         "locations": [
          "SLV"
         ],
         "marker": {
          "color": "#FECB52"
         },
         "name": "SLV",
         "showlegend": true,
         "type": "scattergeo"
        },
        {
         "geo": "geo",
         "hoverlabel": {
          "namelength": 0
         },
         "hovertemplate": "<b>%{hovertext}</b><br><br>pais=%{location}",
         "hovertext": [
          "ZMB"
         ],
         "legendgroup": "ZMB",
         "locationmode": "ISO-3",
         "locations": [
          "ZMB"
         ],
         "marker": {
          "color": "#636efa"
         },
         "name": "ZMB",
         "showlegend": true,
         "type": "scattergeo"
        },
        {
         "geo": "geo",
         "hoverlabel": {
          "namelength": 0
         },
         "hovertemplate": "<b>%{hovertext}</b><br><br>pais=%{location}",
         "hovertext": [
          "STP"
         ],
         "legendgroup": "STP",
         "locationmode": "ISO-3",
         "locations": [
          "STP"
         ],
         "marker": {
          "color": "#EF553B"
         },
         "name": "STP",
         "showlegend": true,
         "type": "scattergeo"
        },
        {
         "geo": "geo",
         "hoverlabel": {
          "namelength": 0
         },
         "hovertemplate": "<b>%{hovertext}</b><br><br>pais=%{location}",
         "hovertext": [
          "GLP"
         ],
         "legendgroup": "GLP",
         "locationmode": "ISO-3",
         "locations": [
          "GLP"
         ],
         "marker": {
          "color": "#00cc96"
         },
         "name": "GLP",
         "showlegend": true,
         "type": "scattergeo"
        },
        {
         "geo": "geo",
         "hoverlabel": {
          "namelength": 0
         },
         "hovertemplate": "<b>%{hovertext}</b><br><br>pais=%{location}",
         "hovertext": [
          "COM"
         ],
         "legendgroup": "COM",
         "locationmode": "ISO-3",
         "locations": [
          "COM"
         ],
         "marker": {
          "color": "#ab63fa"
         },
         "name": "COM",
         "showlegend": true,
         "type": "scattergeo"
        },
        {
         "geo": "geo",
         "hoverlabel": {
          "namelength": 0
         },
         "hovertemplate": "<b>%{hovertext}</b><br><br>pais=%{location}",
         "hovertext": [
          "KNA"
         ],
         "legendgroup": "KNA",
         "locationmode": "ISO-3",
         "locations": [
          "KNA"
         ],
         "marker": {
          "color": "#FFA15A"
         },
         "name": "KNA",
         "showlegend": true,
         "type": "scattergeo"
        },
        {
         "geo": "geo",
         "hoverlabel": {
          "namelength": 0
         },
         "hovertemplate": "<b>%{hovertext}</b><br><br>pais=%{location}",
         "hovertext": [
          "RWA"
         ],
         "legendgroup": "RWA",
         "locationmode": "ISO-3",
         "locations": [
          "RWA"
         ],
         "marker": {
          "color": "#19d3f3"
         },
         "name": "RWA",
         "showlegend": true,
         "type": "scattergeo"
        },
        {
         "geo": "geo",
         "hoverlabel": {
          "namelength": 0
         },
         "hovertemplate": "<b>%{hovertext}</b><br><br>pais=%{location}",
         "hovertext": [
          "KHM"
         ],
         "legendgroup": "KHM",
         "locationmode": "ISO-3",
         "locations": [
          "KHM"
         ],
         "marker": {
          "color": "#FF6692"
         },
         "name": "KHM",
         "showlegend": true,
         "type": "scattergeo"
        },
        {
         "geo": "geo",
         "hoverlabel": {
          "namelength": 0
         },
         "hovertemplate": "<b>%{hovertext}</b><br><br>pais=%{location}",
         "hovertext": [
          "MYT"
         ],
         "legendgroup": "MYT",
         "locationmode": "ISO-3",
         "locations": [
          "MYT"
         ],
         "marker": {
          "color": "#B6E880"
         },
         "name": "MYT",
         "showlegend": true,
         "type": "scattergeo"
        },
        {
         "geo": "geo",
         "hoverlabel": {
          "namelength": 0
         },
         "hovertemplate": "<b>%{hovertext}</b><br><br>pais=%{location}",
         "hovertext": [
          "UMI"
         ],
         "legendgroup": "UMI",
         "locationmode": "ISO-3",
         "locations": [
          "UMI"
         ],
         "marker": {
          "color": "#FF97FF"
         },
         "name": "UMI",
         "showlegend": true,
         "type": "scattergeo"
        },
        {
         "geo": "geo",
         "hoverlabel": {
          "namelength": 0
         },
         "hovertemplate": "<b>%{hovertext}</b><br><br>pais=%{location}",
         "hovertext": [
          "DJI"
         ],
         "legendgroup": "DJI",
         "locationmode": "ISO-3",
         "locations": [
          "DJI"
         ],
         "marker": {
          "color": "#FECB52"
         },
         "name": "DJI",
         "showlegend": true,
         "type": "scattergeo"
        },
        {
         "geo": "geo",
         "hoverlabel": {
          "namelength": 0
         },
         "hovertemplate": "<b>%{hovertext}</b><br><br>pais=%{location}",
         "hovertext": [
          "BWA"
         ],
         "legendgroup": "BWA",
         "locationmode": "ISO-3",
         "locations": [
          "BWA"
         ],
         "marker": {
          "color": "#636efa"
         },
         "name": "BWA",
         "showlegend": true,
         "type": "scattergeo"
        },
        {
         "geo": "geo",
         "hoverlabel": {
          "namelength": 0
         },
         "hovertemplate": "<b>%{hovertext}</b><br><br>pais=%{location}",
         "hovertext": [
          "KIR"
         ],
         "legendgroup": "KIR",
         "locationmode": "ISO-3",
         "locations": [
          "KIR"
         ],
         "marker": {
          "color": "#EF553B"
         },
         "name": "KIR",
         "showlegend": true,
         "type": "scattergeo"
        },
        {
         "geo": "geo",
         "hoverlabel": {
          "namelength": 0
         },
         "hovertemplate": "<b>%{hovertext}</b><br><br>pais=%{location}",
         "hovertext": [
          "BFA"
         ],
         "legendgroup": "BFA",
         "locationmode": "ISO-3",
         "locations": [
          "BFA"
         ],
         "marker": {
          "color": "#00cc96"
         },
         "name": "BFA",
         "showlegend": true,
         "type": "scattergeo"
        },
        {
         "geo": "geo",
         "hoverlabel": {
          "namelength": 0
         },
         "hovertemplate": "<b>%{hovertext}</b><br><br>pais=%{location}",
         "hovertext": [
          "VGB"
         ],
         "legendgroup": "VGB",
         "locationmode": "ISO-3",
         "locations": [
          "VGB"
         ],
         "marker": {
          "color": "#ab63fa"
         },
         "name": "VGB",
         "showlegend": true,
         "type": "scattergeo"
        },
        {
         "geo": "geo",
         "hoverlabel": {
          "namelength": 0
         },
         "hovertemplate": "<b>%{hovertext}</b><br><br>pais=%{location}",
         "hovertext": [
          "PLW"
         ],
         "legendgroup": "PLW",
         "locationmode": "ISO-3",
         "locations": [
          "PLW"
         ],
         "marker": {
          "color": "#FFA15A"
         },
         "name": "PLW",
         "showlegend": true,
         "type": "scattergeo"
        },
        {
         "geo": "geo",
         "hoverlabel": {
          "namelength": 0
         },
         "hovertemplate": "<b>%{hovertext}</b><br><br>pais=%{location}",
         "hovertext": [
          "HND"
         ],
         "legendgroup": "HND",
         "locationmode": "ISO-3",
         "locations": [
          "HND"
         ],
         "marker": {
          "color": "#19d3f3"
         },
         "name": "HND",
         "showlegend": true,
         "type": "scattergeo"
        },
        {
         "geo": "geo",
         "hoverlabel": {
          "namelength": 0
         },
         "hovertemplate": "<b>%{hovertext}</b><br><br>pais=%{location}",
         "hovertext": [
          "SMR"
         ],
         "legendgroup": "SMR",
         "locationmode": "ISO-3",
         "locations": [
          "SMR"
         ],
         "marker": {
          "color": "#FF6692"
         },
         "name": "SMR",
         "showlegend": true,
         "type": "scattergeo"
        },
        {
         "geo": "geo",
         "hoverlabel": {
          "namelength": 0
         },
         "hovertemplate": "<b>%{hovertext}</b><br><br>pais=%{location}",
         "hovertext": [
          "AIA"
         ],
         "legendgroup": "AIA",
         "locationmode": "ISO-3",
         "locations": [
          "AIA"
         ],
         "marker": {
          "color": "#B6E880"
         },
         "name": "AIA",
         "showlegend": true,
         "type": "scattergeo"
        },
        {
         "geo": "geo",
         "hoverlabel": {
          "namelength": 0
         },
         "hovertemplate": "<b>%{hovertext}</b><br><br>pais=%{location}",
         "hovertext": [
          "CYM"
         ],
         "legendgroup": "CYM",
         "locationmode": "ISO-3",
         "locations": [
          "CYM"
         ],
         "marker": {
          "color": "#FF97FF"
         },
         "name": "CYM",
         "showlegend": true,
         "type": "scattergeo"
        },
        {
         "geo": "geo",
         "hoverlabel": {
          "namelength": 0
         },
         "hovertemplate": "<b>%{hovertext}</b><br><br>pais=%{location}",
         "hovertext": [
          "SDN"
         ],
         "legendgroup": "SDN",
         "locationmode": "ISO-3",
         "locations": [
          "SDN"
         ],
         "marker": {
          "color": "#FECB52"
         },
         "name": "SDN",
         "showlegend": true,
         "type": "scattergeo"
        },
        {
         "geo": "geo",
         "hoverlabel": {
          "namelength": 0
         },
         "hovertemplate": "<b>%{hovertext}</b><br><br>pais=%{location}",
         "hovertext": [
          "MMR"
         ],
         "legendgroup": "MMR",
         "locationmode": "ISO-3",
         "locations": [
          "MMR"
         ],
         "marker": {
          "color": "#636efa"
         },
         "name": "MMR",
         "showlegend": true,
         "type": "scattergeo"
        },
        {
         "geo": "geo",
         "hoverlabel": {
          "namelength": 0
         },
         "hovertemplate": "<b>%{hovertext}</b><br><br>pais=%{location}",
         "hovertext": [
          "NAM"
         ],
         "legendgroup": "NAM",
         "locationmode": "ISO-3",
         "locations": [
          "NAM"
         ],
         "marker": {
          "color": "#EF553B"
         },
         "name": "NAM",
         "showlegend": true,
         "type": "scattergeo"
        },
        {
         "geo": "geo",
         "hoverlabel": {
          "namelength": 0
         },
         "hovertemplate": "<b>%{hovertext}</b><br><br>pais=%{location}",
         "hovertext": [
          "LCA"
         ],
         "legendgroup": "LCA",
         "locationmode": "ISO-3",
         "locations": [
          "LCA"
         ],
         "marker": {
          "color": "#00cc96"
         },
         "name": "LCA",
         "showlegend": true,
         "type": "scattergeo"
        },
        {
         "geo": "geo",
         "hoverlabel": {
          "namelength": 0
         },
         "hovertemplate": "<b>%{hovertext}</b><br><br>pais=%{location}",
         "hovertext": [
          "ATF"
         ],
         "legendgroup": "ATF",
         "locationmode": "ISO-3",
         "locations": [
          "ATF"
         ],
         "marker": {
          "color": "#ab63fa"
         },
         "name": "ATF",
         "showlegend": true,
         "type": "scattergeo"
        },
        {
         "geo": "geo",
         "hoverlabel": {
          "namelength": 0
         },
         "hovertemplate": "<b>%{hovertext}</b><br><br>pais=%{location}",
         "hovertext": [
          "BHS"
         ],
         "legendgroup": "BHS",
         "locationmode": "ISO-3",
         "locations": [
          "BHS"
         ],
         "marker": {
          "color": "#FFA15A"
         },
         "name": "BHS",
         "showlegend": true,
         "type": "scattergeo"
        },
        {
         "geo": "geo",
         "hoverlabel": {
          "namelength": 0
         },
         "hovertemplate": "<b>%{hovertext}</b><br><br>pais=%{location}",
         "hovertext": [
          "MRT"
         ],
         "legendgroup": "MRT",
         "locationmode": "ISO-3",
         "locations": [
          "MRT"
         ],
         "marker": {
          "color": "#19d3f3"
         },
         "name": "MRT",
         "showlegend": true,
         "type": "scattergeo"
        },
        {
         "geo": "geo",
         "hoverlabel": {
          "namelength": 0
         },
         "hovertemplate": "<b>%{hovertext}</b><br><br>pais=%{location}",
         "hovertext": [
          "MDG"
         ],
         "legendgroup": "MDG",
         "locationmode": "ISO-3",
         "locations": [
          "MDG"
         ],
         "marker": {
          "color": "#FF6692"
         },
         "name": "MDG",
         "showlegend": true,
         "type": "scattergeo"
        },
        {
         "geo": "geo",
         "hoverlabel": {
          "namelength": 0
         },
         "hovertemplate": "<b>%{hovertext}</b><br><br>pais=%{location}",
         "hovertext": [
          "ASM"
         ],
         "legendgroup": "ASM",
         "locationmode": "ISO-3",
         "locations": [
          "ASM"
         ],
         "marker": {
          "color": "#B6E880"
         },
         "name": "ASM",
         "showlegend": true,
         "type": "scattergeo"
        },
        {
         "geo": "geo",
         "hoverlabel": {
          "namelength": 0
         },
         "hovertemplate": "<b>%{hovertext}</b><br><br>pais=%{location}",
         "hovertext": [
          "NCL"
         ],
         "legendgroup": "NCL",
         "locationmode": "ISO-3",
         "locations": [
          "NCL"
         ],
         "marker": {
          "color": "#FF97FF"
         },
         "name": "NCL",
         "showlegend": true,
         "type": "scattergeo"
        },
        {
         "geo": "geo",
         "hoverlabel": {
          "namelength": 0
         },
         "hovertemplate": "<b>%{hovertext}</b><br><br>pais=%{location}",
         "hovertext": [
          "GUY"
         ],
         "legendgroup": "GUY",
         "locationmode": "ISO-3",
         "locations": [
          "GUY"
         ],
         "marker": {
          "color": "#FECB52"
         },
         "name": "GUY",
         "showlegend": true,
         "type": "scattergeo"
        },
        {
         "geo": "geo",
         "hoverlabel": {
          "namelength": 0
         },
         "hovertemplate": "<b>%{hovertext}</b><br><br>pais=%{location}",
         "hovertext": [
          "MLI"
         ],
         "legendgroup": "MLI",
         "locationmode": "ISO-3",
         "locations": [
          "MLI"
         ],
         "marker": {
          "color": "#636efa"
         },
         "name": "MLI",
         "showlegend": true,
         "type": "scattergeo"
        },
        {
         "geo": "geo",
         "hoverlabel": {
          "namelength": 0
         },
         "hovertemplate": "<b>%{hovertext}</b><br><br>pais=%{location}",
         "hovertext": [
          "SLE"
         ],
         "legendgroup": "SLE",
         "locationmode": "ISO-3",
         "locations": [
          "SLE"
         ],
         "marker": {
          "color": "#EF553B"
         },
         "name": "SLE",
         "showlegend": true,
         "type": "scattergeo"
        },
        {
         "geo": "geo",
         "hoverlabel": {
          "namelength": 0
         },
         "hovertemplate": "<b>%{hovertext}</b><br><br>pais=%{location}",
         "hovertext": [
          "BDI"
         ],
         "legendgroup": "BDI",
         "locationmode": "ISO-3",
         "locations": [
          "BDI"
         ],
         "marker": {
          "color": "#00cc96"
         },
         "name": "BDI",
         "showlegend": true,
         "type": "scattergeo"
        },
        {
         "geo": "geo",
         "hoverlabel": {
          "namelength": 0
         },
         "hovertemplate": "<b>%{hovertext}</b><br><br>pais=%{location}",
         "hovertext": [
          "DMA"
         ],
         "legendgroup": "DMA",
         "locationmode": "ISO-3",
         "locations": [
          "DMA"
         ],
         "marker": {
          "color": "#ab63fa"
         },
         "name": "DMA",
         "showlegend": true,
         "type": "scattergeo"
        },
        {
         "geo": "geo",
         "hoverlabel": {
          "namelength": 0
         },
         "hovertemplate": "<b>%{hovertext}</b><br><br>pais=%{location}",
         "hovertext": [
          "NIC"
         ],
         "legendgroup": "NIC",
         "locationmode": "ISO-3",
         "locations": [
          "NIC"
         ],
         "marker": {
          "color": "#FFA15A"
         },
         "name": "NIC",
         "showlegend": true,
         "type": "scattergeo"
        },
        {
         "geo": "geo",
         "hoverlabel": {
          "namelength": 0
         },
         "hovertemplate": "<b>%{hovertext}</b><br><br>pais=%{location}",
         "hovertext": [
          "PYF"
         ],
         "legendgroup": "PYF",
         "locationmode": "ISO-3",
         "locations": [
          "PYF"
         ],
         "marker": {
          "color": "#19d3f3"
         },
         "name": "PYF",
         "showlegend": true,
         "type": "scattergeo"
        },
        {
         "geo": "geo",
         "hoverlabel": {
          "namelength": 0
         },
         "hovertemplate": "<b>%{hovertext}</b><br><br>pais=%{location}",
         "hovertext": [
          "NPL"
         ],
         "legendgroup": "NPL",
         "locationmode": "ISO-3",
         "locations": [
          "NPL"
         ],
         "marker": {
          "color": "#FF6692"
         },
         "name": "NPL",
         "showlegend": true,
         "type": "scattergeo"
        },
        {
         "geo": "geo",
         "hoverlabel": {
          "namelength": 0
         },
         "hovertemplate": "<b>%{hovertext}</b><br><br>pais=%{location}",
         "hovertext": [
          "FJI"
         ],
         "legendgroup": "FJI",
         "locationmode": "ISO-3",
         "locations": [
          "FJI"
         ],
         "marker": {
          "color": "#B6E880"
         },
         "name": "FJI",
         "showlegend": true,
         "type": "scattergeo"
        }
       ],
       "layout": {
        "geo": {
         "center": {},
         "domain": {
          "x": [
           0,
           1
          ],
          "y": [
           0,
           1
          ]
         }
        },
        "legend": {
         "title": {
          "text": "pais"
         },
         "tracegroupgap": 0
        },
        "margin": {
         "t": 60
        },
        "template": {
         "data": {
          "bar": [
           {
            "error_x": {
             "color": "#2a3f5f"
            },
            "error_y": {
             "color": "#2a3f5f"
            },
            "marker": {
             "line": {
              "color": "#E5ECF6",
              "width": 0.5
             }
            },
            "type": "bar"
           }
          ],
          "barpolar": [
           {
            "marker": {
             "line": {
              "color": "#E5ECF6",
              "width": 0.5
             }
            },
            "type": "barpolar"
           }
          ],
          "carpet": [
           {
            "aaxis": {
             "endlinecolor": "#2a3f5f",
             "gridcolor": "white",
             "linecolor": "white",
             "minorgridcolor": "white",
             "startlinecolor": "#2a3f5f"
            },
            "baxis": {
             "endlinecolor": "#2a3f5f",
             "gridcolor": "white",
             "linecolor": "white",
             "minorgridcolor": "white",
             "startlinecolor": "#2a3f5f"
            },
            "type": "carpet"
           }
          ],
          "choropleth": [
           {
            "colorbar": {
             "outlinewidth": 0,
             "ticks": ""
            },
            "type": "choropleth"
           }
          ],
          "contour": [
           {
            "colorbar": {
             "outlinewidth": 0,
             "ticks": ""
            },
            "colorscale": [
             [
              0,
              "#0d0887"
             ],
             [
              0.1111111111111111,
              "#46039f"
             ],
             [
              0.2222222222222222,
              "#7201a8"
             ],
             [
              0.3333333333333333,
              "#9c179e"
             ],
             [
              0.4444444444444444,
              "#bd3786"
             ],
             [
              0.5555555555555556,
              "#d8576b"
             ],
             [
              0.6666666666666666,
              "#ed7953"
             ],
             [
              0.7777777777777778,
              "#fb9f3a"
             ],
             [
              0.8888888888888888,
              "#fdca26"
             ],
             [
              1,
              "#f0f921"
             ]
            ],
            "type": "contour"
           }
          ],
          "contourcarpet": [
           {
            "colorbar": {
             "outlinewidth": 0,
             "ticks": ""
            },
            "type": "contourcarpet"
           }
          ],
          "heatmap": [
           {
            "colorbar": {
             "outlinewidth": 0,
             "ticks": ""
            },
            "colorscale": [
             [
              0,
              "#0d0887"
             ],
             [
              0.1111111111111111,
              "#46039f"
             ],
             [
              0.2222222222222222,
              "#7201a8"
             ],
             [
              0.3333333333333333,
              "#9c179e"
             ],
             [
              0.4444444444444444,
              "#bd3786"
             ],
             [
              0.5555555555555556,
              "#d8576b"
             ],
             [
              0.6666666666666666,
              "#ed7953"
             ],
             [
              0.7777777777777778,
              "#fb9f3a"
             ],
             [
              0.8888888888888888,
              "#fdca26"
             ],
             [
              1,
              "#f0f921"
             ]
            ],
            "type": "heatmap"
           }
          ],
          "heatmapgl": [
           {
            "colorbar": {
             "outlinewidth": 0,
             "ticks": ""
            },
            "colorscale": [
             [
              0,
              "#0d0887"
             ],
             [
              0.1111111111111111,
              "#46039f"
             ],
             [
              0.2222222222222222,
              "#7201a8"
             ],
             [
              0.3333333333333333,
              "#9c179e"
             ],
             [
              0.4444444444444444,
              "#bd3786"
             ],
             [
              0.5555555555555556,
              "#d8576b"
             ],
             [
              0.6666666666666666,
              "#ed7953"
             ],
             [
              0.7777777777777778,
              "#fb9f3a"
             ],
             [
              0.8888888888888888,
              "#fdca26"
             ],
             [
              1,
              "#f0f921"
             ]
            ],
            "type": "heatmapgl"
           }
          ],
          "histogram": [
           {
            "marker": {
             "colorbar": {
              "outlinewidth": 0,
              "ticks": ""
             }
            },
            "type": "histogram"
           }
          ],
          "histogram2d": [
           {
            "colorbar": {
             "outlinewidth": 0,
             "ticks": ""
            },
            "colorscale": [
             [
              0,
              "#0d0887"
             ],
             [
              0.1111111111111111,
              "#46039f"
             ],
             [
              0.2222222222222222,
              "#7201a8"
             ],
             [
              0.3333333333333333,
              "#9c179e"
             ],
             [
              0.4444444444444444,
              "#bd3786"
             ],
             [
              0.5555555555555556,
              "#d8576b"
             ],
             [
              0.6666666666666666,
              "#ed7953"
             ],
             [
              0.7777777777777778,
              "#fb9f3a"
             ],
             [
              0.8888888888888888,
              "#fdca26"
             ],
             [
              1,
              "#f0f921"
             ]
            ],
            "type": "histogram2d"
           }
          ],
          "histogram2dcontour": [
           {
            "colorbar": {
             "outlinewidth": 0,
             "ticks": ""
            },
            "colorscale": [
             [
              0,
              "#0d0887"
             ],
             [
              0.1111111111111111,
              "#46039f"
             ],
             [
              0.2222222222222222,
              "#7201a8"
             ],
             [
              0.3333333333333333,
              "#9c179e"
             ],
             [
              0.4444444444444444,
              "#bd3786"
             ],
             [
              0.5555555555555556,
              "#d8576b"
             ],
             [
              0.6666666666666666,
              "#ed7953"
             ],
             [
              0.7777777777777778,
              "#fb9f3a"
             ],
             [
              0.8888888888888888,
              "#fdca26"
             ],
             [
              1,
              "#f0f921"
             ]
            ],
            "type": "histogram2dcontour"
           }
          ],
          "mesh3d": [
           {
            "colorbar": {
             "outlinewidth": 0,
             "ticks": ""
            },
            "type": "mesh3d"
           }
          ],
          "parcoords": [
           {
            "line": {
             "colorbar": {
              "outlinewidth": 0,
              "ticks": ""
             }
            },
            "type": "parcoords"
           }
          ],
          "pie": [
           {
            "automargin": true,
            "type": "pie"
           }
          ],
          "scatter": [
           {
            "marker": {
             "colorbar": {
              "outlinewidth": 0,
              "ticks": ""
             }
            },
            "type": "scatter"
           }
          ],
          "scatter3d": [
           {
            "line": {
             "colorbar": {
              "outlinewidth": 0,
              "ticks": ""
             }
            },
            "marker": {
             "colorbar": {
              "outlinewidth": 0,
              "ticks": ""
             }
            },
            "type": "scatter3d"
           }
          ],
          "scattercarpet": [
           {
            "marker": {
             "colorbar": {
              "outlinewidth": 0,
              "ticks": ""
             }
            },
            "type": "scattercarpet"
           }
          ],
          "scattergeo": [
           {
            "marker": {
             "colorbar": {
              "outlinewidth": 0,
              "ticks": ""
             }
            },
            "type": "scattergeo"
           }
          ],
          "scattergl": [
           {
            "marker": {
             "colorbar": {
              "outlinewidth": 0,
              "ticks": ""
             }
            },
            "type": "scattergl"
           }
          ],
          "scattermapbox": [
           {
            "marker": {
             "colorbar": {
              "outlinewidth": 0,
              "ticks": ""
             }
            },
            "type": "scattermapbox"
           }
          ],
          "scatterpolar": [
           {
            "marker": {
             "colorbar": {
              "outlinewidth": 0,
              "ticks": ""
             }
            },
            "type": "scatterpolar"
           }
          ],
          "scatterpolargl": [
           {
            "marker": {
             "colorbar": {
              "outlinewidth": 0,
              "ticks": ""
             }
            },
            "type": "scatterpolargl"
           }
          ],
          "scatterternary": [
           {
            "marker": {
             "colorbar": {
              "outlinewidth": 0,
              "ticks": ""
             }
            },
            "type": "scatterternary"
           }
          ],
          "surface": [
           {
            "colorbar": {
             "outlinewidth": 0,
             "ticks": ""
            },
            "colorscale": [
             [
              0,
              "#0d0887"
             ],
             [
              0.1111111111111111,
              "#46039f"
             ],
             [
              0.2222222222222222,
              "#7201a8"
             ],
             [
              0.3333333333333333,
              "#9c179e"
             ],
             [
              0.4444444444444444,
              "#bd3786"
             ],
             [
              0.5555555555555556,
              "#d8576b"
             ],
             [
              0.6666666666666666,
              "#ed7953"
             ],
             [
              0.7777777777777778,
              "#fb9f3a"
             ],
             [
              0.8888888888888888,
              "#fdca26"
             ],
             [
              1,
              "#f0f921"
             ]
            ],
            "type": "surface"
           }
          ],
          "table": [
           {
            "cells": {
             "fill": {
              "color": "#EBF0F8"
             },
             "line": {
              "color": "white"
             }
            },
            "header": {
             "fill": {
              "color": "#C8D4E3"
             },
             "line": {
              "color": "white"
             }
            },
            "type": "table"
           }
          ]
         },
         "layout": {
          "annotationdefaults": {
           "arrowcolor": "#2a3f5f",
           "arrowhead": 0,
           "arrowwidth": 1
          },
          "coloraxis": {
           "colorbar": {
            "outlinewidth": 0,
            "ticks": ""
           }
          },
          "colorscale": {
           "diverging": [
            [
             0,
             "#8e0152"
            ],
            [
             0.1,
             "#c51b7d"
            ],
            [
             0.2,
             "#de77ae"
            ],
            [
             0.3,
             "#f1b6da"
            ],
            [
             0.4,
             "#fde0ef"
            ],
            [
             0.5,
             "#f7f7f7"
            ],
            [
             0.6,
             "#e6f5d0"
            ],
            [
             0.7,
             "#b8e186"
            ],
            [
             0.8,
             "#7fbc41"
            ],
            [
             0.9,
             "#4d9221"
            ],
            [
             1,
             "#276419"
            ]
           ],
           "sequential": [
            [
             0,
             "#0d0887"
            ],
            [
             0.1111111111111111,
             "#46039f"
            ],
            [
             0.2222222222222222,
             "#7201a8"
            ],
            [
             0.3333333333333333,
             "#9c179e"
            ],
            [
             0.4444444444444444,
             "#bd3786"
            ],
            [
             0.5555555555555556,
             "#d8576b"
            ],
            [
             0.6666666666666666,
             "#ed7953"
            ],
            [
             0.7777777777777778,
             "#fb9f3a"
            ],
            [
             0.8888888888888888,
             "#fdca26"
            ],
            [
             1,
             "#f0f921"
            ]
           ],
           "sequentialminus": [
            [
             0,
             "#0d0887"
            ],
            [
             0.1111111111111111,
             "#46039f"
            ],
            [
             0.2222222222222222,
             "#7201a8"
            ],
            [
             0.3333333333333333,
             "#9c179e"
            ],
            [
             0.4444444444444444,
             "#bd3786"
            ],
            [
             0.5555555555555556,
             "#d8576b"
            ],
            [
             0.6666666666666666,
             "#ed7953"
            ],
            [
             0.7777777777777778,
             "#fb9f3a"
            ],
            [
             0.8888888888888888,
             "#fdca26"
            ],
            [
             1,
             "#f0f921"
            ]
           ]
          },
          "colorway": [
           "#636efa",
           "#EF553B",
           "#00cc96",
           "#ab63fa",
           "#FFA15A",
           "#19d3f3",
           "#FF6692",
           "#B6E880",
           "#FF97FF",
           "#FECB52"
          ],
          "font": {
           "color": "#2a3f5f"
          },
          "geo": {
           "bgcolor": "white",
           "lakecolor": "white",
           "landcolor": "#E5ECF6",
           "showlakes": true,
           "showland": true,
           "subunitcolor": "white"
          },
          "hoverlabel": {
           "align": "left"
          },
          "hovermode": "closest",
          "mapbox": {
           "style": "light"
          },
          "paper_bgcolor": "white",
          "plot_bgcolor": "#E5ECF6",
          "polar": {
           "angularaxis": {
            "gridcolor": "white",
            "linecolor": "white",
            "ticks": ""
           },
           "bgcolor": "#E5ECF6",
           "radialaxis": {
            "gridcolor": "white",
            "linecolor": "white",
            "ticks": ""
           }
          },
          "scene": {
           "xaxis": {
            "backgroundcolor": "#E5ECF6",
            "gridcolor": "white",
            "gridwidth": 2,
            "linecolor": "white",
            "showbackground": true,
            "ticks": "",
            "zerolinecolor": "white"
           },
           "yaxis": {
            "backgroundcolor": "#E5ECF6",
            "gridcolor": "white",
            "gridwidth": 2,
            "linecolor": "white",
            "showbackground": true,
            "ticks": "",
            "zerolinecolor": "white"
           },
           "zaxis": {
            "backgroundcolor": "#E5ECF6",
            "gridcolor": "white",
            "gridwidth": 2,
            "linecolor": "white",
            "showbackground": true,
            "ticks": "",
            "zerolinecolor": "white"
           }
          },
          "shapedefaults": {
           "line": {
            "color": "#2a3f5f"
           }
          },
          "ternary": {
           "aaxis": {
            "gridcolor": "white",
            "linecolor": "white",
            "ticks": ""
           },
           "baxis": {
            "gridcolor": "white",
            "linecolor": "white",
            "ticks": ""
           },
           "bgcolor": "#E5ECF6",
           "caxis": {
            "gridcolor": "white",
            "linecolor": "white",
            "ticks": ""
           }
          },
          "title": {
           "x": 0.05
          },
          "xaxis": {
           "automargin": true,
           "gridcolor": "white",
           "linecolor": "white",
           "ticks": "",
           "title": {
            "standoff": 15
           },
           "zerolinecolor": "white",
           "zerolinewidth": 2
          },
          "yaxis": {
           "automargin": true,
           "gridcolor": "white",
           "linecolor": "white",
           "ticks": "",
           "title": {
            "standoff": 15
           },
           "zerolinecolor": "white",
           "zerolinewidth": 2
          }
         }
        }
       }
      },
      "text/html": [
       "<div>\n",
       "        \n",
       "        \n",
       "            <div id=\"295ebd91-56f5-4f04-af3c-dabbec273b14\" class=\"plotly-graph-div\" style=\"height:525px; width:100%;\"></div>\n",
       "            <script type=\"text/javascript\">\n",
       "                require([\"plotly\"], function(Plotly) {\n",
       "                    window.PLOTLYENV=window.PLOTLYENV || {};\n",
       "                    \n",
       "                if (document.getElementById(\"295ebd91-56f5-4f04-af3c-dabbec273b14\")) {\n",
       "                    Plotly.newPlot(\n",
       "                        '295ebd91-56f5-4f04-af3c-dabbec273b14',\n",
       "                        [{\"geo\": \"geo\", \"hoverlabel\": {\"namelength\": 0}, \"hovertemplate\": \"<b>%{hovertext}</b><br><br>pais=%{location}\", \"hovertext\": [\"PRT\"], \"legendgroup\": \"PRT\", \"locationmode\": \"ISO-3\", \"locations\": [\"PRT\"], \"marker\": {\"color\": \"#636efa\"}, \"name\": \"PRT\", \"showlegend\": true, \"type\": \"scattergeo\"}, {\"geo\": \"geo\", \"hoverlabel\": {\"namelength\": 0}, \"hovertemplate\": \"<b>%{hovertext}</b><br><br>pais=%{location}\", \"hovertext\": [\"GBR\"], \"legendgroup\": \"GBR\", \"locationmode\": \"ISO-3\", \"locations\": [\"GBR\"], \"marker\": {\"color\": \"#EF553B\"}, \"name\": \"GBR\", \"showlegend\": true, \"type\": \"scattergeo\"}, {\"geo\": \"geo\", \"hoverlabel\": {\"namelength\": 0}, \"hovertemplate\": \"<b>%{hovertext}</b><br><br>pais=%{location}\", \"hovertext\": [\"FRA\"], \"legendgroup\": \"FRA\", \"locationmode\": \"ISO-3\", \"locations\": [\"FRA\"], \"marker\": {\"color\": \"#00cc96\"}, \"name\": \"FRA\", \"showlegend\": true, \"type\": \"scattergeo\"}, {\"geo\": \"geo\", \"hoverlabel\": {\"namelength\": 0}, \"hovertemplate\": \"<b>%{hovertext}</b><br><br>pais=%{location}\", \"hovertext\": [\"ESP\"], \"legendgroup\": \"ESP\", \"locationmode\": \"ISO-3\", \"locations\": [\"ESP\"], \"marker\": {\"color\": \"#ab63fa\"}, \"name\": \"ESP\", \"showlegend\": true, \"type\": \"scattergeo\"}, {\"geo\": \"geo\", \"hoverlabel\": {\"namelength\": 0}, \"hovertemplate\": \"<b>%{hovertext}</b><br><br>pais=%{location}\", \"hovertext\": [\"DEU\"], \"legendgroup\": \"DEU\", \"locationmode\": \"ISO-3\", \"locations\": [\"DEU\"], \"marker\": {\"color\": \"#FFA15A\"}, \"name\": \"DEU\", \"showlegend\": true, \"type\": \"scattergeo\"}, {\"geo\": \"geo\", \"hoverlabel\": {\"namelength\": 0}, \"hovertemplate\": \"<b>%{hovertext}</b><br><br>pais=%{location}\", \"hovertext\": [\"ITA\"], \"legendgroup\": \"ITA\", \"locationmode\": \"ISO-3\", \"locations\": [\"ITA\"], \"marker\": {\"color\": \"#19d3f3\"}, \"name\": \"ITA\", \"showlegend\": true, \"type\": \"scattergeo\"}, {\"geo\": \"geo\", \"hoverlabel\": {\"namelength\": 0}, \"hovertemplate\": \"<b>%{hovertext}</b><br><br>pais=%{location}\", \"hovertext\": [\"IRL\"], \"legendgroup\": \"IRL\", \"locationmode\": \"ISO-3\", \"locations\": [\"IRL\"], \"marker\": {\"color\": \"#FF6692\"}, \"name\": \"IRL\", \"showlegend\": true, \"type\": \"scattergeo\"}, {\"geo\": \"geo\", \"hoverlabel\": {\"namelength\": 0}, \"hovertemplate\": \"<b>%{hovertext}</b><br><br>pais=%{location}\", \"hovertext\": [\"BEL\"], \"legendgroup\": \"BEL\", \"locationmode\": \"ISO-3\", \"locations\": [\"BEL\"], \"marker\": {\"color\": \"#B6E880\"}, \"name\": \"BEL\", \"showlegend\": true, \"type\": \"scattergeo\"}, {\"geo\": \"geo\", \"hoverlabel\": {\"namelength\": 0}, \"hovertemplate\": \"<b>%{hovertext}</b><br><br>pais=%{location}\", \"hovertext\": [\"BRA\"], \"legendgroup\": \"BRA\", \"locationmode\": \"ISO-3\", \"locations\": [\"BRA\"], \"marker\": {\"color\": \"#FF97FF\"}, \"name\": \"BRA\", \"showlegend\": true, \"type\": \"scattergeo\"}, {\"geo\": \"geo\", \"hoverlabel\": {\"namelength\": 0}, \"hovertemplate\": \"<b>%{hovertext}</b><br><br>pais=%{location}\", \"hovertext\": [\"NLD\"], \"legendgroup\": \"NLD\", \"locationmode\": \"ISO-3\", \"locations\": [\"NLD\"], \"marker\": {\"color\": \"#FECB52\"}, \"name\": \"NLD\", \"showlegend\": true, \"type\": \"scattergeo\"}, {\"geo\": \"geo\", \"hoverlabel\": {\"namelength\": 0}, \"hovertemplate\": \"<b>%{hovertext}</b><br><br>pais=%{location}\", \"hovertext\": [\"USA\"], \"legendgroup\": \"USA\", \"locationmode\": \"ISO-3\", \"locations\": [\"USA\"], \"marker\": {\"color\": \"#636efa\"}, \"name\": \"USA\", \"showlegend\": true, \"type\": \"scattergeo\"}, {\"geo\": \"geo\", \"hoverlabel\": {\"namelength\": 0}, \"hovertemplate\": \"<b>%{hovertext}</b><br><br>pais=%{location}\", \"hovertext\": [\"CHE\"], \"legendgroup\": \"CHE\", \"locationmode\": \"ISO-3\", \"locations\": [\"CHE\"], \"marker\": {\"color\": \"#EF553B\"}, \"name\": \"CHE\", \"showlegend\": true, \"type\": \"scattergeo\"}, {\"geo\": \"geo\", \"hoverlabel\": {\"namelength\": 0}, \"hovertemplate\": \"<b>%{hovertext}</b><br><br>pais=%{location}\", \"hovertext\": [\"CN\"], \"legendgroup\": \"CN\", \"locationmode\": \"ISO-3\", \"locations\": [\"CN\"], \"marker\": {\"color\": \"#00cc96\"}, \"name\": \"CN\", \"showlegend\": true, \"type\": \"scattergeo\"}, {\"geo\": \"geo\", \"hoverlabel\": {\"namelength\": 0}, \"hovertemplate\": \"<b>%{hovertext}</b><br><br>pais=%{location}\", \"hovertext\": [\"AUT\"], \"legendgroup\": \"AUT\", \"locationmode\": \"ISO-3\", \"locations\": [\"AUT\"], \"marker\": {\"color\": \"#ab63fa\"}, \"name\": \"AUT\", \"showlegend\": true, \"type\": \"scattergeo\"}, {\"geo\": \"geo\", \"hoverlabel\": {\"namelength\": 0}, \"hovertemplate\": \"<b>%{hovertext}</b><br><br>pais=%{location}\", \"hovertext\": [\"SWE\"], \"legendgroup\": \"SWE\", \"locationmode\": \"ISO-3\", \"locations\": [\"SWE\"], \"marker\": {\"color\": \"#FFA15A\"}, \"name\": \"SWE\", \"showlegend\": true, \"type\": \"scattergeo\"}, {\"geo\": \"geo\", \"hoverlabel\": {\"namelength\": 0}, \"hovertemplate\": \"<b>%{hovertext}</b><br><br>pais=%{location}\", \"hovertext\": [\"CHN\"], \"legendgroup\": \"CHN\", \"locationmode\": \"ISO-3\", \"locations\": [\"CHN\"], \"marker\": {\"color\": \"#19d3f3\"}, \"name\": \"CHN\", \"showlegend\": true, \"type\": \"scattergeo\"}, {\"geo\": \"geo\", \"hoverlabel\": {\"namelength\": 0}, \"hovertemplate\": \"<b>%{hovertext}</b><br><br>pais=%{location}\", \"hovertext\": [\"POL\"], \"legendgroup\": \"POL\", \"locationmode\": \"ISO-3\", \"locations\": [\"POL\"], \"marker\": {\"color\": \"#FF6692\"}, \"name\": \"POL\", \"showlegend\": true, \"type\": \"scattergeo\"}, {\"geo\": \"geo\", \"hoverlabel\": {\"namelength\": 0}, \"hovertemplate\": \"<b>%{hovertext}</b><br><br>pais=%{location}\", \"hovertext\": [\"ISR\"], \"legendgroup\": \"ISR\", \"locationmode\": \"ISO-3\", \"locations\": [\"ISR\"], \"marker\": {\"color\": \"#B6E880\"}, \"name\": \"ISR\", \"showlegend\": true, \"type\": \"scattergeo\"}, {\"geo\": \"geo\", \"hoverlabel\": {\"namelength\": 0}, \"hovertemplate\": \"<b>%{hovertext}</b><br><br>pais=%{location}\", \"hovertext\": [\"RUS\"], \"legendgroup\": \"RUS\", \"locationmode\": \"ISO-3\", \"locations\": [\"RUS\"], \"marker\": {\"color\": \"#FF97FF\"}, \"name\": \"RUS\", \"showlegend\": true, \"type\": \"scattergeo\"}, {\"geo\": \"geo\", \"hoverlabel\": {\"namelength\": 0}, \"hovertemplate\": \"<b>%{hovertext}</b><br><br>pais=%{location}\", \"hovertext\": [\"NOR\"], \"legendgroup\": \"NOR\", \"locationmode\": \"ISO-3\", \"locations\": [\"NOR\"], \"marker\": {\"color\": \"#FECB52\"}, \"name\": \"NOR\", \"showlegend\": true, \"type\": \"scattergeo\"}, {\"geo\": \"geo\", \"hoverlabel\": {\"namelength\": 0}, \"hovertemplate\": \"<b>%{hovertext}</b><br><br>pais=%{location}\", \"hovertext\": [\"ROU\"], \"legendgroup\": \"ROU\", \"locationmode\": \"ISO-3\", \"locations\": [\"ROU\"], \"marker\": {\"color\": \"#636efa\"}, \"name\": \"ROU\", \"showlegend\": true, \"type\": \"scattergeo\"}, {\"geo\": \"geo\", \"hoverlabel\": {\"namelength\": 0}, \"hovertemplate\": \"<b>%{hovertext}</b><br><br>pais=%{location}\", \"hovertext\": [\"Desconhecido\"], \"legendgroup\": \"Desconhecido\", \"locationmode\": \"ISO-3\", \"locations\": [\"Desconhecido\"], \"marker\": {\"color\": \"#EF553B\"}, \"name\": \"Desconhecido\", \"showlegend\": true, \"type\": \"scattergeo\"}, {\"geo\": \"geo\", \"hoverlabel\": {\"namelength\": 0}, \"hovertemplate\": \"<b>%{hovertext}</b><br><br>pais=%{location}\", \"hovertext\": [\"FIN\"], \"legendgroup\": \"FIN\", \"locationmode\": \"ISO-3\", \"locations\": [\"FIN\"], \"marker\": {\"color\": \"#00cc96\"}, \"name\": \"FIN\", \"showlegend\": true, \"type\": \"scattergeo\"}, {\"geo\": \"geo\", \"hoverlabel\": {\"namelength\": 0}, \"hovertemplate\": \"<b>%{hovertext}</b><br><br>pais=%{location}\", \"hovertext\": [\"DNK\"], \"legendgroup\": \"DNK\", \"locationmode\": \"ISO-3\", \"locations\": [\"DNK\"], \"marker\": {\"color\": \"#ab63fa\"}, \"name\": \"DNK\", \"showlegend\": true, \"type\": \"scattergeo\"}, {\"geo\": \"geo\", \"hoverlabel\": {\"namelength\": 0}, \"hovertemplate\": \"<b>%{hovertext}</b><br><br>pais=%{location}\", \"hovertext\": [\"AUS\"], \"legendgroup\": \"AUS\", \"locationmode\": \"ISO-3\", \"locations\": [\"AUS\"], \"marker\": {\"color\": \"#FFA15A\"}, \"name\": \"AUS\", \"showlegend\": true, \"type\": \"scattergeo\"}, {\"geo\": \"geo\", \"hoverlabel\": {\"namelength\": 0}, \"hovertemplate\": \"<b>%{hovertext}</b><br><br>pais=%{location}\", \"hovertext\": [\"AGO\"], \"legendgroup\": \"AGO\", \"locationmode\": \"ISO-3\", \"locations\": [\"AGO\"], \"marker\": {\"color\": \"#19d3f3\"}, \"name\": \"AGO\", \"showlegend\": true, \"type\": \"scattergeo\"}, {\"geo\": \"geo\", \"hoverlabel\": {\"namelength\": 0}, \"hovertemplate\": \"<b>%{hovertext}</b><br><br>pais=%{location}\", \"hovertext\": [\"LUX\"], \"legendgroup\": \"LUX\", \"locationmode\": \"ISO-3\", \"locations\": [\"LUX\"], \"marker\": {\"color\": \"#FF6692\"}, \"name\": \"LUX\", \"showlegend\": true, \"type\": \"scattergeo\"}, {\"geo\": \"geo\", \"hoverlabel\": {\"namelength\": 0}, \"hovertemplate\": \"<b>%{hovertext}</b><br><br>pais=%{location}\", \"hovertext\": [\"MAR\"], \"legendgroup\": \"MAR\", \"locationmode\": \"ISO-3\", \"locations\": [\"MAR\"], \"marker\": {\"color\": \"#B6E880\"}, \"name\": \"MAR\", \"showlegend\": true, \"type\": \"scattergeo\"}, {\"geo\": \"geo\", \"hoverlabel\": {\"namelength\": 0}, \"hovertemplate\": \"<b>%{hovertext}</b><br><br>pais=%{location}\", \"hovertext\": [\"TUR\"], \"legendgroup\": \"TUR\", \"locationmode\": \"ISO-3\", \"locations\": [\"TUR\"], \"marker\": {\"color\": \"#FF97FF\"}, \"name\": \"TUR\", \"showlegend\": true, \"type\": \"scattergeo\"}, {\"geo\": \"geo\", \"hoverlabel\": {\"namelength\": 0}, \"hovertemplate\": \"<b>%{hovertext}</b><br><br>pais=%{location}\", \"hovertext\": [\"HUN\"], \"legendgroup\": \"HUN\", \"locationmode\": \"ISO-3\", \"locations\": [\"HUN\"], \"marker\": {\"color\": \"#FECB52\"}, \"name\": \"HUN\", \"showlegend\": true, \"type\": \"scattergeo\"}, {\"geo\": \"geo\", \"hoverlabel\": {\"namelength\": 0}, \"hovertemplate\": \"<b>%{hovertext}</b><br><br>pais=%{location}\", \"hovertext\": [\"ARG\"], \"legendgroup\": \"ARG\", \"locationmode\": \"ISO-3\", \"locations\": [\"ARG\"], \"marker\": {\"color\": \"#636efa\"}, \"name\": \"ARG\", \"showlegend\": true, \"type\": \"scattergeo\"}, {\"geo\": \"geo\", \"hoverlabel\": {\"namelength\": 0}, \"hovertemplate\": \"<b>%{hovertext}</b><br><br>pais=%{location}\", \"hovertext\": [\"JPN\"], \"legendgroup\": \"JPN\", \"locationmode\": \"ISO-3\", \"locations\": [\"JPN\"], \"marker\": {\"color\": \"#EF553B\"}, \"name\": \"JPN\", \"showlegend\": true, \"type\": \"scattergeo\"}, {\"geo\": \"geo\", \"hoverlabel\": {\"namelength\": 0}, \"hovertemplate\": \"<b>%{hovertext}</b><br><br>pais=%{location}\", \"hovertext\": [\"CZE\"], \"legendgroup\": \"CZE\", \"locationmode\": \"ISO-3\", \"locations\": [\"CZE\"], \"marker\": {\"color\": \"#00cc96\"}, \"name\": \"CZE\", \"showlegend\": true, \"type\": \"scattergeo\"}, {\"geo\": \"geo\", \"hoverlabel\": {\"namelength\": 0}, \"hovertemplate\": \"<b>%{hovertext}</b><br><br>pais=%{location}\", \"hovertext\": [\"IND\"], \"legendgroup\": \"IND\", \"locationmode\": \"ISO-3\", \"locations\": [\"IND\"], \"marker\": {\"color\": \"#ab63fa\"}, \"name\": \"IND\", \"showlegend\": true, \"type\": \"scattergeo\"}, {\"geo\": \"geo\", \"hoverlabel\": {\"namelength\": 0}, \"hovertemplate\": \"<b>%{hovertext}</b><br><br>pais=%{location}\", \"hovertext\": [\"KOR\"], \"legendgroup\": \"KOR\", \"locationmode\": \"ISO-3\", \"locations\": [\"KOR\"], \"marker\": {\"color\": \"#FFA15A\"}, \"name\": \"KOR\", \"showlegend\": true, \"type\": \"scattergeo\"}, {\"geo\": \"geo\", \"hoverlabel\": {\"namelength\": 0}, \"hovertemplate\": \"<b>%{hovertext}</b><br><br>pais=%{location}\", \"hovertext\": [\"GRC\"], \"legendgroup\": \"GRC\", \"locationmode\": \"ISO-3\", \"locations\": [\"GRC\"], \"marker\": {\"color\": \"#19d3f3\"}, \"name\": \"GRC\", \"showlegend\": true, \"type\": \"scattergeo\"}, {\"geo\": \"geo\", \"hoverlabel\": {\"namelength\": 0}, \"hovertemplate\": \"<b>%{hovertext}</b><br><br>pais=%{location}\", \"hovertext\": [\"DZA\"], \"legendgroup\": \"DZA\", \"locationmode\": \"ISO-3\", \"locations\": [\"DZA\"], \"marker\": {\"color\": \"#FF6692\"}, \"name\": \"DZA\", \"showlegend\": true, \"type\": \"scattergeo\"}, {\"geo\": \"geo\", \"hoverlabel\": {\"namelength\": 0}, \"hovertemplate\": \"<b>%{hovertext}</b><br><br>pais=%{location}\", \"hovertext\": [\"SRB\"], \"legendgroup\": \"SRB\", \"locationmode\": \"ISO-3\", \"locations\": [\"SRB\"], \"marker\": {\"color\": \"#B6E880\"}, \"name\": \"SRB\", \"showlegend\": true, \"type\": \"scattergeo\"}, {\"geo\": \"geo\", \"hoverlabel\": {\"namelength\": 0}, \"hovertemplate\": \"<b>%{hovertext}</b><br><br>pais=%{location}\", \"hovertext\": [\"HRV\"], \"legendgroup\": \"HRV\", \"locationmode\": \"ISO-3\", \"locations\": [\"HRV\"], \"marker\": {\"color\": \"#FF97FF\"}, \"name\": \"HRV\", \"showlegend\": true, \"type\": \"scattergeo\"}, {\"geo\": \"geo\", \"hoverlabel\": {\"namelength\": 0}, \"hovertemplate\": \"<b>%{hovertext}</b><br><br>pais=%{location}\", \"hovertext\": [\"MEX\"], \"legendgroup\": \"MEX\", \"locationmode\": \"ISO-3\", \"locations\": [\"MEX\"], \"marker\": {\"color\": \"#FECB52\"}, \"name\": \"MEX\", \"showlegend\": true, \"type\": \"scattergeo\"}, {\"geo\": \"geo\", \"hoverlabel\": {\"namelength\": 0}, \"hovertemplate\": \"<b>%{hovertext}</b><br><br>pais=%{location}\", \"hovertext\": [\"EST\"], \"legendgroup\": \"EST\", \"locationmode\": \"ISO-3\", \"locations\": [\"EST\"], \"marker\": {\"color\": \"#636efa\"}, \"name\": \"EST\", \"showlegend\": true, \"type\": \"scattergeo\"}, {\"geo\": \"geo\", \"hoverlabel\": {\"namelength\": 0}, \"hovertemplate\": \"<b>%{hovertext}</b><br><br>pais=%{location}\", \"hovertext\": [\"IRN\"], \"legendgroup\": \"IRN\", \"locationmode\": \"ISO-3\", \"locations\": [\"IRN\"], \"marker\": {\"color\": \"#EF553B\"}, \"name\": \"IRN\", \"showlegend\": true, \"type\": \"scattergeo\"}, {\"geo\": \"geo\", \"hoverlabel\": {\"namelength\": 0}, \"hovertemplate\": \"<b>%{hovertext}</b><br><br>pais=%{location}\", \"hovertext\": [\"LTU\"], \"legendgroup\": \"LTU\", \"locationmode\": \"ISO-3\", \"locations\": [\"LTU\"], \"marker\": {\"color\": \"#00cc96\"}, \"name\": \"LTU\", \"showlegend\": true, \"type\": \"scattergeo\"}, {\"geo\": \"geo\", \"hoverlabel\": {\"namelength\": 0}, \"hovertemplate\": \"<b>%{hovertext}</b><br><br>pais=%{location}\", \"hovertext\": [\"ZAF\"], \"legendgroup\": \"ZAF\", \"locationmode\": \"ISO-3\", \"locations\": [\"ZAF\"], \"marker\": {\"color\": \"#ab63fa\"}, \"name\": \"ZAF\", \"showlegend\": true, \"type\": \"scattergeo\"}, {\"geo\": \"geo\", \"hoverlabel\": {\"namelength\": 0}, \"hovertemplate\": \"<b>%{hovertext}</b><br><br>pais=%{location}\", \"hovertext\": [\"BGR\"], \"legendgroup\": \"BGR\", \"locationmode\": \"ISO-3\", \"locations\": [\"BGR\"], \"marker\": {\"color\": \"#FFA15A\"}, \"name\": \"BGR\", \"showlegend\": true, \"type\": \"scattergeo\"}, {\"geo\": \"geo\", \"hoverlabel\": {\"namelength\": 0}, \"hovertemplate\": \"<b>%{hovertext}</b><br><br>pais=%{location}\", \"hovertext\": [\"NZL\"], \"legendgroup\": \"NZL\", \"locationmode\": \"ISO-3\", \"locations\": [\"NZL\"], \"marker\": {\"color\": \"#19d3f3\"}, \"name\": \"NZL\", \"showlegend\": true, \"type\": \"scattergeo\"}, {\"geo\": \"geo\", \"hoverlabel\": {\"namelength\": 0}, \"hovertemplate\": \"<b>%{hovertext}</b><br><br>pais=%{location}\", \"hovertext\": [\"COL\"], \"legendgroup\": \"COL\", \"locationmode\": \"ISO-3\", \"locations\": [\"COL\"], \"marker\": {\"color\": \"#FF6692\"}, \"name\": \"COL\", \"showlegend\": true, \"type\": \"scattergeo\"}, {\"geo\": \"geo\", \"hoverlabel\": {\"namelength\": 0}, \"hovertemplate\": \"<b>%{hovertext}</b><br><br>pais=%{location}\", \"hovertext\": [\"UKR\"], \"legendgroup\": \"UKR\", \"locationmode\": \"ISO-3\", \"locations\": [\"UKR\"], \"marker\": {\"color\": \"#B6E880\"}, \"name\": \"UKR\", \"showlegend\": true, \"type\": \"scattergeo\"}, {\"geo\": \"geo\", \"hoverlabel\": {\"namelength\": 0}, \"hovertemplate\": \"<b>%{hovertext}</b><br><br>pais=%{location}\", \"hovertext\": [\"MOZ\"], \"legendgroup\": \"MOZ\", \"locationmode\": \"ISO-3\", \"locations\": [\"MOZ\"], \"marker\": {\"color\": \"#FF97FF\"}, \"name\": \"MOZ\", \"showlegend\": true, \"type\": \"scattergeo\"}, {\"geo\": \"geo\", \"hoverlabel\": {\"namelength\": 0}, \"hovertemplate\": \"<b>%{hovertext}</b><br><br>pais=%{location}\", \"hovertext\": [\"CHL\"], \"legendgroup\": \"CHL\", \"locationmode\": \"ISO-3\", \"locations\": [\"CHL\"], \"marker\": {\"color\": \"#FECB52\"}, \"name\": \"CHL\", \"showlegend\": true, \"type\": \"scattergeo\"}, {\"geo\": \"geo\", \"hoverlabel\": {\"namelength\": 0}, \"hovertemplate\": \"<b>%{hovertext}</b><br><br>pais=%{location}\", \"hovertext\": [\"SVK\"], \"legendgroup\": \"SVK\", \"locationmode\": \"ISO-3\", \"locations\": [\"SVK\"], \"marker\": {\"color\": \"#636efa\"}, \"name\": \"SVK\", \"showlegend\": true, \"type\": \"scattergeo\"}, {\"geo\": \"geo\", \"hoverlabel\": {\"namelength\": 0}, \"hovertemplate\": \"<b>%{hovertext}</b><br><br>pais=%{location}\", \"hovertext\": [\"THA\"], \"legendgroup\": \"THA\", \"locationmode\": \"ISO-3\", \"locations\": [\"THA\"], \"marker\": {\"color\": \"#EF553B\"}, \"name\": \"THA\", \"showlegend\": true, \"type\": \"scattergeo\"}, {\"geo\": \"geo\", \"hoverlabel\": {\"namelength\": 0}, \"hovertemplate\": \"<b>%{hovertext}</b><br><br>pais=%{location}\", \"hovertext\": [\"ISL\"], \"legendgroup\": \"ISL\", \"locationmode\": \"ISO-3\", \"locations\": [\"ISL\"], \"marker\": {\"color\": \"#00cc96\"}, \"name\": \"ISL\", \"showlegend\": true, \"type\": \"scattergeo\"}, {\"geo\": \"geo\", \"hoverlabel\": {\"namelength\": 0}, \"hovertemplate\": \"<b>%{hovertext}</b><br><br>pais=%{location}\", \"hovertext\": [\"SVN\"], \"legendgroup\": \"SVN\", \"locationmode\": \"ISO-3\", \"locations\": [\"SVN\"], \"marker\": {\"color\": \"#ab63fa\"}, \"name\": \"SVN\", \"showlegend\": true, \"type\": \"scattergeo\"}, {\"geo\": \"geo\", \"hoverlabel\": {\"namelength\": 0}, \"hovertemplate\": \"<b>%{hovertext}</b><br><br>pais=%{location}\", \"hovertext\": [\"LVA\"], \"legendgroup\": \"LVA\", \"locationmode\": \"ISO-3\", \"locations\": [\"LVA\"], \"marker\": {\"color\": \"#FFA15A\"}, \"name\": \"LVA\", \"showlegend\": true, \"type\": \"scattergeo\"}, {\"geo\": \"geo\", \"hoverlabel\": {\"namelength\": 0}, \"hovertemplate\": \"<b>%{hovertext}</b><br><br>pais=%{location}\", \"hovertext\": [\"CYP\"], \"legendgroup\": \"CYP\", \"locationmode\": \"ISO-3\", \"locations\": [\"CYP\"], \"marker\": {\"color\": \"#19d3f3\"}, \"name\": \"CYP\", \"showlegend\": true, \"type\": \"scattergeo\"}, {\"geo\": \"geo\", \"hoverlabel\": {\"namelength\": 0}, \"hovertemplate\": \"<b>%{hovertext}</b><br><br>pais=%{location}\", \"hovertext\": [\"ARE\"], \"legendgroup\": \"ARE\", \"locationmode\": \"ISO-3\", \"locations\": [\"ARE\"], \"marker\": {\"color\": \"#FF6692\"}, \"name\": \"ARE\", \"showlegend\": true, \"type\": \"scattergeo\"}, {\"geo\": \"geo\", \"hoverlabel\": {\"namelength\": 0}, \"hovertemplate\": \"<b>%{hovertext}</b><br><br>pais=%{location}\", \"hovertext\": [\"TWN\"], \"legendgroup\": \"TWN\", \"locationmode\": \"ISO-3\", \"locations\": [\"TWN\"], \"marker\": {\"color\": \"#B6E880\"}, \"name\": \"TWN\", \"showlegend\": true, \"type\": \"scattergeo\"}, {\"geo\": \"geo\", \"hoverlabel\": {\"namelength\": 0}, \"hovertemplate\": \"<b>%{hovertext}</b><br><br>pais=%{location}\", \"hovertext\": [\"SAU\"], \"legendgroup\": \"SAU\", \"locationmode\": \"ISO-3\", \"locations\": [\"SAU\"], \"marker\": {\"color\": \"#FF97FF\"}, \"name\": \"SAU\", \"showlegend\": true, \"type\": \"scattergeo\"}, {\"geo\": \"geo\", \"hoverlabel\": {\"namelength\": 0}, \"hovertemplate\": \"<b>%{hovertext}</b><br><br>pais=%{location}\", \"hovertext\": [\"PHL\"], \"legendgroup\": \"PHL\", \"locationmode\": \"ISO-3\", \"locations\": [\"PHL\"], \"marker\": {\"color\": \"#FECB52\"}, \"name\": \"PHL\", \"showlegend\": true, \"type\": \"scattergeo\"}, {\"geo\": \"geo\", \"hoverlabel\": {\"namelength\": 0}, \"hovertemplate\": \"<b>%{hovertext}</b><br><br>pais=%{location}\", \"hovertext\": [\"TUN\"], \"legendgroup\": \"TUN\", \"locationmode\": \"ISO-3\", \"locations\": [\"TUN\"], \"marker\": {\"color\": \"#636efa\"}, \"name\": \"TUN\", \"showlegend\": true, \"type\": \"scattergeo\"}, {\"geo\": \"geo\", \"hoverlabel\": {\"namelength\": 0}, \"hovertemplate\": \"<b>%{hovertext}</b><br><br>pais=%{location}\", \"hovertext\": [\"SGP\"], \"legendgroup\": \"SGP\", \"locationmode\": \"ISO-3\", \"locations\": [\"SGP\"], \"marker\": {\"color\": \"#EF553B\"}, \"name\": \"SGP\", \"showlegend\": true, \"type\": \"scattergeo\"}, {\"geo\": \"geo\", \"hoverlabel\": {\"namelength\": 0}, \"hovertemplate\": \"<b>%{hovertext}</b><br><br>pais=%{location}\", \"hovertext\": [\"IDN\"], \"legendgroup\": \"IDN\", \"locationmode\": \"ISO-3\", \"locations\": [\"IDN\"], \"marker\": {\"color\": \"#00cc96\"}, \"name\": \"IDN\", \"showlegend\": true, \"type\": \"scattergeo\"}, {\"geo\": \"geo\", \"hoverlabel\": {\"namelength\": 0}, \"hovertemplate\": \"<b>%{hovertext}</b><br><br>pais=%{location}\", \"hovertext\": [\"NGA\"], \"legendgroup\": \"NGA\", \"locationmode\": \"ISO-3\", \"locations\": [\"NGA\"], \"marker\": {\"color\": \"#ab63fa\"}, \"name\": \"NGA\", \"showlegend\": true, \"type\": \"scattergeo\"}, {\"geo\": \"geo\", \"hoverlabel\": {\"namelength\": 0}, \"hovertemplate\": \"<b>%{hovertext}</b><br><br>pais=%{location}\", \"hovertext\": [\"URY\"], \"legendgroup\": \"URY\", \"locationmode\": \"ISO-3\", \"locations\": [\"URY\"], \"marker\": {\"color\": \"#FFA15A\"}, \"name\": \"URY\", \"showlegend\": true, \"type\": \"scattergeo\"}, {\"geo\": \"geo\", \"hoverlabel\": {\"namelength\": 0}, \"hovertemplate\": \"<b>%{hovertext}</b><br><br>pais=%{location}\", \"hovertext\": [\"EGY\"], \"legendgroup\": \"EGY\", \"locationmode\": \"ISO-3\", \"locations\": [\"EGY\"], \"marker\": {\"color\": \"#19d3f3\"}, \"name\": \"EGY\", \"showlegend\": true, \"type\": \"scattergeo\"}, {\"geo\": \"geo\", \"hoverlabel\": {\"namelength\": 0}, \"hovertemplate\": \"<b>%{hovertext}</b><br><br>pais=%{location}\", \"hovertext\": [\"LBN\"], \"legendgroup\": \"LBN\", \"locationmode\": \"ISO-3\", \"locations\": [\"LBN\"], \"marker\": {\"color\": \"#FF6692\"}, \"name\": \"LBN\", \"showlegend\": true, \"type\": \"scattergeo\"}, {\"geo\": \"geo\", \"hoverlabel\": {\"namelength\": 0}, \"hovertemplate\": \"<b>%{hovertext}</b><br><br>pais=%{location}\", \"hovertext\": [\"PER\"], \"legendgroup\": \"PER\", \"locationmode\": \"ISO-3\", \"locations\": [\"PER\"], \"marker\": {\"color\": \"#B6E880\"}, \"name\": \"PER\", \"showlegend\": true, \"type\": \"scattergeo\"}, {\"geo\": \"geo\", \"hoverlabel\": {\"namelength\": 0}, \"hovertemplate\": \"<b>%{hovertext}</b><br><br>pais=%{location}\", \"hovertext\": [\"HKG\"], \"legendgroup\": \"HKG\", \"locationmode\": \"ISO-3\", \"locations\": [\"HKG\"], \"marker\": {\"color\": \"#FF97FF\"}, \"name\": \"HKG\", \"showlegend\": true, \"type\": \"scattergeo\"}, {\"geo\": \"geo\", \"hoverlabel\": {\"namelength\": 0}, \"hovertemplate\": \"<b>%{hovertext}</b><br><br>pais=%{location}\", \"hovertext\": [\"MYS\"], \"legendgroup\": \"MYS\", \"locationmode\": \"ISO-3\", \"locations\": [\"MYS\"], \"marker\": {\"color\": \"#FECB52\"}, \"name\": \"MYS\", \"showlegend\": true, \"type\": \"scattergeo\"}, {\"geo\": \"geo\", \"hoverlabel\": {\"namelength\": 0}, \"hovertemplate\": \"<b>%{hovertext}</b><br><br>pais=%{location}\", \"hovertext\": [\"ECU\"], \"legendgroup\": \"ECU\", \"locationmode\": \"ISO-3\", \"locations\": [\"ECU\"], \"marker\": {\"color\": \"#636efa\"}, \"name\": \"ECU\", \"showlegend\": true, \"type\": \"scattergeo\"}, {\"geo\": \"geo\", \"hoverlabel\": {\"namelength\": 0}, \"hovertemplate\": \"<b>%{hovertext}</b><br><br>pais=%{location}\", \"hovertext\": [\"VEN\"], \"legendgroup\": \"VEN\", \"locationmode\": \"ISO-3\", \"locations\": [\"VEN\"], \"marker\": {\"color\": \"#EF553B\"}, \"name\": \"VEN\", \"showlegend\": true, \"type\": \"scattergeo\"}, {\"geo\": \"geo\", \"hoverlabel\": {\"namelength\": 0}, \"hovertemplate\": \"<b>%{hovertext}</b><br><br>pais=%{location}\", \"hovertext\": [\"BLR\"], \"legendgroup\": \"BLR\", \"locationmode\": \"ISO-3\", \"locations\": [\"BLR\"], \"marker\": {\"color\": \"#00cc96\"}, \"name\": \"BLR\", \"showlegend\": true, \"type\": \"scattergeo\"}, {\"geo\": \"geo\", \"hoverlabel\": {\"namelength\": 0}, \"hovertemplate\": \"<b>%{hovertext}</b><br><br>pais=%{location}\", \"hovertext\": [\"CPV\"], \"legendgroup\": \"CPV\", \"locationmode\": \"ISO-3\", \"locations\": [\"CPV\"], \"marker\": {\"color\": \"#ab63fa\"}, \"name\": \"CPV\", \"showlegend\": true, \"type\": \"scattergeo\"}, {\"geo\": \"geo\", \"hoverlabel\": {\"namelength\": 0}, \"hovertemplate\": \"<b>%{hovertext}</b><br><br>pais=%{location}\", \"hovertext\": [\"GEO\"], \"legendgroup\": \"GEO\", \"locationmode\": \"ISO-3\", \"locations\": [\"GEO\"], \"marker\": {\"color\": \"#FFA15A\"}, \"name\": \"GEO\", \"showlegend\": true, \"type\": \"scattergeo\"}, {\"geo\": \"geo\", \"hoverlabel\": {\"namelength\": 0}, \"hovertemplate\": \"<b>%{hovertext}</b><br><br>pais=%{location}\", \"hovertext\": [\"JOR\"], \"legendgroup\": \"JOR\", \"locationmode\": \"ISO-3\", \"locations\": [\"JOR\"], \"marker\": {\"color\": \"#19d3f3\"}, \"name\": \"JOR\", \"showlegend\": true, \"type\": \"scattergeo\"}, {\"geo\": \"geo\", \"hoverlabel\": {\"namelength\": 0}, \"hovertemplate\": \"<b>%{hovertext}</b><br><br>pais=%{location}\", \"hovertext\": [\"KAZ\"], \"legendgroup\": \"KAZ\", \"locationmode\": \"ISO-3\", \"locations\": [\"KAZ\"], \"marker\": {\"color\": \"#FF6692\"}, \"name\": \"KAZ\", \"showlegend\": true, \"type\": \"scattergeo\"}, {\"geo\": \"geo\", \"hoverlabel\": {\"namelength\": 0}, \"hovertemplate\": \"<b>%{hovertext}</b><br><br>pais=%{location}\", \"hovertext\": [\"CRI\"], \"legendgroup\": \"CRI\", \"locationmode\": \"ISO-3\", \"locations\": [\"CRI\"], \"marker\": {\"color\": \"#B6E880\"}, \"name\": \"CRI\", \"showlegend\": true, \"type\": \"scattergeo\"}, {\"geo\": \"geo\", \"hoverlabel\": {\"namelength\": 0}, \"hovertemplate\": \"<b>%{hovertext}</b><br><br>pais=%{location}\", \"hovertext\": [\"MLT\"], \"legendgroup\": \"MLT\", \"locationmode\": \"ISO-3\", \"locations\": [\"MLT\"], \"marker\": {\"color\": \"#FF97FF\"}, \"name\": \"MLT\", \"showlegend\": true, \"type\": \"scattergeo\"}, {\"geo\": \"geo\", \"hoverlabel\": {\"namelength\": 0}, \"hovertemplate\": \"<b>%{hovertext}</b><br><br>pais=%{location}\", \"hovertext\": [\"GIB\"], \"legendgroup\": \"GIB\", \"locationmode\": \"ISO-3\", \"locations\": [\"GIB\"], \"marker\": {\"color\": \"#FECB52\"}, \"name\": \"GIB\", \"showlegend\": true, \"type\": \"scattergeo\"}, {\"geo\": \"geo\", \"hoverlabel\": {\"namelength\": 0}, \"hovertemplate\": \"<b>%{hovertext}</b><br><br>pais=%{location}\", \"hovertext\": [\"OMN\"], \"legendgroup\": \"OMN\", \"locationmode\": \"ISO-3\", \"locations\": [\"OMN\"], \"marker\": {\"color\": \"#636efa\"}, \"name\": \"OMN\", \"showlegend\": true, \"type\": \"scattergeo\"}, {\"geo\": \"geo\", \"hoverlabel\": {\"namelength\": 0}, \"hovertemplate\": \"<b>%{hovertext}</b><br><br>pais=%{location}\", \"hovertext\": [\"AZE\"], \"legendgroup\": \"AZE\", \"locationmode\": \"ISO-3\", \"locations\": [\"AZE\"], \"marker\": {\"color\": \"#EF553B\"}, \"name\": \"AZE\", \"showlegend\": true, \"type\": \"scattergeo\"}, {\"geo\": \"geo\", \"hoverlabel\": {\"namelength\": 0}, \"hovertemplate\": \"<b>%{hovertext}</b><br><br>pais=%{location}\", \"hovertext\": [\"MAC\"], \"legendgroup\": \"MAC\", \"locationmode\": \"ISO-3\", \"locations\": [\"MAC\"], \"marker\": {\"color\": \"#00cc96\"}, \"name\": \"MAC\", \"showlegend\": true, \"type\": \"scattergeo\"}, {\"geo\": \"geo\", \"hoverlabel\": {\"namelength\": 0}, \"hovertemplate\": \"<b>%{hovertext}</b><br><br>pais=%{location}\", \"hovertext\": [\"KWT\"], \"legendgroup\": \"KWT\", \"locationmode\": \"ISO-3\", \"locations\": [\"KWT\"], \"marker\": {\"color\": \"#ab63fa\"}, \"name\": \"KWT\", \"showlegend\": true, \"type\": \"scattergeo\"}, {\"geo\": \"geo\", \"hoverlabel\": {\"namelength\": 0}, \"hovertemplate\": \"<b>%{hovertext}</b><br><br>pais=%{location}\", \"hovertext\": [\"QAT\"], \"legendgroup\": \"QAT\", \"locationmode\": \"ISO-3\", \"locations\": [\"QAT\"], \"marker\": {\"color\": \"#FFA15A\"}, \"name\": \"QAT\", \"showlegend\": true, \"type\": \"scattergeo\"}, {\"geo\": \"geo\", \"hoverlabel\": {\"namelength\": 0}, \"hovertemplate\": \"<b>%{hovertext}</b><br><br>pais=%{location}\", \"hovertext\": [\"PAK\"], \"legendgroup\": \"PAK\", \"locationmode\": \"ISO-3\", \"locations\": [\"PAK\"], \"marker\": {\"color\": \"#19d3f3\"}, \"name\": \"PAK\", \"showlegend\": true, \"type\": \"scattergeo\"}, {\"geo\": \"geo\", \"hoverlabel\": {\"namelength\": 0}, \"hovertemplate\": \"<b>%{hovertext}</b><br><br>pais=%{location}\", \"hovertext\": [\"IRQ\"], \"legendgroup\": \"IRQ\", \"locationmode\": \"ISO-3\", \"locations\": [\"IRQ\"], \"marker\": {\"color\": \"#FF6692\"}, \"name\": \"IRQ\", \"showlegend\": true, \"type\": \"scattergeo\"}, {\"geo\": \"geo\", \"hoverlabel\": {\"namelength\": 0}, \"hovertemplate\": \"<b>%{hovertext}</b><br><br>pais=%{location}\", \"hovertext\": [\"DOM\"], \"legendgroup\": \"DOM\", \"locationmode\": \"ISO-3\", \"locations\": [\"DOM\"], \"marker\": {\"color\": \"#B6E880\"}, \"name\": \"DOM\", \"showlegend\": true, \"type\": \"scattergeo\"}, {\"geo\": \"geo\", \"hoverlabel\": {\"namelength\": 0}, \"hovertemplate\": \"<b>%{hovertext}</b><br><br>pais=%{location}\", \"hovertext\": [\"BIH\"], \"legendgroup\": \"BIH\", \"locationmode\": \"ISO-3\", \"locations\": [\"BIH\"], \"marker\": {\"color\": \"#FF97FF\"}, \"name\": \"BIH\", \"showlegend\": true, \"type\": \"scattergeo\"}, {\"geo\": \"geo\", \"hoverlabel\": {\"namelength\": 0}, \"hovertemplate\": \"<b>%{hovertext}</b><br><br>pais=%{location}\", \"hovertext\": [\"MDV\"], \"legendgroup\": \"MDV\", \"locationmode\": \"ISO-3\", \"locations\": [\"MDV\"], \"marker\": {\"color\": \"#FECB52\"}, \"name\": \"MDV\", \"showlegend\": true, \"type\": \"scattergeo\"}, {\"geo\": \"geo\", \"hoverlabel\": {\"namelength\": 0}, \"hovertemplate\": \"<b>%{hovertext}</b><br><br>pais=%{location}\", \"hovertext\": [\"PRI\"], \"legendgroup\": \"PRI\", \"locationmode\": \"ISO-3\", \"locations\": [\"PRI\"], \"marker\": {\"color\": \"#636efa\"}, \"name\": \"PRI\", \"showlegend\": true, \"type\": \"scattergeo\"}, {\"geo\": \"geo\", \"hoverlabel\": {\"namelength\": 0}, \"hovertemplate\": \"<b>%{hovertext}</b><br><br>pais=%{location}\", \"hovertext\": [\"BGD\"], \"legendgroup\": \"BGD\", \"locationmode\": \"ISO-3\", \"locations\": [\"BGD\"], \"marker\": {\"color\": \"#EF553B\"}, \"name\": \"BGD\", \"showlegend\": true, \"type\": \"scattergeo\"}, {\"geo\": \"geo\", \"hoverlabel\": {\"namelength\": 0}, \"hovertemplate\": \"<b>%{hovertext}</b><br><br>pais=%{location}\", \"hovertext\": [\"ALB\"], \"legendgroup\": \"ALB\", \"locationmode\": \"ISO-3\", \"locations\": [\"ALB\"], \"marker\": {\"color\": \"#00cc96\"}, \"name\": \"ALB\", \"showlegend\": true, \"type\": \"scattergeo\"}, {\"geo\": \"geo\", \"hoverlabel\": {\"namelength\": 0}, \"hovertemplate\": \"<b>%{hovertext}</b><br><br>pais=%{location}\", \"hovertext\": [\"SEN\"], \"legendgroup\": \"SEN\", \"locationmode\": \"ISO-3\", \"locations\": [\"SEN\"], \"marker\": {\"color\": \"#ab63fa\"}, \"name\": \"SEN\", \"showlegend\": true, \"type\": \"scattergeo\"}, {\"geo\": \"geo\", \"hoverlabel\": {\"namelength\": 0}, \"hovertemplate\": \"<b>%{hovertext}</b><br><br>pais=%{location}\", \"hovertext\": [\"CMR\"], \"legendgroup\": \"CMR\", \"locationmode\": \"ISO-3\", \"locations\": [\"CMR\"], \"marker\": {\"color\": \"#FFA15A\"}, \"name\": \"CMR\", \"showlegend\": true, \"type\": \"scattergeo\"}, {\"geo\": \"geo\", \"hoverlabel\": {\"namelength\": 0}, \"hovertemplate\": \"<b>%{hovertext}</b><br><br>pais=%{location}\", \"hovertext\": [\"MKD\"], \"legendgroup\": \"MKD\", \"locationmode\": \"ISO-3\", \"locations\": [\"MKD\"], \"marker\": {\"color\": \"#19d3f3\"}, \"name\": \"MKD\", \"showlegend\": true, \"type\": \"scattergeo\"}, {\"geo\": \"geo\", \"hoverlabel\": {\"namelength\": 0}, \"hovertemplate\": \"<b>%{hovertext}</b><br><br>pais=%{location}\", \"hovertext\": [\"BOL\"], \"legendgroup\": \"BOL\", \"locationmode\": \"ISO-3\", \"locations\": [\"BOL\"], \"marker\": {\"color\": \"#FF6692\"}, \"name\": \"BOL\", \"showlegend\": true, \"type\": \"scattergeo\"}, {\"geo\": \"geo\", \"hoverlabel\": {\"namelength\": 0}, \"hovertemplate\": \"<b>%{hovertext}</b><br><br>pais=%{location}\", \"hovertext\": [\"TJK\"], \"legendgroup\": \"TJK\", \"locationmode\": \"ISO-3\", \"locations\": [\"TJK\"], \"marker\": {\"color\": \"#B6E880\"}, \"name\": \"TJK\", \"showlegend\": true, \"type\": \"scattergeo\"}, {\"geo\": \"geo\", \"hoverlabel\": {\"namelength\": 0}, \"hovertemplate\": \"<b>%{hovertext}</b><br><br>pais=%{location}\", \"hovertext\": [\"PAN\"], \"legendgroup\": \"PAN\", \"locationmode\": \"ISO-3\", \"locations\": [\"PAN\"], \"marker\": {\"color\": \"#FF97FF\"}, \"name\": \"PAN\", \"showlegend\": true, \"type\": \"scattergeo\"}, {\"geo\": \"geo\", \"hoverlabel\": {\"namelength\": 0}, \"hovertemplate\": \"<b>%{hovertext}</b><br><br>pais=%{location}\", \"hovertext\": [\"GNB\"], \"legendgroup\": \"GNB\", \"locationmode\": \"ISO-3\", \"locations\": [\"GNB\"], \"marker\": {\"color\": \"#FECB52\"}, \"name\": \"GNB\", \"showlegend\": true, \"type\": \"scattergeo\"}, {\"geo\": \"geo\", \"hoverlabel\": {\"namelength\": 0}, \"hovertemplate\": \"<b>%{hovertext}</b><br><br>pais=%{location}\", \"hovertext\": [\"CUB\"], \"legendgroup\": \"CUB\", \"locationmode\": \"ISO-3\", \"locations\": [\"CUB\"], \"marker\": {\"color\": \"#636efa\"}, \"name\": \"CUB\", \"showlegend\": true, \"type\": \"scattergeo\"}, {\"geo\": \"geo\", \"hoverlabel\": {\"namelength\": 0}, \"hovertemplate\": \"<b>%{hovertext}</b><br><br>pais=%{location}\", \"hovertext\": [\"ARM\"], \"legendgroup\": \"ARM\", \"locationmode\": \"ISO-3\", \"locations\": [\"ARM\"], \"marker\": {\"color\": \"#EF553B\"}, \"name\": \"ARM\", \"showlegend\": true, \"type\": \"scattergeo\"}, {\"geo\": \"geo\", \"hoverlabel\": {\"namelength\": 0}, \"hovertemplate\": \"<b>%{hovertext}</b><br><br>pais=%{location}\", \"hovertext\": [\"LBY\"], \"legendgroup\": \"LBY\", \"locationmode\": \"ISO-3\", \"locations\": [\"LBY\"], \"marker\": {\"color\": \"#00cc96\"}, \"name\": \"LBY\", \"showlegend\": true, \"type\": \"scattergeo\"}, {\"geo\": \"geo\", \"hoverlabel\": {\"namelength\": 0}, \"hovertemplate\": \"<b>%{hovertext}</b><br><br>pais=%{location}\", \"hovertext\": [\"VNM\"], \"legendgroup\": \"VNM\", \"locationmode\": \"ISO-3\", \"locations\": [\"VNM\"], \"marker\": {\"color\": \"#ab63fa\"}, \"name\": \"VNM\", \"showlegend\": true, \"type\": \"scattergeo\"}, {\"geo\": \"geo\", \"hoverlabel\": {\"namelength\": 0}, \"hovertemplate\": \"<b>%{hovertext}</b><br><br>pais=%{location}\", \"hovertext\": [\"JEY\"], \"legendgroup\": \"JEY\", \"locationmode\": \"ISO-3\", \"locations\": [\"JEY\"], \"marker\": {\"color\": \"#FFA15A\"}, \"name\": \"JEY\", \"showlegend\": true, \"type\": \"scattergeo\"}, {\"geo\": \"geo\", \"hoverlabel\": {\"namelength\": 0}, \"hovertemplate\": \"<b>%{hovertext}</b><br><br>pais=%{location}\", \"hovertext\": [\"AND\"], \"legendgroup\": \"AND\", \"locationmode\": \"ISO-3\", \"locations\": [\"AND\"], \"marker\": {\"color\": \"#19d3f3\"}, \"name\": \"AND\", \"showlegend\": true, \"type\": \"scattergeo\"}, {\"geo\": \"geo\", \"hoverlabel\": {\"namelength\": 0}, \"hovertemplate\": \"<b>%{hovertext}</b><br><br>pais=%{location}\", \"hovertext\": [\"MUS\"], \"legendgroup\": \"MUS\", \"locationmode\": \"ISO-3\", \"locations\": [\"MUS\"], \"marker\": {\"color\": \"#FF6692\"}, \"name\": \"MUS\", \"showlegend\": true, \"type\": \"scattergeo\"}, {\"geo\": \"geo\", \"hoverlabel\": {\"namelength\": 0}, \"hovertemplate\": \"<b>%{hovertext}</b><br><br>pais=%{location}\", \"hovertext\": [\"LKA\"], \"legendgroup\": \"LKA\", \"locationmode\": \"ISO-3\", \"locations\": [\"LKA\"], \"marker\": {\"color\": \"#B6E880\"}, \"name\": \"LKA\", \"showlegend\": true, \"type\": \"scattergeo\"}, {\"geo\": \"geo\", \"hoverlabel\": {\"namelength\": 0}, \"hovertemplate\": \"<b>%{hovertext}</b><br><br>pais=%{location}\", \"hovertext\": [\"JAM\"], \"legendgroup\": \"JAM\", \"locationmode\": \"ISO-3\", \"locations\": [\"JAM\"], \"marker\": {\"color\": \"#FF97FF\"}, \"name\": \"JAM\", \"showlegend\": true, \"type\": \"scattergeo\"}, {\"geo\": \"geo\", \"hoverlabel\": {\"namelength\": 0}, \"hovertemplate\": \"<b>%{hovertext}</b><br><br>pais=%{location}\", \"hovertext\": [\"CIV\"], \"legendgroup\": \"CIV\", \"locationmode\": \"ISO-3\", \"locations\": [\"CIV\"], \"marker\": {\"color\": \"#FECB52\"}, \"name\": \"CIV\", \"showlegend\": true, \"type\": \"scattergeo\"}, {\"geo\": \"geo\", \"hoverlabel\": {\"namelength\": 0}, \"hovertemplate\": \"<b>%{hovertext}</b><br><br>pais=%{location}\", \"hovertext\": [\"KEN\"], \"legendgroup\": \"KEN\", \"locationmode\": \"ISO-3\", \"locations\": [\"KEN\"], \"marker\": {\"color\": \"#636efa\"}, \"name\": \"KEN\", \"showlegend\": true, \"type\": \"scattergeo\"}, {\"geo\": \"geo\", \"hoverlabel\": {\"namelength\": 0}, \"hovertemplate\": \"<b>%{hovertext}</b><br><br>pais=%{location}\", \"hovertext\": [\"SUR\"], \"legendgroup\": \"SUR\", \"locationmode\": \"ISO-3\", \"locations\": [\"SUR\"], \"marker\": {\"color\": \"#EF553B\"}, \"name\": \"SUR\", \"showlegend\": true, \"type\": \"scattergeo\"}, {\"geo\": \"geo\", \"hoverlabel\": {\"namelength\": 0}, \"hovertemplate\": \"<b>%{hovertext}</b><br><br>pais=%{location}\", \"hovertext\": [\"MNE\"], \"legendgroup\": \"MNE\", \"locationmode\": \"ISO-3\", \"locations\": [\"MNE\"], \"marker\": {\"color\": \"#00cc96\"}, \"name\": \"MNE\", \"showlegend\": true, \"type\": \"scattergeo\"}, {\"geo\": \"geo\", \"hoverlabel\": {\"namelength\": 0}, \"hovertemplate\": \"<b>%{hovertext}</b><br><br>pais=%{location}\", \"hovertext\": [\"BHR\"], \"legendgroup\": \"BHR\", \"locationmode\": \"ISO-3\", \"locations\": [\"BHR\"], \"marker\": {\"color\": \"#ab63fa\"}, \"name\": \"BHR\", \"showlegend\": true, \"type\": \"scattergeo\"}, {\"geo\": \"geo\", \"hoverlabel\": {\"namelength\": 0}, \"hovertemplate\": \"<b>%{hovertext}</b><br><br>pais=%{location}\", \"hovertext\": [\"FRO\"], \"legendgroup\": \"FRO\", \"locationmode\": \"ISO-3\", \"locations\": [\"FRO\"], \"marker\": {\"color\": \"#FFA15A\"}, \"name\": \"FRO\", \"showlegend\": true, \"type\": \"scattergeo\"}, {\"geo\": \"geo\", \"hoverlabel\": {\"namelength\": 0}, \"hovertemplate\": \"<b>%{hovertext}</b><br><br>pais=%{location}\", \"hovertext\": [\"TZA\"], \"legendgroup\": \"TZA\", \"locationmode\": \"ISO-3\", \"locations\": [\"TZA\"], \"marker\": {\"color\": \"#19d3f3\"}, \"name\": \"TZA\", \"showlegend\": true, \"type\": \"scattergeo\"}, {\"geo\": \"geo\", \"hoverlabel\": {\"namelength\": 0}, \"hovertemplate\": \"<b>%{hovertext}</b><br><br>pais=%{location}\", \"hovertext\": [\"CAF\"], \"legendgroup\": \"CAF\", \"locationmode\": \"ISO-3\", \"locations\": [\"CAF\"], \"marker\": {\"color\": \"#FF6692\"}, \"name\": \"CAF\", \"showlegend\": true, \"type\": \"scattergeo\"}, {\"geo\": \"geo\", \"hoverlabel\": {\"namelength\": 0}, \"hovertemplate\": \"<b>%{hovertext}</b><br><br>pais=%{location}\", \"hovertext\": [\"GAB\"], \"legendgroup\": \"GAB\", \"locationmode\": \"ISO-3\", \"locations\": [\"GAB\"], \"marker\": {\"color\": \"#B6E880\"}, \"name\": \"GAB\", \"showlegend\": true, \"type\": \"scattergeo\"}, {\"geo\": \"geo\", \"hoverlabel\": {\"namelength\": 0}, \"hovertemplate\": \"<b>%{hovertext}</b><br><br>pais=%{location}\", \"hovertext\": [\"ZWE\"], \"legendgroup\": \"ZWE\", \"locationmode\": \"ISO-3\", \"locations\": [\"ZWE\"], \"marker\": {\"color\": \"#FF97FF\"}, \"name\": \"ZWE\", \"showlegend\": true, \"type\": \"scattergeo\"}, {\"geo\": \"geo\", \"hoverlabel\": {\"namelength\": 0}, \"hovertemplate\": \"<b>%{hovertext}</b><br><br>pais=%{location}\", \"hovertext\": [\"PRY\"], \"legendgroup\": \"PRY\", \"locationmode\": \"ISO-3\", \"locations\": [\"PRY\"], \"marker\": {\"color\": \"#FECB52\"}, \"name\": \"PRY\", \"showlegend\": true, \"type\": \"scattergeo\"}, {\"geo\": \"geo\", \"hoverlabel\": {\"namelength\": 0}, \"hovertemplate\": \"<b>%{hovertext}</b><br><br>pais=%{location}\", \"hovertext\": [\"MCO\"], \"legendgroup\": \"MCO\", \"locationmode\": \"ISO-3\", \"locations\": [\"MCO\"], \"marker\": {\"color\": \"#636efa\"}, \"name\": \"MCO\", \"showlegend\": true, \"type\": \"scattergeo\"}, {\"geo\": \"geo\", \"hoverlabel\": {\"namelength\": 0}, \"hovertemplate\": \"<b>%{hovertext}</b><br><br>pais=%{location}\", \"hovertext\": [\"GHA\"], \"legendgroup\": \"GHA\", \"locationmode\": \"ISO-3\", \"locations\": [\"GHA\"], \"marker\": {\"color\": \"#EF553B\"}, \"name\": \"GHA\", \"showlegend\": true, \"type\": \"scattergeo\"}, {\"geo\": \"geo\", \"hoverlabel\": {\"namelength\": 0}, \"hovertemplate\": \"<b>%{hovertext}</b><br><br>pais=%{location}\", \"hovertext\": [\"UZB\"], \"legendgroup\": \"UZB\", \"locationmode\": \"ISO-3\", \"locations\": [\"UZB\"], \"marker\": {\"color\": \"#00cc96\"}, \"name\": \"UZB\", \"showlegend\": true, \"type\": \"scattergeo\"}, {\"geo\": \"geo\", \"hoverlabel\": {\"namelength\": 0}, \"hovertemplate\": \"<b>%{hovertext}</b><br><br>pais=%{location}\", \"hovertext\": [\"GTM\"], \"legendgroup\": \"GTM\", \"locationmode\": \"ISO-3\", \"locations\": [\"GTM\"], \"marker\": {\"color\": \"#ab63fa\"}, \"name\": \"GTM\", \"showlegend\": true, \"type\": \"scattergeo\"}, {\"geo\": \"geo\", \"hoverlabel\": {\"namelength\": 0}, \"hovertemplate\": \"<b>%{hovertext}</b><br><br>pais=%{location}\", \"hovertext\": [\"BRB\"], \"legendgroup\": \"BRB\", \"locationmode\": \"ISO-3\", \"locations\": [\"BRB\"], \"marker\": {\"color\": \"#FFA15A\"}, \"name\": \"BRB\", \"showlegend\": true, \"type\": \"scattergeo\"}, {\"geo\": \"geo\", \"hoverlabel\": {\"namelength\": 0}, \"hovertemplate\": \"<b>%{hovertext}</b><br><br>pais=%{location}\", \"hovertext\": [\"TMP\"], \"legendgroup\": \"TMP\", \"locationmode\": \"ISO-3\", \"locations\": [\"TMP\"], \"marker\": {\"color\": \"#19d3f3\"}, \"name\": \"TMP\", \"showlegend\": true, \"type\": \"scattergeo\"}, {\"geo\": \"geo\", \"hoverlabel\": {\"namelength\": 0}, \"hovertemplate\": \"<b>%{hovertext}</b><br><br>pais=%{location}\", \"hovertext\": [\"ETH\"], \"legendgroup\": \"ETH\", \"locationmode\": \"ISO-3\", \"locations\": [\"ETH\"], \"marker\": {\"color\": \"#FF6692\"}, \"name\": \"ETH\", \"showlegend\": true, \"type\": \"scattergeo\"}, {\"geo\": \"geo\", \"hoverlabel\": {\"namelength\": 0}, \"hovertemplate\": \"<b>%{hovertext}</b><br><br>pais=%{location}\", \"hovertext\": [\"LIE\"], \"legendgroup\": \"LIE\", \"locationmode\": \"ISO-3\", \"locations\": [\"LIE\"], \"marker\": {\"color\": \"#B6E880\"}, \"name\": \"LIE\", \"showlegend\": true, \"type\": \"scattergeo\"}, {\"geo\": \"geo\", \"hoverlabel\": {\"namelength\": 0}, \"hovertemplate\": \"<b>%{hovertext}</b><br><br>pais=%{location}\", \"hovertext\": [\"GGY\"], \"legendgroup\": \"GGY\", \"locationmode\": \"ISO-3\", \"locations\": [\"GGY\"], \"marker\": {\"color\": \"#FF97FF\"}, \"name\": \"GGY\", \"showlegend\": true, \"type\": \"scattergeo\"}, {\"geo\": \"geo\", \"hoverlabel\": {\"namelength\": 0}, \"hovertemplate\": \"<b>%{hovertext}</b><br><br>pais=%{location}\", \"hovertext\": [\"SYR\"], \"legendgroup\": \"SYR\", \"locationmode\": \"ISO-3\", \"locations\": [\"SYR\"], \"marker\": {\"color\": \"#FECB52\"}, \"name\": \"SYR\", \"showlegend\": true, \"type\": \"scattergeo\"}, {\"geo\": \"geo\", \"hoverlabel\": {\"namelength\": 0}, \"hovertemplate\": \"<b>%{hovertext}</b><br><br>pais=%{location}\", \"hovertext\": [\"BEN\"], \"legendgroup\": \"BEN\", \"locationmode\": \"ISO-3\", \"locations\": [\"BEN\"], \"marker\": {\"color\": \"#636efa\"}, \"name\": \"BEN\", \"showlegend\": true, \"type\": \"scattergeo\"}, {\"geo\": \"geo\", \"hoverlabel\": {\"namelength\": 0}, \"hovertemplate\": \"<b>%{hovertext}</b><br><br>pais=%{location}\", \"hovertext\": [\"IMN\"], \"legendgroup\": \"IMN\", \"locationmode\": \"ISO-3\", \"locations\": [\"IMN\"], \"marker\": {\"color\": \"#EF553B\"}, \"name\": \"IMN\", \"showlegend\": true, \"type\": \"scattergeo\"}, {\"geo\": \"geo\", \"hoverlabel\": {\"namelength\": 0}, \"hovertemplate\": \"<b>%{hovertext}</b><br><br>pais=%{location}\", \"hovertext\": [\"UGA\"], \"legendgroup\": \"UGA\", \"locationmode\": \"ISO-3\", \"locations\": [\"UGA\"], \"marker\": {\"color\": \"#00cc96\"}, \"name\": \"UGA\", \"showlegend\": true, \"type\": \"scattergeo\"}, {\"geo\": \"geo\", \"hoverlabel\": {\"namelength\": 0}, \"hovertemplate\": \"<b>%{hovertext}</b><br><br>pais=%{location}\", \"hovertext\": [\"LAO\"], \"legendgroup\": \"LAO\", \"locationmode\": \"ISO-3\", \"locations\": [\"LAO\"], \"marker\": {\"color\": \"#ab63fa\"}, \"name\": \"LAO\", \"showlegend\": true, \"type\": \"scattergeo\"}, {\"geo\": \"geo\", \"hoverlabel\": {\"namelength\": 0}, \"hovertemplate\": \"<b>%{hovertext}</b><br><br>pais=%{location}\", \"hovertext\": [\"ATA\"], \"legendgroup\": \"ATA\", \"locationmode\": \"ISO-3\", \"locations\": [\"ATA\"], \"marker\": {\"color\": \"#FFA15A\"}, \"name\": \"ATA\", \"showlegend\": true, \"type\": \"scattergeo\"}, {\"geo\": \"geo\", \"hoverlabel\": {\"namelength\": 0}, \"hovertemplate\": \"<b>%{hovertext}</b><br><br>pais=%{location}\", \"hovertext\": [\"ABW\"], \"legendgroup\": \"ABW\", \"locationmode\": \"ISO-3\", \"locations\": [\"ABW\"], \"marker\": {\"color\": \"#19d3f3\"}, \"name\": \"ABW\", \"showlegend\": true, \"type\": \"scattergeo\"}, {\"geo\": \"geo\", \"hoverlabel\": {\"namelength\": 0}, \"hovertemplate\": \"<b>%{hovertext}</b><br><br>pais=%{location}\", \"hovertext\": [\"TGO\"], \"legendgroup\": \"TGO\", \"locationmode\": \"ISO-3\", \"locations\": [\"TGO\"], \"marker\": {\"color\": \"#FF6692\"}, \"name\": \"TGO\", \"showlegend\": true, \"type\": \"scattergeo\"}, {\"geo\": \"geo\", \"hoverlabel\": {\"namelength\": 0}, \"hovertemplate\": \"<b>%{hovertext}</b><br><br>pais=%{location}\", \"hovertext\": [\"SYC\"], \"legendgroup\": \"SYC\", \"locationmode\": \"ISO-3\", \"locations\": [\"SYC\"], \"marker\": {\"color\": \"#B6E880\"}, \"name\": \"SYC\", \"showlegend\": true, \"type\": \"scattergeo\"}, {\"geo\": \"geo\", \"hoverlabel\": {\"namelength\": 0}, \"hovertemplate\": \"<b>%{hovertext}</b><br><br>pais=%{location}\", \"hovertext\": [\"MWI\"], \"legendgroup\": \"MWI\", \"locationmode\": \"ISO-3\", \"locations\": [\"MWI\"], \"marker\": {\"color\": \"#FF97FF\"}, \"name\": \"MWI\", \"showlegend\": true, \"type\": \"scattergeo\"}, {\"geo\": \"geo\", \"hoverlabel\": {\"namelength\": 0}, \"hovertemplate\": \"<b>%{hovertext}</b><br><br>pais=%{location}\", \"hovertext\": [\"SLV\"], \"legendgroup\": \"SLV\", \"locationmode\": \"ISO-3\", \"locations\": [\"SLV\"], \"marker\": {\"color\": \"#FECB52\"}, \"name\": \"SLV\", \"showlegend\": true, \"type\": \"scattergeo\"}, {\"geo\": \"geo\", \"hoverlabel\": {\"namelength\": 0}, \"hovertemplate\": \"<b>%{hovertext}</b><br><br>pais=%{location}\", \"hovertext\": [\"ZMB\"], \"legendgroup\": \"ZMB\", \"locationmode\": \"ISO-3\", \"locations\": [\"ZMB\"], \"marker\": {\"color\": \"#636efa\"}, \"name\": \"ZMB\", \"showlegend\": true, \"type\": \"scattergeo\"}, {\"geo\": \"geo\", \"hoverlabel\": {\"namelength\": 0}, \"hovertemplate\": \"<b>%{hovertext}</b><br><br>pais=%{location}\", \"hovertext\": [\"STP\"], \"legendgroup\": \"STP\", \"locationmode\": \"ISO-3\", \"locations\": [\"STP\"], \"marker\": {\"color\": \"#EF553B\"}, \"name\": \"STP\", \"showlegend\": true, \"type\": \"scattergeo\"}, {\"geo\": \"geo\", \"hoverlabel\": {\"namelength\": 0}, \"hovertemplate\": \"<b>%{hovertext}</b><br><br>pais=%{location}\", \"hovertext\": [\"GLP\"], \"legendgroup\": \"GLP\", \"locationmode\": \"ISO-3\", \"locations\": [\"GLP\"], \"marker\": {\"color\": \"#00cc96\"}, \"name\": \"GLP\", \"showlegend\": true, \"type\": \"scattergeo\"}, {\"geo\": \"geo\", \"hoverlabel\": {\"namelength\": 0}, \"hovertemplate\": \"<b>%{hovertext}</b><br><br>pais=%{location}\", \"hovertext\": [\"COM\"], \"legendgroup\": \"COM\", \"locationmode\": \"ISO-3\", \"locations\": [\"COM\"], \"marker\": {\"color\": \"#ab63fa\"}, \"name\": \"COM\", \"showlegend\": true, \"type\": \"scattergeo\"}, {\"geo\": \"geo\", \"hoverlabel\": {\"namelength\": 0}, \"hovertemplate\": \"<b>%{hovertext}</b><br><br>pais=%{location}\", \"hovertext\": [\"KNA\"], \"legendgroup\": \"KNA\", \"locationmode\": \"ISO-3\", \"locations\": [\"KNA\"], \"marker\": {\"color\": \"#FFA15A\"}, \"name\": \"KNA\", \"showlegend\": true, \"type\": \"scattergeo\"}, {\"geo\": \"geo\", \"hoverlabel\": {\"namelength\": 0}, \"hovertemplate\": \"<b>%{hovertext}</b><br><br>pais=%{location}\", \"hovertext\": [\"RWA\"], \"legendgroup\": \"RWA\", \"locationmode\": \"ISO-3\", \"locations\": [\"RWA\"], \"marker\": {\"color\": \"#19d3f3\"}, \"name\": \"RWA\", \"showlegend\": true, \"type\": \"scattergeo\"}, {\"geo\": \"geo\", \"hoverlabel\": {\"namelength\": 0}, \"hovertemplate\": \"<b>%{hovertext}</b><br><br>pais=%{location}\", \"hovertext\": [\"KHM\"], \"legendgroup\": \"KHM\", \"locationmode\": \"ISO-3\", \"locations\": [\"KHM\"], \"marker\": {\"color\": \"#FF6692\"}, \"name\": \"KHM\", \"showlegend\": true, \"type\": \"scattergeo\"}, {\"geo\": \"geo\", \"hoverlabel\": {\"namelength\": 0}, \"hovertemplate\": \"<b>%{hovertext}</b><br><br>pais=%{location}\", \"hovertext\": [\"MYT\"], \"legendgroup\": \"MYT\", \"locationmode\": \"ISO-3\", \"locations\": [\"MYT\"], \"marker\": {\"color\": \"#B6E880\"}, \"name\": \"MYT\", \"showlegend\": true, \"type\": \"scattergeo\"}, {\"geo\": \"geo\", \"hoverlabel\": {\"namelength\": 0}, \"hovertemplate\": \"<b>%{hovertext}</b><br><br>pais=%{location}\", \"hovertext\": [\"UMI\"], \"legendgroup\": \"UMI\", \"locationmode\": \"ISO-3\", \"locations\": [\"UMI\"], \"marker\": {\"color\": \"#FF97FF\"}, \"name\": \"UMI\", \"showlegend\": true, \"type\": \"scattergeo\"}, {\"geo\": \"geo\", \"hoverlabel\": {\"namelength\": 0}, \"hovertemplate\": \"<b>%{hovertext}</b><br><br>pais=%{location}\", \"hovertext\": [\"DJI\"], \"legendgroup\": \"DJI\", \"locationmode\": \"ISO-3\", \"locations\": [\"DJI\"], \"marker\": {\"color\": \"#FECB52\"}, \"name\": \"DJI\", \"showlegend\": true, \"type\": \"scattergeo\"}, {\"geo\": \"geo\", \"hoverlabel\": {\"namelength\": 0}, \"hovertemplate\": \"<b>%{hovertext}</b><br><br>pais=%{location}\", \"hovertext\": [\"BWA\"], \"legendgroup\": \"BWA\", \"locationmode\": \"ISO-3\", \"locations\": [\"BWA\"], \"marker\": {\"color\": \"#636efa\"}, \"name\": \"BWA\", \"showlegend\": true, \"type\": \"scattergeo\"}, {\"geo\": \"geo\", \"hoverlabel\": {\"namelength\": 0}, \"hovertemplate\": \"<b>%{hovertext}</b><br><br>pais=%{location}\", \"hovertext\": [\"KIR\"], \"legendgroup\": \"KIR\", \"locationmode\": \"ISO-3\", \"locations\": [\"KIR\"], \"marker\": {\"color\": \"#EF553B\"}, \"name\": \"KIR\", \"showlegend\": true, \"type\": \"scattergeo\"}, {\"geo\": \"geo\", \"hoverlabel\": {\"namelength\": 0}, \"hovertemplate\": \"<b>%{hovertext}</b><br><br>pais=%{location}\", \"hovertext\": [\"BFA\"], \"legendgroup\": \"BFA\", \"locationmode\": \"ISO-3\", \"locations\": [\"BFA\"], \"marker\": {\"color\": \"#00cc96\"}, \"name\": \"BFA\", \"showlegend\": true, \"type\": \"scattergeo\"}, {\"geo\": \"geo\", \"hoverlabel\": {\"namelength\": 0}, \"hovertemplate\": \"<b>%{hovertext}</b><br><br>pais=%{location}\", \"hovertext\": [\"VGB\"], \"legendgroup\": \"VGB\", \"locationmode\": \"ISO-3\", \"locations\": [\"VGB\"], \"marker\": {\"color\": \"#ab63fa\"}, \"name\": \"VGB\", \"showlegend\": true, \"type\": \"scattergeo\"}, {\"geo\": \"geo\", \"hoverlabel\": {\"namelength\": 0}, \"hovertemplate\": \"<b>%{hovertext}</b><br><br>pais=%{location}\", \"hovertext\": [\"PLW\"], \"legendgroup\": \"PLW\", \"locationmode\": \"ISO-3\", \"locations\": [\"PLW\"], \"marker\": {\"color\": \"#FFA15A\"}, \"name\": \"PLW\", \"showlegend\": true, \"type\": \"scattergeo\"}, {\"geo\": \"geo\", \"hoverlabel\": {\"namelength\": 0}, \"hovertemplate\": \"<b>%{hovertext}</b><br><br>pais=%{location}\", \"hovertext\": [\"HND\"], \"legendgroup\": \"HND\", \"locationmode\": \"ISO-3\", \"locations\": [\"HND\"], \"marker\": {\"color\": \"#19d3f3\"}, \"name\": \"HND\", \"showlegend\": true, \"type\": \"scattergeo\"}, {\"geo\": \"geo\", \"hoverlabel\": {\"namelength\": 0}, \"hovertemplate\": \"<b>%{hovertext}</b><br><br>pais=%{location}\", \"hovertext\": [\"SMR\"], \"legendgroup\": \"SMR\", \"locationmode\": \"ISO-3\", \"locations\": [\"SMR\"], \"marker\": {\"color\": \"#FF6692\"}, \"name\": \"SMR\", \"showlegend\": true, \"type\": \"scattergeo\"}, {\"geo\": \"geo\", \"hoverlabel\": {\"namelength\": 0}, \"hovertemplate\": \"<b>%{hovertext}</b><br><br>pais=%{location}\", \"hovertext\": [\"AIA\"], \"legendgroup\": \"AIA\", \"locationmode\": \"ISO-3\", \"locations\": [\"AIA\"], \"marker\": {\"color\": \"#B6E880\"}, \"name\": \"AIA\", \"showlegend\": true, \"type\": \"scattergeo\"}, {\"geo\": \"geo\", \"hoverlabel\": {\"namelength\": 0}, \"hovertemplate\": \"<b>%{hovertext}</b><br><br>pais=%{location}\", \"hovertext\": [\"CYM\"], \"legendgroup\": \"CYM\", \"locationmode\": \"ISO-3\", \"locations\": [\"CYM\"], \"marker\": {\"color\": \"#FF97FF\"}, \"name\": \"CYM\", \"showlegend\": true, \"type\": \"scattergeo\"}, {\"geo\": \"geo\", \"hoverlabel\": {\"namelength\": 0}, \"hovertemplate\": \"<b>%{hovertext}</b><br><br>pais=%{location}\", \"hovertext\": [\"SDN\"], \"legendgroup\": \"SDN\", \"locationmode\": \"ISO-3\", \"locations\": [\"SDN\"], \"marker\": {\"color\": \"#FECB52\"}, \"name\": \"SDN\", \"showlegend\": true, \"type\": \"scattergeo\"}, {\"geo\": \"geo\", \"hoverlabel\": {\"namelength\": 0}, \"hovertemplate\": \"<b>%{hovertext}</b><br><br>pais=%{location}\", \"hovertext\": [\"MMR\"], \"legendgroup\": \"MMR\", \"locationmode\": \"ISO-3\", \"locations\": [\"MMR\"], \"marker\": {\"color\": \"#636efa\"}, \"name\": \"MMR\", \"showlegend\": true, \"type\": \"scattergeo\"}, {\"geo\": \"geo\", \"hoverlabel\": {\"namelength\": 0}, \"hovertemplate\": \"<b>%{hovertext}</b><br><br>pais=%{location}\", \"hovertext\": [\"NAM\"], \"legendgroup\": \"NAM\", \"locationmode\": \"ISO-3\", \"locations\": [\"NAM\"], \"marker\": {\"color\": \"#EF553B\"}, \"name\": \"NAM\", \"showlegend\": true, \"type\": \"scattergeo\"}, {\"geo\": \"geo\", \"hoverlabel\": {\"namelength\": 0}, \"hovertemplate\": \"<b>%{hovertext}</b><br><br>pais=%{location}\", \"hovertext\": [\"LCA\"], \"legendgroup\": \"LCA\", \"locationmode\": \"ISO-3\", \"locations\": [\"LCA\"], \"marker\": {\"color\": \"#00cc96\"}, \"name\": \"LCA\", \"showlegend\": true, \"type\": \"scattergeo\"}, {\"geo\": \"geo\", \"hoverlabel\": {\"namelength\": 0}, \"hovertemplate\": \"<b>%{hovertext}</b><br><br>pais=%{location}\", \"hovertext\": [\"ATF\"], \"legendgroup\": \"ATF\", \"locationmode\": \"ISO-3\", \"locations\": [\"ATF\"], \"marker\": {\"color\": \"#ab63fa\"}, \"name\": \"ATF\", \"showlegend\": true, \"type\": \"scattergeo\"}, {\"geo\": \"geo\", \"hoverlabel\": {\"namelength\": 0}, \"hovertemplate\": \"<b>%{hovertext}</b><br><br>pais=%{location}\", \"hovertext\": [\"BHS\"], \"legendgroup\": \"BHS\", \"locationmode\": \"ISO-3\", \"locations\": [\"BHS\"], \"marker\": {\"color\": \"#FFA15A\"}, \"name\": \"BHS\", \"showlegend\": true, \"type\": \"scattergeo\"}, {\"geo\": \"geo\", \"hoverlabel\": {\"namelength\": 0}, \"hovertemplate\": \"<b>%{hovertext}</b><br><br>pais=%{location}\", \"hovertext\": [\"MRT\"], \"legendgroup\": \"MRT\", \"locationmode\": \"ISO-3\", \"locations\": [\"MRT\"], \"marker\": {\"color\": \"#19d3f3\"}, \"name\": \"MRT\", \"showlegend\": true, \"type\": \"scattergeo\"}, {\"geo\": \"geo\", \"hoverlabel\": {\"namelength\": 0}, \"hovertemplate\": \"<b>%{hovertext}</b><br><br>pais=%{location}\", \"hovertext\": [\"MDG\"], \"legendgroup\": \"MDG\", \"locationmode\": \"ISO-3\", \"locations\": [\"MDG\"], \"marker\": {\"color\": \"#FF6692\"}, \"name\": \"MDG\", \"showlegend\": true, \"type\": \"scattergeo\"}, {\"geo\": \"geo\", \"hoverlabel\": {\"namelength\": 0}, \"hovertemplate\": \"<b>%{hovertext}</b><br><br>pais=%{location}\", \"hovertext\": [\"ASM\"], \"legendgroup\": \"ASM\", \"locationmode\": \"ISO-3\", \"locations\": [\"ASM\"], \"marker\": {\"color\": \"#B6E880\"}, \"name\": \"ASM\", \"showlegend\": true, \"type\": \"scattergeo\"}, {\"geo\": \"geo\", \"hoverlabel\": {\"namelength\": 0}, \"hovertemplate\": \"<b>%{hovertext}</b><br><br>pais=%{location}\", \"hovertext\": [\"NCL\"], \"legendgroup\": \"NCL\", \"locationmode\": \"ISO-3\", \"locations\": [\"NCL\"], \"marker\": {\"color\": \"#FF97FF\"}, \"name\": \"NCL\", \"showlegend\": true, \"type\": \"scattergeo\"}, {\"geo\": \"geo\", \"hoverlabel\": {\"namelength\": 0}, \"hovertemplate\": \"<b>%{hovertext}</b><br><br>pais=%{location}\", \"hovertext\": [\"GUY\"], \"legendgroup\": \"GUY\", \"locationmode\": \"ISO-3\", \"locations\": [\"GUY\"], \"marker\": {\"color\": \"#FECB52\"}, \"name\": \"GUY\", \"showlegend\": true, \"type\": \"scattergeo\"}, {\"geo\": \"geo\", \"hoverlabel\": {\"namelength\": 0}, \"hovertemplate\": \"<b>%{hovertext}</b><br><br>pais=%{location}\", \"hovertext\": [\"MLI\"], \"legendgroup\": \"MLI\", \"locationmode\": \"ISO-3\", \"locations\": [\"MLI\"], \"marker\": {\"color\": \"#636efa\"}, \"name\": \"MLI\", \"showlegend\": true, \"type\": \"scattergeo\"}, {\"geo\": \"geo\", \"hoverlabel\": {\"namelength\": 0}, \"hovertemplate\": \"<b>%{hovertext}</b><br><br>pais=%{location}\", \"hovertext\": [\"SLE\"], \"legendgroup\": \"SLE\", \"locationmode\": \"ISO-3\", \"locations\": [\"SLE\"], \"marker\": {\"color\": \"#EF553B\"}, \"name\": \"SLE\", \"showlegend\": true, \"type\": \"scattergeo\"}, {\"geo\": \"geo\", \"hoverlabel\": {\"namelength\": 0}, \"hovertemplate\": \"<b>%{hovertext}</b><br><br>pais=%{location}\", \"hovertext\": [\"BDI\"], \"legendgroup\": \"BDI\", \"locationmode\": \"ISO-3\", \"locations\": [\"BDI\"], \"marker\": {\"color\": \"#00cc96\"}, \"name\": \"BDI\", \"showlegend\": true, \"type\": \"scattergeo\"}, {\"geo\": \"geo\", \"hoverlabel\": {\"namelength\": 0}, \"hovertemplate\": \"<b>%{hovertext}</b><br><br>pais=%{location}\", \"hovertext\": [\"DMA\"], \"legendgroup\": \"DMA\", \"locationmode\": \"ISO-3\", \"locations\": [\"DMA\"], \"marker\": {\"color\": \"#ab63fa\"}, \"name\": \"DMA\", \"showlegend\": true, \"type\": \"scattergeo\"}, {\"geo\": \"geo\", \"hoverlabel\": {\"namelength\": 0}, \"hovertemplate\": \"<b>%{hovertext}</b><br><br>pais=%{location}\", \"hovertext\": [\"NIC\"], \"legendgroup\": \"NIC\", \"locationmode\": \"ISO-3\", \"locations\": [\"NIC\"], \"marker\": {\"color\": \"#FFA15A\"}, \"name\": \"NIC\", \"showlegend\": true, \"type\": \"scattergeo\"}, {\"geo\": \"geo\", \"hoverlabel\": {\"namelength\": 0}, \"hovertemplate\": \"<b>%{hovertext}</b><br><br>pais=%{location}\", \"hovertext\": [\"PYF\"], \"legendgroup\": \"PYF\", \"locationmode\": \"ISO-3\", \"locations\": [\"PYF\"], \"marker\": {\"color\": \"#19d3f3\"}, \"name\": \"PYF\", \"showlegend\": true, \"type\": \"scattergeo\"}, {\"geo\": \"geo\", \"hoverlabel\": {\"namelength\": 0}, \"hovertemplate\": \"<b>%{hovertext}</b><br><br>pais=%{location}\", \"hovertext\": [\"NPL\"], \"legendgroup\": \"NPL\", \"locationmode\": \"ISO-3\", \"locations\": [\"NPL\"], \"marker\": {\"color\": \"#FF6692\"}, \"name\": \"NPL\", \"showlegend\": true, \"type\": \"scattergeo\"}, {\"geo\": \"geo\", \"hoverlabel\": {\"namelength\": 0}, \"hovertemplate\": \"<b>%{hovertext}</b><br><br>pais=%{location}\", \"hovertext\": [\"FJI\"], \"legendgroup\": \"FJI\", \"locationmode\": \"ISO-3\", \"locations\": [\"FJI\"], \"marker\": {\"color\": \"#B6E880\"}, \"name\": \"FJI\", \"showlegend\": true, \"type\": \"scattergeo\"}],\n",
       "                        {\"geo\": {\"center\": {}, \"domain\": {\"x\": [0.0, 1.0], \"y\": [0.0, 1.0]}}, \"legend\": {\"title\": {\"text\": \"pais\"}, \"tracegroupgap\": 0}, \"margin\": {\"t\": 60}, \"template\": {\"data\": {\"bar\": [{\"error_x\": {\"color\": \"#2a3f5f\"}, \"error_y\": {\"color\": \"#2a3f5f\"}, \"marker\": {\"line\": {\"color\": \"#E5ECF6\", \"width\": 0.5}}, \"type\": \"bar\"}], \"barpolar\": [{\"marker\": {\"line\": {\"color\": \"#E5ECF6\", \"width\": 0.5}}, \"type\": \"barpolar\"}], \"carpet\": [{\"aaxis\": {\"endlinecolor\": \"#2a3f5f\", \"gridcolor\": \"white\", \"linecolor\": \"white\", \"minorgridcolor\": \"white\", \"startlinecolor\": \"#2a3f5f\"}, \"baxis\": {\"endlinecolor\": \"#2a3f5f\", \"gridcolor\": \"white\", \"linecolor\": \"white\", \"minorgridcolor\": \"white\", \"startlinecolor\": \"#2a3f5f\"}, \"type\": \"carpet\"}], \"choropleth\": [{\"colorbar\": {\"outlinewidth\": 0, \"ticks\": \"\"}, \"type\": \"choropleth\"}], \"contour\": [{\"colorbar\": {\"outlinewidth\": 0, \"ticks\": \"\"}, \"colorscale\": [[0.0, \"#0d0887\"], [0.1111111111111111, \"#46039f\"], [0.2222222222222222, \"#7201a8\"], [0.3333333333333333, \"#9c179e\"], [0.4444444444444444, \"#bd3786\"], [0.5555555555555556, \"#d8576b\"], [0.6666666666666666, \"#ed7953\"], [0.7777777777777778, \"#fb9f3a\"], [0.8888888888888888, \"#fdca26\"], [1.0, \"#f0f921\"]], \"type\": \"contour\"}], \"contourcarpet\": [{\"colorbar\": {\"outlinewidth\": 0, \"ticks\": \"\"}, \"type\": \"contourcarpet\"}], \"heatmap\": [{\"colorbar\": {\"outlinewidth\": 0, \"ticks\": \"\"}, \"colorscale\": [[0.0, \"#0d0887\"], [0.1111111111111111, \"#46039f\"], [0.2222222222222222, \"#7201a8\"], [0.3333333333333333, \"#9c179e\"], [0.4444444444444444, \"#bd3786\"], [0.5555555555555556, \"#d8576b\"], [0.6666666666666666, \"#ed7953\"], [0.7777777777777778, \"#fb9f3a\"], [0.8888888888888888, \"#fdca26\"], [1.0, \"#f0f921\"]], \"type\": \"heatmap\"}], \"heatmapgl\": [{\"colorbar\": {\"outlinewidth\": 0, \"ticks\": \"\"}, \"colorscale\": [[0.0, \"#0d0887\"], [0.1111111111111111, \"#46039f\"], [0.2222222222222222, \"#7201a8\"], [0.3333333333333333, \"#9c179e\"], [0.4444444444444444, \"#bd3786\"], [0.5555555555555556, \"#d8576b\"], [0.6666666666666666, \"#ed7953\"], [0.7777777777777778, \"#fb9f3a\"], [0.8888888888888888, \"#fdca26\"], [1.0, \"#f0f921\"]], \"type\": \"heatmapgl\"}], \"histogram\": [{\"marker\": {\"colorbar\": {\"outlinewidth\": 0, \"ticks\": \"\"}}, \"type\": \"histogram\"}], \"histogram2d\": [{\"colorbar\": {\"outlinewidth\": 0, \"ticks\": \"\"}, \"colorscale\": [[0.0, \"#0d0887\"], [0.1111111111111111, \"#46039f\"], [0.2222222222222222, \"#7201a8\"], [0.3333333333333333, \"#9c179e\"], [0.4444444444444444, \"#bd3786\"], [0.5555555555555556, \"#d8576b\"], [0.6666666666666666, \"#ed7953\"], [0.7777777777777778, \"#fb9f3a\"], [0.8888888888888888, \"#fdca26\"], [1.0, \"#f0f921\"]], \"type\": \"histogram2d\"}], \"histogram2dcontour\": [{\"colorbar\": {\"outlinewidth\": 0, \"ticks\": \"\"}, \"colorscale\": [[0.0, \"#0d0887\"], [0.1111111111111111, \"#46039f\"], [0.2222222222222222, \"#7201a8\"], [0.3333333333333333, \"#9c179e\"], [0.4444444444444444, \"#bd3786\"], [0.5555555555555556, \"#d8576b\"], [0.6666666666666666, \"#ed7953\"], [0.7777777777777778, \"#fb9f3a\"], [0.8888888888888888, \"#fdca26\"], [1.0, \"#f0f921\"]], \"type\": \"histogram2dcontour\"}], \"mesh3d\": [{\"colorbar\": {\"outlinewidth\": 0, \"ticks\": \"\"}, \"type\": \"mesh3d\"}], \"parcoords\": [{\"line\": {\"colorbar\": {\"outlinewidth\": 0, \"ticks\": \"\"}}, \"type\": \"parcoords\"}], \"pie\": [{\"automargin\": true, \"type\": \"pie\"}], \"scatter\": [{\"marker\": {\"colorbar\": {\"outlinewidth\": 0, \"ticks\": \"\"}}, \"type\": \"scatter\"}], \"scatter3d\": [{\"line\": {\"colorbar\": {\"outlinewidth\": 0, \"ticks\": \"\"}}, \"marker\": {\"colorbar\": {\"outlinewidth\": 0, \"ticks\": \"\"}}, \"type\": \"scatter3d\"}], \"scattercarpet\": [{\"marker\": {\"colorbar\": {\"outlinewidth\": 0, \"ticks\": \"\"}}, \"type\": \"scattercarpet\"}], \"scattergeo\": [{\"marker\": {\"colorbar\": {\"outlinewidth\": 0, \"ticks\": \"\"}}, \"type\": \"scattergeo\"}], \"scattergl\": [{\"marker\": {\"colorbar\": {\"outlinewidth\": 0, \"ticks\": \"\"}}, \"type\": \"scattergl\"}], \"scattermapbox\": [{\"marker\": {\"colorbar\": {\"outlinewidth\": 0, \"ticks\": \"\"}}, \"type\": \"scattermapbox\"}], \"scatterpolar\": [{\"marker\": {\"colorbar\": {\"outlinewidth\": 0, \"ticks\": \"\"}}, \"type\": \"scatterpolar\"}], \"scatterpolargl\": [{\"marker\": {\"colorbar\": {\"outlinewidth\": 0, \"ticks\": \"\"}}, \"type\": \"scatterpolargl\"}], \"scatterternary\": [{\"marker\": {\"colorbar\": {\"outlinewidth\": 0, \"ticks\": \"\"}}, \"type\": \"scatterternary\"}], \"surface\": [{\"colorbar\": {\"outlinewidth\": 0, \"ticks\": \"\"}, \"colorscale\": [[0.0, \"#0d0887\"], [0.1111111111111111, \"#46039f\"], [0.2222222222222222, \"#7201a8\"], [0.3333333333333333, \"#9c179e\"], [0.4444444444444444, \"#bd3786\"], [0.5555555555555556, \"#d8576b\"], [0.6666666666666666, \"#ed7953\"], [0.7777777777777778, \"#fb9f3a\"], [0.8888888888888888, \"#fdca26\"], [1.0, \"#f0f921\"]], \"type\": \"surface\"}], \"table\": [{\"cells\": {\"fill\": {\"color\": \"#EBF0F8\"}, \"line\": {\"color\": \"white\"}}, \"header\": {\"fill\": {\"color\": \"#C8D4E3\"}, \"line\": {\"color\": \"white\"}}, \"type\": \"table\"}]}, \"layout\": {\"annotationdefaults\": {\"arrowcolor\": \"#2a3f5f\", \"arrowhead\": 0, \"arrowwidth\": 1}, \"coloraxis\": {\"colorbar\": {\"outlinewidth\": 0, \"ticks\": \"\"}}, \"colorscale\": {\"diverging\": [[0, \"#8e0152\"], [0.1, \"#c51b7d\"], [0.2, \"#de77ae\"], [0.3, \"#f1b6da\"], [0.4, \"#fde0ef\"], [0.5, \"#f7f7f7\"], [0.6, \"#e6f5d0\"], [0.7, \"#b8e186\"], [0.8, \"#7fbc41\"], [0.9, \"#4d9221\"], [1, \"#276419\"]], \"sequential\": [[0.0, \"#0d0887\"], [0.1111111111111111, \"#46039f\"], [0.2222222222222222, \"#7201a8\"], [0.3333333333333333, \"#9c179e\"], [0.4444444444444444, \"#bd3786\"], [0.5555555555555556, \"#d8576b\"], [0.6666666666666666, \"#ed7953\"], [0.7777777777777778, \"#fb9f3a\"], [0.8888888888888888, \"#fdca26\"], [1.0, \"#f0f921\"]], \"sequentialminus\": [[0.0, \"#0d0887\"], [0.1111111111111111, \"#46039f\"], [0.2222222222222222, \"#7201a8\"], [0.3333333333333333, \"#9c179e\"], [0.4444444444444444, \"#bd3786\"], [0.5555555555555556, \"#d8576b\"], [0.6666666666666666, \"#ed7953\"], [0.7777777777777778, \"#fb9f3a\"], [0.8888888888888888, \"#fdca26\"], [1.0, \"#f0f921\"]]}, \"colorway\": [\"#636efa\", \"#EF553B\", \"#00cc96\", \"#ab63fa\", \"#FFA15A\", \"#19d3f3\", \"#FF6692\", \"#B6E880\", \"#FF97FF\", \"#FECB52\"], \"font\": {\"color\": \"#2a3f5f\"}, \"geo\": {\"bgcolor\": \"white\", \"lakecolor\": \"white\", \"landcolor\": \"#E5ECF6\", \"showlakes\": true, \"showland\": true, \"subunitcolor\": \"white\"}, \"hoverlabel\": {\"align\": \"left\"}, \"hovermode\": \"closest\", \"mapbox\": {\"style\": \"light\"}, \"paper_bgcolor\": \"white\", \"plot_bgcolor\": \"#E5ECF6\", \"polar\": {\"angularaxis\": {\"gridcolor\": \"white\", \"linecolor\": \"white\", \"ticks\": \"\"}, \"bgcolor\": \"#E5ECF6\", \"radialaxis\": {\"gridcolor\": \"white\", \"linecolor\": \"white\", \"ticks\": \"\"}}, \"scene\": {\"xaxis\": {\"backgroundcolor\": \"#E5ECF6\", \"gridcolor\": \"white\", \"gridwidth\": 2, \"linecolor\": \"white\", \"showbackground\": true, \"ticks\": \"\", \"zerolinecolor\": \"white\"}, \"yaxis\": {\"backgroundcolor\": \"#E5ECF6\", \"gridcolor\": \"white\", \"gridwidth\": 2, \"linecolor\": \"white\", \"showbackground\": true, \"ticks\": \"\", \"zerolinecolor\": \"white\"}, \"zaxis\": {\"backgroundcolor\": \"#E5ECF6\", \"gridcolor\": \"white\", \"gridwidth\": 2, \"linecolor\": \"white\", \"showbackground\": true, \"ticks\": \"\", \"zerolinecolor\": \"white\"}}, \"shapedefaults\": {\"line\": {\"color\": \"#2a3f5f\"}}, \"ternary\": {\"aaxis\": {\"gridcolor\": \"white\", \"linecolor\": \"white\", \"ticks\": \"\"}, \"baxis\": {\"gridcolor\": \"white\", \"linecolor\": \"white\", \"ticks\": \"\"}, \"bgcolor\": \"#E5ECF6\", \"caxis\": {\"gridcolor\": \"white\", \"linecolor\": \"white\", \"ticks\": \"\"}}, \"title\": {\"x\": 0.05}, \"xaxis\": {\"automargin\": true, \"gridcolor\": \"white\", \"linecolor\": \"white\", \"ticks\": \"\", \"title\": {\"standoff\": 15}, \"zerolinecolor\": \"white\", \"zerolinewidth\": 2}, \"yaxis\": {\"automargin\": true, \"gridcolor\": \"white\", \"linecolor\": \"white\", \"ticks\": \"\", \"title\": {\"standoff\": 15}, \"zerolinecolor\": \"white\", \"zerolinewidth\": 2}}}},\n",
       "                        {\"responsive\": true}\n",
       "                    ).then(function(){\n",
       "                            \n",
       "var gd = document.getElementById('295ebd91-56f5-4f04-af3c-dabbec273b14');\n",
       "var x = new MutationObserver(function (mutations, observer) {{\n",
       "        var display = window.getComputedStyle(gd).display;\n",
       "        if (!display || display === 'none') {{\n",
       "            console.log([gd, 'removed!']);\n",
       "            Plotly.purge(gd);\n",
       "            observer.disconnect();\n",
       "        }}\n",
       "}});\n",
       "\n",
       "// Listen for the removal of the full notebook cells\n",
       "var notebookContainer = gd.closest('#notebook-container');\n",
       "if (notebookContainer) {{\n",
       "    x.observe(notebookContainer, {childList: true});\n",
       "}}\n",
       "\n",
       "// Listen for the clearing of the current output cell\n",
       "var outputEl = gd.closest('.output');\n",
       "if (outputEl) {{\n",
       "    x.observe(outputEl, {childList: true});\n",
       "}}\n",
       "\n",
       "                        })\n",
       "                };\n",
       "                });\n",
       "            </script>\n",
       "        </div>"
      ]
     },
     "metadata": {},
     "output_type": "display_data"
    }
   ],
   "source": [
    "fig = px.scatter_geo(paises, locations=\"pais\",locationmode='ISO-3', color=\"pais\",\n",
    "                     hover_name=\"pais\")#, size=\"visitantes\")\n",
    "                     #animation_frame=\"year\",\n",
    "                    #projection=\"natural earth\")\n",
    "fig.show()"
   ]
  },
  {
   "cell_type": "code",
   "execution_count": 57,
   "metadata": {},
   "outputs": [
    {
     "data": {
      "application/vnd.plotly.v1+json": {
       "config": {
        "plotlyServerURL": "https://plot.ly"
       },
       "data": [
        {
         "coloraxis": "coloraxis",
         "geo": "geo",
         "hoverlabel": {
          "namelength": 0
         },
         "hovertemplate": "<b>%{hovertext}</b><br><br>pais=%{location}<br>visitantes=%{z}",
         "hovertext": [
          "PRT",
          "GBR",
          "FRA",
          "ESP",
          "DEU",
          "ITA",
          "IRL",
          "BEL",
          "BRA",
          "NLD",
          "USA",
          "CHE",
          "CN",
          "AUT",
          "SWE",
          "CHN",
          "POL",
          "ISR",
          "RUS",
          "NOR",
          "ROU",
          "Desconhecido",
          "FIN",
          "DNK",
          "AUS",
          "AGO",
          "LUX",
          "MAR",
          "TUR",
          "HUN",
          "ARG",
          "JPN",
          "CZE",
          "IND",
          "KOR",
          "GRC",
          "DZA",
          "SRB",
          "HRV",
          "MEX",
          "EST",
          "IRN",
          "LTU",
          "ZAF",
          "BGR",
          "NZL",
          "COL",
          "UKR",
          "MOZ",
          "CHL",
          "SVK",
          "THA",
          "ISL",
          "SVN",
          "LVA",
          "CYP",
          "ARE",
          "TWN",
          "SAU",
          "PHL",
          "TUN",
          "SGP",
          "IDN",
          "NGA",
          "URY",
          "EGY",
          "LBN",
          "PER",
          "HKG",
          "MYS",
          "ECU",
          "VEN",
          "BLR",
          "CPV",
          "GEO",
          "JOR",
          "KAZ",
          "CRI",
          "MLT",
          "GIB",
          "OMN",
          "AZE",
          "MAC",
          "KWT",
          "QAT",
          "PAK",
          "IRQ",
          "DOM",
          "BIH",
          "MDV",
          "PRI",
          "BGD",
          "ALB",
          "SEN",
          "CMR",
          "MKD",
          "BOL",
          "TJK",
          "PAN",
          "GNB",
          "CUB",
          "ARM",
          "LBY",
          "VNM",
          "JEY",
          "AND",
          "MUS",
          "LKA",
          "JAM",
          "CIV",
          "KEN",
          "SUR",
          "MNE",
          "BHR",
          "FRO",
          "TZA",
          "CAF",
          "GAB",
          "ZWE",
          "PRY",
          "MCO",
          "GHA",
          "UZB",
          "GTM",
          "BRB",
          "TMP",
          "ETH",
          "LIE",
          "GGY",
          "SYR",
          "BEN",
          "IMN",
          "UGA",
          "LAO",
          "ATA",
          "ABW",
          "TGO",
          "SYC",
          "MWI",
          "SLV",
          "ZMB",
          "STP",
          "GLP",
          "COM",
          "KNA",
          "RWA",
          "KHM",
          "MYT",
          "UMI",
          "DJI",
          "BWA",
          "KIR",
          "BFA",
          "VGB",
          "PLW",
          "HND",
          "SMR",
          "AIA",
          "CYM",
          "SDN",
          "MMR",
          "NAM",
          "LCA",
          "ATF",
          "BHS",
          "MRT",
          "MDG",
          "ASM",
          "NCL",
          "GUY",
          "MLI",
          "SLE",
          "BDI",
          "DMA",
          "NIC",
          "PYF",
          "NPL",
          "FJI"
         ],
         "locations": [
          "PRT",
          "GBR",
          "FRA",
          "ESP",
          "DEU",
          "ITA",
          "IRL",
          "BEL",
          "BRA",
          "NLD",
          "USA",
          "CHE",
          "CN",
          "AUT",
          "SWE",
          "CHN",
          "POL",
          "ISR",
          "RUS",
          "NOR",
          "ROU",
          "Desconhecido",
          "FIN",
          "DNK",
          "AUS",
          "AGO",
          "LUX",
          "MAR",
          "TUR",
          "HUN",
          "ARG",
          "JPN",
          "CZE",
          "IND",
          "KOR",
          "GRC",
          "DZA",
          "SRB",
          "HRV",
          "MEX",
          "EST",
          "IRN",
          "LTU",
          "ZAF",
          "BGR",
          "NZL",
          "COL",
          "UKR",
          "MOZ",
          "CHL",
          "SVK",
          "THA",
          "ISL",
          "SVN",
          "LVA",
          "CYP",
          "ARE",
          "TWN",
          "SAU",
          "PHL",
          "TUN",
          "SGP",
          "IDN",
          "NGA",
          "URY",
          "EGY",
          "LBN",
          "PER",
          "HKG",
          "MYS",
          "ECU",
          "VEN",
          "BLR",
          "CPV",
          "GEO",
          "JOR",
          "KAZ",
          "CRI",
          "MLT",
          "GIB",
          "OMN",
          "AZE",
          "MAC",
          "KWT",
          "QAT",
          "PAK",
          "IRQ",
          "DOM",
          "BIH",
          "MDV",
          "PRI",
          "BGD",
          "ALB",
          "SEN",
          "CMR",
          "MKD",
          "BOL",
          "TJK",
          "PAN",
          "GNB",
          "CUB",
          "ARM",
          "LBY",
          "VNM",
          "JEY",
          "AND",
          "MUS",
          "LKA",
          "JAM",
          "CIV",
          "KEN",
          "SUR",
          "MNE",
          "BHR",
          "FRO",
          "TZA",
          "CAF",
          "GAB",
          "ZWE",
          "PRY",
          "MCO",
          "GHA",
          "UZB",
          "GTM",
          "BRB",
          "TMP",
          "ETH",
          "LIE",
          "GGY",
          "SYR",
          "BEN",
          "IMN",
          "UGA",
          "LAO",
          "ATA",
          "ABW",
          "TGO",
          "SYC",
          "MWI",
          "SLV",
          "ZMB",
          "STP",
          "GLP",
          "COM",
          "KNA",
          "RWA",
          "KHM",
          "MYT",
          "UMI",
          "DJI",
          "BWA",
          "KIR",
          "BFA",
          "VGB",
          "PLW",
          "HND",
          "SMR",
          "AIA",
          "CYM",
          "SDN",
          "MMR",
          "NAM",
          "LCA",
          "ATF",
          "BHS",
          "MRT",
          "MDG",
          "ASM",
          "NCL",
          "GUY",
          "MLI",
          "SLE",
          "BDI",
          "DMA",
          "NIC",
          "PYF",
          "NPL",
          "FJI"
         ],
         "name": "",
         "type": "choropleth",
         "z": [
          48483,
          12120,
          10401,
          8560,
          7285,
          3761,
          3374,
          2342,
          2222,
          2103,
          2093,
          1726,
          1279,
          1263,
          1020,
          999,
          918,
          669,
          630,
          607,
          500,
          478,
          446,
          435,
          426,
          362,
          286,
          259,
          248,
          230,
          214,
          197,
          171,
          151,
          133,
          128,
          103,
          101,
          100,
          85,
          83,
          82,
          81,
          80,
          75,
          74,
          71,
          68,
          67,
          65,
          65,
          59,
          57,
          56,
          55,
          51,
          51,
          51,
          48,
          40,
          39,
          38,
          35,
          34,
          32,
          32,
          31,
          29,
          29,
          28,
          27,
          26,
          26,
          24,
          22,
          21,
          19,
          19,
          18,
          18,
          18,
          17,
          16,
          16,
          15,
          14,
          14,
          14,
          13,
          12,
          12,
          12,
          12,
          11,
          10,
          10,
          10,
          9,
          9,
          9,
          8,
          8,
          8,
          8,
          8,
          7,
          7,
          7,
          6,
          6,
          6,
          5,
          5,
          5,
          5,
          5,
          5,
          4,
          4,
          4,
          4,
          4,
          4,
          4,
          4,
          3,
          3,
          3,
          3,
          3,
          3,
          2,
          2,
          2,
          2,
          2,
          2,
          2,
          2,
          2,
          2,
          2,
          2,
          2,
          2,
          2,
          2,
          2,
          1,
          1,
          1,
          1,
          1,
          1,
          1,
          1,
          1,
          1,
          1,
          1,
          1,
          1,
          1,
          1,
          1,
          1,
          1,
          1,
          1,
          1,
          1,
          1,
          1,
          1,
          1,
          1,
          1,
          1
         ]
        }
       ],
       "layout": {
        "coloraxis": {
         "colorbar": {
          "title": {
           "text": "visitantes"
          }
         },
         "colorscale": [
          [
           0,
           "#0d0887"
          ],
          [
           0.1111111111111111,
           "#46039f"
          ],
          [
           0.2222222222222222,
           "#7201a8"
          ],
          [
           0.3333333333333333,
           "#9c179e"
          ],
          [
           0.4444444444444444,
           "#bd3786"
          ],
          [
           0.5555555555555556,
           "#d8576b"
          ],
          [
           0.6666666666666666,
           "#ed7953"
          ],
          [
           0.7777777777777778,
           "#fb9f3a"
          ],
          [
           0.8888888888888888,
           "#fdca26"
          ],
          [
           1,
           "#f0f921"
          ]
         ]
        },
        "geo": {
         "center": {},
         "domain": {
          "x": [
           0,
           1
          ],
          "y": [
           0,
           1
          ]
         }
        },
        "legend": {
         "tracegroupgap": 0
        },
        "template": {
         "data": {
          "bar": [
           {
            "error_x": {
             "color": "#2a3f5f"
            },
            "error_y": {
             "color": "#2a3f5f"
            },
            "marker": {
             "line": {
              "color": "#E5ECF6",
              "width": 0.5
             }
            },
            "type": "bar"
           }
          ],
          "barpolar": [
           {
            "marker": {
             "line": {
              "color": "#E5ECF6",
              "width": 0.5
             }
            },
            "type": "barpolar"
           }
          ],
          "carpet": [
           {
            "aaxis": {
             "endlinecolor": "#2a3f5f",
             "gridcolor": "white",
             "linecolor": "white",
             "minorgridcolor": "white",
             "startlinecolor": "#2a3f5f"
            },
            "baxis": {
             "endlinecolor": "#2a3f5f",
             "gridcolor": "white",
             "linecolor": "white",
             "minorgridcolor": "white",
             "startlinecolor": "#2a3f5f"
            },
            "type": "carpet"
           }
          ],
          "choropleth": [
           {
            "colorbar": {
             "outlinewidth": 0,
             "ticks": ""
            },
            "type": "choropleth"
           }
          ],
          "contour": [
           {
            "colorbar": {
             "outlinewidth": 0,
             "ticks": ""
            },
            "colorscale": [
             [
              0,
              "#0d0887"
             ],
             [
              0.1111111111111111,
              "#46039f"
             ],
             [
              0.2222222222222222,
              "#7201a8"
             ],
             [
              0.3333333333333333,
              "#9c179e"
             ],
             [
              0.4444444444444444,
              "#bd3786"
             ],
             [
              0.5555555555555556,
              "#d8576b"
             ],
             [
              0.6666666666666666,
              "#ed7953"
             ],
             [
              0.7777777777777778,
              "#fb9f3a"
             ],
             [
              0.8888888888888888,
              "#fdca26"
             ],
             [
              1,
              "#f0f921"
             ]
            ],
            "type": "contour"
           }
          ],
          "contourcarpet": [
           {
            "colorbar": {
             "outlinewidth": 0,
             "ticks": ""
            },
            "type": "contourcarpet"
           }
          ],
          "heatmap": [
           {
            "colorbar": {
             "outlinewidth": 0,
             "ticks": ""
            },
            "colorscale": [
             [
              0,
              "#0d0887"
             ],
             [
              0.1111111111111111,
              "#46039f"
             ],
             [
              0.2222222222222222,
              "#7201a8"
             ],
             [
              0.3333333333333333,
              "#9c179e"
             ],
             [
              0.4444444444444444,
              "#bd3786"
             ],
             [
              0.5555555555555556,
              "#d8576b"
             ],
             [
              0.6666666666666666,
              "#ed7953"
             ],
             [
              0.7777777777777778,
              "#fb9f3a"
             ],
             [
              0.8888888888888888,
              "#fdca26"
             ],
             [
              1,
              "#f0f921"
             ]
            ],
            "type": "heatmap"
           }
          ],
          "heatmapgl": [
           {
            "colorbar": {
             "outlinewidth": 0,
             "ticks": ""
            },
            "colorscale": [
             [
              0,
              "#0d0887"
             ],
             [
              0.1111111111111111,
              "#46039f"
             ],
             [
              0.2222222222222222,
              "#7201a8"
             ],
             [
              0.3333333333333333,
              "#9c179e"
             ],
             [
              0.4444444444444444,
              "#bd3786"
             ],
             [
              0.5555555555555556,
              "#d8576b"
             ],
             [
              0.6666666666666666,
              "#ed7953"
             ],
             [
              0.7777777777777778,
              "#fb9f3a"
             ],
             [
              0.8888888888888888,
              "#fdca26"
             ],
             [
              1,
              "#f0f921"
             ]
            ],
            "type": "heatmapgl"
           }
          ],
          "histogram": [
           {
            "marker": {
             "colorbar": {
              "outlinewidth": 0,
              "ticks": ""
             }
            },
            "type": "histogram"
           }
          ],
          "histogram2d": [
           {
            "colorbar": {
             "outlinewidth": 0,
             "ticks": ""
            },
            "colorscale": [
             [
              0,
              "#0d0887"
             ],
             [
              0.1111111111111111,
              "#46039f"
             ],
             [
              0.2222222222222222,
              "#7201a8"
             ],
             [
              0.3333333333333333,
              "#9c179e"
             ],
             [
              0.4444444444444444,
              "#bd3786"
             ],
             [
              0.5555555555555556,
              "#d8576b"
             ],
             [
              0.6666666666666666,
              "#ed7953"
             ],
             [
              0.7777777777777778,
              "#fb9f3a"
             ],
             [
              0.8888888888888888,
              "#fdca26"
             ],
             [
              1,
              "#f0f921"
             ]
            ],
            "type": "histogram2d"
           }
          ],
          "histogram2dcontour": [
           {
            "colorbar": {
             "outlinewidth": 0,
             "ticks": ""
            },
            "colorscale": [
             [
              0,
              "#0d0887"
             ],
             [
              0.1111111111111111,
              "#46039f"
             ],
             [
              0.2222222222222222,
              "#7201a8"
             ],
             [
              0.3333333333333333,
              "#9c179e"
             ],
             [
              0.4444444444444444,
              "#bd3786"
             ],
             [
              0.5555555555555556,
              "#d8576b"
             ],
             [
              0.6666666666666666,
              "#ed7953"
             ],
             [
              0.7777777777777778,
              "#fb9f3a"
             ],
             [
              0.8888888888888888,
              "#fdca26"
             ],
             [
              1,
              "#f0f921"
             ]
            ],
            "type": "histogram2dcontour"
           }
          ],
          "mesh3d": [
           {
            "colorbar": {
             "outlinewidth": 0,
             "ticks": ""
            },
            "type": "mesh3d"
           }
          ],
          "parcoords": [
           {
            "line": {
             "colorbar": {
              "outlinewidth": 0,
              "ticks": ""
             }
            },
            "type": "parcoords"
           }
          ],
          "pie": [
           {
            "automargin": true,
            "type": "pie"
           }
          ],
          "scatter": [
           {
            "marker": {
             "colorbar": {
              "outlinewidth": 0,
              "ticks": ""
             }
            },
            "type": "scatter"
           }
          ],
          "scatter3d": [
           {
            "line": {
             "colorbar": {
              "outlinewidth": 0,
              "ticks": ""
             }
            },
            "marker": {
             "colorbar": {
              "outlinewidth": 0,
              "ticks": ""
             }
            },
            "type": "scatter3d"
           }
          ],
          "scattercarpet": [
           {
            "marker": {
             "colorbar": {
              "outlinewidth": 0,
              "ticks": ""
             }
            },
            "type": "scattercarpet"
           }
          ],
          "scattergeo": [
           {
            "marker": {
             "colorbar": {
              "outlinewidth": 0,
              "ticks": ""
             }
            },
            "type": "scattergeo"
           }
          ],
          "scattergl": [
           {
            "marker": {
             "colorbar": {
              "outlinewidth": 0,
              "ticks": ""
             }
            },
            "type": "scattergl"
           }
          ],
          "scattermapbox": [
           {
            "marker": {
             "colorbar": {
              "outlinewidth": 0,
              "ticks": ""
             }
            },
            "type": "scattermapbox"
           }
          ],
          "scatterpolar": [
           {
            "marker": {
             "colorbar": {
              "outlinewidth": 0,
              "ticks": ""
             }
            },
            "type": "scatterpolar"
           }
          ],
          "scatterpolargl": [
           {
            "marker": {
             "colorbar": {
              "outlinewidth": 0,
              "ticks": ""
             }
            },
            "type": "scatterpolargl"
           }
          ],
          "scatterternary": [
           {
            "marker": {
             "colorbar": {
              "outlinewidth": 0,
              "ticks": ""
             }
            },
            "type": "scatterternary"
           }
          ],
          "surface": [
           {
            "colorbar": {
             "outlinewidth": 0,
             "ticks": ""
            },
            "colorscale": [
             [
              0,
              "#0d0887"
             ],
             [
              0.1111111111111111,
              "#46039f"
             ],
             [
              0.2222222222222222,
              "#7201a8"
             ],
             [
              0.3333333333333333,
              "#9c179e"
             ],
             [
              0.4444444444444444,
              "#bd3786"
             ],
             [
              0.5555555555555556,
              "#d8576b"
             ],
             [
              0.6666666666666666,
              "#ed7953"
             ],
             [
              0.7777777777777778,
              "#fb9f3a"
             ],
             [
              0.8888888888888888,
              "#fdca26"
             ],
             [
              1,
              "#f0f921"
             ]
            ],
            "type": "surface"
           }
          ],
          "table": [
           {
            "cells": {
             "fill": {
              "color": "#EBF0F8"
             },
             "line": {
              "color": "white"
             }
            },
            "header": {
             "fill": {
              "color": "#C8D4E3"
             },
             "line": {
              "color": "white"
             }
            },
            "type": "table"
           }
          ]
         },
         "layout": {
          "annotationdefaults": {
           "arrowcolor": "#2a3f5f",
           "arrowhead": 0,
           "arrowwidth": 1
          },
          "coloraxis": {
           "colorbar": {
            "outlinewidth": 0,
            "ticks": ""
           }
          },
          "colorscale": {
           "diverging": [
            [
             0,
             "#8e0152"
            ],
            [
             0.1,
             "#c51b7d"
            ],
            [
             0.2,
             "#de77ae"
            ],
            [
             0.3,
             "#f1b6da"
            ],
            [
             0.4,
             "#fde0ef"
            ],
            [
             0.5,
             "#f7f7f7"
            ],
            [
             0.6,
             "#e6f5d0"
            ],
            [
             0.7,
             "#b8e186"
            ],
            [
             0.8,
             "#7fbc41"
            ],
            [
             0.9,
             "#4d9221"
            ],
            [
             1,
             "#276419"
            ]
           ],
           "sequential": [
            [
             0,
             "#0d0887"
            ],
            [
             0.1111111111111111,
             "#46039f"
            ],
            [
             0.2222222222222222,
             "#7201a8"
            ],
            [
             0.3333333333333333,
             "#9c179e"
            ],
            [
             0.4444444444444444,
             "#bd3786"
            ],
            [
             0.5555555555555556,
             "#d8576b"
            ],
            [
             0.6666666666666666,
             "#ed7953"
            ],
            [
             0.7777777777777778,
             "#fb9f3a"
            ],
            [
             0.8888888888888888,
             "#fdca26"
            ],
            [
             1,
             "#f0f921"
            ]
           ],
           "sequentialminus": [
            [
             0,
             "#0d0887"
            ],
            [
             0.1111111111111111,
             "#46039f"
            ],
            [
             0.2222222222222222,
             "#7201a8"
            ],
            [
             0.3333333333333333,
             "#9c179e"
            ],
            [
             0.4444444444444444,
             "#bd3786"
            ],
            [
             0.5555555555555556,
             "#d8576b"
            ],
            [
             0.6666666666666666,
             "#ed7953"
            ],
            [
             0.7777777777777778,
             "#fb9f3a"
            ],
            [
             0.8888888888888888,
             "#fdca26"
            ],
            [
             1,
             "#f0f921"
            ]
           ]
          },
          "colorway": [
           "#636efa",
           "#EF553B",
           "#00cc96",
           "#ab63fa",
           "#FFA15A",
           "#19d3f3",
           "#FF6692",
           "#B6E880",
           "#FF97FF",
           "#FECB52"
          ],
          "font": {
           "color": "#2a3f5f"
          },
          "geo": {
           "bgcolor": "white",
           "lakecolor": "white",
           "landcolor": "#E5ECF6",
           "showlakes": true,
           "showland": true,
           "subunitcolor": "white"
          },
          "hoverlabel": {
           "align": "left"
          },
          "hovermode": "closest",
          "mapbox": {
           "style": "light"
          },
          "paper_bgcolor": "white",
          "plot_bgcolor": "#E5ECF6",
          "polar": {
           "angularaxis": {
            "gridcolor": "white",
            "linecolor": "white",
            "ticks": ""
           },
           "bgcolor": "#E5ECF6",
           "radialaxis": {
            "gridcolor": "white",
            "linecolor": "white",
            "ticks": ""
           }
          },
          "scene": {
           "xaxis": {
            "backgroundcolor": "#E5ECF6",
            "gridcolor": "white",
            "gridwidth": 2,
            "linecolor": "white",
            "showbackground": true,
            "ticks": "",
            "zerolinecolor": "white"
           },
           "yaxis": {
            "backgroundcolor": "#E5ECF6",
            "gridcolor": "white",
            "gridwidth": 2,
            "linecolor": "white",
            "showbackground": true,
            "ticks": "",
            "zerolinecolor": "white"
           },
           "zaxis": {
            "backgroundcolor": "#E5ECF6",
            "gridcolor": "white",
            "gridwidth": 2,
            "linecolor": "white",
            "showbackground": true,
            "ticks": "",
            "zerolinecolor": "white"
           }
          },
          "shapedefaults": {
           "line": {
            "color": "#2a3f5f"
           }
          },
          "ternary": {
           "aaxis": {
            "gridcolor": "white",
            "linecolor": "white",
            "ticks": ""
           },
           "baxis": {
            "gridcolor": "white",
            "linecolor": "white",
            "ticks": ""
           },
           "bgcolor": "#E5ECF6",
           "caxis": {
            "gridcolor": "white",
            "linecolor": "white",
            "ticks": ""
           }
          },
          "title": {
           "x": 0.05
          },
          "xaxis": {
           "automargin": true,
           "gridcolor": "white",
           "linecolor": "white",
           "ticks": "",
           "title": {
            "standoff": 15
           },
           "zerolinecolor": "white",
           "zerolinewidth": 2
          },
          "yaxis": {
           "automargin": true,
           "gridcolor": "white",
           "linecolor": "white",
           "ticks": "",
           "title": {
            "standoff": 15
           },
           "zerolinecolor": "white",
           "zerolinewidth": 2
          }
         }
        },
        "title": {
         "text": "Home country of guests"
        }
       }
      },
      "text/html": [
       "<div>\n",
       "        \n",
       "        \n",
       "            <div id=\"764e59c1-b395-464a-b090-8070e11add09\" class=\"plotly-graph-div\" style=\"height:525px; width:100%;\"></div>\n",
       "            <script type=\"text/javascript\">\n",
       "                require([\"plotly\"], function(Plotly) {\n",
       "                    window.PLOTLYENV=window.PLOTLYENV || {};\n",
       "                    \n",
       "                if (document.getElementById(\"764e59c1-b395-464a-b090-8070e11add09\")) {\n",
       "                    Plotly.newPlot(\n",
       "                        '764e59c1-b395-464a-b090-8070e11add09',\n",
       "                        [{\"coloraxis\": \"coloraxis\", \"geo\": \"geo\", \"hoverlabel\": {\"namelength\": 0}, \"hovertemplate\": \"<b>%{hovertext}</b><br><br>pais=%{location}<br>visitantes=%{z}\", \"hovertext\": [\"PRT\", \"GBR\", \"FRA\", \"ESP\", \"DEU\", \"ITA\", \"IRL\", \"BEL\", \"BRA\", \"NLD\", \"USA\", \"CHE\", \"CN\", \"AUT\", \"SWE\", \"CHN\", \"POL\", \"ISR\", \"RUS\", \"NOR\", \"ROU\", \"Desconhecido\", \"FIN\", \"DNK\", \"AUS\", \"AGO\", \"LUX\", \"MAR\", \"TUR\", \"HUN\", \"ARG\", \"JPN\", \"CZE\", \"IND\", \"KOR\", \"GRC\", \"DZA\", \"SRB\", \"HRV\", \"MEX\", \"EST\", \"IRN\", \"LTU\", \"ZAF\", \"BGR\", \"NZL\", \"COL\", \"UKR\", \"MOZ\", \"CHL\", \"SVK\", \"THA\", \"ISL\", \"SVN\", \"LVA\", \"CYP\", \"ARE\", \"TWN\", \"SAU\", \"PHL\", \"TUN\", \"SGP\", \"IDN\", \"NGA\", \"URY\", \"EGY\", \"LBN\", \"PER\", \"HKG\", \"MYS\", \"ECU\", \"VEN\", \"BLR\", \"CPV\", \"GEO\", \"JOR\", \"KAZ\", \"CRI\", \"MLT\", \"GIB\", \"OMN\", \"AZE\", \"MAC\", \"KWT\", \"QAT\", \"PAK\", \"IRQ\", \"DOM\", \"BIH\", \"MDV\", \"PRI\", \"BGD\", \"ALB\", \"SEN\", \"CMR\", \"MKD\", \"BOL\", \"TJK\", \"PAN\", \"GNB\", \"CUB\", \"ARM\", \"LBY\", \"VNM\", \"JEY\", \"AND\", \"MUS\", \"LKA\", \"JAM\", \"CIV\", \"KEN\", \"SUR\", \"MNE\", \"BHR\", \"FRO\", \"TZA\", \"CAF\", \"GAB\", \"ZWE\", \"PRY\", \"MCO\", \"GHA\", \"UZB\", \"GTM\", \"BRB\", \"TMP\", \"ETH\", \"LIE\", \"GGY\", \"SYR\", \"BEN\", \"IMN\", \"UGA\", \"LAO\", \"ATA\", \"ABW\", \"TGO\", \"SYC\", \"MWI\", \"SLV\", \"ZMB\", \"STP\", \"GLP\", \"COM\", \"KNA\", \"RWA\", \"KHM\", \"MYT\", \"UMI\", \"DJI\", \"BWA\", \"KIR\", \"BFA\", \"VGB\", \"PLW\", \"HND\", \"SMR\", \"AIA\", \"CYM\", \"SDN\", \"MMR\", \"NAM\", \"LCA\", \"ATF\", \"BHS\", \"MRT\", \"MDG\", \"ASM\", \"NCL\", \"GUY\", \"MLI\", \"SLE\", \"BDI\", \"DMA\", \"NIC\", \"PYF\", \"NPL\", \"FJI\"], \"locations\": [\"PRT\", \"GBR\", \"FRA\", \"ESP\", \"DEU\", \"ITA\", \"IRL\", \"BEL\", \"BRA\", \"NLD\", \"USA\", \"CHE\", \"CN\", \"AUT\", \"SWE\", \"CHN\", \"POL\", \"ISR\", \"RUS\", \"NOR\", \"ROU\", \"Desconhecido\", \"FIN\", \"DNK\", \"AUS\", \"AGO\", \"LUX\", \"MAR\", \"TUR\", \"HUN\", \"ARG\", \"JPN\", \"CZE\", \"IND\", \"KOR\", \"GRC\", \"DZA\", \"SRB\", \"HRV\", \"MEX\", \"EST\", \"IRN\", \"LTU\", \"ZAF\", \"BGR\", \"NZL\", \"COL\", \"UKR\", \"MOZ\", \"CHL\", \"SVK\", \"THA\", \"ISL\", \"SVN\", \"LVA\", \"CYP\", \"ARE\", \"TWN\", \"SAU\", \"PHL\", \"TUN\", \"SGP\", \"IDN\", \"NGA\", \"URY\", \"EGY\", \"LBN\", \"PER\", \"HKG\", \"MYS\", \"ECU\", \"VEN\", \"BLR\", \"CPV\", \"GEO\", \"JOR\", \"KAZ\", \"CRI\", \"MLT\", \"GIB\", \"OMN\", \"AZE\", \"MAC\", \"KWT\", \"QAT\", \"PAK\", \"IRQ\", \"DOM\", \"BIH\", \"MDV\", \"PRI\", \"BGD\", \"ALB\", \"SEN\", \"CMR\", \"MKD\", \"BOL\", \"TJK\", \"PAN\", \"GNB\", \"CUB\", \"ARM\", \"LBY\", \"VNM\", \"JEY\", \"AND\", \"MUS\", \"LKA\", \"JAM\", \"CIV\", \"KEN\", \"SUR\", \"MNE\", \"BHR\", \"FRO\", \"TZA\", \"CAF\", \"GAB\", \"ZWE\", \"PRY\", \"MCO\", \"GHA\", \"UZB\", \"GTM\", \"BRB\", \"TMP\", \"ETH\", \"LIE\", \"GGY\", \"SYR\", \"BEN\", \"IMN\", \"UGA\", \"LAO\", \"ATA\", \"ABW\", \"TGO\", \"SYC\", \"MWI\", \"SLV\", \"ZMB\", \"STP\", \"GLP\", \"COM\", \"KNA\", \"RWA\", \"KHM\", \"MYT\", \"UMI\", \"DJI\", \"BWA\", \"KIR\", \"BFA\", \"VGB\", \"PLW\", \"HND\", \"SMR\", \"AIA\", \"CYM\", \"SDN\", \"MMR\", \"NAM\", \"LCA\", \"ATF\", \"BHS\", \"MRT\", \"MDG\", \"ASM\", \"NCL\", \"GUY\", \"MLI\", \"SLE\", \"BDI\", \"DMA\", \"NIC\", \"PYF\", \"NPL\", \"FJI\"], \"name\": \"\", \"type\": \"choropleth\", \"z\": [48483, 12120, 10401, 8560, 7285, 3761, 3374, 2342, 2222, 2103, 2093, 1726, 1279, 1263, 1020, 999, 918, 669, 630, 607, 500, 478, 446, 435, 426, 362, 286, 259, 248, 230, 214, 197, 171, 151, 133, 128, 103, 101, 100, 85, 83, 82, 81, 80, 75, 74, 71, 68, 67, 65, 65, 59, 57, 56, 55, 51, 51, 51, 48, 40, 39, 38, 35, 34, 32, 32, 31, 29, 29, 28, 27, 26, 26, 24, 22, 21, 19, 19, 18, 18, 18, 17, 16, 16, 15, 14, 14, 14, 13, 12, 12, 12, 12, 11, 10, 10, 10, 9, 9, 9, 8, 8, 8, 8, 8, 7, 7, 7, 6, 6, 6, 5, 5, 5, 5, 5, 5, 4, 4, 4, 4, 4, 4, 4, 4, 3, 3, 3, 3, 3, 3, 2, 2, 2, 2, 2, 2, 2, 2, 2, 2, 2, 2, 2, 2, 2, 2, 2, 1, 1, 1, 1, 1, 1, 1, 1, 1, 1, 1, 1, 1, 1, 1, 1, 1, 1, 1, 1, 1, 1, 1, 1, 1, 1, 1, 1, 1, 1]}],\n",
       "                        {\"coloraxis\": {\"colorbar\": {\"title\": {\"text\": \"visitantes\"}}, \"colorscale\": [[0.0, \"#0d0887\"], [0.1111111111111111, \"#46039f\"], [0.2222222222222222, \"#7201a8\"], [0.3333333333333333, \"#9c179e\"], [0.4444444444444444, \"#bd3786\"], [0.5555555555555556, \"#d8576b\"], [0.6666666666666666, \"#ed7953\"], [0.7777777777777778, \"#fb9f3a\"], [0.8888888888888888, \"#fdca26\"], [1.0, \"#f0f921\"]]}, \"geo\": {\"center\": {}, \"domain\": {\"x\": [0.0, 1.0], \"y\": [0.0, 1.0]}}, \"legend\": {\"tracegroupgap\": 0}, \"template\": {\"data\": {\"bar\": [{\"error_x\": {\"color\": \"#2a3f5f\"}, \"error_y\": {\"color\": \"#2a3f5f\"}, \"marker\": {\"line\": {\"color\": \"#E5ECF6\", \"width\": 0.5}}, \"type\": \"bar\"}], \"barpolar\": [{\"marker\": {\"line\": {\"color\": \"#E5ECF6\", \"width\": 0.5}}, \"type\": \"barpolar\"}], \"carpet\": [{\"aaxis\": {\"endlinecolor\": \"#2a3f5f\", \"gridcolor\": \"white\", \"linecolor\": \"white\", \"minorgridcolor\": \"white\", \"startlinecolor\": \"#2a3f5f\"}, \"baxis\": {\"endlinecolor\": \"#2a3f5f\", \"gridcolor\": \"white\", \"linecolor\": \"white\", \"minorgridcolor\": \"white\", \"startlinecolor\": \"#2a3f5f\"}, \"type\": \"carpet\"}], \"choropleth\": [{\"colorbar\": {\"outlinewidth\": 0, \"ticks\": \"\"}, \"type\": \"choropleth\"}], \"contour\": [{\"colorbar\": {\"outlinewidth\": 0, \"ticks\": \"\"}, \"colorscale\": [[0.0, \"#0d0887\"], [0.1111111111111111, \"#46039f\"], [0.2222222222222222, \"#7201a8\"], [0.3333333333333333, \"#9c179e\"], [0.4444444444444444, \"#bd3786\"], [0.5555555555555556, \"#d8576b\"], [0.6666666666666666, \"#ed7953\"], [0.7777777777777778, \"#fb9f3a\"], [0.8888888888888888, \"#fdca26\"], [1.0, \"#f0f921\"]], \"type\": \"contour\"}], \"contourcarpet\": [{\"colorbar\": {\"outlinewidth\": 0, \"ticks\": \"\"}, \"type\": \"contourcarpet\"}], \"heatmap\": [{\"colorbar\": {\"outlinewidth\": 0, \"ticks\": \"\"}, \"colorscale\": [[0.0, \"#0d0887\"], [0.1111111111111111, \"#46039f\"], [0.2222222222222222, \"#7201a8\"], [0.3333333333333333, \"#9c179e\"], [0.4444444444444444, \"#bd3786\"], [0.5555555555555556, \"#d8576b\"], [0.6666666666666666, \"#ed7953\"], [0.7777777777777778, \"#fb9f3a\"], [0.8888888888888888, \"#fdca26\"], [1.0, \"#f0f921\"]], \"type\": \"heatmap\"}], \"heatmapgl\": [{\"colorbar\": {\"outlinewidth\": 0, \"ticks\": \"\"}, \"colorscale\": [[0.0, \"#0d0887\"], [0.1111111111111111, \"#46039f\"], [0.2222222222222222, \"#7201a8\"], [0.3333333333333333, \"#9c179e\"], [0.4444444444444444, \"#bd3786\"], [0.5555555555555556, \"#d8576b\"], [0.6666666666666666, \"#ed7953\"], [0.7777777777777778, \"#fb9f3a\"], [0.8888888888888888, \"#fdca26\"], [1.0, \"#f0f921\"]], \"type\": \"heatmapgl\"}], \"histogram\": [{\"marker\": {\"colorbar\": {\"outlinewidth\": 0, \"ticks\": \"\"}}, \"type\": \"histogram\"}], \"histogram2d\": [{\"colorbar\": {\"outlinewidth\": 0, \"ticks\": \"\"}, \"colorscale\": [[0.0, \"#0d0887\"], [0.1111111111111111, \"#46039f\"], [0.2222222222222222, \"#7201a8\"], [0.3333333333333333, \"#9c179e\"], [0.4444444444444444, \"#bd3786\"], [0.5555555555555556, \"#d8576b\"], [0.6666666666666666, \"#ed7953\"], [0.7777777777777778, \"#fb9f3a\"], [0.8888888888888888, \"#fdca26\"], [1.0, \"#f0f921\"]], \"type\": \"histogram2d\"}], \"histogram2dcontour\": [{\"colorbar\": {\"outlinewidth\": 0, \"ticks\": \"\"}, \"colorscale\": [[0.0, \"#0d0887\"], [0.1111111111111111, \"#46039f\"], [0.2222222222222222, \"#7201a8\"], [0.3333333333333333, \"#9c179e\"], [0.4444444444444444, \"#bd3786\"], [0.5555555555555556, \"#d8576b\"], [0.6666666666666666, \"#ed7953\"], [0.7777777777777778, \"#fb9f3a\"], [0.8888888888888888, \"#fdca26\"], [1.0, \"#f0f921\"]], \"type\": \"histogram2dcontour\"}], \"mesh3d\": [{\"colorbar\": {\"outlinewidth\": 0, \"ticks\": \"\"}, \"type\": \"mesh3d\"}], \"parcoords\": [{\"line\": {\"colorbar\": {\"outlinewidth\": 0, \"ticks\": \"\"}}, \"type\": \"parcoords\"}], \"pie\": [{\"automargin\": true, \"type\": \"pie\"}], \"scatter\": [{\"marker\": {\"colorbar\": {\"outlinewidth\": 0, \"ticks\": \"\"}}, \"type\": \"scatter\"}], \"scatter3d\": [{\"line\": {\"colorbar\": {\"outlinewidth\": 0, \"ticks\": \"\"}}, \"marker\": {\"colorbar\": {\"outlinewidth\": 0, \"ticks\": \"\"}}, \"type\": \"scatter3d\"}], \"scattercarpet\": [{\"marker\": {\"colorbar\": {\"outlinewidth\": 0, \"ticks\": \"\"}}, \"type\": \"scattercarpet\"}], \"scattergeo\": [{\"marker\": {\"colorbar\": {\"outlinewidth\": 0, \"ticks\": \"\"}}, \"type\": \"scattergeo\"}], \"scattergl\": [{\"marker\": {\"colorbar\": {\"outlinewidth\": 0, \"ticks\": \"\"}}, \"type\": \"scattergl\"}], \"scattermapbox\": [{\"marker\": {\"colorbar\": {\"outlinewidth\": 0, \"ticks\": \"\"}}, \"type\": \"scattermapbox\"}], \"scatterpolar\": [{\"marker\": {\"colorbar\": {\"outlinewidth\": 0, \"ticks\": \"\"}}, \"type\": \"scatterpolar\"}], \"scatterpolargl\": [{\"marker\": {\"colorbar\": {\"outlinewidth\": 0, \"ticks\": \"\"}}, \"type\": \"scatterpolargl\"}], \"scatterternary\": [{\"marker\": {\"colorbar\": {\"outlinewidth\": 0, \"ticks\": \"\"}}, \"type\": \"scatterternary\"}], \"surface\": [{\"colorbar\": {\"outlinewidth\": 0, \"ticks\": \"\"}, \"colorscale\": [[0.0, \"#0d0887\"], [0.1111111111111111, \"#46039f\"], [0.2222222222222222, \"#7201a8\"], [0.3333333333333333, \"#9c179e\"], [0.4444444444444444, \"#bd3786\"], [0.5555555555555556, \"#d8576b\"], [0.6666666666666666, \"#ed7953\"], [0.7777777777777778, \"#fb9f3a\"], [0.8888888888888888, \"#fdca26\"], [1.0, \"#f0f921\"]], \"type\": \"surface\"}], \"table\": [{\"cells\": {\"fill\": {\"color\": \"#EBF0F8\"}, \"line\": {\"color\": \"white\"}}, \"header\": {\"fill\": {\"color\": \"#C8D4E3\"}, \"line\": {\"color\": \"white\"}}, \"type\": \"table\"}]}, \"layout\": {\"annotationdefaults\": {\"arrowcolor\": \"#2a3f5f\", \"arrowhead\": 0, \"arrowwidth\": 1}, \"coloraxis\": {\"colorbar\": {\"outlinewidth\": 0, \"ticks\": \"\"}}, \"colorscale\": {\"diverging\": [[0, \"#8e0152\"], [0.1, \"#c51b7d\"], [0.2, \"#de77ae\"], [0.3, \"#f1b6da\"], [0.4, \"#fde0ef\"], [0.5, \"#f7f7f7\"], [0.6, \"#e6f5d0\"], [0.7, \"#b8e186\"], [0.8, \"#7fbc41\"], [0.9, \"#4d9221\"], [1, \"#276419\"]], \"sequential\": [[0.0, \"#0d0887\"], [0.1111111111111111, \"#46039f\"], [0.2222222222222222, \"#7201a8\"], [0.3333333333333333, \"#9c179e\"], [0.4444444444444444, \"#bd3786\"], [0.5555555555555556, \"#d8576b\"], [0.6666666666666666, \"#ed7953\"], [0.7777777777777778, \"#fb9f3a\"], [0.8888888888888888, \"#fdca26\"], [1.0, \"#f0f921\"]], \"sequentialminus\": [[0.0, \"#0d0887\"], [0.1111111111111111, \"#46039f\"], [0.2222222222222222, \"#7201a8\"], [0.3333333333333333, \"#9c179e\"], [0.4444444444444444, \"#bd3786\"], [0.5555555555555556, \"#d8576b\"], [0.6666666666666666, \"#ed7953\"], [0.7777777777777778, \"#fb9f3a\"], [0.8888888888888888, \"#fdca26\"], [1.0, \"#f0f921\"]]}, \"colorway\": [\"#636efa\", \"#EF553B\", \"#00cc96\", \"#ab63fa\", \"#FFA15A\", \"#19d3f3\", \"#FF6692\", \"#B6E880\", \"#FF97FF\", \"#FECB52\"], \"font\": {\"color\": \"#2a3f5f\"}, \"geo\": {\"bgcolor\": \"white\", \"lakecolor\": \"white\", \"landcolor\": \"#E5ECF6\", \"showlakes\": true, \"showland\": true, \"subunitcolor\": \"white\"}, \"hoverlabel\": {\"align\": \"left\"}, \"hovermode\": \"closest\", \"mapbox\": {\"style\": \"light\"}, \"paper_bgcolor\": \"white\", \"plot_bgcolor\": \"#E5ECF6\", \"polar\": {\"angularaxis\": {\"gridcolor\": \"white\", \"linecolor\": \"white\", \"ticks\": \"\"}, \"bgcolor\": \"#E5ECF6\", \"radialaxis\": {\"gridcolor\": \"white\", \"linecolor\": \"white\", \"ticks\": \"\"}}, \"scene\": {\"xaxis\": {\"backgroundcolor\": \"#E5ECF6\", \"gridcolor\": \"white\", \"gridwidth\": 2, \"linecolor\": \"white\", \"showbackground\": true, \"ticks\": \"\", \"zerolinecolor\": \"white\"}, \"yaxis\": {\"backgroundcolor\": \"#E5ECF6\", \"gridcolor\": \"white\", \"gridwidth\": 2, \"linecolor\": \"white\", \"showbackground\": true, \"ticks\": \"\", \"zerolinecolor\": \"white\"}, \"zaxis\": {\"backgroundcolor\": \"#E5ECF6\", \"gridcolor\": \"white\", \"gridwidth\": 2, \"linecolor\": \"white\", \"showbackground\": true, \"ticks\": \"\", \"zerolinecolor\": \"white\"}}, \"shapedefaults\": {\"line\": {\"color\": \"#2a3f5f\"}}, \"ternary\": {\"aaxis\": {\"gridcolor\": \"white\", \"linecolor\": \"white\", \"ticks\": \"\"}, \"baxis\": {\"gridcolor\": \"white\", \"linecolor\": \"white\", \"ticks\": \"\"}, \"bgcolor\": \"#E5ECF6\", \"caxis\": {\"gridcolor\": \"white\", \"linecolor\": \"white\", \"ticks\": \"\"}}, \"title\": {\"x\": 0.05}, \"xaxis\": {\"automargin\": true, \"gridcolor\": \"white\", \"linecolor\": \"white\", \"ticks\": \"\", \"title\": {\"standoff\": 15}, \"zerolinecolor\": \"white\", \"zerolinewidth\": 2}, \"yaxis\": {\"automargin\": true, \"gridcolor\": \"white\", \"linecolor\": \"white\", \"ticks\": \"\", \"title\": {\"standoff\": 15}, \"zerolinecolor\": \"white\", \"zerolinewidth\": 2}}}, \"title\": {\"text\": \"Home country of guests\"}},\n",
       "                        {\"responsive\": true}\n",
       "                    ).then(function(){\n",
       "                            \n",
       "var gd = document.getElementById('764e59c1-b395-464a-b090-8070e11add09');\n",
       "var x = new MutationObserver(function (mutations, observer) {{\n",
       "        var display = window.getComputedStyle(gd).display;\n",
       "        if (!display || display === 'none') {{\n",
       "            console.log([gd, 'removed!']);\n",
       "            Plotly.purge(gd);\n",
       "            observer.disconnect();\n",
       "        }}\n",
       "}});\n",
       "\n",
       "// Listen for the removal of the full notebook cells\n",
       "var notebookContainer = gd.closest('#notebook-container');\n",
       "if (notebookContainer) {{\n",
       "    x.observe(notebookContainer, {childList: true});\n",
       "}}\n",
       "\n",
       "// Listen for the clearing of the current output cell\n",
       "var outputEl = gd.closest('.output');\n",
       "if (outputEl) {{\n",
       "    x.observe(outputEl, {childList: true});\n",
       "}}\n",
       "\n",
       "                        })\n",
       "                };\n",
       "                });\n",
       "            </script>\n",
       "        </div>"
      ]
     },
     "metadata": {},
     "output_type": "display_data"
    }
   ],
   "source": [
    "guest_map = px.choropleth(paises,\n",
    "                    locations=paises['pais'],\n",
    "                    color=paises['visitantes'], \n",
    "                    hover_name=paises['pais'], \n",
    "                    color_continuous_scale=px.colors.sequential.Plasma,\n",
    "                    title=\"Home country of guests\")\n",
    "guest_map.show()"
   ]
  },
  {
   "cell_type": "code",
   "execution_count": 52,
   "metadata": {
    "scrolled": true
   },
   "outputs": [
    {
     "data": {
      "text/html": [
       "<div>\n",
       "<style scoped>\n",
       "    .dataframe tbody tr th:only-of-type {\n",
       "        vertical-align: middle;\n",
       "    }\n",
       "\n",
       "    .dataframe tbody tr th {\n",
       "        vertical-align: top;\n",
       "    }\n",
       "\n",
       "    .dataframe thead th {\n",
       "        text-align: right;\n",
       "    }\n",
       "</style>\n",
       "<table border=\"1\" class=\"dataframe\">\n",
       "  <thead>\n",
       "    <tr style=\"text-align: right;\">\n",
       "      <th></th>\n",
       "      <th>pais</th>\n",
       "      <th>visitantes</th>\n",
       "    </tr>\n",
       "  </thead>\n",
       "  <tbody>\n",
       "    <tr>\n",
       "      <th>0</th>\n",
       "      <td>PRT</td>\n",
       "      <td>48483</td>\n",
       "    </tr>\n",
       "    <tr>\n",
       "      <th>1</th>\n",
       "      <td>GBR</td>\n",
       "      <td>12120</td>\n",
       "    </tr>\n",
       "    <tr>\n",
       "      <th>2</th>\n",
       "      <td>FRA</td>\n",
       "      <td>10401</td>\n",
       "    </tr>\n",
       "    <tr>\n",
       "      <th>3</th>\n",
       "      <td>ESP</td>\n",
       "      <td>8560</td>\n",
       "    </tr>\n",
       "    <tr>\n",
       "      <th>4</th>\n",
       "      <td>DEU</td>\n",
       "      <td>7285</td>\n",
       "    </tr>\n",
       "    <tr>\n",
       "      <th>5</th>\n",
       "      <td>ITA</td>\n",
       "      <td>3761</td>\n",
       "    </tr>\n",
       "    <tr>\n",
       "      <th>6</th>\n",
       "      <td>IRL</td>\n",
       "      <td>3374</td>\n",
       "    </tr>\n",
       "    <tr>\n",
       "      <th>7</th>\n",
       "      <td>BEL</td>\n",
       "      <td>2342</td>\n",
       "    </tr>\n",
       "    <tr>\n",
       "      <th>8</th>\n",
       "      <td>BRA</td>\n",
       "      <td>2222</td>\n",
       "    </tr>\n",
       "    <tr>\n",
       "      <th>9</th>\n",
       "      <td>NLD</td>\n",
       "      <td>2103</td>\n",
       "    </tr>\n",
       "    <tr>\n",
       "      <th>10</th>\n",
       "      <td>USA</td>\n",
       "      <td>2093</td>\n",
       "    </tr>\n",
       "    <tr>\n",
       "      <th>11</th>\n",
       "      <td>CHE</td>\n",
       "      <td>1726</td>\n",
       "    </tr>\n",
       "    <tr>\n",
       "      <th>12</th>\n",
       "      <td>CN</td>\n",
       "      <td>1279</td>\n",
       "    </tr>\n",
       "    <tr>\n",
       "      <th>13</th>\n",
       "      <td>AUT</td>\n",
       "      <td>1263</td>\n",
       "    </tr>\n",
       "    <tr>\n",
       "      <th>14</th>\n",
       "      <td>SWE</td>\n",
       "      <td>1020</td>\n",
       "    </tr>\n",
       "    <tr>\n",
       "      <th>15</th>\n",
       "      <td>CHN</td>\n",
       "      <td>999</td>\n",
       "    </tr>\n",
       "    <tr>\n",
       "      <th>16</th>\n",
       "      <td>POL</td>\n",
       "      <td>918</td>\n",
       "    </tr>\n",
       "    <tr>\n",
       "      <th>17</th>\n",
       "      <td>ISR</td>\n",
       "      <td>669</td>\n",
       "    </tr>\n",
       "    <tr>\n",
       "      <th>18</th>\n",
       "      <td>RUS</td>\n",
       "      <td>630</td>\n",
       "    </tr>\n",
       "    <tr>\n",
       "      <th>19</th>\n",
       "      <td>NOR</td>\n",
       "      <td>607</td>\n",
       "    </tr>\n",
       "    <tr>\n",
       "      <th>20</th>\n",
       "      <td>ROU</td>\n",
       "      <td>500</td>\n",
       "    </tr>\n",
       "    <tr>\n",
       "      <th>21</th>\n",
       "      <td>Desconhecido</td>\n",
       "      <td>478</td>\n",
       "    </tr>\n",
       "    <tr>\n",
       "      <th>22</th>\n",
       "      <td>FIN</td>\n",
       "      <td>446</td>\n",
       "    </tr>\n",
       "    <tr>\n",
       "      <th>23</th>\n",
       "      <td>DNK</td>\n",
       "      <td>435</td>\n",
       "    </tr>\n",
       "    <tr>\n",
       "      <th>24</th>\n",
       "      <td>AUS</td>\n",
       "      <td>426</td>\n",
       "    </tr>\n",
       "    <tr>\n",
       "      <th>25</th>\n",
       "      <td>AGO</td>\n",
       "      <td>362</td>\n",
       "    </tr>\n",
       "    <tr>\n",
       "      <th>26</th>\n",
       "      <td>LUX</td>\n",
       "      <td>286</td>\n",
       "    </tr>\n",
       "    <tr>\n",
       "      <th>27</th>\n",
       "      <td>MAR</td>\n",
       "      <td>259</td>\n",
       "    </tr>\n",
       "    <tr>\n",
       "      <th>28</th>\n",
       "      <td>TUR</td>\n",
       "      <td>248</td>\n",
       "    </tr>\n",
       "    <tr>\n",
       "      <th>29</th>\n",
       "      <td>HUN</td>\n",
       "      <td>230</td>\n",
       "    </tr>\n",
       "    <tr>\n",
       "      <th>...</th>\n",
       "      <td>...</td>\n",
       "      <td>...</td>\n",
       "    </tr>\n",
       "    <tr>\n",
       "      <th>148</th>\n",
       "      <td>UMI</td>\n",
       "      <td>1</td>\n",
       "    </tr>\n",
       "    <tr>\n",
       "      <th>149</th>\n",
       "      <td>DJI</td>\n",
       "      <td>1</td>\n",
       "    </tr>\n",
       "    <tr>\n",
       "      <th>150</th>\n",
       "      <td>BWA</td>\n",
       "      <td>1</td>\n",
       "    </tr>\n",
       "    <tr>\n",
       "      <th>151</th>\n",
       "      <td>KIR</td>\n",
       "      <td>1</td>\n",
       "    </tr>\n",
       "    <tr>\n",
       "      <th>152</th>\n",
       "      <td>BFA</td>\n",
       "      <td>1</td>\n",
       "    </tr>\n",
       "    <tr>\n",
       "      <th>153</th>\n",
       "      <td>VGB</td>\n",
       "      <td>1</td>\n",
       "    </tr>\n",
       "    <tr>\n",
       "      <th>154</th>\n",
       "      <td>PLW</td>\n",
       "      <td>1</td>\n",
       "    </tr>\n",
       "    <tr>\n",
       "      <th>155</th>\n",
       "      <td>HND</td>\n",
       "      <td>1</td>\n",
       "    </tr>\n",
       "    <tr>\n",
       "      <th>156</th>\n",
       "      <td>SMR</td>\n",
       "      <td>1</td>\n",
       "    </tr>\n",
       "    <tr>\n",
       "      <th>157</th>\n",
       "      <td>AIA</td>\n",
       "      <td>1</td>\n",
       "    </tr>\n",
       "    <tr>\n",
       "      <th>158</th>\n",
       "      <td>CYM</td>\n",
       "      <td>1</td>\n",
       "    </tr>\n",
       "    <tr>\n",
       "      <th>159</th>\n",
       "      <td>SDN</td>\n",
       "      <td>1</td>\n",
       "    </tr>\n",
       "    <tr>\n",
       "      <th>160</th>\n",
       "      <td>MMR</td>\n",
       "      <td>1</td>\n",
       "    </tr>\n",
       "    <tr>\n",
       "      <th>161</th>\n",
       "      <td>NAM</td>\n",
       "      <td>1</td>\n",
       "    </tr>\n",
       "    <tr>\n",
       "      <th>162</th>\n",
       "      <td>LCA</td>\n",
       "      <td>1</td>\n",
       "    </tr>\n",
       "    <tr>\n",
       "      <th>163</th>\n",
       "      <td>ATF</td>\n",
       "      <td>1</td>\n",
       "    </tr>\n",
       "    <tr>\n",
       "      <th>164</th>\n",
       "      <td>BHS</td>\n",
       "      <td>1</td>\n",
       "    </tr>\n",
       "    <tr>\n",
       "      <th>165</th>\n",
       "      <td>MRT</td>\n",
       "      <td>1</td>\n",
       "    </tr>\n",
       "    <tr>\n",
       "      <th>166</th>\n",
       "      <td>MDG</td>\n",
       "      <td>1</td>\n",
       "    </tr>\n",
       "    <tr>\n",
       "      <th>167</th>\n",
       "      <td>ASM</td>\n",
       "      <td>1</td>\n",
       "    </tr>\n",
       "    <tr>\n",
       "      <th>168</th>\n",
       "      <td>NCL</td>\n",
       "      <td>1</td>\n",
       "    </tr>\n",
       "    <tr>\n",
       "      <th>169</th>\n",
       "      <td>GUY</td>\n",
       "      <td>1</td>\n",
       "    </tr>\n",
       "    <tr>\n",
       "      <th>170</th>\n",
       "      <td>MLI</td>\n",
       "      <td>1</td>\n",
       "    </tr>\n",
       "    <tr>\n",
       "      <th>171</th>\n",
       "      <td>SLE</td>\n",
       "      <td>1</td>\n",
       "    </tr>\n",
       "    <tr>\n",
       "      <th>172</th>\n",
       "      <td>BDI</td>\n",
       "      <td>1</td>\n",
       "    </tr>\n",
       "    <tr>\n",
       "      <th>173</th>\n",
       "      <td>DMA</td>\n",
       "      <td>1</td>\n",
       "    </tr>\n",
       "    <tr>\n",
       "      <th>174</th>\n",
       "      <td>NIC</td>\n",
       "      <td>1</td>\n",
       "    </tr>\n",
       "    <tr>\n",
       "      <th>175</th>\n",
       "      <td>PYF</td>\n",
       "      <td>1</td>\n",
       "    </tr>\n",
       "    <tr>\n",
       "      <th>176</th>\n",
       "      <td>NPL</td>\n",
       "      <td>1</td>\n",
       "    </tr>\n",
       "    <tr>\n",
       "      <th>177</th>\n",
       "      <td>FJI</td>\n",
       "      <td>1</td>\n",
       "    </tr>\n",
       "  </tbody>\n",
       "</table>\n",
       "<p>178 rows × 2 columns</p>\n",
       "</div>"
      ],
      "text/plain": [
       "             pais  visitantes\n",
       "0             PRT       48483\n",
       "1             GBR       12120\n",
       "2             FRA       10401\n",
       "3             ESP        8560\n",
       "4             DEU        7285\n",
       "5             ITA        3761\n",
       "6             IRL        3374\n",
       "7             BEL        2342\n",
       "8             BRA        2222\n",
       "9             NLD        2103\n",
       "10            USA        2093\n",
       "11            CHE        1726\n",
       "12             CN        1279\n",
       "13            AUT        1263\n",
       "14            SWE        1020\n",
       "15            CHN         999\n",
       "16            POL         918\n",
       "17            ISR         669\n",
       "18            RUS         630\n",
       "19            NOR         607\n",
       "20            ROU         500\n",
       "21   Desconhecido         478\n",
       "22            FIN         446\n",
       "23            DNK         435\n",
       "24            AUS         426\n",
       "25            AGO         362\n",
       "26            LUX         286\n",
       "27            MAR         259\n",
       "28            TUR         248\n",
       "29            HUN         230\n",
       "..            ...         ...\n",
       "148           UMI           1\n",
       "149           DJI           1\n",
       "150           BWA           1\n",
       "151           KIR           1\n",
       "152           BFA           1\n",
       "153           VGB           1\n",
       "154           PLW           1\n",
       "155           HND           1\n",
       "156           SMR           1\n",
       "157           AIA           1\n",
       "158           CYM           1\n",
       "159           SDN           1\n",
       "160           MMR           1\n",
       "161           NAM           1\n",
       "162           LCA           1\n",
       "163           ATF           1\n",
       "164           BHS           1\n",
       "165           MRT           1\n",
       "166           MDG           1\n",
       "167           ASM           1\n",
       "168           NCL           1\n",
       "169           GUY           1\n",
       "170           MLI           1\n",
       "171           SLE           1\n",
       "172           BDI           1\n",
       "173           DMA           1\n",
       "174           NIC           1\n",
       "175           PYF           1\n",
       "176           NPL           1\n",
       "177           FJI           1\n",
       "\n",
       "[178 rows x 2 columns]"
      ]
     },
     "execution_count": 52,
     "metadata": {},
     "output_type": "execute_result"
    }
   ],
   "source": []
  },
  {
   "cell_type": "code",
   "execution_count": null,
   "metadata": {},
   "outputs": [],
   "source": []
  }
 ],
 "metadata": {
  "hide_code_all_hidden": false,
  "kernelspec": {
   "display_name": "Python 3",
   "language": "python",
   "name": "python3"
  },
  "language_info": {
   "codemirror_mode": {
    "name": "ipython",
    "version": 3
   },
   "file_extension": ".py",
   "mimetype": "text/x-python",
   "name": "python",
   "nbconvert_exporter": "python",
   "pygments_lexer": "ipython3",
   "version": "3.6.5"
  }
 },
 "nbformat": 4,
 "nbformat_minor": 2
}
